{
 "cells": [
  {
   "cell_type": "markdown",
   "metadata": {},
   "source": [
    "<div style='text-align: center;'>\n",
    "<img src=\"images/math60082-banner.png\" alt=\"image\" width=\"80%\" height=\"auto\">\n",
    "</div>"
   ]
  },
  {
   "cell_type": "markdown",
   "metadata": {},
   "source": [
    "# Lab Class - Week 4\n",
    "\n",
    "## Department of Mathematics"
   ]
  },
  {
   "cell_type": "markdown",
   "metadata": {},
   "source": [
    "# This Week\n",
    "\n",
    "- Demo 4.1 Random numbers\n",
    "- Demo 4.2 Distributions\n",
    "- Demo 4.3 Monte Carlo"
   ]
  },
  {
   "cell_type": "markdown",
   "metadata": {},
   "source": [
    "# Demo 4.1: Random Numbers\n",
    "\n",
    "- A computer can **only** generate a pseudorandom sequence of integers, but of course we can then take that sequence of integers and convert it to any required distribution. \n",
    "- Some of the conversions are simple but others are more complex, luckily we now have python libraries that can convert them to all standard distributions (more on this later).\n",
    "- The way random numbers work means you will always have to create a generator and then call a function to receive the next number in the sequence.\n",
    "- Reproducibility is an important feature any scientific experiment (see [this article](https://www.thesun.co.uk/news/11642959/neil-ferguson-stay-at-home-lockdown-advice-unreliable-code/) for an example of what might happen if you can't do this)"
   ]
  },
  {
   "cell_type": "markdown",
   "metadata": {},
   "source": [
    "## Rolling the Dice\n",
    "\n",
    "Consider an example where we want to evaluate a strategy to play a board game. To simulate the game (potentially millions of times) and see how our strategy performs, we might need to get a set of independent dice rolls as we would in real life.\n",
    "\n",
    "We are going to use the `numpy` random library rather than the standard python one, as apparently there are some better number generators in there. Import the library:"
   ]
  },
  {
   "cell_type": "code",
   "execution_count": 1,
   "metadata": {},
   "outputs": [],
   "source": [
    "import numpy"
   ]
  },
  {
   "cell_type": "markdown",
   "metadata": {},
   "source": [
    "Next we are going to create a random number generator using the default setting (as recommended on the numpy documentation)"
   ]
  },
  {
   "cell_type": "code",
   "execution_count": 2,
   "metadata": {},
   "outputs": [
    {
     "name": "stdout",
     "output_type": "stream",
     "text": [
      "Generator(PCG64)\n",
      "Next roll of dice is:= 6\n",
      "Next roll of dice is:= 4\n",
      "Next roll of dice is:= 4\n",
      "Next roll of dice is:= 2\n"
     ]
    }
   ],
   "source": [
    "rng = numpy.random.default_rng(seed=0) # create a random number generator and reset the starting value\n",
    "print(rng) # check this is a PCG64 generator\n",
    "for i in range(0,4): ## loop over a few rolls\n",
    "    roll = rng.integers(1,7)\n",
    "    print(\"Next roll of dice is:=\",roll)"
   ]
  },
  {
   "cell_type": "markdown",
   "metadata": {},
   "source": [
    "If you wanted to roll twice at each stage (independent still of course) you can add a `size=(2)` argument to return a vector (or array) of two random numbers."
   ]
  },
  {
   "cell_type": "code",
   "execution_count": 3,
   "metadata": {},
   "outputs": [
    {
     "name": "stdout",
     "output_type": "stream",
     "text": [
      "Sum of two rolls of the dice is:= 3\n",
      "Sum of two rolls of the dice is:= 2\n",
      "Sum of two rolls of the dice is:= 7\n",
      "Sum of two rolls of the dice is:= 10\n"
     ]
    }
   ],
   "source": [
    "for i in range(0,4): ## loop over a few rolls\n",
    "    rolls = rng.integers(1,7,size=(2)) # this time get 2 numbers every time\n",
    "    print(\"Sum of two rolls of the dice is:=\",rolls[0]+rolls[1]) # sum them up"
   ]
  },
  {
   "cell_type": "markdown",
   "metadata": {},
   "source": [
    "Other random number generators (called a `BitGenerator`) are available, including the classic `MT19937` which was the go to standard generator for many years. Once setup, the same function calls can be use on any generator. The syntax is\n",
    "~~~\n",
    "<variable name> = numpy.random.Generator( numpy.random.<BitGenerator>( seed=<seed> ) )\n",
    "~~~\n",
    "and the available generators are \n",
    "- MT19937\n",
    "- PCG64\n",
    "- PCG64DXSM\n",
    "- Philox\n",
    "- SFC64\n",
    "\n",
    "We will be interested in how they perform statistically (how independent the sequences are), how fast they generate new numbers, and how easily they can be parallelised."
   ]
  },
  {
   "cell_type": "code",
   "execution_count": 4,
   "metadata": {},
   "outputs": [
    {
     "name": "stdout",
     "output_type": "stream",
     "text": [
      "Generator(MT19937)\n",
      "Next roll of dice is:= 3\n",
      "Next roll of dice is:= 4\n",
      "Next roll of dice is:= 2\n",
      "Next roll of dice is:= 3\n"
     ]
    }
   ],
   "source": [
    "rng = numpy.random.Generator(numpy.random.MT19937(seed=0)) # create a random number generator\n",
    "print(rng)\n",
    "for i in range(0,4):\n",
    "    print(\"Next roll of dice is:=\",rng.integers(1,7))"
   ]
  },
  {
   "cell_type": "markdown",
   "metadata": {},
   "source": [
    "You might have noticed that no matter how many times you run this code, the rolls always return the same number. This is in fact desired, as it makes our code reproducible. If you want to simulate more runs, simply increase the range or run the code in another cell *without* declaring the generator again."
   ]
  },
  {
   "cell_type": "code",
   "execution_count": 5,
   "metadata": {},
   "outputs": [
    {
     "name": "stdout",
     "output_type": "stream",
     "text": [
      "Next roll of dice is:= 1\n",
      "Next roll of dice is:= 3\n",
      "Next roll of dice is:= 4\n",
      "Next roll of dice is:= 6\n"
     ]
    }
   ],
   "source": [
    "for i in range(0,4):\n",
    "    print(\"Next roll of dice is:=\",rng.integers(1,7))"
   ]
  },
  {
   "cell_type": "markdown",
   "metadata": {},
   "source": [
    "When doing numerical computations it is hardly ever required to start the sequence of with a random start point, since you are only ever interested in what happens on average over a large number of simulations. In your code, you should only ever declare a single instance of the generator. Setting up the generator takes time (much longer than getting the next number in the sequence)."
   ]
  },
  {
   "cell_type": "code",
   "execution_count": 6,
   "metadata": {},
   "outputs": [],
   "source": [
    "# just do this line once in your code\n",
    "rng = numpy.random.default_rng(seed=0) # create a random number generator and reset the starting value"
   ]
  },
  {
   "cell_type": "markdown",
   "metadata": {},
   "source": [
    "From now on we will keep the default rng."
   ]
  },
  {
   "cell_type": "markdown",
   "metadata": {},
   "source": [
    "# Demo 4.2: Distributions\n",
    "\n",
    "Now we have a random number generator we can sample from the available probility distributions. The most common used in finance would be:\n",
    "- `normal` the normal distribution $x\\sim N(\\mu,\\sigma^2)$ with mean $\\mu$ and variance $\\sigma^2$\n",
    "- `uniform` the uniform distribution $x\\sim U(a,b)$ over the interval $[a,b]$ can be used to calculate if an event happens according to some known probability\n",
    "- `exponential` the exponential distribution $x\\sim$ Exp $(\\lambda)$ with rate parameter $\\lambda$ to generate the waiting time of a Poisson distribution with mean $\\lambda$"
   ]
  },
  {
   "cell_type": "markdown",
   "metadata": {},
   "source": [
    "# Tasks\n",
    "\n",
    "- generate 1000 numbers from each of the distributions, and plot out a histogram of the frequency distribution\n",
    "- regenerate the graphs with $n=10,000$ $n=100,000$ $n=1,000,000$ numbers from the distribution, what do you notice happens?"
   ]
  },
  {
   "cell_type": "markdown",
   "metadata": {},
   "source": [
    "Let's go through the example for a uniform distribution then you can try with the others. First get 1000 numbers from the distribution and store it in an array:"
   ]
  },
  {
   "cell_type": "code",
   "execution_count": 7,
   "metadata": {},
   "outputs": [],
   "source": [
    "xi = rng.uniform(0.0,1.0,size=(1000))"
   ]
  },
  {
   "cell_type": "markdown",
   "metadata": {},
   "source": [
    "Now import the plotting library:"
   ]
  },
  {
   "cell_type": "code",
   "execution_count": 8,
   "metadata": {},
   "outputs": [],
   "source": [
    "import matplotlib.pyplot as plt"
   ]
  },
  {
   "cell_type": "markdown",
   "metadata": {},
   "source": [
    "Create a histogram using the `hist` function in `matplotlib.pyplot`"
   ]
  },
  {
   "cell_type": "code",
   "execution_count": 9,
   "metadata": {},
   "outputs": [
    {
     "data": {
      "image/png": "[encoded data removed]",
      "text/plain": [
       "<Figure size 640x480 with 1 Axes>"
      ]
     },
     "metadata": {},
     "output_type": "display_data"
    }
   ],
   "source": [
    "plt.hist(xi, bins=50, color='blue', edgecolor='black')\n",
    "plt.title('Histogram of Random Numbers from the Uniform Distribution')\n",
    "plt.xlabel('Value')\n",
    "plt.ylabel('Frequency')\n",
    "plt.grid(True)\n",
    "plt.show()"
   ]
  },
  {
   "cell_type": "markdown",
   "metadata": {},
   "source": [
    "Looks like the correct result, we can see some random variations in there as expected. Try the other distributions yourself and see what happens as $n$ gets bigger."
   ]
  },
  {
   "cell_type": "markdown",
   "metadata": {},
   "source": [
    "# Demo 4.3: Monte Carlo\n",
    "\n",
    "Assume $x \\sim N(0,1)$ is a random draw from the normal distribution, the random variable $F=f(x)$, and the function $f(x)$ is given by\n",
    "$$\n",
    "f(x) = \\begin{cases}\n",
    "x^2 & \\text{ if } x \\leq 1 \\\\\n",
    "0 & \\text{ if } x > 1\n",
    "\\end{cases}.\n",
    "$$\n",
    "Use Monte Carlo simulations, can you calculate the expectation $V=\\text{E}[F]$?"
   ]
  },
  {
   "cell_type": "markdown",
   "metadata": {},
   "source": [
    "According to Monte Carlo methods we can approximate the expectation using the average of $N$ simulations, so\n",
    "$$\n",
    "E[F] \\approx \\frac{1}{N} \\sum_{n=1}^N f(x_n)\n",
    "$$\n",
    "where $x_n$ is $n$th random draw from a normal distribution."
   ]
  },
  {
   "cell_type": "markdown",
   "metadata": {},
   "source": [
    "The most efficient way to setup your code is to run a single command on the random number generator to get the $N$ random numbers, and then go through the loop and sum up the payoffs."
   ]
  },
  {
   "cell_type": "code",
   "execution_count": 10,
   "metadata": {},
   "outputs": [
    {
     "name": "stdout",
     "output_type": "stream",
     "text": [
      "Result with 100 paths is:= 0.6904423607741702\n"
     ]
    }
   ],
   "source": [
    "N=100\n",
    "x = rng.normal(0.0,1.0,size=(N))\n",
    "\n",
    "sum = 0.0\n",
    "for n in range(0,N):\n",
    "    Fn = 0.0\n",
    "    if x[n] < 1.0:\n",
    "        Fn = x[n]*x[n]\n",
    "    sum = sum + Fn\n",
    "result = sum / N \n",
    "print( \"Result with\",N,\"paths is:=\",result)"
   ]
  },
  {
   "cell_type": "markdown",
   "metadata": {},
   "source": [
    "The result looks reasonable, but to do anything interesting we will need to make a function so we can call this multiple times and analyse the results."
   ]
  },
  {
   "cell_type": "code",
   "execution_count": 11,
   "metadata": {},
   "outputs": [],
   "source": [
    "# pass in your random number generator as an argument. When you run this multiple times you want to make sure you use the next set of numbers in the sequence\n",
    "def monteCarlo(N,rng):\n",
    "    # generate\n",
    "    x = rng.normal(0.0,1.0,size=(int(N)))\n",
    "    sum = 0.0\n",
    "    for n in range(0,int(N)):\n",
    "        Fn = 0.0\n",
    "        if x[n] < 1.0:\n",
    "            Fn = x[n]*x[n]\n",
    "        sum = sum + Fn\n",
    "    return sum / N "
   ]
  },
  {
   "cell_type": "markdown",
   "metadata": {},
   "source": [
    "Now we can generate a plot using different values of $N$, for example $N=1000,2000,...$."
   ]
  },
  {
   "cell_type": "code",
   "execution_count": 12,
   "metadata": {},
   "outputs": [
    {
     "data": {
      "text/plain": [
       "Text(0, 0.5, 'E[F]')"
      ]
     },
     "execution_count": 12,
     "metadata": {},
     "output_type": "execute_result"
    },
    {
     "data": {
      "image/png": "[encoded data removed]",
      "text/plain": [
       "<Figure size 640x480 with 1 Axes>"
      ]
     },
     "metadata": {},
     "output_type": "display_data"
    }
   ],
   "source": [
    "import matplotlib.pyplot as plt\n",
    "\n",
    "numberOfResults = 10\n",
    "# setup some vectors to store the results\n",
    "Narray = numpy.zeros(numberOfResults)\n",
    "Varray = numpy.zeros(numberOfResults)\n",
    "# loop over different values of N\n",
    "for i in range(0,numberOfResults):\n",
    "    Narray[i] = (i+1)*1000\n",
    "    Varray[i] = monteCarlo(Narray[i],rng)\n",
    "plt.plot(Narray, Varray)\n",
    "plt.xlabel(\"N\")\n",
    "plt.ylabel(\"E[F]\")"
   ]
  },
  {
   "cell_type": "markdown",
   "metadata": {},
   "source": [
    "# Tasks\n",
    "\n",
    "- Change the value of `numberOfResults` to 20, 40, 80 and more. What properties can you identify in the graphs? Be careful, as $N$ gets large so do the computation times!\n",
    "- Calculate the value using numerical quadrature:-\n",
    "$$\n",
    "V = \\frac{1}{\\sqrt{2\\pi}} \\int_{-\\infty}^1 x^2 e^{-x^2/2} dx\n",
    "$$\n",
    "and use it to check the accuracy of your code. Do the results match?\n",
    "- How can you definitively say what the error is, given that for any value of $N$ you generate a random result every time? _Hint: think about the variance of your result._\n",
    "- How efficient is your code? Test different random number generators to see which one is best. For the more confident student, you might also investigate ways to speed up the calculations using the `numba` or `cython` libraries."
   ]
  },
  {
   "cell_type": "markdown",
   "metadata": {},
   "source": []
  }
 ],
 "metadata": {
  "kernelspec": {
   "display_name": "Python [conda env:base] *",
   "language": "python",
   "name": "conda-base-py"
  },
  "language_info": {
   "codemirror_mode": {
    "name": "ipython",
    "version": 3
   },
   "file_extension": ".py",
   "mimetype": "text/x-python",
   "name": "python",
   "nbconvert_exporter": "python",
   "pygments_lexer": "ipython3",
   "version": "3.12.2"
  }
 },
 "nbformat": 4,
 "nbformat_minor": 4
}
