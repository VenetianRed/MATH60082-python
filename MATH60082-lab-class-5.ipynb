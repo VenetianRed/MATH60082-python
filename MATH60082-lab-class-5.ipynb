{
 "cells": [
  {
   "cell_type": "markdown",
   "metadata": {},
   "source": [
    "<div style='text-align: center;'>\n",
    "<img src=\"images/math60082-banner.png\" alt=\"image\" width=\"80%\" height=\"auto\">\n",
    "</div>"
   ]
  },
  {
   "cell_type": "markdown",
   "metadata": {},
   "source": [
    "# Lab Class - Week 5\n",
    "\n",
    "## Department of Mathematics"
   ]
  },
  {
   "cell_type": "markdown",
   "metadata": {},
   "source": [
    "# This Week\n",
    "\n",
    "- Demo 5.1 European Call Option\n",
    "- Demo 5.2 Analysing Errors\n",
    "- Demo 5.3 Analysing Efficiency"
   ]
  },
  {
   "cell_type": "markdown",
   "metadata": {},
   "source": [
    "## Law of Large Numbers\n",
    "\n",
    "If we have a sequence of $n$ independent, identically distributed random variables $Y^i$, then we have that\n",
    "$$\n",
    "E[Y] = \\lim_{n\\to\\infty} \\frac{1}{n} \\sum_{i=1}^n Y^i\n",
    "$$\n",
    "which is the law of large numbers. In other words the expectation is exactly like taking a long\n",
    "run average (as we’d expect), so we can approximate the expectation \n",
    "$$\n",
    "E[Y] \\approx \\frac{1}{n} \\sum_{i=1}^n Y^i \n",
    "$$\n",
    "for some finite $n$. If we call our approximation with $n$ simulations \n",
    "$$\n",
    "V_n = \\frac{1}{n} \\sum_{i=1}^n Y^i,\n",
    "$$ \n",
    "then note that $V_n$ is itself a random variable. So to generate any desired accuracy $\\epsilon$, we can simply increase the value of $n$ until we almost surely have\n",
    "$$\n",
    "\\text{Pr}\\left(| V_n - E[Y] | < \\epsilon \\right) \\to 1\n",
    "$$\n",
    "When applying the Monte Carlo technique in finance we are typically trying to obtain the value of $E[f(Y)]$\n",
    "which is the expectation of a function of a random variable $Y$.\n",
    "\n",
    "## Application to Options\n",
    "\n",
    "We can't talk about using Monte-Carlo to price options without first talking about the risk-neutral measure.\n",
    "If we consider $S_t$ as the value of a share price at time $t$, then the option value at expiry, $t = T$\n",
    "we can think of as $V(S_T , T )$, and from the fundamental theorem of finance we know that\n",
    "$$\n",
    "V(S_t , t) = E_t^Q \\bigg[e^{-\\int_t^T r(s)ds} V (S_T , T )\\bigg],\n",
    "$$\n",
    "or if interest rates are constant\n",
    "$$\n",
    "V(S_t , t) = e^{-r(T −t)} E_t^Q \\bigg[V (S_T , T )\\bigg],\n",
    "$$\n",
    "where $Q$ is the risk-neutral measure and $E_t$ denotes taking the expectation at\n",
    "time $t$. Thus if we can estimate the expectation on the right hand side then we can simply\n",
    "discount this value at the risk-free rate to obtain the option price today. In fact, with Monte-Carlo\n",
    "methods it is also fairly straightforward to factor in stochastic interest rates as well.\n",
    "\n",
    "Under the risk neutral measure, the standard GBM model for asset prices is written as an SDE\n",
    "$$\n",
    "dS_t = (r-q)S_t dt + \\sigma S_t dW_t\n",
    "$$\n",
    "where $r$ is the risk free rate, $q$ is the dividend yield, $\\sigma$ the volatility and $W_t$ a Wiener process. The objective now is to calculate the value of $S_T$ at time $T$ given some value of $S_0$ at time $t$. \n",
    "If you divide the time $t=0$ to $t=T$ into $K$ equally spaced steps, you could approximate a path followed by the asset using the relation\n",
    "$$\n",
    "S(t_k+\\Delta t) = (r-q)S(t_k) dt + \\sigma S(t_k) \\sqrt{\\Delta t} \\phi_k\n",
    "$$\n",
    "where $\\phi_k\\sim N(0,1)$, $\\Delta t = T/K$ and $t_k=k\\Delta t$. This is an adapted Euler scheme, and generates ok results but is highly inefficient.\n",
    "\n",
    "Instead, as you may have already seen, we can make use of It&ocirc;'s lemma to solve the SDE analytically, resulting in the relationship\n",
    "$$\n",
    "\\ln S_T -\\ln S_0 \\sim N\\bigg(\\left(r-q-\\frac12\\sigma^2\\right)T,\\sigma^2 T\\bigg)\n",
    "$$\n",
    "for the asset price at time $T$. This leads to a way to generate random value of $S_T$ without requiring us to calculate the path inbetween:\n",
    "$$\n",
    "S_T = S_0 \\exp\\left(\\left(r-q-\\frac12\\sigma^2\\right)T + \\sigma \\sqrt{T} \\phi\\right)\n",
    "$$\n",
    "where $\\phi\\sim N(0,1)$ is an iid random number from a normal distribution.\n",
    "\n",
    "So to calculate an option price, we can write an algorithm of the form\n",
    "$$\n",
    "V_n = e^{-r(T −t)}\\frac{1}{n} \\sum_{i=1}^n V( (S_T)^i , T ),\n",
    "$$\n",
    "where\n",
    "$$\n",
    "(S_T)^i = S_0 \\exp\\left(\\left(r-q-\\frac12\\sigma^2\\right)T + \\sigma \\sqrt{T} \\phi^i\\right)\n",
    "$$\n",
    "and $\\phi^i$ is a randomly simulated value from the standard normal distribution. Note as an alternative, you can just use the `lognormal` distribution from the generator."
   ]
  },
  {
   "cell_type": "markdown",
   "metadata": {},
   "source": [
    "# Demo 5.1: European Call Option\n",
    "\n",
    "# Tasks\n",
    "\n",
    "- Write code to generate Monte Carlo approximations to a European call option with parameters $S_0=94.68$, $T=1$, $X=100$, $r=0.05$, $q=0.02$ and $\\sigma=0.4$.\n",
    "\n",
    "Here we know the terminal condition is given by:\n",
    "$$\n",
    "V(S,T) = \\max(S-X,0)\n",
    "$$\n",
    "so our psuedo algorithm will end up looking something like this:\n",
    "~~~\n",
    "phi = rng.normal(size=(N))\n",
    "sum=0.0\n",
    "for i in range(0,N)\n",
    "    ST = S0 * exp( (r-q-0.5*sigma*sigma)*T + sigma*sqrt(T)*phi[i])\n",
    "    VT = max(ST - X,0.0)\n",
    "    sum = sum + VT\n",
    "value = (sum/N) * exp(-r*T)\n",
    "~~~\n",
    "First import the random number library."
   ]
  },
  {
   "cell_type": "code",
   "execution_count": 2,
   "metadata": {},
   "outputs": [],
   "source": [
    "import numpy as np\n",
    "rng = np.random.default_rng(seed=0) # create a random number generator and reset the starting value"
   ]
  },
  {
   "cell_type": "markdown",
   "metadata": {},
   "source": [
    "Setup the parameter/variables:"
   ]
  },
  {
   "cell_type": "code",
   "execution_count": 3,
   "metadata": {},
   "outputs": [],
   "source": [
    "S_0=94.68\n",
    "T=1\n",
    "X=100\n",
    "r=0.05\n",
    "q=0.02\n",
    "sigma=0.4"
   ]
  },
  {
   "cell_type": "markdown",
   "metadata": {},
   "source": [
    "Now generate some stock prices at time $t=T$ using the log normal distribution"
   ]
  },
  {
   "cell_type": "code",
   "execution_count": 4,
   "metadata": {},
   "outputs": [],
   "source": [
    "n = 1000\n",
    "ST = rng.lognormal(np.log(S_0) + (r-q-0.5*sigma*sigma)*T, sigma*np.sqrt(T), n)"
   ]
  },
  {
   "cell_type": "markdown",
   "metadata": {},
   "source": [
    "Check that the output look sensible:"
   ]
  },
  {
   "cell_type": "code",
   "execution_count": 5,
   "metadata": {},
   "outputs": [
    {
     "data": {
      "image/png": "[encoded data removed]",
      "text/plain": [
       "<Figure size 640x480 with 1 Axes>"
      ]
     },
     "metadata": {},
     "output_type": "display_data"
    }
   ],
   "source": [
    "import matplotlib.pyplot as plt\n",
    "plt.hist(ST, bins=\"fd\", color='blue')\n",
    "plt.title('Histogram of risk neutral asset prices')\n",
    "plt.xlabel('S_T')\n",
    "plt.ylabel('Frequency')\n",
    "plt.grid(True)\n",
    "plt.show()"
   ]
  },
  {
   "cell_type": "markdown",
   "metadata": {},
   "source": [
    "Now put this in a Monte Carlo algorithm to get"
   ]
  },
  {
   "cell_type": "code",
   "execution_count": 6,
   "metadata": {},
   "outputs": [
    {
     "name": "stdout",
     "output_type": "stream",
     "text": [
      " Call Option value:= 12.266180166032798\n"
     ]
    }
   ],
   "source": [
    "sum = 0.0\n",
    "for i in range(0,n):\n",
    "    sum += max(ST[i]-X,0.0)\n",
    "value = sum/n *np.exp(-r*T)\n",
    "print(\" Call Option value:=\",value)"
   ]
  },
  {
   "cell_type": "markdown",
   "metadata": {},
   "source": [
    "# Tasks\n",
    "\n",
    "- code up the Monte Carlo solver into a function\n",
    "- run the function several times with the same value of $n$, what do the results look like?\n",
    "- run the function for different values of $n=1000,2000,...$ and plot out the results, are they what you expected? Can you identify features of the graph?"
   ]
  },
  {
   "cell_type": "markdown",
   "metadata": {},
   "source": [
    "# Demo 5.2: Analysing Errors\n",
    "\n",
    "## Central limit theorem\n",
    "\n",
    "If $V(S^T_i)$ is a sequence of independent and identically distributed random variables with mean $E_t^Q[V(S_T)]$ and variance $\\eta^2$, then we can say that\n",
    "$$\\sqrt{n}\\left(\\frac{1}{n}\\sum_{i=1}^nV(S_T^i)-E_t^Q[V(S_T)]\\right)\\xrightarrow{d} N(0,\\eta^2) .$$ \n",
    "This result means that if we plot our solutions $V_n$ against $n$, we should observe our solutions converging around the mean like a normal distribution with variance $\\frac{\\eta^2}{n}$. In practical terms, if we draw the results on a graph, we should see approximately 70% of the results lie within one standard deviation $\\frac{\\eta}{\\sqrt{n}}$ of the mean.\n",
    " \n",
    "<div style='text-align: left;'>\n",
    "<img src=\"images/monte-carlo-central-limit.png\" alt=\"image\" width=\"50%\" height=\"auto\">\n",
    "</div>"
   ]
  },
  {
   "cell_type": "markdown",
   "metadata": {},
   "source": [
    "Also, if $\\eta$ is a known constant (and clearly this can be estimated numerically), and we generate an estimate for the true value $V_n$, we can generate any desired confidence interval to say we are $P$% confident that the solution is within the interval $[V_n-\\alpha \\frac{\\eta}{\\sqrt{n}},V_n+\\alpha \\frac{\\eta}{\\sqrt{n}}]$ for appropriate choices of $P$ and $\\alpha$. For example, if $P=95$, we use $\\alpha=1.96$ (or normally just $\\alpha=2$ is close enough)."
   ]
  },
  {
   "cell_type": "markdown",
   "metadata": {},
   "source": [
    "# Tasks\n",
    "\n",
    "- calculate the exact value of the call option using numerical integration or the analytic formula, to be denoted $V_\\text{exact}$\n",
    "- estimate the value of $\\eta$ for the call option, and plot the lines $$V_\\text{exact}\\pm\\frac{\\eta}{\\sqrt{n}}$$ does the picture look like you would expect?\n",
    "- try running the same analysis on a put option, a binary option or any other payoff. Are the results always the same?\n"
   ]
  },
  {
   "cell_type": "markdown",
   "metadata": {},
   "source": [
    "# Demo 5.3: Evaluate the Efficiency of the Method\n",
    "\n",
    "Here let's use the `timeit` library to get the running times for some different code. We are going to experiment with 3 different approaches to the problem, each of which should deliver broadly the same results (although this should be checked).\n",
    "\n",
    "## Scheme 1: Euler &mdash; Maruyama Approach\n",
    "1. Split $T$ into $K$ equally spaced times, with $\\Delta t=\\frac{T}{K}$ and $t^k = k\\Delta t$.\n",
    "2. Simulate $n\\times K$ random increments according to $\\Delta W \\sim N(0,\\Delta t)$\n",
    "3. Create a path using the Euler-Maruyama scheme $S^{k+1} = S^{k}(1+(r-q)\\Delta t + \\sigma \\Delta W)$ \n",
    "4. Sum up discounted payoff and take the average\n",
    "\n",
    "## Scheme 2: Integrated Wiener Monte Carlo Approach\n",
    "1. Simulate $n$ random Wiener processes according to $W_T \\sim N(0,T)$\n",
    "2. Calculate path using formula $S_T = S_0 \\exp((r-q-\\frac12\\sigma^2)T + \\sigma W_T)$\n",
    "3. Sum up discounted payoff and take the average\n",
    "\n",
    "## Scheme 3: Integrated Stock Path Monte Carlo Approach\n",
    "1. Simulate $n$ random paths according to $\\ln S_T \\sim N(\\ln(S_0)+(r-q-\\frac12\\sigma^2)T,\\sigma^2 T)$\n",
    "2. Sum up discounted payoff and take the average"
   ]
  },
  {
   "cell_type": "code",
   "execution_count": 15,
   "metadata": {},
   "outputs": [],
   "source": [
    "from timeit import timeit"
   ]
  },
  {
   "cell_type": "code",
   "execution_count": 8,
   "metadata": {},
   "outputs": [],
   "source": [
    "def monteCarlo1(S_0,T,X,r,q,sigma,n,K):\n",
    "    dt = T/K\n",
    "    dW = rng.normal(0.0,np.sqrt(dt),size=(n,K))\n",
    "    sum = 0.0\n",
    "    for i in range(0,n):\n",
    "        St=S_0\n",
    "        for k in range(0,K):\n",
    "            St=St + (r-q)*St*dt + sigma*St*dW[i][k]\n",
    "        sum += max(St-X,0.0)\n",
    "    return sum/n *np.exp(-r*T)"
   ]
  },
  {
   "cell_type": "code",
   "execution_count": 9,
   "metadata": {},
   "outputs": [],
   "source": [
    "def monteCarlo2(S_0,T,X,r,q,sigma,n):\n",
    "    WT = rng.normal(0.0,np.sqrt(T), n)\n",
    "    sum = 0.0\n",
    "    for i in range(0,n):\n",
    "        STi = S_0*np.exp((r-q-0.5*sigma*sigma)*T+sigma*WT[i])\n",
    "        sum += max(STi-X,0.0)\n",
    "    return sum/n *np.exp(-r*T)"
   ]
  },
  {
   "cell_type": "code",
   "execution_count": 10,
   "metadata": {},
   "outputs": [],
   "source": [
    "def monteCarlo3(S_0,T,X,r,q,sigma,n):\n",
    "    ST = rng.lognormal(np.log(S_0) + (r-q-0.5*sigma*sigma)*T, sigma*np.sqrt(T), n)\n",
    "    sum = 0.0\n",
    "    for i in range(0,n):\n",
    "        sum += max(ST[i]-X,0.0)\n",
    "    return sum/n *np.exp(-r*T)"
   ]
  },
  {
   "cell_type": "markdown",
   "metadata": {},
   "source": [
    "# Tasks\n",
    "\n",
    "- Plot out the results of $V_n$ vs $n$ for each of the methods (you can choose $K=100$). Are the results converging on the correct value?\n",
    "- Can you generate a confidence interval for a result with $n=1000000$ paths?\n",
    "- Run the code timings below -- can you explain why some codes take longer than others?\n",
    "- Can you improve the run times using `numba` or `cython`?"
   ]
  },
  {
   "cell_type": "code",
   "execution_count": 12,
   "metadata": {},
   "outputs": [
    {
     "name": "stdout",
     "output_type": "stream",
     "text": [
      "Time taken to run  100  simulations with  10000  paths is 32.59096808299364  seconds.\n"
     ]
    }
   ],
   "source": [
    "n = 10000\n",
    "K = 100\n",
    "script=\"monteCarlo1(S_0,T,X,r,q,sigma,n,K)\"\n",
    "codeRuns = 100\n",
    "timeSimulate = timeit( script,number=codeRuns,globals=globals() )\n",
    "\n",
    "print(\"Time taken to run \",codeRuns,\" simulations with \",n,\" paths is\", timeSimulate,\" seconds.\")"
   ]
  },
  {
   "cell_type": "code",
   "execution_count": 14,
   "metadata": {},
   "outputs": [
    {
     "name": "stdout",
     "output_type": "stream",
     "text": [
      "Time taken to run  100  simulations with  10000  paths is 0.8588148749986431  seconds.\n"
     ]
    }
   ],
   "source": [
    "n = 10000\n",
    "script=\"monteCarlo2(S_0,T,X,r,q,sigma,n)\"\n",
    "codeRuns = 100\n",
    "timeSimulate = timeit( script,number=codeRuns,globals=globals() )\n",
    "\n",
    "print(\"Time taken to run \",codeRuns,\" simulations with \",n,\" paths is\", timeSimulate,\" seconds.\")"
   ]
  },
  {
   "cell_type": "code",
   "execution_count": 13,
   "metadata": {},
   "outputs": [
    {
     "name": "stdout",
     "output_type": "stream",
     "text": [
      "Time taken to run  100  simulations with  10000  paths is 0.2395697920001112  seconds.\n"
     ]
    }
   ],
   "source": [
    "n = 10000\n",
    "script=\"monteCarlo3(S_0,T,X,r,q,sigma,n)\"\n",
    "codeRuns = 100\n",
    "timeSimulate = timeit( script,number=codeRuns,globals=globals() )\n",
    "\n",
    "print(\"Time taken to run \",codeRuns,\" simulations with \",n,\" paths is\", timeSimulate,\" seconds.\")"
   ]
  },
  {
   "cell_type": "code",
   "execution_count": null,
   "metadata": {},
   "outputs": [],
   "source": []
  }
 ],
 "metadata": {
  "kernelspec": {
   "display_name": "Python [conda env:base] *",
   "language": "python",
   "name": "conda-base-py"
  },
  "language_info": {
   "codemirror_mode": {
    "name": "ipython",
    "version": 3
   },
   "file_extension": ".py",
   "mimetype": "text/x-python",
   "name": "python",
   "nbconvert_exporter": "python",
   "pygments_lexer": "ipython3",
   "version": "3.12.2"
  }
 },
 "nbformat": 4,
 "nbformat_minor": 4
}
