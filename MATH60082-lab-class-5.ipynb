{
 "cells": [
  {
   "cell_type": "markdown",
   "metadata": {},
   "source": [
    "<div style='text-align: center;'>\n",
    "<img src=\"images/math60082-banner.png\" alt=\"image\" width=\"80%\" height=\"auto\">\n",
    "</div>"
   ]
  },
  {
   "cell_type": "markdown",
   "metadata": {},
   "source": [
    "# Lab Class - Week 5\n",
    "## Dr P. V. Johnson\n",
    "## Department of Mathematics"
   ]
  },
  {
   "cell_type": "markdown",
   "metadata": {},
   "source": [
    "# This Week\n",
    "\n",
    "- Demo 5.1 European Call Option\n",
    "- Demo 5.2 Analysing Errors\n",
    "- Demo 5.3 Analysing Efficiency"
   ]
  },
  {
   "cell_type": "markdown",
   "metadata": {},
   "source": [
    "## Law of Large Numbers\n",
    "\n",
    "If we have a sequence of $N$ independent, identically distributed random variables $Y^i$, then we have that\n",
    "$$\n",
    "E[Y] = \\lim_{N\\to\\infty} \\frac{1}{N} \\sum_{i=1}^N Y^i\n",
    "$$\n",
    "which is the law of large numbers. In other words the expectation is exactly like taking a long\n",
    "run average (as we’d expect), so we can approximate the expectation \n",
    "$$\n",
    "E[Y] \\approx \\frac{1}{N} \\sum_{i=1}^N Y^i \n",
    "$$\n",
    "for some finite $N$. If we call our approximation with $N$ simulations \n",
    "$$\n",
    "V_N = \\frac{1}{N} \\sum_{i=1}^N Y^i,\n",
    "$$ \n",
    "then note that $V_N$ is itself a random variable. So to generate any desired accuracy $\\epsilon$, we can simply increase the value of $N$ until we almost surely have\n",
    "$$\n",
    "\\text{Pr}\\left(| V_N - E[Y] | < \\epsilon \\right) \\to 1\n",
    "$$\n",
    "When applying the Monte Carlo technique in finance we are typically trying to obtain the value of $E[f(Y)]$\n",
    "which is the expectation of a function of a random variable $Y$.\n",
    "\n",
    "## Application to Options\n",
    "\n",
    "We can't talk about using Monte-Carlo to price options without first talking about the risk-neutral measure.\n",
    "If we consider $S_t$ as the value of a share price at time $t$, then the option value at expiry, $t = T$\n",
    "we can think of as $V(S_T , T )$, and from the fundamental theorem of finance we know that\n",
    "$$\n",
    "V(S_t , t) = E_t^Q \\bigg[e^{-\\int_t^T r(s)ds} V (S_T , T )\\bigg],\n",
    "$$\n",
    "or if interest rates are constant\n",
    "$$\n",
    "V(S_t , t) = e^{-r(T −t)} E_t^Q \\bigg[V (S_T , T )\\bigg],\n",
    "$$\n",
    "where $Q$ is the risk-neutral measure and $E_t$ denotes taking the expectation at\n",
    "time $t$. Thus if we can estimate the expectation on the right hand side then we can simply\n",
    "discount this value at the risk-free rate to obtain the option price today. In fact, with Monte-Carlo\n",
    "methods it is also fairly straightforward to factor in stochastic interest rates as well.\n",
    "\n",
    "Under the risk neutral measure, the standard GBM model for asset prices is written as an SDE\n",
    "$$\n",
    "dS_t = (r-q)S_t dt + \\sigma S_t dW_t\n",
    "$$\n",
    "where $r$ is the risk free rate, $q$ is the dividend yield, $\\sigma$ the volatility and $W_t$ a Wiener process. The objective now is to calculate the value of $S_T$ at time $T$ given some value of $S_0$ at time $t$. \n",
    "If you divide the time $t=0$ to $t=T$ into $K$ equally spaced steps, you could approximate a path followed by the asset using the relation\n",
    "$$\n",
    "S(t_k+\\Delta t) = (r-q)S(t_k) dt + \\sigma S(t_k) \\sqrt{\\Delta t} \\phi_k\n",
    "$$\n",
    "where $\\phi_k\\sim N(0,1)$, $\\Delta t = T/K$ and $t_k=k\\Delta t$. This is an adapted Euler scheme, and generates ok results but is highly inefficient.\n",
    "\n",
    "Instead, as you may have already seen, we can make use of Ito's lemma to solve the SDE analitically, resulting in the relationship\n",
    "$$\n",
    "\\ln S_T -\\ln S_0 \\sim N\\bigg(\\left(r-q-\\frac12\\sigma^2\\right)T,\\sigma^2 T\\bigg)\n",
    "$$\n",
    "for the asset price at time $T$. This leads to a way to generate random value of $S_T$ without requiring us to calculate the path inbetween:\n",
    "$$\n",
    "S_T = S_0 \\exp\\left(\\left(r-q-\\frac12\\sigma^2\\right)T + \\sigma \\sqrt{T} \\phi\\right)\n",
    "$$\n",
    "where $\\phi\\sim N(0,1)$ is an iid random number from a normal distribution.\n",
    "\n",
    "So to calculate an option price, we can write an algorithm of the form\n",
    "$$\n",
    "V_N = e^{-r(T −t)}\\frac{1}{N} \\sum_{i=1}^N V( (S_T)^i , T ),\n",
    "$$\n",
    "where\n",
    "$$\n",
    "(S_T)^i = S_0 \\exp\\left(\\left(r-q-\\frac12\\sigma^2\\right)T + \\sigma \\sqrt{T} \\phi^i\\right)\n",
    "$$\n",
    "and $\\phi^i$ is a randomly simulated value from the standard normal distribution. Note as an alternative, you can just use the `lognormal` distribution from the generator."
   ]
  },
  {
   "cell_type": "markdown",
   "metadata": {},
   "source": [
    "# Demo 5.1: European Call Option\n",
    "\n",
    "# Tasks\n",
    "\n",
    "- Write code to generate Monte Carlo approximations to a European call option with parameters $S_0=94.68$, $T=1$, $X=100$, $r=0.05$, $q=0.02$ and $\\sigma=0.4$.\n",
    "\n",
    "Here we know the terminal condition is given by:\n",
    "$$\n",
    "V(S,T) = \\max(S-X,0)\n",
    "$$\n",
    "so our psuedo algorithm will end up looking something like this:\n",
    "~~~\n",
    "phi = rng.normal(size=(N))\n",
    "sum=0.0\n",
    "for i in range(0,N)\n",
    "    ST = S0 * exp( (r-q-0.5*sigma*sigma)*T + sigma*sqrt(T)*phi[i])\n",
    "    VT = max(ST - X,0.0)\n",
    "    sum = sum + VT\n",
    "value = (sum/N) * exp(-r*T)\n",
    "~~~\n",
    "First import the random number library."
   ]
  },
  {
   "cell_type": "code",
   "execution_count": 1,
   "metadata": {},
   "outputs": [],
   "source": [
    "import numpy\n",
    "rng = numpy.random.default_rng(seed=0) # create a random number generator and reset the starting value"
   ]
  },
  {
   "cell_type": "markdown",
   "metadata": {},
   "source": [
    "Setup the parameter/variables:"
   ]
  },
  {
   "cell_type": "code",
   "execution_count": 2,
   "metadata": {},
   "outputs": [],
   "source": [
    "S_0=94.68\n",
    "T=1\n",
    "X=100\n",
    "r=0.05\n",
    "q=0.02\n",
    "sigma=0.4"
   ]
  },
  {
   "cell_type": "markdown",
   "metadata": {},
   "source": [
    "Now generate some stock prices at time $t=T$ using the log normal distribution"
   ]
  },
  {
   "cell_type": "code",
   "execution_count": 3,
   "metadata": {},
   "outputs": [],
   "source": [
    "N = 1000\n",
    "ST = rng.lognormal(numpy.log(S_0) + (r-q-0.5*sigma*sigma)*T, sigma*numpy.sqrt(T), N)"
   ]
  },
  {
   "cell_type": "markdown",
   "metadata": {},
   "source": [
    "Check that the output look sensible:"
   ]
  },
  {
   "cell_type": "code",
   "execution_count": 4,
   "metadata": {},
   "outputs": [
    {
     "data": {
      "image/png": "[encoded data removed]",
      "text/plain": [
       "<Figure size 640x480 with 1 Axes>"
      ]
     },
     "metadata": {},
     "output_type": "display_data"
    }
   ],
   "source": [
    "import matplotlib.pyplot as plt\n",
    "plt.hist(ST, bins=50, color='blue', edgecolor='black')\n",
    "plt.title('Histogram of asset prices')\n",
    "plt.xlabel('Value')\n",
    "plt.ylabel('Frequency')\n",
    "plt.grid(True)\n",
    "plt.show()"
   ]
  },
  {
   "cell_type": "markdown",
   "metadata": {},
   "source": [
    "Now put this in a Monte Carlo algorithm to get"
   ]
  },
  {
   "cell_type": "code",
   "execution_count": 6,
   "metadata": {},
   "outputs": [
    {
     "name": "stdout",
     "output_type": "stream",
     "text": [
      " Call Option value:= 12.266180166032798\n"
     ]
    }
   ],
   "source": [
    "sum = 0.0\n",
    "for i in range(0,N):\n",
    "    sum += max(ST[i]-X,0.0)\n",
    "value = sum/N *numpy.exp(-r*T)\n",
    "print(\" Call Option value:=\",value)"
   ]
  },
  {
   "cell_type": "markdown",
   "metadata": {},
   "source": [
    "# Tasks\n",
    "\n",
    "- code up the Monte Carlo solver into a function\n",
    "- run the function several times with the same value of $N$, what do the results look like?\n",
    "- run the function for different values of $N=1000,2000,...$ and plot out the results, are they what you expected? Can you identify features of the graph?"
   ]
  },
  {
   "cell_type": "code",
   "execution_count": null,
   "metadata": {},
   "outputs": [],
   "source": []
  }
 ],
 "metadata": {
  "kernelspec": {
   "display_name": "Python 3",
   "language": "python",
   "name": "python3"
  },
  "language_info": {
   "codemirror_mode": {
    "name": "ipython",
    "version": 3
   },
   "file_extension": ".py",
   "mimetype": "text/x-python",
   "name": "python",
   "nbconvert_exporter": "python",
   "pygments_lexer": "ipython3",
   "version": "3.11.7"
  }
 },
 "nbformat": 4,
 "nbformat_minor": 2
}
