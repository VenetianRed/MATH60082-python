{
 "cells": [
  {
   "cell_type": "markdown",
   "metadata": {},
   "source": [
    "<div style='text-align: center;'>\n",
    "<img src=\"images/math60082-banner.png\" alt=\"image\" width=\"80%\" height=\"auto\">\n",
    "</div>"
   ]
  },
  {
   "cell_type": "markdown",
   "metadata": {},
   "source": [
    "# Lab Class - Week 9\n",
    "\n",
    "## Dr P. V. Johnson\n",
    "## Department of Mathematics"
   ]
  },
  {
   "cell_type": "markdown",
   "metadata": {},
   "source": [
    "Last time we demonstrated the explicit finite difference method\n",
    "- We showed how accurate it can be,\n",
    "- how timestep restrictions make it inefficient,\n",
    "- and how interpolation can maintain accuracy inbetween grid points.\n",
    "- This time we cover the Crank Nicolson Method."
   ]
  },
  {
   "cell_type": "markdown",
   "metadata": {},
   "source": [
    "## Crank Nicolson Method"
   ]
  },
  {
   "cell_type": "markdown",
   "metadata": {},
   "source": [
    "As introduced at the end of the last lecture the Crank-Nicolson scheme \n",
    "works by evaluating the derivatives at $V(S, t + \\Delta t/2)$.\n",
    "The main advantages of this is that the error in the time derivative is \n",
    "now $(\\Delta t)^2$ rather than $\\Delta t$ and that there are no \n",
    "stability constraints.\n",
    "The only problem with using the Crank-Nicolson method rather than the explicit method is that we will need to use three option \n",
    "values in the future $(t+\\Delta t)$ to calculate three option values not $(t)$. This will make the scheme slightly  harder.\n",
    "\n",
    "# Task\n",
    "\n",
    "- Use finite difference to generate $O((\\Delta S)^2,(\\Delta t)^2)$ approximations to the derivatives in the BS PDE.\n"
   ]
  },
  {
   "cell_type": "markdown",
   "metadata": {},
   "source": [
    "Take a Taylor series expansion wrt $t$ around the point $(S,t+1/2\\Delta t)$, we have\n",
    "$$\tV(S,t)=V(S,t+1/2\\Delta t)-\\tfrac12\\Delta t\\frac{\\partial V}{\\partial t}\n",
    "\t+\\tfrac18 (\\Delta t)^2\\frac{\\partial ^2V}{\\partial t^2} +O((\\Delta t)^3) \n",
    "\t\\tag{*}\n",
    "$$\n",
    "and\n",
    "$$\n",
    "V(S,t+\\Delta t)=V(S,t+1/2\\Delta t)+\\tfrac12\\Delta t\\frac{\\partial V}{\\partial t}\n",
    "+\\tfrac18 (\\Delta t)^2\\frac{\\partial ^2V}{\\partial t^2} +O((\\Delta t)^3) .\n",
    "\\tag{**}\n",
    "$$\n",
    "Subtracting (*) away from (**) and dividing by $\\Delta t$ we are left with\n",
    "$$\n",
    "\\frac{V(S,t+\\Delta t)-V(S,t)}{\\Delta t} = \\frac{\\partial V}{\\partial t}\n",
    " +O((\\Delta t)^2) .\n",
    "$$\n",
    "\n",
    "So how do we find $\\frac{\\partial V}{\\partial S}$ at $(S,t+1/2\\Delta t)$ if there is not any grid points at that time level?\n",
    "Next consider \n",
    "$$\\frac{\\partial V}{\\partial S}(S,t)=\\frac{V(S+\\Delta S,t)-V(S-\\Delta S,t)}{2\\Delta S}+O((\\Delta S)^2)$$\n",
    "and \n",
    "$$\\frac{\\partial V}{\\partial S}(S,t+\\Delta t)=\\frac{V(S+\\Delta S,t+\\Delta t)-V(S-\\Delta S,t+\\Delta t)}{2\\Delta S}+O((\\Delta S)^2)$$\n",
    "so\n",
    "$$\\frac{\\partial V}{\\partial S}(S,t+1/2\\Delta t)=\\frac{V(S+\\Delta S,t)-V(S-\\Delta S,t)+V(S+\\Delta S,t+\\Delta t)-V(S-\\Delta S,t+\\Delta t)}{4\\Delta S}+O((\\Delta S)^2,(\\Delta t)^2)$$\n",
    "is a second order approximation at $(S,t+1/2\\Delta t)$. We can do similar for $\\frac{\\partial^2 V}{\\partial S^2}$, and even for example the term\n",
    "$$\n",
    " - r V(S,t+1/2\\Delta t)= -r \\tfrac12 \\big(V(S,t) + V(S,t+\\Delta t) \\big) +O((\\Delta t)^2)\n",
    "$$\n",
    "must be approximated at the half time step.\n"
   ]
  },
  {
   "cell_type": "markdown",
   "metadata": {},
   "source": [
    "# Crank-Nicolson Scheme\n",
    "\n",
    "From our new approximations, in terms of $V^i_j$ we have\n",
    "$$\\frac{\\partial V}{\\partial t}\\approx \\frac{V_j^{i+1}-V_j^i}{\\Delta t}$$\n",
    "$$\\frac{\\partial V}{\\partial S}\\approx \\frac{1}{4\\Delta S}(V^i_{j+1}-\n",
    "V^i_{j-1}+V_{j+1}^{i+1}-\n",
    "V_{j-1}^{i+1})$$\n",
    "$$\\frac{\\partial^2 V}{\\partial S^2}\\approx \\frac{1}{2\\Delta S^2}(V^i_{j+1}-2V_j^i\n",
    "+V^i_{j-1}+V_{j+1}^{i+1}-2V_j^{i+1}\n",
    "+V_{j-1}^{i+1})$$\n",
    "$$V\\approx \\frac{1}{2}(V^i_{j}+V_{j}^{i+1})$$\n",
    "Substituting these approximations into the BS PDE, and given that here the $V^i$ values are all unknown, we rearrange our equations to have the known values on one side and the \n",
    "unknown values on the other.\n",
    "$$\n",
    "  \\tfrac14(\\sigma^2j^2-rj)V_{j-1}^i\n",
    "+(-\\frac{\\sigma^2j^2}{2}-\\frac{r}{2}\n",
    "-\\frac{1}{\\Delta t})V_j^i\n",
    "+\\tfrac14(\\sigma^2j^2+rj)\n",
    "V_{j+1}^i=d_j$$\n",
    "where\n",
    "$$\n",
    "d_=-\\tfrac14(\\sigma^2j^2-rj)V_{j-1}^{i+1}-(-\\frac{\\sigma^2j^2}{2}\n",
    "-\\frac{r}{2}+\\frac{1}{\\Delta t})\n",
    "V_j^{i+1}-\\frac14(\\sigma^2j^2+rj)V_{j+1}^{i+1}\n",
    "$$"
   ]
  },
  {
   "cell_type": "markdown",
   "metadata": {},
   "source": [
    "# Linear Algebra Problem\n",
    "\n",
    "\n",
    "We can rewrite the valuation problem in terms of a matrix as follows:\n",
    "$$\\begin{pmatrix}\n",
    "b_0&c_0&0&0&.&.&.&.&0\\\\\n",
    "a_1&b_1&c_1&0&.&.&.&.&.\\\\\n",
    "0&a_2&b_2&c_2&0&.&.&.&.\\\\\n",
    ".&.&a_3&b_3&c_3&.&.&.&.\\\\\n",
    ".&.&.&.&.&.&.&.&.\\\\\n",
    ".&.&.&.&a_j&b_j&c_j&.&.\\\\\n",
    ".&.&.&.&.&.&.&.&.\\\\\n",
    "0&.&.&.&.&.&.&a_{jmax}&b_{jmax}\n",
    "\\end{pmatrix}\n",
    "\\begin{pmatrix}\n",
    "V_0^i\\\\V_1^i\\\\V_2^i\\\\V_3^i\\\\.\\\\.\\\\V_{jmax-1}^i\\\\V_{jmax}^i\n",
    "\\end{pmatrix}\n",
    "=\\begin{pmatrix}\n",
    "d_0^i\\\\d_1^i\\\\d_2^i\\\\d_3^i\\\\.\\\\.\\\\d_{jmax-1}^i\\\\d_{jmax}^i\n",
    "\\end{pmatrix}\n",
    "$$\n",
    "where for $1\\leq j <jMax$ we have:\n",
    "$$a_j=\\tfrac14(\\sigma^2j^2-rj)$$\n",
    "$$b_j=-\\frac{\\sigma^2j^2}{2}-\\frac{r}{2}-\\frac{1}{\\Delta t}$$\n",
    "$$c_j=\\tfrac14(\\sigma^2j^2+rj)$$\n",
    "$$d_j=-\\tfrac14(\\sigma^2j^2-rj)V_{j-1}^{i+1}-(-\\frac{\\sigma^2j^2}{2}-\\frac{r}{2}+\\frac{1}{\\Delta\n",
    "t})V_j^{i+1}-\\tfrac14(\\sigma^2j^2+rj)V_{j+1}^{i+1}\n",
    "$$\n",
    "For $j=0$ and $j=jMax$, we will need to use the boundary conditions of the problem.\n",
    "\n",
    "First consider the payoff at expiry $t=T$, we have $V(S,T)= \\max(X-S,0)$ so this can be written\n",
    "$$\n",
    "V_j^{imax} = \\max(X - S_j , 0).\n",
    "$$\n",
    "For put option, at $S=0$, we have $V_0^i = X e^{-r(T-i\\Delta t)}$ so to convert into matrix form we write\n",
    "$$\n",
    "b_0 V_0^i +c_0 V_1^i = d_0\n",
    "$$\n",
    "and therefore $b_0=1$, $c_0=0$ and $d_0=Xe^{-r(T-i\\Delta t)}$.\n",
    "\n",
    "Now at upper boundary $V_{jmax}^i = 0$ so we write \n",
    "$$\n",
    "a_{jmax} V_{jmax-1}^i +b_{jmax} V_{jmax}^i = d_{jmax}\n",
    "$$\n",
    "and therefore $a_{jmax}=0$, $b_{jmax}=0$ and $d_{jmax}=0$.\n"
   ]
  },
  {
   "cell_type": "markdown",
   "metadata": {},
   "source": [
    "# Matrix Form\n",
    "\n",
    "The matrix problem to solve is therefore\n",
    "$$\n",
    "A \\boldsymbol{V^i} = \\boldsymbol{d^{i+1}}\n",
    "$$\n",
    "where $\\boldsymbol{d^{i+1}}$ depends on the value function $V$ at $t+\\Delta t$.\n",
    "Note that this matrix is extremely sparse -- there are only 3 non zero diagonals."
   ]
  },
  {
   "cell_type": "code",
   "execution_count": 1,
   "metadata": {},
   "outputs": [],
   "source": [
    "# To get started import some libraries\n",
    "import numpy\n",
    "import scipy\n",
    "import matplotlib.pyplot as plt"
   ]
  },
  {
   "cell_type": "code",
   "execution_count": 2,
   "metadata": {},
   "outputs": [],
   "source": [
    "# setup the parameters\n",
    "sigma = 0.4\n",
    "r = 0.05\n",
    "X = 2\n",
    "T = 1\n",
    "imax = 4\n",
    "jmax = 4"
   ]
  },
  {
   "cell_type": "code",
   "execution_count": 3,
   "metadata": {},
   "outputs": [],
   "source": [
    "## calculate the step size and then setup storage for the value\n",
    "dS = 2*X / jmax\n",
    "dt = T / imax\n",
    "\n",
    "S = numpy.zeros(jmax+1)\n",
    "t = numpy.zeros(imax+1)\n",
    "vNew = numpy.zeros(jmax+1)\n",
    "vOld = numpy.zeros(jmax+1)\n",
    "\n",
    "# calculate the values of S_j and t^i and check they work as expected\n",
    "for i in range(imax+1):\n",
    "    t[i] = i*dt\n",
    "\n",
    "for j in range(jmax+1):\n",
    "    S[j] = j*dS\n",
    "\n",
    "# first enter the value of the option at expiry\n",
    "for j in range(jmax+1):\n",
    "    vOld[j] = max( X - S[j] , 0.0 )\n",
    "    vNew[j] = max( X - S[j] , 0.0 )"
   ]
  },
  {
   "cell_type": "markdown",
   "metadata": {},
   "source": [
    "# Tasks\n",
    "\n",
    "- setup the matrix problem\n",
    "- solve the matrix using a sparse solver"
   ]
  },
  {
   "cell_type": "markdown",
   "metadata": {},
   "source": [
    "We use diagonal storage to build the matrix, in this case we have a central diagonal ($b_j$) plus $l=1$ lower diagonal ($a_j$) and $u=1$ diagonal above ($c_j$). So we create a $3\\times (jmax+1)$ matrix $AB$ with the following relationship to $A$, \n",
    "$$\n",
    "AB_{u + i - j, j} = A_{i,j}\n",
    "$$\n",
    "Once in this special format we can call the `solve_banded` function.\n",
    "\n",
    "See the [scipy documentation](https://docs.scipy.org/doc/scipy/reference/generated/scipy.linalg.solve_banded.html#scipy.linalg.solve_banded) for more details."
   ]
  },
  {
   "cell_type": "code",
   "execution_count": 4,
   "metadata": {},
   "outputs": [],
   "source": [
    "from scipy.linalg import solve_banded"
   ]
  },
  {
   "cell_type": "code",
   "execution_count": 9,
   "metadata": {},
   "outputs": [
    {
     "name": "stdout",
     "output_type": "stream",
     "text": [
      "[[ 0.      0.      0.0525  0.185   0.3975]\n",
      " [ 1.     -4.105  -4.345  -4.745   1.    ]\n",
      " [ 0.0275  0.135   0.3225  0.      0.    ]]\n"
     ]
    }
   ],
   "source": [
    "A_banded = numpy.zeros(shape=(3,jmax+1))\n",
    "u=1\n",
    "l=1\n",
    "l_and_u = (l, u)\n",
    "\n",
    "# b_0 V_0 + c_0 V_1 = d_0\n",
    "A_banded[1][0] = 1.0 # b_0\n",
    "A_banded[0][1] = 0.0 # c_0\n",
    "# populate middle rows\n",
    "for j in range(1,jmax):\n",
    "    # a_j V_j-1 + b_j V_j + c_i V_j+1 = d_i\n",
    "    A_banded[2][j-1] = 0.25*(sigma*sigma*j*j - r*j) # a_j\n",
    "    A_banded[1][j] = -1./dt - 0.5*sigma*sigma*j*j - 0.5*r # b_j\n",
    "    A_banded[0][j+1] = 0.25*(sigma*sigma*j*j + r*j) # c_j\n",
    "# populate last row\n",
    "# a_jmax V_jmax-1 + b_jmax V_jmax = d_jmax\n",
    "A_banded[2][jmax-1] = 0.0 # a_jmax \n",
    "A_banded[1][jmax] = 1.0 # b_jmax\n",
    "\n",
    "# print banded matrix\n",
    "print(A_banded)"
   ]
  },
  {
   "cell_type": "code",
   "execution_count": 6,
   "metadata": {},
   "outputs": [],
   "source": [
    "for i in range(imax-1,-1,-1):\n",
    "    # Create a vector for multiplication\n",
    "    d = numpy.zeros(jmax+1)\n",
    "    d[0] = X*numpy.exp(-r*(T-i*dt))\n",
    "    for j in range(1,jmax):\n",
    "        aa = 0.25*(sigma*sigma*j*j - r*j) # a_j\n",
    "        bb = 1./dt - 0.5*sigma*sigma*j*j - 0.5*r # b_j + 2./dt\n",
    "        cc = 0.25*(sigma*sigma*j*j + r*j) # c_j\n",
    "        d[j] = - aa*vOld[j-1] - bb*vOld[j] - cc*vOld[j+1]\n",
    "    d[jmax] = 0.0\n",
    "\n",
    "    # Perform sparse matrix-vector multiplication\n",
    "    vNew = solve_banded(l_and_u,A_banded,d)\n",
    "    \n",
    "    vOld = numpy.copy(vNew)"
   ]
  },
  {
   "cell_type": "code",
   "execution_count": 7,
   "metadata": {},
   "outputs": [
    {
     "data": {
      "text/plain": [
       "array([1.90245885, 0.9176262 , 0.19123343, 0.04296388, 0.        ])"
      ]
     },
     "execution_count": 7,
     "metadata": {},
     "output_type": "execute_result"
    }
   ],
   "source": [
    "vNew"
   ]
  },
  {
   "cell_type": "markdown",
   "metadata": {},
   "source": [
    "# Tasks:\n",
    "    \n",
    "- Try different values of `imax` and `jmax` -- what do you notice?\n",
    "- Put your algorithm in a function, and return the solution:\n",
    "    - Parameters: `sigma`, `r`, `X`, `T`, `imax`, `jmax`\n",
    "    - return: `vNew`, `S`\n",
    "- Try plotting the solution $V(S,t=0)$ against $S$ for different values of $imax$ and $jmax$"
   ]
  },
  {
   "cell_type": "markdown",
   "metadata": {},
   "source": [
    "# Stability and Convergence of the Scheme\n",
    "\n",
    "Crank-Nicolson is stable (although prone to *ringing*) and second order convergent.\n"
   ]
  },
  {
   "cell_type": "markdown",
   "metadata": {},
   "source": [
    "# Tasks\n",
    "\n",
    "\n",
    "- derive the truncation errors of the scheme\n",
    "- by choosing different values of $\\Delta t$ and $\\Delta S$, verify the convergence rate of the method\n",
    "- analyse the errors, comparing with the analytic solution \n",
    "- try interpolation techniques to get the values inbetween the grid points.\n",
    "- use `numba` to speed up your code"
   ]
  }
 ],
 "metadata": {
  "kernelspec": {
   "display_name": "Python 3",
   "language": "python",
   "name": "python3"
  },
  "language_info": {
   "codemirror_mode": {
    "name": "ipython",
    "version": 3
   },
   "file_extension": ".py",
   "mimetype": "text/x-python",
   "name": "python",
   "nbconvert_exporter": "python",
   "pygments_lexer": "ipython3",
   "version": "3.11.7"
  }
 },
 "nbformat": 4,
 "nbformat_minor": 2
}
