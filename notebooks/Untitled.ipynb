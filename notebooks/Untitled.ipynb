{
 "cells": [
  {
   "cell_type": "code",
   "execution_count": 2,
   "id": "959db6a7-1bde-4c62-8cf1-ae4a8379b5af",
   "metadata": {},
   "outputs": [
    {
     "data": {
      "text/plain": [
       "[0, 1, 1, 1, 1, 1, 1]"
      ]
     },
     "execution_count": 2,
     "metadata": {},
     "output_type": "execute_result"
    }
   ],
   "source": [
    "def expMod( a, b, N ):\n",
    "    # Compute a^b mod N\n",
    "    result = 1\n",
    "    crntFactor = a\n",
    "    while(b > 0):\n",
    "        if( b % 2 == 1 ):\n",
    "            result = (result * crntFactor) % N\n",
    "            \n",
    "        crntFactor = (crntFactor * crntFactor) % N\n",
    "        b = b // 2\n",
    "        \n",
    "    return( result )\n",
    "\n",
    "# Do a small test\n",
    "myPrime = 7\n",
    "[expMod(a, myPrime-1, myPrime) for a in range(myPrime)]"
   ]
  },
  {
   "cell_type": "code",
   "execution_count": 3,
   "id": "a3358e3b-db94-424e-9afe-d001b1f8ff68",
   "metadata": {},
   "outputs": [
    {
     "ename": "NameError",
     "evalue": "name 'random' is not defined",
     "output_type": "error",
     "traceback": [
      "\u001b[0;31m---------------------------------------------------------------------------\u001b[0m",
      "\u001b[0;31mNameError\u001b[0m                                 Traceback (most recent call last)",
      "Cell \u001b[0;32mIn[3], line 1\u001b[0m\n\u001b[0;32m----> 1\u001b[0m random()\n",
      "\u001b[0;31mNameError\u001b[0m: name 'random' is not defined"
     ]
    }
   ],
   "source": [
    "random()"
   ]
  },
  {
   "cell_type": "code",
   "execution_count": 4,
   "id": "8e2c6c0f-15c7-4686-be2d-3532c6554c5a",
   "metadata": {},
   "outputs": [],
   "source": [
    "import random"
   ]
  },
  {
   "cell_type": "code",
   "execution_count": 6,
   "id": "c9934dc4-9325-4ada-b2fa-8580d8fd6011",
   "metadata": {},
   "outputs": [
    {
     "data": {
      "text/plain": [
       "0.9379616282514818"
      ]
     },
     "execution_count": 6,
     "metadata": {},
     "output_type": "execute_result"
    }
   ],
   "source": [
    "random.random()"
   ]
  },
  {
   "cell_type": "code",
   "execution_count": null,
   "id": "44a711bb-008e-49ca-b113-5e54a21ca4bb",
   "metadata": {},
   "outputs": [],
   "source": []
  }
 ],
 "metadata": {
  "kernelspec": {
   "display_name": "Python [conda env:base] *",
   "language": "python",
   "name": "conda-base-py"
  },
  "language_info": {
   "codemirror_mode": {
    "name": "ipython",
    "version": 3
   },
   "file_extension": ".py",
   "mimetype": "text/x-python",
   "name": "python",
   "nbconvert_exporter": "python",
   "pygments_lexer": "ipython3",
   "version": "3.12.2"
  }
 },
 "nbformat": 4,
 "nbformat_minor": 5
}
