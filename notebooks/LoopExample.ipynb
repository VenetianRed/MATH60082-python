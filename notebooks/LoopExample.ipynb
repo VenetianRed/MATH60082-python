{
 "cells": [
  {
   "cell_type": "markdown",
   "metadata": {},
   "source": [
    "## Spotting Bugs: Part 1"
   ]
  },
  {
   "cell_type": "markdown",
   "metadata": {},
   "source": [
    "We want to calculate\n",
    "$$\n",
    " I = \\sum_{i=0}^{10} f(x_i), \\quad \\quad x_i = i\\times 0.1  \n",
    "$$\n",
    "where $x$ varies in steps of 0.1 over the interval $x\\in[0,1]$. If we define \n",
    "$$\n",
    " f(x) = 1\n",
    "$$\n",
    "then the sum above will count the number of points $x_i$."
   ]
  },
  {
   "cell_type": "code",
   "execution_count": 1,
   "metadata": {},
   "outputs": [
    {
     "data": {
      "text/plain": [
       "[1, 1, 1, 1, 1, 1, 1, 1, 1, 1, 1]"
      ]
     },
     "execution_count": 1,
     "metadata": {},
     "output_type": "execute_result"
    }
   ],
   "source": [
    "def f(x):\n",
    "    return( 1 )\n",
    "\n",
    "# Do a small test\n",
    "xVec = [0.1*i for i in range(11)] # the x_i\n",
    "[f(x) for x in xVec] # the terms in the sum"
   ]
  },
  {
   "cell_type": "markdown",
   "metadata": {},
   "source": [
    "Now we try the loop from lecture. If it calculated the sum above correctly, it should give 11, as we evaluate $f(x)$ at the 11 points 0, 0.1, 0.2 $\\dots$ 1.0, but it doesn't: it gives 12 instead becasue it adds $f(1.1)$ into the sum."
   ]
  },
  {
   "cell_type": "code",
   "execution_count": 2,
   "metadata": {},
   "outputs": [
    {
     "name": "stdout",
     "output_type": "stream",
     "text": [
      "12\n"
     ]
    }
   ],
   "source": [
    "# Try a python version of the loop from the lecture notes\n",
    "x = 0\n",
    "sum = f(x)\n",
    "while(x <= 1):\n",
    "    x = x + 0.1\n",
    "    sum = sum + f(x)\n",
    "    \n",
    "print( sum )"
   ]
  },
  {
   "cell_type": "markdown",
   "metadata": {},
   "source": [
    "## Spotting Bugs: Part 2"
   ]
  },
  {
   "cell_type": "markdown",
   "metadata": {},
   "source": [
    "Now we want to calculate\n",
    "$$\n",
    " I_N = \\sum_{i=0}^{N} f(x_i), \\quad \\quad x_i = i\\times (1/N)  \n",
    "$$\n",
    "so that we take $N$ steps across the closed interval $[0,1]$. \n",
    "\n",
    "As above, we'll define \n",
    "$\n",
    " f(x) = 1\n",
    "$\n",
    "so that the sum $I_N$ will count the number of points $x_i$. That is, if $f(x) = 1$ for all $x \\in [0,1]$, then $I_N = N + 1.$"
   ]
  },
  {
   "cell_type": "code",
   "execution_count": 3,
   "metadata": {},
   "outputs": [
    {
     "data": {
      "text/plain": [
       "11"
      ]
     },
     "execution_count": 3,
     "metadata": {},
     "output_type": "execute_result"
    }
   ],
   "source": [
    "# This time we'll package the loop up into a function \n",
    "# that we can test for various value of N\n",
    "def sumLoop(N):\n",
    "    h = 1/N\n",
    "    x = 0\n",
    "    sum = 0\n",
    "    while(x <= 1):\n",
    "        sum = sum + f(x)\n",
    "        x = x + h\n",
    "\n",
    "    return( sum )\n",
    "\n",
    "# Compute the sum from Part 1 \n",
    "sumLoop(10)"
   ]
  },
  {
   "cell_type": "markdown",
   "metadata": {},
   "source": [
    "So the revised loop works for $N = 10$, but, as the next example shows, it doesn't work for all vales of $N$:"
   ]
  },
  {
   "cell_type": "code",
   "execution_count": 4,
   "metadata": {},
   "outputs": [
    {
     "data": {
      "text/plain": [
       "100"
      ]
     },
     "execution_count": 4,
     "metadata": {},
     "output_type": "execute_result"
    }
   ],
   "source": [
    "sumLoop(100)"
   ]
  },
  {
   "cell_type": "markdown",
   "metadata": {},
   "source": [
    "The problem is that $0.01$ isn't represented exactly by python's `float` type and so the value of `x` on the $j$-th pass through the loop isn't exactly equal to $j \\times 0.01$. This is illustrated below, by a loop that prints `x - j/100` when `x` is near 1.0."
   ]
  },
  {
   "cell_type": "code",
   "execution_count": 5,
   "metadata": {},
   "outputs": [
    {
     "name": "stdout",
     "output_type": "stream",
     "text": [
      "nPasses = 90, x - nPasses/100 = 5.551115123125783e-16\n",
      "nPasses = 91, x - nPasses/100 = 5.551115123125783e-16\n",
      "nPasses = 92, x - nPasses/100 = 5.551115123125783e-16\n",
      "nPasses = 93, x - nPasses/100 = 5.551115123125783e-16\n",
      "nPasses = 94, x - nPasses/100 = 6.661338147750939e-16\n",
      "nPasses = 95, x - nPasses/100 = 6.661338147750939e-16\n",
      "nPasses = 96, x - nPasses/100 = 6.661338147750939e-16\n",
      "nPasses = 97, x - nPasses/100 = 6.661338147750939e-16\n",
      "nPasses = 98, x - nPasses/100 = 6.661338147750939e-16\n",
      "nPasses = 99, x - nPasses/100 = 6.661338147750939e-16\n",
      "nPasses = 100, x - nPasses/100 = 6.661338147750939e-16\n"
     ]
    },
    {
     "data": {
      "text/plain": [
       "100"
      ]
     },
     "execution_count": 5,
     "metadata": {},
     "output_type": "execute_result"
    }
   ],
   "source": [
    "# A revised loop that prints output in late stages of te computation\n",
    "def sumLoopWithVariableStep(N):\n",
    "    h = 1/N\n",
    "    x = 0\n",
    "    sum = 0\n",
    "    nPasses = 0 # counts passes through the loop\n",
    "    while(x <= 1):\n",
    "        sum = sum + f(x)\n",
    "        x = x + h\n",
    "        nPasses = nPasses + 1 \n",
    "\n",
    "        if( x >= 0.9 ):\n",
    "            print( \"nPasses = {0}, x - nPasses/{1} = {2}\".format( nPasses, N, x - (nPasses/N) ) )\n",
    "\n",
    "    return( sum )\n",
    "\n",
    "# See what happens when N = 100\n",
    "sumLoopWithVariableStep( 100 )"
   ]
  },
  {
   "cell_type": "markdown",
   "metadata": {},
   "source": [
    "You can see that at the end of the 100th pass through the loop, `x` is just slightly larger than 1.0 and so the test at the top the `while` loop, `(x <= 1)`, fails and we never add the final contribution, which should correspond to $f(x_{100}) = f(1) = 1$. "
   ]
  },
  {
   "cell_type": "markdown",
   "metadata": {},
   "source": [
    "#### Fixing the problem"
   ]
  },
  {
   "cell_type": "markdown",
   "metadata": {},
   "source": [
    "The safest way to manage the loop is to avoid floating-point arithmetic altogether and just count steps:"
   ]
  },
  {
   "cell_type": "code",
   "execution_count": 6,
   "metadata": {},
   "outputs": [
    {
     "data": {
      "text/plain": [
       "101"
      ]
     },
     "execution_count": 6,
     "metadata": {},
     "output_type": "execute_result"
    }
   ],
   "source": [
    "def sumLoopWithCounter(N):\n",
    "    h = 1/N\n",
    "    x = 0\n",
    "    sum = 0\n",
    "    nSteps = 0\n",
    "    while(nSteps <= N):\n",
    "        sum = sum + f(x)\n",
    "        x = x + h\n",
    "        nSteps = nSteps + 1 \n",
    "\n",
    "    return( sum )\n",
    "\n",
    "# Compute the sum that went wrong above. \n",
    "sumLoopWithCounter(100)"
   ]
  }
 ],
 "metadata": {
  "kernelspec": {
   "display_name": "Python [conda env:base] *",
   "language": "python",
   "name": "conda-base-py"
  },
  "language_info": {
   "codemirror_mode": {
    "name": "ipython",
    "version": 3
   },
   "file_extension": ".py",
   "mimetype": "text/x-python",
   "name": "python",
   "nbconvert_exporter": "python",
   "pygments_lexer": "ipython3",
   "version": "3.12.2"
  }
 },
 "nbformat": 4,
 "nbformat_minor": 4
}
