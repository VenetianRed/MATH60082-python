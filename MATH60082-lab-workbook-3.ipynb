{
 "cells": [
  {
   "cell_type": "markdown",
   "metadata": {},
   "source": [
    "<div style='text-align: center;'>\n",
    "<img src=\"images/math60082-banner.png\" alt=\"image\" width=\"80%\" height=\"auto\">\n",
    "</div>"
   ]
  },
  {
   "cell_type": "markdown",
   "metadata": {},
   "source": [
    "# Lab Workbook - Week 3\n",
    "## Dr P. V. Johnson\n",
    "## Department of Mathematics"
   ]
  },
  {
   "cell_type": "markdown",
   "metadata": {},
   "source": [
    "Functions required for the tasks:"
   ]
  },
  {
   "cell_type": "code",
   "execution_count": 2,
   "metadata": {},
   "outputs": [],
   "source": [
    "from math import exp\n",
    "def eulersMethod(n,a,b,alpha):\n",
    "    h=(b-a)/n\n",
    "    x=a\n",
    "    w=alpha\n",
    "    for i in range(0,n):\n",
    "        x = a + i*h\n",
    "        w = w + h*(x*exp(3*x)-2.0*w)\n",
    "    return w"
   ]
  },
  {
   "cell_type": "markdown",
   "metadata": {},
   "source": [
    "# Tasks\n",
    "\n",
    "- Run the program and check the value with $n = 10$."
   ]
  },
  {
   "cell_type": "code",
   "execution_count": null,
   "metadata": {},
   "outputs": [],
   "source": []
  },
  {
   "cell_type": "markdown",
   "metadata": {},
   "source": [
    "\n",
    "- Print out the final value for $n = 10, 20, 40, 80, ...$, what happens?"
   ]
  },
  {
   "cell_type": "code",
   "execution_count": null,
   "metadata": {},
   "outputs": [],
   "source": []
  },
  {
   "cell_type": "markdown",
   "metadata": {},
   "source": [
    "\n",
    "- Calculate the difference between the results\n",
    "$$\n",
    "\\Delta_{n,m} = w_n - w_m\n",
    "$$\n",
    "with $n = 10$ and $m = 20$, $n = 20$ and $m = 40$ and so on."
   ]
  },
  {
   "cell_type": "code",
   "execution_count": null,
   "metadata": {},
   "outputs": [],
   "source": []
  },
  {
   "cell_type": "markdown",
   "metadata": {},
   "source": [
    "\n",
    "- Can you predict how $\\Delta_{n,m}$ behaves for large $n$ and $m$?"
   ]
  },
  {
   "cell_type": "markdown",
   "metadata": {},
   "source": []
  },
  {
   "cell_type": "markdown",
   "metadata": {},
   "source": [
    "- Try implementing the RK2 method:\n",
    "$$\n",
    "k_1 =  f(x_i,w_i)\n",
    "$$\n",
    "$$\n",
    "k_2 =  f(x_i+h,w_i+h\\cdot  k_1)\n",
    "$$\n",
    "$$\n",
    "w_{i+1} = w_i + 0.5\\cdot h(k_1+k_2)\n",
    "$$"
   ]
  },
  {
   "cell_type": "code",
   "execution_count": null,
   "metadata": {},
   "outputs": [],
   "source": []
  },
  {
   "cell_type": "markdown",
   "metadata": {},
   "source": [
    "\n",
    "- What is the empirical estimate for the convergence of this method?"
   ]
  },
  {
   "cell_type": "code",
   "execution_count": null,
   "metadata": {},
   "outputs": [],
   "source": []
  },
  {
   "cell_type": "markdown",
   "metadata": {},
   "source": [
    "- check that you can plot out a simple graph of $x$ vs $y$ when $y(x)=sin(x)$."
   ]
  },
  {
   "cell_type": "code",
   "execution_count": null,
   "metadata": {},
   "outputs": [],
   "source": []
  },
  {
   "cell_type": "markdown",
   "metadata": {},
   "source": [
    "Function definitions for the next part:"
   ]
  },
  {
   "cell_type": "code",
   "execution_count": null,
   "metadata": {},
   "outputs": [],
   "source": [
    "from scipy.special import ndtr as ND\n",
    "\n",
    "def qFunc(t,T,kappa,theta,sigma):\n",
    "    return 0.0\n",
    "\n",
    "def kSquaredFunc(t,T,kappa,theta,sigma):\n",
    "    return 0.0\n",
    "\n",
    "def nFunc(r,t,T,kappa,theta,sigma):\n",
    "    return 0.0\n",
    "\n",
    "def mFunc(r,t,T,kappa,theta,sigma):\n",
    "    return 0.0\n",
    "\n",
    "def vSquaredFunc(t,T,kappa,theta,sigma):\n",
    "    return 0.0\n",
    "\n",
    "def fFunc(r,t,T,kappa,theta,sigma):\n",
    "    return 0.0\n",
    "\n",
    "def hFunc(r,t,T,kappa,theta,sigma):\n",
    "    return 0.0\n",
    "\n",
    "def PFunc(r,t,T,kappa,theta,sigma):\n",
    "    return 0.0\n",
    "\n",
    "def VFunc(r,t,T,kappa,theta,sigma):\n",
    "    return 1.0"
   ]
  },
  {
   "cell_type": "markdown",
   "metadata": {},
   "source": [
    "- complete the functions $q$, $k^2$, $m$, $n$, $v^2$, $f$, $P$ and $V$ to solve for the option"
   ]
  },
  {
   "cell_type": "code",
   "execution_count": null,
   "metadata": {},
   "outputs": [],
   "source": []
  },
  {
   "cell_type": "markdown",
   "metadata": {},
   "source": [
    "- edit the functions to solve the version given in your coursework, save the figure of your results, upload and complete the coursework task!"
   ]
  }
 ],
 "metadata": {
  "kernelspec": {
   "display_name": "Python 3",
   "language": "python",
   "name": "python3"
  },
  "language_info": {
   "codemirror_mode": {
    "name": "ipython",
    "version": 3
   },
   "file_extension": ".py",
   "mimetype": "text/x-python",
   "name": "python",
   "nbconvert_exporter": "python",
   "pygments_lexer": "ipython3",
   "version": "3.11.7"
  }
 },
 "nbformat": 4,
 "nbformat_minor": 2
}
