{
 "cells": [
  {
   "cell_type": "markdown",
   "metadata": {},
   "source": [
    "<div style='text-align: center;'>\n",
    "<img src=\"images/math60082-banner.png\" alt=\"image\" width=\"80%\" height=\"auto\">\n",
    "</div>"
   ]
  },
  {
   "cell_type": "markdown",
   "metadata": {},
   "source": [
    "# Lab Workbook - Week 6"
   ]
  },
  {
   "cell_type": "code",
   "execution_count": 2,
   "metadata": {},
   "outputs": [],
   "source": [
    "import matplotlib.pyplot as plt\n",
    "import numpy\n",
    "rng = numpy.random.default_rng(seed=0)"
   ]
  },
  {
   "cell_type": "code",
   "execution_count": 3,
   "metadata": {},
   "outputs": [
    {
     "name": "stderr",
     "output_type": "stream",
     "text": [
      "C:\\Users\\MBBXDPJ2\\AppData\\Local\\Temp\\ipykernel_14268\\508258085.py:38: RuntimeWarning: invalid value encountered in sqrt\n",
      "  nu_sqrt=numpy.sqrt(nu_t[k])\n"
     ]
    }
   ],
   "source": [
    "# stock parameters\n",
    "S_0 = 98.31 # initial stick price\n",
    "q = 0.01 # dividend yield\n",
    "\n",
    "# call option contract parameters\n",
    "X = 100 # strike price\n",
    "T = 1.0 # time to expiry\n",
    "\n",
    "# market parameters\n",
    "r = 0.03 # risk free interest rate\n",
    "\n",
    "# model parameters\n",
    "kappa_nu = 1.5 # mean reversion parameter\n",
    "theta_nu = 0.06 # long term value of the variance\n",
    "nu_0 = 0.04 # initial variance\n",
    "xi_nu = 0.4 # so called volatility of volatility\n",
    "rho = -0.5 # correlation\n",
    "\n",
    "N=1000\n",
    "K=200\n",
    "\n",
    "dt = T/K\n",
    "\n",
    "dW1 , dW2 = rng.multivariate_normal( [ 0.0 , 0.0 ] , [ [ dt , rho*dt ] , [ rho*dt , dt] ] , size = (K,N) ).T\n",
    "\n",
    "# create a path variable for S and nu\n",
    "time = numpy.zeros(K+1)\n",
    "S_t = numpy.zeros(K+1)\n",
    "nu_t = numpy.zeros(K+1)\n",
    "\n",
    "# reset the paths by initialising first value\n",
    "S_t[0] = S_0\n",
    "nu_t[0] = nu_0\n",
    "\n",
    "# path number\n",
    "i=0\n",
    "for k in range(0,K):\n",
    "    nu_sqrt=numpy.sqrt(nu_t[k])\n",
    "    time[k+1] = (k+1)*dt\n",
    "    S_t[k+1] = S_t[k] + (r-q)*S_t[k]*dt + nu_sqrt*S_t[k]*dW1[i][k]\n",
    "    nu_t[k+1] = nu_t[k] + kappa_nu*(theta_nu - nu_t[k])*dt + xi_nu*nu_sqrt*dW2[i][k]\n",
    "    "
   ]
  },
  {
   "cell_type": "markdown",
   "metadata": {},
   "source": [
    "\n",
    "# Tasks\n",
    "\n",
    "1. Run the code for path $i=1,2,...$ and plot them on the graph -- do you encounter any problems?"
   ]
  },
  {
   "cell_type": "code",
   "execution_count": null,
   "metadata": {},
   "outputs": [],
   "source": []
  },
  {
   "cell_type": "markdown",
   "metadata": {},
   "source": [
    "2. If $\\nu_t<0$ is causing problems, enter a *reflecting* boundary condition to your path calculation, that is\n",
    "$$\\nu^{k+1} =\\left\\{ \\begin{array}{cc}\n",
    "\\nu^k +\\kappa(\\theta-\\nu^k)\\Delta t + \\xi \\sqrt{\\nu^k} \\Delta W_2 &\\text{ if } \\quad \\nu^k + d\\nu^k \\geq 0\\\\\n",
    "-(\\nu^k +\\kappa(\\theta-\\nu^k)\\Delta t + \\xi \\sqrt{\\nu^k} \\Delta W_2) &\\text{ if }\\quad \\nu^k + d\\nu^k < 0\n",
    "\\end{array}\\right.\n",
    "$$  \n"
   ]
  },
  {
   "cell_type": "code",
   "execution_count": null,
   "metadata": {},
   "outputs": [],
   "source": []
  },
  {
   "cell_type": "markdown",
   "metadata": {},
   "source": [
    "3. Simulate $N$ paths and calculate the average payoff of a call option to estimate the call option value"
   ]
  },
  {
   "cell_type": "code",
   "execution_count": null,
   "metadata": {},
   "outputs": [],
   "source": []
  },
  {
   "cell_type": "markdown",
   "metadata": {},
   "source": [
    "4. Analyse the results for different values of $N$ and $K$, what can you say about the effect of increasing or decreasing each of the numerical parameters.\n",
    "\n"
   ]
  },
  {
   "cell_type": "code",
   "execution_count": null,
   "metadata": {},
   "outputs": [],
   "source": []
  },
  {
   "cell_type": "markdown",
   "metadata": {},
   "source": [
    "5. For the model parameters: $S_0 = 98.31$, $q = 0.01$, $X = 100$, $T = 1$, $r=0.03$, $\\kappa = 1.5$, $\\theta = 0.06$, $\\nu_0 = 0.04$, $\\xi = 0.4$ and $\\rho = -0.5 $ the analytic result found using a numerical library is $C(S_0,t=0)=8.2623461$.\n",
    "\n",
    "What can you say about the errors of your Monte Carlo vs this value?"
   ]
  },
  {
   "cell_type": "code",
   "execution_count": null,
   "metadata": {},
   "outputs": [],
   "source": []
  },
  {
   "cell_type": "markdown",
   "metadata": {},
   "source": [
    "## Path Dependent Options"
   ]
  },
  {
   "cell_type": "code",
   "execution_count": 4,
   "metadata": {},
   "outputs": [],
   "source": [
    "# SDE parameters\n",
    "S_0 = 104.82\n",
    "sigma=0.4\n",
    "r=0.03\n",
    "\n",
    "# contract parameters\n",
    "T=1.\n",
    "X=30.\n",
    "K=20\n",
    "\n",
    "# numerical parameters\n",
    "N=1000"
   ]
  },
  {
   "cell_type": "markdown",
   "metadata": {},
   "source": [
    "6. Program your solution into a function"
   ]
  },
  {
   "cell_type": "code",
   "execution_count": null,
   "metadata": {},
   "outputs": [],
   "source": []
  },
  {
   "cell_type": "markdown",
   "metadata": {},
   "source": [
    "7. Analyse the effect of $N$ and $K$ on your results"
   ]
  },
  {
   "cell_type": "code",
   "execution_count": null,
   "metadata": {},
   "outputs": [],
   "source": []
  },
  {
   "cell_type": "markdown",
   "metadata": {},
   "source": [
    "8. There is no obvious analystic solution for the discrete case $K=20$ -- are you able to estimate the error even if you don't know the real solution? "
   ]
  },
  {
   "cell_type": "code",
   "execution_count": null,
   "metadata": {},
   "outputs": [],
   "source": []
  },
  {
   "cell_type": "markdown",
   "metadata": {},
   "source": [
    "9. Choosing the largest value of $N$ you can feasibly run given the calculation time, state a confidence interval for the result."
   ]
  },
  {
   "cell_type": "code",
   "execution_count": null,
   "metadata": {},
   "outputs": [],
   "source": []
  },
  {
   "cell_type": "markdown",
   "metadata": {},
   "source": []
  }
 ],
 "metadata": {
  "kernelspec": {
   "display_name": "Python [conda env:base] *",
   "language": "python",
   "name": "conda-base-py"
  },
  "language_info": {
   "codemirror_mode": {
    "name": "ipython",
    "version": 3
   },
   "file_extension": ".py",
   "mimetype": "text/x-python",
   "name": "python",
   "nbconvert_exporter": "python",
   "pygments_lexer": "ipython3",
   "version": "3.12.2"
  }
 },
 "nbformat": 4,
 "nbformat_minor": 4
}
