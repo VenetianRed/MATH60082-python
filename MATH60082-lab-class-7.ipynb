{
 "cells": [
  {
   "cell_type": "markdown",
   "metadata": {},
   "source": [
    "<div style='text-align: center;'>\n",
    "<img src=\"images/math60082-banner.png\" alt=\"image\" width=\"80%\" height=\"auto\">\n",
    "</div>"
   ]
  },
  {
   "cell_type": "markdown",
   "metadata": {},
   "source": [
    "# Lab Class - Week 7\n",
    "\n",
    "## Dr P. V. Johnson\n",
    "## Department of Mathematics"
   ]
  },
  {
   "cell_type": "markdown",
   "metadata": {},
   "source": [
    "# This Week\n",
    "\n",
    "- Demo 7.1 Binomial Trees\n",
    "- Demo 7.2 Evaluating Convergence Properties"
   ]
  },
  {
   "cell_type": "markdown",
   "metadata": {},
   "source": [
    "# Demo 7.1: Binomial Trees\n",
    "\n",
    "The two most popular models for using binomial trees to price options are \n",
    "- Cox, Ross and Rubinstein (1977) (CRR for short) whose extra degree of freedom is to set\n",
    "$$\n",
    "ud=1\n",
    "$$\n",
    "thus\n",
    "$$\n",
    "u=e^{\\sigma \\sqrt{\\Delta t}},\\quad d=e^{-\\sigma\\sqrt{\\Delta t}},\\quad \n",
    "q=\\frac{e^{r\\Delta t}-d}{u-d}\n",
    "$$\n",
    "\n",
    "- Rendleman and Bartter (1979) who choose:\n",
    "$$q=\\frac12$$\n",
    "and so \n",
    "$$u=e^{(r-\\tfrac12\\sigma^2)\\Delta t+\\sigma\\sqrt{\\Delta t}},\\quad \n",
    "d=e^{(r-\\tfrac12\\sigma^2)\\Delta t-\\sigma \\sqrt{\\Delta t}}.\\quad\n",
    "$$"
   ]
  },
  {
   "cell_type": "markdown",
   "metadata": {},
   "source": [
    "We wish to generate a stock price tree, so denote the value of the underlying asset after timestep $i$ and upstate $j$ by $S_{ij}$ and we have that:\n",
    "$$S_{ij}=S_0u^jd^{i-j}$$"
   ]
  },
  {
   "cell_type": "code",
   "execution_count": 1,
   "metadata": {},
   "outputs": [],
   "source": [
    "import matplotlib.pyplot as plt\n",
    "import numpy"
   ]
  },
  {
   "cell_type": "markdown",
   "metadata": {},
   "source": [
    " First declare and initialise the Black Scholes parameters for your chosen problem. Here we are going to value a \n",
    "Black Scholes vanilla European call option with, $S_0=100$, $X=100$, $T=1$, $r=0.06$ and $\\sigma=0.2$, so declare variables\n",
    "for each of these. Next add in an integer to store the number of steps in the tree and call it $n$.\n",
    "Finally add in some local variable to describe the tree, so we have the timestep length $dt$,\n",
    "$u$, $d$ and $q$. "
   ]
  },
  {
   "cell_type": "code",
   "execution_count": 2,
   "metadata": {},
   "outputs": [
    {
     "name": "stdout",
     "output_type": "stream",
     "text": [
      "dt= 0.3333333333333333 ;u= 1.1224009024456676 ;d= 0.8909472522884107 ;q= 0.5584448015856557\n"
     ]
    }
   ],
   "source": [
    "# stock parameters\n",
    "S_0 = 100 # initial stick price\n",
    "\n",
    "# call option contract parameters\n",
    "X = 100 # strike price\n",
    "T = 1.0 # time to expiry\n",
    "\n",
    "# market parameters\n",
    "r = 0.06 # risk free interest rate\n",
    "\n",
    "# model parameters\n",
    "sigma = 0.2 #  volatility\n",
    "\n",
    "# steps in the tree\n",
    "n=3\n",
    "\n",
    "# local stuff\n",
    "dt = T/n\n",
    "u = numpy.exp(sigma*numpy.sqrt(dt))\n",
    "d = 1./u\n",
    "q = (numpy.exp(r*dt) - d)/(u-d)\n",
    "print(\"dt=\",dt,\";u=\",u,\";d=\",d,\";q=\",q)"
   ]
  },
  {
   "cell_type": "markdown",
   "metadata": {},
   "source": [
    "Next we need to create some storage for the values of the stock at each node in the tree. Declare an array `stock_tree` with shape $(n+1)\\times(n+1)$, \n",
    "into which we will place our stock price nodes.\n",
    " "
   ]
  },
  {
   "cell_type": "code",
   "execution_count": 3,
   "metadata": {},
   "outputs": [
    {
     "data": {
      "text/plain": [
       "array([[0., 0., 0., 0.],\n",
       "       [0., 0., 0., 0.],\n",
       "       [0., 0., 0., 0.],\n",
       "       [0., 0., 0., 0.]])"
      ]
     },
     "execution_count": 3,
     "metadata": {},
     "output_type": "execute_result"
    }
   ],
   "source": [
    "stock_tree = numpy.zeros(shape=(n+1,n+1))\n",
    "stock_tree"
   ]
  },
  {
   "cell_type": "markdown",
   "metadata": {},
   "source": [
    "Now use a `for` loop and the function `numpy.pow` to input the value of the stock at each node in the tree, \n",
    "where $S_{i,j} \\rightarrow $`stock_tree[i][j]`."
   ]
  },
  {
   "cell_type": "code",
   "execution_count": 4,
   "metadata": {},
   "outputs": [
    {
     "data": {
      "text/plain": [
       "array([[100.        ,   0.        ,   0.        ,   0.        ],\n",
       "       [ 89.09472523, 112.24009024,   0.        ,   0.        ],\n",
       "       [ 79.37870064, 100.        , 125.97837858,   0.        ],\n",
       "       [ 70.72223522,  89.09472523, 112.24009024, 141.39824581]])"
      ]
     },
     "execution_count": 4,
     "metadata": {},
     "output_type": "execute_result"
    }
   ],
   "source": [
    "\n",
    "for i in range(0,n+1):\n",
    "    for j in range(0,i+1):\n",
    "        stock_tree[i][j] = S_0*pow(u,j)*pow(d,i-j)\n",
    "stock_tree"
   ]
  },
  {
   "cell_type": "markdown",
   "metadata": {},
   "source": [
    "Compare the values with those from the example in the lectures."
   ]
  },
  {
   "cell_type": "markdown",
   "metadata": {},
   "source": [
    "Let us generate a simple example so that we can compare results at every stage to something that we can work out on paper. \n",
    " This is an important idea in debugging, to solve the problem and do all of your bug checking on a small scale **before** attempting the full problem."
   ]
  },
  {
   "cell_type": "markdown",
   "metadata": {},
   "source": [
    "Now declare an array which shall hold the values of the option and set it to the same shape as `stock_tree`. Here we use the same relation\n",
    "\n",
    "$V_{i,j} \\rightarrow $`value_tree[i][j]`"
   ]
  },
  {
   "cell_type": "code",
   "execution_count": 5,
   "metadata": {},
   "outputs": [],
   "source": [
    "value_tree = numpy.zeros(shape=(n+1,n+1))"
   ]
  },
  {
   "cell_type": "markdown",
   "metadata": {},
   "source": [
    "Now fill in the final values of the tree, given that we have already first generated the stock tree:\n",
    " $$\n",
    " V_{n,j}=payoff(S_{n,j}),\n",
    " $$\n",
    " where payoff is the appropriate function for the type of option we are solving for."
   ]
  },
  {
   "cell_type": "code",
   "execution_count": 6,
   "metadata": {},
   "outputs": [],
   "source": [
    "for j in range(0,n+1):\n",
    "    value_tree[n][j] = max( stock_tree[n][j] - X , 0.0)"
   ]
  },
  {
   "cell_type": "markdown",
   "metadata": {},
   "source": [
    "Now we need to loop **backwards** through the tree to generate the value at each node using the equation:\n",
    " $$\n",
    " V_{ij}=e^{-r\\Delta t}(qV_{i+1,j+1}+(1-q)V_{i+1,j}).\n",
    " $$\n",
    " "
   ]
  },
  {
   "cell_type": "markdown",
   "metadata": {},
   "source": [
    "# Tasks\n",
    "\n",
    "- Write `for` loops to move backwards through the vector array caculating the value of the option at each node.\n",
    "- Print out the tree to screen (with $n=3$) and compare to the simple example from the notes to check your code is working.\n",
    "- If your values don't match - try to work out why!!\n",
    "- Now print out the value at $(0,0)$ increasing the number of steps in the tree. Do the results look feasible? Compare them against the exact values from the formula.\n",
    "- Create a function returning the value of the binomial tree for a set of given parameters.\n",
    "- Write a code storing two time-levels, and compare (at every stage if needed) with the previous code.\n",
    "- Is it possible to store just one time-level? Try to write a code for this.\n",
    "- Do you notice any difference (time taken for computation) between the codes with different storage requirements?\n",
    "- Try speeding the code up with `numba` or `cython` libraries"
   ]
  },
  {
   "cell_type": "markdown",
   "metadata": {},
   "source": [
    "# Demo 7.2: Evaluating Convergence Properties\n",
    "\n",
    "Taking the code from last time, you could write your binomial code to take the payoff as an argument to the function:"
   ]
  },
  {
   "cell_type": "code",
   "execution_count": 7,
   "metadata": {},
   "outputs": [],
   "source": [
    "def binomialBlackScholes(S_0,T,r,sigma,payoff,n):\n",
    "    # setup\n",
    "    dt = T/n\n",
    "    u = numpy.exp(sigma*numpy.sqrt(dt))\n",
    "    d = 1./u\n",
    "    q = (numpy.exp(r*dt) - d)/(u-d)\n",
    "    stock_tree = numpy.zeros(shape=(n+1,n+1))\n",
    "    value_tree = numpy.zeros(shape=(n+1,n+1))\n",
    "    for i in range(0,n+1):\n",
    "        for j in range(0,i+1):\n",
    "            stock_tree[i][j] = S_0*pow(u,j)*pow(d,i-j)\n",
    "    # terminal conditions\n",
    "    for j in range(0,n+1):\n",
    "        value_tree[n][j] = payoff(stock_tree[n][j])\n",
    "    # solve\n",
    "    for i in range(n-1,-1,-1):\n",
    "        for j in range(0,i+1):\n",
    "            value_tree[i][j] = numpy.exp(-r*dt)*( q*value_tree[i+1][j+1] + (1-q)*value_tree[i+1][j] )\n",
    "    return value_tree[0][0]"
   ]
  },
  {
   "cell_type": "markdown",
   "metadata": {},
   "source": [
    "An example using this code would be:"
   ]
  },
  {
   "cell_type": "code",
   "execution_count": 8,
   "metadata": {},
   "outputs": [],
   "source": [
    "callPayoff = lambda S:max(S-X,0.0)"
   ]
  },
  {
   "cell_type": "code",
   "execution_count": 9,
   "metadata": {},
   "outputs": [
    {
     "name": "stdout",
     "output_type": "stream",
     "text": [
      "11.551973176964253\n"
     ]
    }
   ],
   "source": [
    "print(binomialBlackScholes(S_0,T,r,sigma,callPayoff,3))"
   ]
  },
  {
   "cell_type": "markdown",
   "metadata": {},
   "source": [
    "Now we wish to investigate what happens when $N$ is increasing. Write a loop in your code to output\n",
    "the results of $N$ and the resulting value $V$ to some arrays so they can be plotted."
   ]
  },
  {
   "cell_type": "code",
   "execution_count": 10,
   "metadata": {},
   "outputs": [],
   "source": [
    "no_of_results = 491\n",
    "\n",
    "nArray = numpy.zeros(no_of_results)\n",
    "vArray = numpy.zeros(no_of_results)\n",
    "for i in range(0,no_of_results):\n",
    "    nArray[i] = 10+i\n",
    "    vArray[i] = binomialBlackScholes(S_0,T,r,sigma,callPayoff,int(nArray[i]))"
   ]
  },
  {
   "cell_type": "code",
   "execution_count": 11,
   "metadata": {},
   "outputs": [
    {
     "data": {
      "text/plain": [
       "[<matplotlib.lines.Line2D at 0x7f47909f3a90>]"
      ]
     },
     "execution_count": 11,
     "metadata": {},
     "output_type": "execute_result"
    },
    {
     "data": {
      "image/png": "[encoded data removed]",
      "text/plain": [
       "<Figure size 640x480 with 1 Axes>"
      ]
     },
     "metadata": {},
     "output_type": "display_data"
    }
   ],
   "source": [
    "plt.xlabel('n')\n",
    "plt.ylabel('C(S,t)')\n",
    "plt.plot(nArray,vArray,'.')"
   ]
  },
  {
   "cell_type": "markdown",
   "metadata": {},
   "source": [
    "The pattern can be explained by realising that the nodes at terminal time will either be placed exactly on the strike price, or above/below depending on whether the \n",
    "number of steps is odd or even.  We will see quite a different pattern if you choose $S_0\\neq X$, so for example set $S_0=97.3467$ in your code and rerun the results."
   ]
  },
  {
   "cell_type": "code",
   "execution_count": 12,
   "metadata": {},
   "outputs": [
    {
     "data": {
      "text/plain": [
       "[<matplotlib.lines.Line2D at 0x7f47908526d0>]"
      ]
     },
     "execution_count": 12,
     "metadata": {},
     "output_type": "execute_result"
    },
    {
     "data": {
      "image/png": "[encoded data removed]",
      "text/plain": [
       "<Figure size 640x480 with 1 Axes>"
      ]
     },
     "metadata": {},
     "output_type": "display_data"
    }
   ],
   "source": [
    "no_of_results = 491\n",
    "\n",
    "nArray = numpy.zeros(no_of_results)\n",
    "vArray = numpy.zeros(no_of_results)\n",
    "for i in range(0,no_of_results):\n",
    "    nArray[i] = 10+i\n",
    "    vArray[i] = binomialBlackScholes(97.3467,T,r,sigma,callPayoff,int(nArray[i]))\n",
    "plt.xlabel('n')\n",
    "plt.ylabel('C(S,t)')\n",
    "plt.plot(nArray,vArray,'.')"
   ]
  },
  {
   "cell_type": "markdown",
   "metadata": {},
   "source": [
    "This time we see *humps* as well as an odd-even effect. The humps are\n",
    "again caused by the positioning of the grid nodes relative to the strike price. Although the convergence of the tree is $O(1/n)$, the humps make it very difficult to achieve high \n",
    "accuracy. There are several papers that try to address this, one way is to adjust the position of the nodes and others try to smooth the payoff at maturity to gain smoother convergence."
   ]
  },
  {
   "cell_type": "markdown",
   "metadata": {},
   "source": [
    "# Tasks\n",
    "\n",
    "- Can you estimate the convergence rate?\n",
    "- Assume that the payoff of the option is\n",
    "$$\n",
    "V(S,T) = \\left\\{\\begin{array}{cc}\n",
    "0 & \\text{ if } S<X\\\\\n",
    "1 & \\text{ if } S\\geq X\n",
    "\\end{array}\\right.\n",
    "$$\n",
    "Plot out the solution to this problem with a binomial tree for different value s of $N$, in the case where $S_0=X$ and $S_0\\neq X $. Can you explain the results?\n",
    "- Now try setting\n",
    "$$\n",
    "V_{n,j} = \\left\\{\\begin{array}{ccc}\n",
    "0 & \\text{ if } &S_j^N<2X - S^N_{j+1}\\\\\n",
    "&&\\\\\n",
    "\\frac{S^N_{j+1} + S^N_j - 2X}{S^N_{j+1}-S^N_{j-1}} & \\text{ if } &2X - S^N_{j+1}\\leq  S_j^N  \\leq 2X-S^N_{j-1} \\\\\n",
    "&&\\\\\n",
    "1 & \\text{ if } &S_j^N > 2X-S^N_{j-1}\n",
    "\\end{array}\\right.\n",
    "$$\n",
    "and plot the results again. How has it changed? See Heston and Zhou (2000) for more details on how to derive this formula.\n"
   ]
  },
  {
   "cell_type": "markdown",
   "metadata": {},
   "source": [
    "## References\n",
    "\n",
    "Cox, J. C., Ross, S. A. & Rubinstein, M. (1979). \"Option pricing: A simplified approach\", *Journal of financial Economics* **7**(3):229--263.\n",
    "\n",
    "Heston, S. & Zhou, G. (2000). \"On the rate of convergence of discrete-time contingent claims\", *Mathematical Finance* **10**(1):53--75.\n",
    "\n",
    "Joshi, M. S. (2007). \"The convergence of binomial trees for pricing the american put\", *Available at SSRN 1030143*.\n",
    "\n",
    "Leisen, D. P. & Reimer, M. (1996). \"Binomial models for option valuation-examining and improving convergence\", *Applied Mathematical Finance* **3**(4):319--346.\n",
    "\n",
    "Rendleman, R. J. & Bartter, B. J.  (1979). \"Two-state option pricing\", *The Journal of Finance* **34**(5):1093--1110.\n"
   ]
  },
  {
   "cell_type": "markdown",
   "metadata": {},
   "source": []
  }
 ],
 "metadata": {
  "kernelspec": {
   "display_name": "Python 3",
   "language": "python",
   "name": "python3"
  },
  "language_info": {
   "codemirror_mode": {
    "name": "ipython",
    "version": 3
   },
   "file_extension": ".py",
   "mimetype": "text/x-python",
   "name": "python",
   "nbconvert_exporter": "python",
   "pygments_lexer": "ipython3",
   "version": "3.11.7"
  }
 },
 "nbformat": 4,
 "nbformat_minor": 2
}
