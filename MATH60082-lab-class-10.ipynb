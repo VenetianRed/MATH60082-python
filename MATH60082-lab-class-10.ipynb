{
 "cells": [
  {
   "cell_type": "markdown",
   "metadata": {},
   "source": [
    "<div style='text-align: center;'>\n",
    "<img src=\"images/math60082-banner.png\" alt=\"image\" width=\"80%\" height=\"auto\">\n",
    "</div>"
   ]
  },
  {
   "cell_type": "markdown",
   "metadata": {},
   "source": [
    "# Lab Class - Week 10\n",
    "\n",
    "## Department of Mathematics"
   ]
  },
  {
   "cell_type": "markdown",
   "metadata": {},
   "source": [
    "Last time we demonstrated the Crank-Nicolson finite difference method applied to European options\n",
    "- We showed how accurate it can be,\n",
    "- How to apply it different problems,\n",
    "- This time we cover how to adapt finite difference methods to early exercise options."
   ]
  },
  {
   "cell_type": "markdown",
   "metadata": {},
   "source": [
    "## American Options\n"
   ]
  },
  {
   "cell_type": "markdown",
   "metadata": {},
   "source": [
    "A reminder that American option allow for early exercise, and we must allow the holder of the option to make the optimal decision to exercise early, but without perfect foresight (only using information up to and including the current time $t$). \n",
    "\n",
    "Consider the case of an American put option writing on a standard asset $S$ trading in the market. According to standard theory, we can find the solution to the problem by solving \n",
    "$$\n",
    "\\frac{\\partial P}{\\partial t} + \\frac12\\sigma^2S^2\\frac{\\partial^2 P}{\\partial S^2} + rS\\frac{\\partial P}{\\partial S} - rP \\leq 0\n",
    "\\tag{10.1}\n",
    "$$\n",
    "$$\n",
    "P(S,t) \\geq X-S\n",
    "\\tag{10.2}\n",
    "$$\n",
    "with\n",
    "$$\n",
    "P(S,T) = \\max(X-S,0),\n",
    "\\tag{10.3}\n",
    "$$\n",
    "and the optimal solution will satisfy either the equaility in (10.1) or (10.2), whichever gives the larger result.\n",
    "\n",
    "Now when using the explicit finite difference method, we have the equation for the value of $P_j^i$ at a grid point\n",
    "$$\n",
    "P_j^i = \\frac{1}{1+r\\Delta t}(AP_{j+1}^{i+1} + BP_{j}^{i+1}+ CP_{j-1}^{i+1})\n",
    "$$\n",
    "which satisifies the equality of (10.1). So to get the optimal solution for an American put option, we simple choose the maximum between (10.1) and (10.2), or\n",
    "$$\n",
    "P_j^i = \\max\\left[\\frac{1}{1+r\\Delta t}(AP_{j+1}^{i+1} + BP_{j}^{i+1}+ CP_{j-1}^{i+1})~ ,~ X - S_j \\right] .\n",
    "$$\n"
   ]
  },
  {
   "cell_type": "code",
   "execution_count": 1,
   "metadata": {},
   "outputs": [],
   "source": [
    "# To get started import some libraries\n",
    "import numpy\n",
    "import scipy\n",
    "import matplotlib.pyplot as plt"
   ]
  },
  {
   "cell_type": "markdown",
   "metadata": {},
   "source": [
    "Coding this is up is pretty easy, we just add the maximum condition on one line of code to get the American put option value!"
   ]
  },
  {
   "cell_type": "code",
   "execution_count": 2,
   "metadata": {},
   "outputs": [],
   "source": [
    "def finiteDiff_AmericanPut( X,T, r,sigma, SU,imax,jmax):\n",
    "    ## calculate the step size and then setup storage for the value\n",
    "    dS = SU / jmax\n",
    "    dt = T / imax\n",
    "\n",
    "    S = numpy.zeros(jmax+1)\n",
    "    t = numpy.zeros(imax+1)\n",
    "    vNew = numpy.zeros(jmax+1)\n",
    "    vOld = numpy.zeros(jmax+1)\n",
    "\n",
    "    # calculate the values of S_j and t^i and check they work as expected\n",
    "    for j in range(jmax+1):\n",
    "        S[j] = j*dS\n",
    "\n",
    "    for i in range(imax+1):\n",
    "        t[i] = i*dt\n",
    "        \n",
    "    # first enter the value of the option at expiry\n",
    "    for j in range(jmax+1):\n",
    "        vOld[j] = max( X - S[j] , 0.)\n",
    "        vNew[j] = max( X - S[j] , 0.)\n",
    "        \n",
    "    # next loop back through time\n",
    "    for i in range(imax-1,-1,-1):\n",
    "        # apply boundary condition at S=0\n",
    "        vNew[0] = X\n",
    "        for j in range(1,jmax):\n",
    "            # input explicit finite difference formula\n",
    "            A = 0.5*sigma*sigma*j*j*dt + 0.5*r*j*dt\n",
    "            B = 1.0 - sigma*sigma*j*j*dt\n",
    "            C = 0.5*sigma*sigma*j*j*dt - 0.5*r*j*dt\n",
    "            # use vNew[j] for V_j^i and vOld[j] for V_j^{i+1}\n",
    "            vNew[j] = max( (A*vOld[j+1] + B*vOld[j] + C*vOld[j-1]) / ( 1 + r*dt) , X - S[j] )\n",
    "        # apply boundary condition at S=S_U\n",
    "        vNew[jmax] = 0.0\n",
    "        \n",
    "        # set old values equal to new ones\n",
    "        # MAKE SURE THIS IS A DEEP COPY!\n",
    "        vOld = numpy.copy(vNew)\n",
    "    \n",
    "    return S,vNew"
   ]
  },
  {
   "cell_type": "code",
   "execution_count": 3,
   "metadata": {},
   "outputs": [
    {
     "data": {
      "text/plain": [
       "[<matplotlib.lines.Line2D at 0x7f28914f9190>]"
      ]
     },
     "execution_count": 3,
     "metadata": {},
     "output_type": "execute_result"
    },
    {
     "data": {
      "image/png": "[encoded data removed]",
      "text/plain": [
       "<Figure size 640x480 with 1 Axes>"
      ]
     },
     "metadata": {},
     "output_type": "display_data"
    }
   ],
   "source": [
    "S,vNew = finiteDiff_AmericanPut(10,1,0.05 , 0.4,50,1000,50)\n",
    "\n",
    "# check a plot to see what it looks like\n",
    "plt.xlim(0,20)\n",
    "plt.plot(S,vNew)"
   ]
  },
  {
   "cell_type": "markdown",
   "metadata": {},
   "source": [
    "On the output, we should be able to see the resulting solution satisfies $P\\geq X-S$. \n",
    "\n",
    "# Tasks\n",
    "\n",
    "- Consider the parameters $X=10$, $T=1$, $r=0.05$ and $\\sigma=0.4$.\n",
    "- Run the American option for different value of $imax$ and $jmax$, is this method stable for all values of $imax$?\n",
    "- Using the calculated value at $S_0=X$, a sufficiently large $S^U$, and a stable value of $imax$, verify that the convergence rate is $O((\\Delta S)^2)$.\n",
    "- Use interpolation to get the value of the option with $S_0=9.735$, is the convergence rate still $O((\\Delta S)^2)$?\n",
    "- Check that the converged value matches with the result on my website:\n",
    "\n",
    "[American Option Solver](https://personalpages.manchester.ac.uk/staff/paul.johnson-2/pages/americanCalculator.html)"
   ]
  },
  {
   "cell_type": "markdown",
   "metadata": {},
   "source": [
    "# Penalty Method\n",
    "\n",
    "\n",
    "Here we aim to solve the classic American put option problem using the so called penalty method. \n",
    "The penalty method works by solving a slightly different problem, which can be shown to converge to the true solution. The alternative problem we solve combines the inequalities in (10.1) and (10.2) to give\n",
    "$$\n",
    "\\frac{\\partial P}{\\partial t} + \\frac12\\sigma^2S^2\\frac{\\partial^2 P}{\\partial S^2} + rS\\frac{\\partial P}{\\partial S} - rP + \\rho\\max((X - S) - P , 0 ) = 0\n",
    "\\tag{10.4}\n",
    "$$\n",
    "so that in the limit as $\\rho \\rightarrow \\infty$, the value function $P$ satisfies\n",
    "$$\n",
    "P(S,t) \\geq X-S.\n",
    "$$\n",
    "Note that (10.4) is no longer an inequality, so it can be solved directly using a matrix solver. \n",
    "\n",
    "However, given a Crank-Nicolson scheme, we won't know if the term $\\rho\\max((X - S) - P , 0 )$ is zero or has some value until we have solved to find $P$, so some iteration is required. Luckily the number of iterations required to reach a full solution tends to be very small (typically of the order 10 or less)."
   ]
  },
  {
   "cell_type": "markdown",
   "metadata": {},
   "source": [
    "The method as written here looks confusing, but once written in code it is relatively trivial to adapt to new problems. \n",
    "The algorithm works as follows:\n",
    "- Write down a standard finite difference scheme for the original PDE (including the boundary conditions)\n",
    "- Take a guess at the solution $v_j^{i,q}$ at the current time step, where $v_j^{i,q}$ is the $q$th guess.\n",
    "- If $v_j^{i,q} < X - S_j$ adjust the original finite difference approximation to\n",
    "$$\n",
    "\\hat b_j = b_j - \\rho\n",
    "$$\n",
    "$$\n",
    "\\hat d_j = d_j - \\rho ( X - S_j )\n",
    "$$ \n",
    "- Solve new system with a Thomas algorithm to find $v_j^{i,q+1}$.\n",
    "- Check for convergence in $||\\boldsymbol{v}^{i,q} - \\boldsymbol{v}^{i,q+1}||$.\n",
    "\n",
    "In order to guarantee that our solution is accurate to the level `tol`, we can choose \n",
    "$$\n",
    "\\rho = \\frac{1}{tol}. \n",
    "$$\n"
   ]
  },
  {
   "cell_type": "markdown",
   "metadata": {},
   "source": [
    "Now we create a function to return the value of American put using this algorithm. We need additional parameters for the numerical variables $\\rho$, `tol` and a maximum nunber of iterations to allow `maxiter`."
   ]
  },
  {
   "cell_type": "code",
   "execution_count": 4,
   "metadata": {},
   "outputs": [],
   "source": [
    "# penalty method solver\n",
    "def crankNicolson_AmerPut( X,T ,r,sigma , SU,imax,jmax , rho,tol,maxiter ):\n",
    "    ## calculate the step size and then setup storage for the value\n",
    "    dS = SU / jmax\n",
    "    dt = T / imax\n",
    "\n",
    "    S = numpy.zeros(jmax+1)\n",
    "    t = numpy.zeros(imax+1)\n",
    "    vNew = numpy.zeros(jmax+1)\n",
    "    vOld = numpy.zeros(jmax+1)\n",
    "\n",
    "    # calculate the values of S_j and t^i and check they work as expected\n",
    "    for i in range(imax+1):\n",
    "        t[i] = i*dt\n",
    "\n",
    "    for j in range(jmax+1):\n",
    "        S[j] = j*dS\n",
    "\n",
    "    # first enter the value of the option at expiry\n",
    "    for j in range(jmax+1):\n",
    "        vOld[j] = max( X - S[j] , 0.0 )\n",
    "        vNew[j] = max( X - S[j] , 0.0 )\n",
    "        \n",
    "    A_banded = numpy.zeros(shape=(3,jmax+1))\n",
    "    u=1\n",
    "    l=1\n",
    "    l_and_u = (l, u)\n",
    "\n",
    "    # b_0 V_0 + c_0 V_1 = d_0\n",
    "    A_banded[1][0] = 1.0 # b_0\n",
    "    A_banded[0][1] = 0.0 # c_0\n",
    "    # populate middle rows\n",
    "    for j in range(1,jmax):\n",
    "        # a_j V_j-1 + b_j V_j + c_i V_j+1 = d_i\n",
    "        A_banded[2][j-1] = 0.25*(sigma*sigma*j*j - r*j) # a_j\n",
    "        A_banded[1][j] = -1./dt - 0.5*sigma*sigma*j*j - 0.5*r # b_j\n",
    "        A_banded[0][j+1] = 0.25*(sigma*sigma*j*j + r*j) # c_j\n",
    "    # populate last row\n",
    "    # a_jmax V_jmax-1 + b_jmax V_jmax = d_jmax\n",
    "    A_banded[2][jmax-1] = 0.0 # a_jmax \n",
    "    A_banded[1][jmax] = 1.0 # b_jmax\n",
    "    \n",
    "    # create a new copy of A_banded, that can be adjusted depending on the penalty\n",
    "    A_banded_dash = numpy.copy(A_banded)\n",
    "\n",
    "    for i in range(imax-1,-1,-1):\n",
    "        # Create a vector for multiplication\n",
    "        d = numpy.zeros(jmax+1)\n",
    "        \n",
    "        # adjust boundary condition to be P=X because it is American\n",
    "        d[0] = X\n",
    "        for j in range(1,jmax):\n",
    "            aa = 0.25*(sigma*sigma*j*j - r*j) # a_j\n",
    "            bb = 1./dt - 0.5*sigma*sigma*j*j - 0.5*r # b_j + 2./dt\n",
    "            cc = 0.25*(sigma*sigma*j*j + r*j) # c_j\n",
    "            d[j] = - aa*vOld[j-1] - bb*vOld[j] - cc*vOld[j+1]\n",
    "        d[jmax] = 0.0\n",
    "        \n",
    "        # create a new copy of d, that can be adjusted depending on the penalty\n",
    "        d_dash = numpy.copy(d)\n",
    "            \n",
    "        ## Penalty loop to solve for vNew\n",
    "        for q in range(maxiter):\n",
    "            \n",
    "            # check which rows to adjust with a penalty\n",
    "            for j in range(1,jmax):\n",
    "                # check if P<X-S, if true apply penalty\n",
    "                if vNew[j] < X - S[j]:\n",
    "                    # b'_j = b_j - rho\n",
    "                    A_banded_dash[1][j] = A_banded[1][j] - rho\n",
    "                    # d'_j = d_j - rho*(X-S)\n",
    "                    d_dash[j] = d[j] - rho*(X - S[j])\n",
    "                    \n",
    "                # otherwise revert to original A_banded and d\n",
    "                else:\n",
    "                    # b'_j = b_j\n",
    "                    A_banded_dash[1][j] = A_banded[1][j] \n",
    "                    # d'_j = d_j \n",
    "                    d_dash[j] = d[j]\n",
    "                    \n",
    "\n",
    "            # Use banded solver solver to solve problem\n",
    "            #    A' v^{i,q+1} = d'\n",
    "            # here y ~ v_j^{i,q+1}\n",
    "            y = scipy.linalg.solve_banded(l_and_u,A_banded_dash,d_dash)\n",
    "            \n",
    "            # get the change in value from the previous iteration\n",
    "            # e = v_j^{i,q+1} - v_j^{i,q} \n",
    "            e = y-vNew\n",
    "            \n",
    "            # update the value of vNew\n",
    "            vNew = y\n",
    "            # check the norm against the tolerance for convergence\n",
    "            if numpy.linalg.norm(e,1) < tol:\n",
    "                print(\"Solved at step \",i,\". Converged after \",q,\"iterations.\")\n",
    "                # exit from the penalty loop\n",
    "                break\n",
    "        ##  solved for vNew\n",
    "        \n",
    "        vOld = numpy.copy(vNew)\n",
    "        \n",
    "    return S,vNew"
   ]
  },
  {
   "cell_type": "code",
   "execution_count": 5,
   "metadata": {},
   "outputs": [
    {
     "name": "stdout",
     "output_type": "stream",
     "text": [
      "Solved at step  49 . Converged after  2 iterations.\n",
      "Solved at step  48 . Converged after  2 iterations.\n",
      "Solved at step  47 . Converged after  1 iterations.\n",
      "Solved at step  46 . Converged after  1 iterations.\n",
      "Solved at step  45 . Converged after  1 iterations.\n",
      "Solved at step  44 . Converged after  2 iterations.\n",
      "Solved at step  43 . Converged after  1 iterations.\n",
      "Solved at step  42 . Converged after  1 iterations.\n",
      "Solved at step  41 . Converged after  1 iterations.\n",
      "Solved at step  40 . Converged after  1 iterations.\n",
      "Solved at step  39 . Converged after  1 iterations.\n",
      "Solved at step  38 . Converged after  1 iterations.\n",
      "Solved at step  37 . Converged after  1 iterations.\n",
      "Solved at step  36 . Converged after  1 iterations.\n",
      "Solved at step  35 . Converged after  1 iterations.\n",
      "Solved at step  34 . Converged after  1 iterations.\n",
      "Solved at step  33 . Converged after  1 iterations.\n",
      "Solved at step  32 . Converged after  1 iterations.\n",
      "Solved at step  31 . Converged after  1 iterations.\n",
      "Solved at step  30 . Converged after  1 iterations.\n",
      "Solved at step  29 . Converged after  2 iterations.\n",
      "Solved at step  28 . Converged after  1 iterations.\n",
      "Solved at step  27 . Converged after  1 iterations.\n",
      "Solved at step  26 . Converged after  1 iterations.\n",
      "Solved at step  25 . Converged after  1 iterations.\n",
      "Solved at step  24 . Converged after  1 iterations.\n",
      "Solved at step  23 . Converged after  1 iterations.\n",
      "Solved at step  22 . Converged after  1 iterations.\n",
      "Solved at step  21 . Converged after  1 iterations.\n",
      "Solved at step  20 . Converged after  1 iterations.\n",
      "Solved at step  19 . Converged after  1 iterations.\n",
      "Solved at step  18 . Converged after  1 iterations.\n",
      "Solved at step  17 . Converged after  1 iterations.\n",
      "Solved at step  16 . Converged after  1 iterations.\n",
      "Solved at step  15 . Converged after  1 iterations.\n",
      "Solved at step  14 . Converged after  1 iterations.\n",
      "Solved at step  13 . Converged after  1 iterations.\n",
      "Solved at step  12 . Converged after  1 iterations.\n",
      "Solved at step  11 . Converged after  1 iterations.\n",
      "Solved at step  10 . Converged after  1 iterations.\n",
      "Solved at step  9 . Converged after  1 iterations.\n",
      "Solved at step  8 . Converged after  1 iterations.\n",
      "Solved at step  7 . Converged after  1 iterations.\n",
      "Solved at step  6 . Converged after  1 iterations.\n",
      "Solved at step  5 . Converged after  1 iterations.\n",
      "Solved at step  4 . Converged after  1 iterations.\n",
      "Solved at step  3 . Converged after  1 iterations.\n",
      "Solved at step  2 . Converged after  1 iterations.\n",
      "Solved at step  1 . Converged after  1 iterations.\n",
      "Solved at step  0 . Converged after  1 iterations.\n"
     ]
    },
    {
     "data": {
      "text/plain": [
       "[<matplotlib.lines.Line2D at 0x7f289054a490>]"
      ]
     },
     "execution_count": 5,
     "metadata": {},
     "output_type": "execute_result"
    },
    {
     "data": {
      "image/png": "[encoded data removed]",
      "text/plain": [
       "<Figure size 640x480 with 1 Axes>"
      ]
     },
     "metadata": {},
     "output_type": "display_data"
    }
   ],
   "source": [
    "S,vNew = crankNicolson_AmerPut(10,1,0.05 , 0.4,50,50,50,1.e8,1.e-8,50)\n",
    "\n",
    "# check a plot to see what it looks like\n",
    "plt.xlim(0,20)\n",
    "plt.plot(S,vNew)"
   ]
  },
  {
   "cell_type": "markdown",
   "metadata": {},
   "source": [
    "Here we see that the method only takes one or two iterations to converge, and the plot looks very similar to before."
   ]
  },
  {
   "cell_type": "markdown",
   "metadata": {},
   "source": [
    "# Tasks\n",
    "\n",
    "- Using interpolation to calculate the value at $S_0=X$ and with $S^U=50$, and different values of $imax$ and $jmax$, verify the convergence rate of this algorithm is $O((\\Delta t)^2,(\\Delta S)^2)$.\n",
    "- Try using Richardson extrapolation to improve your calculated results.\n",
    "- Using interpolation to calculate the value at $S_0=9.735$, is the convergence rate still $O((\\Delta t)^2,(\\Delta S)^2)$?\n",
    "- What is the efficincy of this method compared to the previous one? Say we want 6 digits of accuracy for the option value, which method can calculate it quicker? Can you use `numba` to compile and speed up your code where possible?\n",
    "- Update this code to include dividends, and make it solve for a call option. \n"
   ]
  },
  {
   "cell_type": "code",
   "execution_count": null,
   "metadata": {},
   "outputs": [],
   "source": [
    "\n"
   ]
  },
  {
   "cell_type": "code",
   "execution_count": null,
   "metadata": {},
   "outputs": [],
   "source": []
  },
  {
   "cell_type": "code",
   "execution_count": null,
   "metadata": {},
   "outputs": [],
   "source": []
  },
  {
   "cell_type": "code",
   "execution_count": null,
   "metadata": {},
   "outputs": [],
   "source": []
  },
  {
   "cell_type": "code",
   "execution_count": null,
   "metadata": {},
   "outputs": [],
   "source": []
  },
  {
   "cell_type": "code",
   "execution_count": null,
   "metadata": {},
   "outputs": [],
   "source": []
  }
 ],
 "metadata": {
  "kernelspec": {
   "display_name": "Python [conda env:base] *",
   "language": "python",
   "name": "conda-base-py"
  },
  "language_info": {
   "codemirror_mode": {
    "name": "ipython",
    "version": 3
   },
   "file_extension": ".py",
   "mimetype": "text/x-python",
   "name": "python",
   "nbconvert_exporter": "python",
   "pygments_lexer": "ipython3",
   "version": "3.12.2"
  }
 },
 "nbformat": 4,
 "nbformat_minor": 4
}
