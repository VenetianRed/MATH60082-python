{
 "cells": [
  {
   "cell_type": "markdown",
   "metadata": {},
   "source": [
    "<div style='text-align: center;'>\n",
    "<img src=\"../images/math60082-banner.png\" alt=\"image\" width=\"80%\" height=\"auto\">\n",
    "</div>"
   ]
  },
  {
   "cell_type": "markdown",
   "metadata": {},
   "source": [
    "Functions required for the tasks:"
   ]
  },
  {
   "cell_type": "code",
   "execution_count": 1,
   "metadata": {},
   "outputs": [],
   "source": [
    "from math import exp\n",
    "def eulersMethod(n,a,b,alpha):\n",
    "    h=(b-a)/n\n",
    "    x=a\n",
    "    w=alpha\n",
    "    for i in range(0,n):\n",
    "        x = a + i*h\n",
    "        w = w + h*(x*exp(3*x)-2.0*w)\n",
    "    return w"
   ]
  },
  {
   "cell_type": "markdown",
   "metadata": {},
   "source": [
    "# Tasks\n",
    "\n",
    "- Run the program and check the value with $n = 10$."
   ]
  },
  {
   "cell_type": "code",
   "execution_count": 2,
   "metadata": {},
   "outputs": [
    {
     "name": "stdout",
     "output_type": "stream",
     "text": [
      "2.7609014678701382\n"
     ]
    }
   ],
   "source": [
    "print(eulersMethod(10,0.0,1.0,0.0))"
   ]
  },
  {
   "cell_type": "markdown",
   "metadata": {},
   "source": [
    "\n",
    "- Print out the final value for $n = 10, 20, 40, 80, ...$, what happens?"
   ]
  },
  {
   "cell_type": "code",
   "execution_count": 4,
   "metadata": {},
   "outputs": [
    {
     "name": "stdout",
     "output_type": "stream",
     "text": [
      "2 1.1204222675845161\n",
      "4 2.092134161472926\n",
      "8 2.6471404609725977\n",
      "16 2.932412059769684\n",
      "32 3.07574985602274\n",
      "64 3.1474439480030876\n",
      "128 3.1832790334944514\n",
      "256 3.2011913433896084\n",
      "512 3.210145912452199\n",
      "1024 3.214622765975694\n"
     ]
    }
   ],
   "source": [
    "for i in range(1,11):\n",
    "    n = 2**i\n",
    "    print(n,eulersMethod(n,0.0,1.0,0.0))"
   ]
  },
  {
   "cell_type": "markdown",
   "metadata": {},
   "source": [
    "\n",
    "- Calculate the difference between the results\n",
    "$$\n",
    "\\Delta_{n,m} = w_n - w_m\n",
    "$$\n",
    "with $n = 10$ and $m = 20$, $n = 20$ and $m = 40$ and so on."
   ]
  },
  {
   "cell_type": "code",
   "execution_count": 5,
   "metadata": {},
   "outputs": [
    {
     "name": "stdout",
     "output_type": "stream",
     "text": [
      "2 1.1204222675845161 0.12042226758451613\n",
      "4 2.092134161472926 0.9717118938884097\n",
      "8 2.6471404609725977 0.5550062994996718\n",
      "16 2.932412059769684 0.2852715987970864\n",
      "32 3.07574985602274 0.14333779625305576\n",
      "64 3.1474439480030876 0.07169409198034771\n",
      "128 3.1832790334944514 0.03583508549136383\n",
      "256 3.2011913433896084 0.01791230989515702\n",
      "512 3.210145912452199 0.008954569062590512\n",
      "1024 3.214622765975694 0.004476853523494917\n"
     ]
    }
   ],
   "source": [
    "valueOld=1.0\n",
    "for i in range(1,11):\n",
    "    n = 2**i\n",
    "    value = eulersMethod(n,0.0,1.0,0.0)\n",
    "    print(n,value , value - valueOld)\n",
    "    valueOld = value"
   ]
  },
  {
   "cell_type": "markdown",
   "metadata": {},
   "source": [
    "\n",
    "- Can you predict how $\\Delta_{n,m}$ behaves for large $n$ and $m$?"
   ]
  },
  {
   "cell_type": "markdown",
   "metadata": {},
   "source": [
    "Looking at the results above, we can see for example that $\\Delta_{64,32}=0.07169$ and $\\Delta_{128,64}=0.03584$. So at every step it appears by increasing the number of steps by a factor of 2, the difference goes down by a factor of 2. This is to be expected for a first order method."
   ]
  },
  {
   "cell_type": "markdown",
   "metadata": {},
   "source": [
    "- Try implementing the RK2 method:\n",
    "$$\n",
    "k_1 =  f(x_i,w_i)\n",
    "$$\n",
    "$$\n",
    "k_2 =  f(x_i+h,w_i+h\\cdot  k_1)\n",
    "$$\n",
    "$$\n",
    "w_{i+1} = w_i + 0.5\\cdot h(k_1+k_2)\n",
    "$$"
   ]
  },
  {
   "cell_type": "code",
   "execution_count": 6,
   "metadata": {},
   "outputs": [],
   "source": [
    "def RK2Method(n,a,b,alpha):\n",
    "    h=(b-a)/n\n",
    "    x=a\n",
    "    w=alpha\n",
    "    for i in range(0,n):\n",
    "        x = a + i*h\n",
    "        k1 = x*exp(3*x)-2.0*w\n",
    "        k2 = (x+h)*exp(3*(x+h))-2.0*(w+h*k1)\n",
    "        w = w + 0.5*h*(k1+k2)\n",
    "    return w"
   ]
  },
  {
   "cell_type": "markdown",
   "metadata": {},
   "source": [
    "\n",
    "- What is the empirical estimate for the convergence of this method?"
   ]
  },
  {
   "cell_type": "markdown",
   "metadata": {},
   "source": [
    "Plot out a table of the results, increasing the number of points by a factor of 2 each time and see what the ratio is."
   ]
  },
  {
   "cell_type": "code",
   "execution_count": 7,
   "metadata": {},
   "outputs": [
    {
     "name": "stdout",
     "output_type": "stream",
     "text": [
      "|   i |   n |    V_n     | dV_n/dV_kn |         c  |\n",
      "|-----|-----|------------|------------|------------|\n",
      "|    1|    2|     5.30149|     0.23248|    -2.10484|\n",
      "|    2|    4|     3.73737|    -2.75011|     0.00000|\n",
      "|    3|    8|     3.34358|     3.97193|     1.98984|\n",
      "|    4|   16|     3.24931|     4.17745|     2.06262|\n",
      "|    5|   32|     3.22653|     4.13651|     2.04841|\n",
      "|    6|   64|     3.22094|     4.07933|     2.02833|\n",
      "|    7|  128|     3.21956|     4.04228|     2.01517|\n",
      "|    8|  256|     3.21921|     4.02177|     2.00783|\n",
      "|    9|  512|     3.21913|     4.01104|     2.00398|\n",
      "|   10| 1024|     3.21911|     4.00556|     2.00200|\n",
      "|   11| 2048|     3.21910|     4.00279|     2.00101|\n",
      "|   12| 4096|     3.21910|     4.00140|     2.00050|\n",
      "|   13| 8192|     3.21910|     4.00070|     2.00025|\n",
      "|   14|16384|     3.21910|     4.00035|     2.00013|\n"
     ]
    }
   ],
   "source": [
    "from math import log\n",
    "valueOld=1.0\n",
    "diffOld=1.0\n",
    "k=2\n",
    "print(\"|   i |   n |    V_n     | dV_n/dV_kn |         c  |\")\n",
    "print(\"|-----|-----|------------|------------|------------|\")\n",
    "for i in range(1,15):\n",
    "    n = k**i\n",
    "    value = RK2Method(n,0.0,1.0,0.0) # calculate v with n\n",
    "    diff = value- valueOld # get difference from last time\n",
    "    ratio = diffOld/diff # get ratio of differences\n",
    "    if ratio>0.:\n",
    "        c = log(ratio) / log(k) # estimate convergence rate\n",
    "    else:\n",
    "        c = 0.0\n",
    "    str = \"|{:5d}|{:5d}|{:12.5f}|{:12.5f}|{:12.5f}|\".format(i,n,value,ratio,c)\n",
    "    print(str) \n",
    "    diffOld = diff\n",
    "    valueOld = value"
   ]
  },
  {
   "cell_type": "markdown",
   "metadata": {},
   "source": [
    "We find that the ratio in this case $R\\approx 4$, so the resulting convergence rate is $c=2$ or a second order method. This is unsurprisingly why it is called RK2 method, one of the most popular ODE methods is the RK4 method which is 4th order. You can verify the order of the method by using Talyor series approximations as with did with the Euler method, although it is a bit more tricky in this case."
   ]
  },
  {
   "cell_type": "markdown",
   "metadata": {},
   "source": [
    "- check that you can plot out a simple graph of $x$ vs $y$ when $y(x)=sin(x)$."
   ]
  },
  {
   "cell_type": "code",
   "execution_count": 8,
   "metadata": {},
   "outputs": [],
   "source": [
    "import matplotlib.pyplot as plt\n",
    "import numpy as np \n",
    "from math import pi"
   ]
  },
  {
   "cell_type": "code",
   "execution_count": 9,
   "metadata": {},
   "outputs": [],
   "source": [
    "x = np.arange(0, 3*pi, 0.02*pi)  # creates an array of data x[i] = 0 + i*0.02*pi such that x_i \\leq 3*pi\n",
    "y = np.sin(x)                    # creates an array of data y[i] = sin(x[i]) same size as x"
   ]
  },
  {
   "cell_type": "code",
   "execution_count": 10,
   "metadata": {},
   "outputs": [
    {
     "data": {
      "text/plain": [
       "Text(0, 0.5, 'y = sin(x)')"
      ]
     },
     "execution_count": 10,
     "metadata": {},
     "output_type": "execute_result"
    },
    {
     "data": {
      "image/png": "[encoded data removed]",
      "text/plain": [
       "<Figure size 640x480 with 1 Axes>"
      ]
     },
     "metadata": {},
     "output_type": "display_data"
    }
   ],
   "source": [
    "plt.plot(x, y)\n",
    "plt.xlabel(\"x\")\n",
    "plt.ylabel(\"y = sin(x)\")"
   ]
  },
  {
   "cell_type": "markdown",
   "metadata": {},
   "source": [
    "Function definitions for the next part:"
   ]
  },
  {
   "cell_type": "code",
   "execution_count": null,
   "metadata": {},
   "outputs": [],
   "source": [
    "from scipy.special import ndtr as ND\n",
    "\n",
    "def qFunc(t,T,kappa,theta,sigma):\n",
    "    return \n",
    "\n",
    "def kSquaredFunc(t,T,kappa,theta,sigma):\n",
    "    return 0.0\n",
    "\n",
    "def nFunc(r,t,T,kappa,theta,sigma):\n",
    "    return 0.0\n",
    "\n",
    "def mFunc(r,t,T,kappa,theta,sigma):\n",
    "    return 0.0\n",
    "\n",
    "def vSquaredFunc(t,T,kappa,theta,sigma):\n",
    "    return 0.0\n",
    "\n",
    "def fFunc(r,t,T,kappa,theta,sigma):\n",
    "    return 0.0\n",
    "\n",
    "def hFunc(r,t,T,kappa,theta,sigma):\n",
    "    return 0.0\n",
    "\n",
    "def PFunc(r,t,T,kappa,theta,sigma):\n",
    "    return 0.0\n",
    "\n",
    "def VFunc(r,t,T,kappa,theta,sigma):\n",
    "    return 1.0"
   ]
  },
  {
   "cell_type": "markdown",
   "metadata": {},
   "source": [
    "- complete the functions $q$, $k^2$, $m$, $n$, $v^2$, $f$, $P$ and $V$ to solve for the option"
   ]
  },
  {
   "cell_type": "markdown",
   "metadata": {},
   "source": [
    "- edit the functions to solve the version given in your coursework, save the figure of your results, upload and complete the coursework task!"
   ]
  }
 ],
 "metadata": {
  "kernelspec": {
   "display_name": "Python 3",
   "language": "python",
   "name": "python3"
  },
  "language_info": {
   "codemirror_mode": {
    "name": "ipython",
    "version": 3
   },
   "file_extension": ".py",
   "mimetype": "text/x-python",
   "name": "python",
   "nbconvert_exporter": "python",
   "pygments_lexer": "ipython3",
   "version": "3.11.7"
  }
 },
 "nbformat": 4,
 "nbformat_minor": 2
}
