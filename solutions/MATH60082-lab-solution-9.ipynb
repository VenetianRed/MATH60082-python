{
 "cells": [
  {
   "cell_type": "markdown",
   "metadata": {},
   "source": [
    "<div style='text-align: center;'>\n",
    "<img src=\"images/math60082-banner.png\" alt=\"image\" width=\"80%\" height=\"auto\">\n",
    "</div>"
   ]
  },
  {
   "cell_type": "markdown",
   "metadata": {},
   "source": [
    "# Lab Class - Week 9\n",
    "\n",
    "## Department of Mathematics"
   ]
  },
  {
   "cell_type": "markdown",
   "metadata": {},
   "source": [
    "Last time we demonstrated the explicit finite difference method\n",
    "- We showed how accurate it can be,\n",
    "- how timestep restrictions make it inefficient,\n",
    "- and how interpolation can maintain accuracy inbetween grid points.\n",
    "- This time we cover the Crank-Nicolson Method."
   ]
  },
  {
   "cell_type": "markdown",
   "metadata": {},
   "source": [
    "## Crank-Nicolson Method\n",
    "The algorithm now known as the [Crank-Nicolson method]() was develped by John Crank and Phyllis Nicolson at the University of Manchester during the 2nd World War. It later formed the third part of Nicolson's PhD thesis [*Three Problems in Theoretical Physics*](https://www.librarysearch.manchester.ac.uk/permalink/44MAN_INST/1r887gn/alma992979302376401631) and was \n",
    "[published](https://doi.org/10.1017%2FS0305004100023197) in 1947.\n",
    "<p float=\"left\">\n",
    "    <img src=\"images/JohnCrank.jpg\" alt=\"John Crank\" width=\"40%\" height=\"auto\">\n",
    "    <img src=\"images/PhyllisNicolson.jpg\" alt=\"Phyllis Nicolson\" width=\"40%\" height=\"auto\">\n",
    "</p>\n",
    "\n"
   ]
  },
  {
   "cell_type": "markdown",
   "metadata": {},
   "source": [
    "As introduced at the end of the last lecture the Crank-Nicolson scheme \n",
    "works by evaluating the derivatives at $V(S, t + \\Delta t/2)$.\n",
    "The main advantages of this is that the error in the time derivative is \n",
    "now $(\\Delta t)^2$ rather than $\\Delta t$ and that there are no \n",
    "stability constraints.\n",
    "The only problem with using the Crank-Nicolson method rather than the explicit method is that we will need to use three option \n",
    "values in the future $(t+\\Delta t)$ to calculate three option values not $(t)$. This will make the scheme slightly  harder.\n",
    "\n",
    "# Task\n",
    "\n",
    "- Use finite difference to generate $O((\\Delta S)^2,(\\Delta t)^2)$ approximations to the derivatives in the BS PDE.\n"
   ]
  },
  {
   "cell_type": "markdown",
   "metadata": {},
   "source": [
    "Take a Taylor series expansion wrt $t$ around the point $(S,t+1/2\\Delta t)$, we have\n",
    "$$\tV(S,t)=V(S,t+1/2\\Delta t)-\\tfrac12\\Delta t\\frac{\\partial V}{\\partial t}\n",
    "\t+\\tfrac18 (\\Delta t)^2\\frac{\\partial ^2V}{\\partial t^2} +O((\\Delta t)^3) \n",
    "\t\\tag{*}\n",
    "$$\n",
    "and\n",
    "$$\n",
    "V(S,t+\\Delta t)=V(S,t+1/2\\Delta t)+\\tfrac12\\Delta t\\frac{\\partial V}{\\partial t}\n",
    "+\\tfrac18 (\\Delta t)^2\\frac{\\partial ^2V}{\\partial t^2} +O((\\Delta t)^3) .\n",
    "\\tag{**}\n",
    "$$\n",
    "Subtracting (*) away from (**) and dividing by $\\Delta t$ we are left with\n",
    "$$\n",
    "\\frac{V(S,t+\\Delta t)-V(S,t)}{\\Delta t} = \\frac{\\partial V}{\\partial t}\n",
    " +O((\\Delta t)^2) .\n",
    "$$\n",
    "\n",
    "So how do we find $\\frac{\\partial V}{\\partial S}$ at $(S,t+1/2\\Delta t)$ if there is not any grid points at that time level?\n",
    "Next consider \n",
    "$$\\frac{\\partial V}{\\partial S}(S,t)=\\frac{V(S+\\Delta S,t)-V(S-\\Delta S,t)}{2\\Delta S}+O((\\Delta S)^2)$$\n",
    "and \n",
    "$$\\frac{\\partial V}{\\partial S}(S,t+\\Delta t)=\\frac{V(S+\\Delta S,t+\\Delta t)-V(S-\\Delta S,t+\\Delta t)}{2\\Delta S}+O((\\Delta S)^2)$$\n",
    "so\n",
    "$$\\frac{\\partial V}{\\partial S}(S,t+1/2\\Delta t)=\\frac{V(S+\\Delta S,t)-V(S-\\Delta S,t)+V(S+\\Delta S,t+\\Delta t)-V(S-\\Delta S,t+\\Delta t)}{4\\Delta S}+O((\\Delta S)^2,(\\Delta t)^2)$$\n",
    "is a second order approximation at $(S,t+1/2\\Delta t)$. We can do similar for $\\frac{\\partial^2 V}{\\partial S^2}$, and even for example the term\n",
    "$$\n",
    " - r V(S,t+1/2\\Delta t)= -r \\tfrac12 \\big(V(S,t) + V(S,t+\\Delta t) \\big) +O((\\Delta t)^2)\n",
    "$$\n",
    "must be approximated at the half time step.\n"
   ]
  },
  {
   "cell_type": "markdown",
   "metadata": {
    "jp-MarkdownHeadingCollapsed": true
   },
   "source": [
    "# Crank-Nicolson Scheme\n",
    "\n",
    "From our new approximations, in terms of $V^i_j$ we have\n",
    "$$\\frac{\\partial V}{\\partial t}\\approx \\frac{V_j^{i+1}-V_j^i}{\\Delta t}$$\n",
    "$$\\frac{\\partial V}{\\partial S}\\approx \\frac{1}{4\\Delta S}(V^i_{j+1}-\n",
    "V^i_{j-1}+V_{j+1}^{i+1}-\n",
    "V_{j-1}^{i+1})$$\n",
    "$$\\frac{\\partial^2 V}{\\partial S^2}\\approx \\frac{1}{2\\Delta S^2}(V^i_{j+1}-2V_j^i\n",
    "+V^i_{j-1}+V_{j+1}^{i+1}-2V_j^{i+1}\n",
    "+V_{j-1}^{i+1})$$\n",
    "$$V\\approx \\frac{1}{2}(V^i_{j}+V_{j}^{i+1})$$\n",
    "Substituting these approximations into the BS PDE, and given that here the $V^i$ values are all unknown, we rearrange our equations to have the known values on one side and the \n",
    "unknown values on the other.\n",
    "$$\n",
    "  \\tfrac14(\\sigma^2j^2-rj)V_{j-1}^i\n",
    "+(-\\frac{\\sigma^2j^2}{2}-\\frac{r}{2}\n",
    "-\\frac{1}{\\Delta t})V_j^i\n",
    "+\\tfrac14(\\sigma^2j^2+rj)\n",
    "V_{j+1}^i=d_j$$\n",
    "where\n",
    "$$\n",
    "d_=-\\tfrac14(\\sigma^2j^2-rj)V_{j-1}^{i+1}-(-\\frac{\\sigma^2j^2}{2}\n",
    "-\\frac{r}{2}+\\frac{1}{\\Delta t})\n",
    "V_j^{i+1}-\\frac14(\\sigma^2j^2+rj)V_{j+1}^{i+1}\n",
    "$$"
   ]
  },
  {
   "cell_type": "markdown",
   "metadata": {},
   "source": [
    "# Linear Algebra Problem\n",
    "\n",
    "\n",
    "We can rewrite the valuation problem in terms of a matrix as follows:\n",
    "$$\\begin{pmatrix}\n",
    "b_0&c_0&0&0&.&.&.&.&0\\\\\n",
    "a_1&b_1&c_1&0&.&.&.&.&.\\\\\n",
    "0&a_2&b_2&c_2&0&.&.&.&.\\\\\n",
    ".&.&a_3&b_3&c_3&.&.&.&.\\\\\n",
    ".&.&.&.&.&.&.&.&.\\\\\n",
    ".&.&.&.&a_j&b_j&c_j&.&.\\\\\n",
    ".&.&.&.&.&.&.&.&.\\\\\n",
    "0&.&.&.&.&.&.&a_{jMax}&b_{jMax}\n",
    "\\end{pmatrix}\n",
    "\\begin{pmatrix}\n",
    "V_0^i\\\\V_1^i\\\\V_2^i\\\\V_3^i\\\\.\\\\.\\\\V_{jMax-1}^i\\\\V_{jMax}^i\n",
    "\\end{pmatrix}\n",
    "=\\begin{pmatrix}\n",
    "d_0^i\\\\d_1^i\\\\d_2^i\\\\d_3^i\\\\.\\\\.\\\\d_{jMax-1}^i\\\\d_{jMax}^i\n",
    "\\end{pmatrix}\n",
    "$$\n",
    "where for $1\\leq j <jMax$ we have:\n",
    "$$a_j=\\tfrac14(\\sigma^2j^2-rj)$$\n",
    "$$b_j=-\\frac{\\sigma^2j^2}{2}-\\frac{r}{2}-\\frac{1}{\\Delta t}$$\n",
    "$$c_j=\\tfrac14(\\sigma^2j^2+rj)$$\n",
    "$$d_j=-\\tfrac14(\\sigma^2j^2-rj)V_{j-1}^{i+1}-(-\\frac{\\sigma^2j^2}{2}-\\frac{r}{2}+\\frac{1}{\\Delta\n",
    "t})V_j^{i+1}-\\tfrac14(\\sigma^2j^2+rj)V_{j+1}^{i+1}\n",
    "$$\n",
    "For $j=0$ and $j=jMax$, we will need to use the boundary conditions of the problem.\n",
    "\n",
    "First consider the payoff at expiry $t=T$, we have $V(S,T)= \\max(X-S,0)$ so this can be written\n",
    "$$\n",
    "V_j^{iMax} = \\max(X - S_j , 0).\n",
    "$$\n",
    "For put option, at $S=0$, we have $V_0^i = X e^{-r(T-i\\Delta t)}$ so to convert into matrix form we write\n",
    "$$\n",
    "b_0 V_0^i +c_0 V_1^i = d_0\n",
    "$$\n",
    "and therefore $b_0=1$, $c_0=0$ and $d_0=Xe^{-r(T-i\\Delta t)}$.\n",
    "\n",
    "Now at upper boundary $V_{jMax}^i = 0$ so we write \n",
    "$$\n",
    "a_{jMax} V_{jMax-1}^i +b_{jMax} V_{jMax}^i = d_{jMax}\n",
    "$$\n",
    "and therefore $a_{jMax}=0$, $b_{jMax}=1$ and $d_{jMax}=0$.\n"
   ]
  },
  {
   "cell_type": "markdown",
   "metadata": {},
   "source": [
    "# Matrix Form\n",
    "\n",
    "The matrix problem to solve is therefore\n",
    "$$\n",
    "A \\boldsymbol{V^i} = \\boldsymbol{d^{i+1}}\n",
    "$$\n",
    "where $\\boldsymbol{d^{i+1}}$ depends on the value function $V$ at $t+\\Delta t$.\n",
    "Note that this matrix is extremely sparse &mdash; there are only 3 non zero diagonals."
   ]
  },
  {
   "cell_type": "code",
   "execution_count": 1,
   "metadata": {},
   "outputs": [],
   "source": [
    "# Begin by loading libraries that we'll need\n",
    "import scipy\n",
    "import numpy as np\n",
    "import matplotlib.pyplot as plt\n",
    "\n",
    "from math import exp"
   ]
  },
  {
   "cell_type": "code",
   "execution_count": 2,
   "metadata": {},
   "outputs": [],
   "source": [
    "# Set the parameters\n",
    "sigma = 0.4\n",
    "r = 0.05\n",
    "X = 2\n",
    "T = 1\n",
    "\n",
    "# Choose the number of steps in t and S\n",
    "iMax = 4 # steps in time\n",
    "jMax = 4 # steps in asset value"
   ]
  },
  {
   "cell_type": "code",
   "execution_count": 3,
   "metadata": {},
   "outputs": [],
   "source": [
    "# Fix the value of S on the upper boundary,\n",
    "# then calculate the step sizes.\n",
    "SmaxFactor = 2.0\n",
    "Smax = SmaxFactor * X\n",
    "\n",
    "dS = Smax / jMax\n",
    "dt = T / iMax\n",
    "\n",
    "# Set up storage for the results\n",
    "S = np.zeros(jMax+1)\n",
    "t = np.zeros(iMax+1)\n",
    "vNew = np.zeros(jMax+1)\n",
    "vOld = np.zeros(jMax+1)\n",
    "\n",
    "# Calculate the values of S_j and t^i \n",
    "for i in range(iMax+1):\n",
    "    t[i] = i*dt\n",
    "\n",
    "for j in range(jMax+1):\n",
    "    S[j] = j*dS\n",
    "\n",
    "# Record the value of the option at expiry\n",
    "for j in range(jMax+1):\n",
    "    vOld[j] = max( X - S[j] , 0.0 )"
   ]
  },
  {
   "cell_type": "markdown",
   "metadata": {},
   "source": [
    "# Tasks\n",
    "\n",
    "- setup the matrix problem\n",
    "- solve the matrix using a sparse solver"
   ]
  },
  {
   "cell_type": "markdown",
   "metadata": {},
   "source": [
    "Our matrix is very sparse, with entries on the main diagonal and on the diagonals immediately above and below the main diagonal, but nowhere else. This means that we can use  SciPy's `solve_banded()` function to solve $A \\boldsymbol{V^i} = \\boldsymbol{d^{i+1}}$.\n",
    "\n",
    "See the [scipy documentation](https://docs.scipy.org/doc/scipy/reference/generated/scipy.linalg.solve_banded.html#scipy.linalg.solve_banded) for more details."
   ]
  },
  {
   "cell_type": "code",
   "execution_count": 4,
   "metadata": {},
   "outputs": [],
   "source": [
    "from scipy.linalg import solve_banded"
   ]
  },
  {
   "cell_type": "markdown",
   "metadata": {},
   "source": [
    "We'll store $A$'s diagonal bands in a $3 \\times \\mbox{(\\texttt{jMax + 1})}$ matrix `A_bands` in such a way that:\n",
    "\n",
    "* `A_bands[2,j-1]` $= a_{j}$\n",
    "* `A_bands[1,j]` $= b_j$\n",
    "* `A_bands[0,j+1]` $= c_j$\n",
    "\n",
    "This storage pattern is expected by `solve_banded()`, whose documentation says that one should construct a matrix `ab` whose relation to the full matrix `a` is \n",
    "```\n",
    "ab[u + i - j, j] = a[i,j]\n",
    "```\n",
    "where `u` is the number of non-empty diagonals above the main one and `l` is the number of non-empty diagonals under the main one: for us, `u = l = 1`."
   ]
  },
  {
   "cell_type": "code",
   "execution_count": 5,
   "metadata": {},
   "outputs": [
    {
     "name": "stdout",
     "output_type": "stream",
     "text": [
      "[[ 0.      0.      0.0525  0.185   0.3975]\n",
      " [ 1.     -4.105  -4.345  -4.745   1.    ]\n",
      " [ 0.0275  0.135   0.3225  0.      0.    ]]\n"
     ]
    }
   ],
   "source": [
    "# Set up storage for the tri-diagonal matrix A\n",
    "A_bands = np.zeros(shape=(3,jMax+1)) \n",
    "\n",
    "# Set up a tuple that described the bands in our matrix\n",
    "u=1 # number of bands above the main disgonal\n",
    "l=1 # number of bands below the main disgonal\n",
    "l_and_u = (l, u) # needed for solve_banded()\n",
    "\n",
    "# Enforce the boundary condition at S=0\n",
    "# b_0 V_0 + c_0 V_1 = d_0\n",
    "A_bands[1,0] = 1.0 # b_0 = 1\n",
    "A_bands[0,1] = 0.0 # c_0 = 0\n",
    "\n",
    "# Set a[j], b[j] and c[j] for the middle rows\n",
    "for j in range(1,jMax):\n",
    "    # a_j V_j-1 + b_j V_j + c_i V_j+1 = d_i\n",
    "    A_bands[2,j-1] = 0.25*(sigma*sigma*j*j - r*j) # a_j\n",
    "    A_bands[1,j] = -1./dt - 0.5*sigma*sigma*j*j - 0.5*r # b_j\n",
    "    A_bands[0,j+1] = 0.25*(sigma*sigma*j*j + r*j) # c_j\n",
    "    \n",
    "# Use the boundary condition at S = Smax\n",
    "# a_jMax V_jMax-1 + b_jMax V_jMax = d_jMax\n",
    "A_bands[2,jMax-1] = 0.0 # a_jMax = 0\n",
    "A_bands[1,jMax] = 1.0 # b_jMax = 1\n",
    "\n",
    "# print banded matrix\n",
    "print(A_bands)"
   ]
  },
  {
   "cell_type": "code",
   "execution_count": 6,
   "metadata": {},
   "outputs": [],
   "source": [
    "# Allocate storage for the righthand side of the equation Av = d\n",
    "d = np.zeros(jMax+1) \n",
    "for i in range(iMax-1,-1,-1):\n",
    "    # Fill d with values depending on V^{i+1}\n",
    "    d[0] = X*exp(-r*(T-t[i])) # Boundary condition at S=0.\n",
    "    for j in range(1,jMax):\n",
    "        aa = A_bands[2,j-1] # a_j\n",
    "        bb = A_bands[1,j] + 2.0/dt # b_j + 2./dt\n",
    "        cc = A_bands[0,j+1] # c_j\n",
    "        d[j] = - aa*vOld[j-1] - bb*vOld[j] - cc*vOld[j+1]\n",
    "        \n",
    "    d[jMax] = 0.0 # Boundary condtion at S= Smax\n",
    "\n",
    "    # Solve the equation\n",
    "    vNew = solve_banded(l_and_u,A_bands,d)\n",
    "    \n",
    "    vOld = np.copy(vNew)"
   ]
  },
  {
   "cell_type": "code",
   "execution_count": 7,
   "metadata": {},
   "outputs": [
    {
     "data": {
      "text/plain": [
       "array([1.90245885, 0.9176262 , 0.19123343, 0.04296388, 0.        ])"
      ]
     },
     "execution_count": 7,
     "metadata": {},
     "output_type": "execute_result"
    }
   ],
   "source": [
    "vNew"
   ]
  },
  {
   "cell_type": "markdown",
   "metadata": {},
   "source": [
    "# Tasks:\n",
    "    \n",
    "- Try different values of `iMax` and `jMax` &mdash; what do you notice?\n",
    "- Put your algorithm in a function, and return the solution:\n",
    "    - Parameters: `sigma`, `r`, `X`, `T`, `iMax`, `jMax`\n",
    "    - return: `vNew`, `S`\n",
    "- Try plotting the solution $V(S,t=0)$ against $S$ for different values of `iMax` and `jMax`"
   ]
  },
  {
   "cell_type": "code",
   "execution_count": 8,
   "metadata": {},
   "outputs": [
    {
     "data": {
      "text/plain": [
       "array([0., 0., 0., 0., 0.])"
      ]
     },
     "execution_count": 8,
     "metadata": {},
     "output_type": "execute_result"
    }
   ],
   "source": [
    "# Bundle up the solver as a function \n",
    "def EuroPutCN( iMax, jMax, X, T, r, sigma, SmaxFactor=2.0 ):\n",
    "    # Fix the value of S on the upper boundary,\n",
    "    # then calculate the step sizes.\n",
    "    Smax = SmaxFactor * X\n",
    "    \n",
    "    dS = Smax / jMax\n",
    "    dt = T / iMax\n",
    "    \n",
    "    # Set up storage for the results\n",
    "    S = np.zeros(jMax+1)\n",
    "    t = np.zeros(iMax+1)\n",
    "    vNew = np.zeros(jMax+1)\n",
    "    vOld = np.zeros(jMax+1)\n",
    "    \n",
    "    # Calculate the values of S_j and t^i \n",
    "    t = np.array([i*dt for i in range(iMax+1)])\n",
    "    S = np.array([j*dS for j in range(jMax+1)])\n",
    "    \n",
    "    # Record the value of the option at expiry\n",
    "    vOld = np.array([max(X - S[j], 0.0) for j in range(jMax+1)])\n",
    "\n",
    "    # Set up storage for the tri-diagonal matrix A\n",
    "    # A[0,j] will be \n",
    "    A_bands = np.zeros(shape=(3,jMax+1)) \n",
    "    \n",
    "    # Set up a tuple that described the bands in our matrix\n",
    "    u=1 # number of bands above the main disgonal\n",
    "    l=1 # number of bands below the main disgonal\n",
    "    l_and_u = (l, u) # needed for solve_banded()\n",
    "    \n",
    "    # Enforce the boundary condition at S=0\n",
    "    # b_0 V_0 + c_0 V_1 = d_0\n",
    "    A_bands[1,0] = 1.0 # b_0 = 1\n",
    "    A_bands[0,1] = 0.0 # c_0 = 0\n",
    "    \n",
    "    # Set a[j], b[j] and c[j] for the middle rows\n",
    "    for j in range(1,jMax):\n",
    "        # a_j V_j-1 + b_j V_j + c_i V_j+1 = d_i\n",
    "        A_bands[2,j-1] = 0.25*(sigma*sigma*j*j - r*j) # a_j\n",
    "        A_bands[1,j] = -1./dt - 0.5*sigma*sigma*j*j - 0.5*r # b_j\n",
    "        A_bands[0,j+1] = 0.25*(sigma*sigma*j*j + r*j) # c_j\n",
    "        \n",
    "    # Enforce the boundary condition at S = Smax\n",
    "    # a_jMax V_jMax-1 + b_jMax V_jMax = d_jMax\n",
    "    A_bands[2,jMax-1] = 0.0 # a_jMax = 0\n",
    "    A_bands[1,jMax] = 1.0 # b_jMax = 1\n",
    "\n",
    "    # Allocate storage for the righthand side of the equation Av = d\n",
    "    d = np.zeros(jMax+1) \n",
    "\n",
    "    # Step backwards through time\n",
    "    for i in range(iMax-1,-1,-1):\n",
    "        # Fill d with values depending on V^{i+1}\n",
    "        d[0] = X*np.exp(-r*(T-t[i])) # Bouindary condition at S=0.\n",
    "        for j in range(1,jMax):\n",
    "            aa = A_bands[2,j-1] # a_j\n",
    "            bb = A_bands[1,j] + 2.0/dt # b_j + 2./dt\n",
    "            cc = A_bands[0,j+1] # c_j\n",
    "            d[j] = - aa*vOld[j-1] - bb*vOld[j] - cc*vOld[j+1]\n",
    "            \n",
    "        d[jMax] = 0.0 # Boundary condtion at S=Smax\n",
    "    \n",
    "        # Solve the equation\n",
    "        vNew = solve_banded(l_and_u,A_bands,d)\n",
    "\n",
    "        # Move on to the next step\n",
    "        vOld = np.copy(vNew)\n",
    "\n",
    "    # Return the results\n",
    "    return S, vNew\n",
    "\n",
    "# Check that it produces the same results as above\n",
    "iMax = 4\n",
    "jMax = 4\n",
    "S, cnV = EuroPutCN( iMax, jMax, X, T, r, sigma )\n",
    "vNew - cnV # Should be all zeros"
   ]
  },
  {
   "cell_type": "code",
   "execution_count": 9,
   "metadata": {},
   "outputs": [
    {
     "data": {
      "text/plain": [
       "<matplotlib.legend.Legend at 0x1225f3d40>"
      ]
     },
     "execution_count": 9,
     "metadata": {},
     "output_type": "execute_result"
    },
    {
     "data": {
      "image/png": "[encoded data removed]",
      "text/plain": [
       "<Figure size 640x480 with 1 Axes>"
      ]
     },
     "metadata": {},
     "output_type": "display_data"
    }
   ],
   "source": [
    "# We'll crank up the number of time steps and space steps, plotting the results.\n",
    "N = [int(pow(2,j)) for j in range(8)]\n",
    "for j in range(len(N)):\n",
    "    iMax = 2 * N[j]\n",
    "    jMax = N[j]\n",
    "    S, V = EuroPutCN( iMax, jMax, X, T, r, sigma )\n",
    "    plt.plot( S, V, label=f'iMax = {iMax}, jMax = {jMax}' )\n",
    "\n",
    "plt.plot( [X, X], [0, X], linestyle=\"dotted\" ) # Dotted vertical line at strike price\n",
    "plt.xlabel( \"$S$\" )\n",
    "plt.ylabel( \"$P(S, t=0)$\" )\n",
    "plt.title( \"European put\" )\n",
    "plt.legend()"
   ]
  },
  {
   "cell_type": "markdown",
   "metadata": {},
   "source": [
    "# Stability and Convergence of the Scheme\n",
    "\n",
    "Crank-Nicolson is stable (although prone to *ringing*) and second order convergent.\n"
   ]
  },
  {
   "cell_type": "markdown",
   "metadata": {},
   "source": [
    "# Tasks\n",
    "\n",
    "\n",
    "- derive the truncation errors of the scheme\n",
    "- by choosing different values of $\\Delta t$ and $\\Delta S$, verify the convergence rate of the method\n",
    "- analyse the errors, comparing with the analytic solution \n",
    "- try interpolation techniques to get the values inbetween the grid points.\n",
    "- use `numba` to speed up your code"
   ]
  },
  {
   "cell_type": "markdown",
   "metadata": {},
   "source": [
    "### Analytic solution\n",
    "For a European put we have:\n",
    "$$\n",
    "    P(S,t) = X e^{-r(T-t)} N(-d_2) - SN(-d_1)\n",
    "$$\n",
    "where $N$ is the cumulative distribution function of the standard normal,\n",
    "$$\n",
    "    N(x) = \\frac{1}{\\sqrt{2\\pi}} \\, \\int_{-\\infty}^x e^{-s^2/2} \\, ds,\n",
    "$$\n",
    "and the $d_j$ are given by\n",
    "$$\n",
    "\\begin{align}\n",
    "    d_1 &= \\frac{\\log(S/X) + (r + \\sigma^2/2)(T-t)}{\\sigma \\sqrt{T-t}} \\\\\n",
    "    d_2 &= \\frac{\\log(S/X) + (r - \\sigma^2/2)(T-t)}{\\sigma \\sqrt{T-t}}\n",
    "\\end{align}\n",
    "$$"
   ]
  },
  {
   "cell_type": "code",
   "execution_count": 10,
   "metadata": {},
   "outputs": [],
   "source": [
    "from scipy.stats import norm\n",
    "from math import log, exp, sqrt\n",
    "\n",
    "# Compute the exact solution\n",
    "def EuroPut_exact( S, t, X, T, r, sigma ):\n",
    "    if S == 0:\n",
    "        val = X * exp( -r*(T - t) )\n",
    "    else: # S > 0\n",
    "        d1 = log(S/X) + (r + 0.5*sigma*sigma)*(T - t)\n",
    "        d1 *= 1.0 /(sigma * sqrt(T - t))\n",
    "        \n",
    "        d2 = log(S/X) + (r - 0.5*sigma*sigma)*(T - t)\n",
    "        d2 *= 1.0 /(sigma * sqrt(T - t))\n",
    "    \n",
    "        val = X * exp( -r*(T - t) ) * norm.cdf(-d2) - S * norm.cdf(-d1)\n",
    "        \n",
    "    return val"
   ]
  },
  {
   "cell_type": "code",
   "execution_count": 11,
   "metadata": {},
   "outputs": [],
   "source": [
    "# Solve with Crank-Nicolson, then plot that and the true solution\n",
    "iMax = 128\n",
    "jMax = 128\n",
    "S, cnV = EuroPutCN( iMax, jMax, X, T, r, sigma, 4.0 ) # Use S_U = 4*X\n",
    "trueV = np.array( [EuroPut_exact(s, 0.0, X, T, r, sigma ) for s in S] )"
   ]
  },
  {
   "cell_type": "code",
   "execution_count": 12,
   "metadata": {},
   "outputs": [
    {
     "data": {
      "text/plain": [
       "<matplotlib.legend.Legend at 0x1273ccfb0>"
      ]
     },
     "execution_count": 12,
     "metadata": {},
     "output_type": "execute_result"
    },
    {
     "data": {
      "image/png": "[encoded data removed]",
      "text/plain": [
       "<Figure size 640x480 with 1 Axes>"
      ]
     },
     "metadata": {},
     "output_type": "display_data"
    }
   ],
   "source": [
    "plt.plot( S, cnV, label=f'iMax={iMax}, jMax={jMax}' )\n",
    "plt.plot( S, trueV, linestyle=\"dotted\", label='analytic solution' )\n",
    "plt.xlabel( '$S$' ) \n",
    "plt.ylabel( '$P(S, t=0)$' ) \n",
    "plt.title( \"European put\" )\n",
    "plt.legend()"
   ]
  },
  {
   "cell_type": "markdown",
   "metadata": {},
   "source": [
    "### Investigating convergence\n",
    "As in Week 8, we try a range of steps sizes in $t$ and $S$ and see how the error decreases. We'll measure error with a discrete approximation to\n",
    "$$\n",
    "   D = \\left[ \\frac{1}{S_u} \\,\\int_0^{S_u} \\left( P(S,0) - P_{FD}(S,0) \\right)^2 \\, dS \\right]^{1/2}\n",
    "$$\n",
    "where $P(S,0)$ is the analytic solution and $P_{FD}(S,0)$ is the finite-difference approximation. The quantity is sometimes called the &ldquo;root-mean-square&rdquo; difference (or RMS difference, for short) between $P(S,0)$ and $P_{FD}(S,0)$.\n",
    "\n",
    "To understand the code below, consider a trapezoidal rule approximation to an integral like the one above:\n",
    "$$\n",
    "   \\frac{1}{S_u} \\,\\int_0^{S_u} f(S)\\, dS \n",
    "   \\; \\approx \\; \\frac{1}{S_u} \\,\\sum_{j=0}^{J - 1} \\frac{\\Delta S}{2} \\left( f(S_j) + f(S_{j+1}) \\right)\n",
    "$$\n",
    "where $J = $ `jMax` is the number of steps, so $\\Delta S = S_u / J$. Thus\n",
    "$$\n",
    "\\begin{align}\n",
    "   \\frac{1}{S_u} \\, \\int_0^{S_u} f(S) \\, dS \n",
    "        & \\approx \\frac{1}{S_u} \\, \\frac{\\Delta S}{2}  \\sum_{j=0}^{J - 1} \\left( f(S_j) + f(S_{j+1}) \\right) \\\\\n",
    "        & \\approx \\frac{1}{S_u} \\, \\frac{S_u}{2 J} \\left( \\sum_{j=0}^{J - 1} f(S_j) + \\sum_{j=0}^{J - 1}f(S_{j+1}) \\right) \\\\\n",
    "        & \\approx \\frac{1}{2J} \\, \\left( \\sum_{j=0}^{J - 1} f(S_j) + \\sum_{k=1}^{J}f(S_{k}) \\right) \\\\\n",
    "\\end{align}\n",
    "$$\n",
    "Most terms of the form $f(S_j)$ appear in both sums, but $f(S_0)$ appears only in the first one, while $f(S_J)$ appears only in the second one. Thus we can write\n",
    "$$\n",
    "    \\frac{1}{S_u} \\, \\int_0^{S_u} f(S) \\, dS \\; \\approx \\; \\frac{1}{J} \\sum_{j=0}^J f(S_j) - \\frac{1}{2J} \\left( f(S_0) + f(S_j)\\right).\n",
    "$$\n",
    "If we neglect the corrections for $f(S_0)$ and $f(S_J)$, we get the approximation implemented below\n",
    "$$\n",
    "    D \\approx \\left[ \\frac{1}{J} \\sum_{j=0}^{J} \\left( P(S_j,0) - P_{FD}(S_j,0) \\right)^2 \\right]^{1/2}\n",
    "$$\n"
   ]
  },
  {
   "cell_type": "code",
   "execution_count": 13,
   "metadata": {},
   "outputs": [
    {
     "name": "stdout",
     "output_type": "stream",
     "text": [
      "iMax = 2048, jMax = 16, D = 0.017792850743957197\n",
      "iMax = 2048, jMax = 32, D = 0.0038683565505200114\n",
      "iMax = 2048, jMax = 64, D = 0.0009498303438350022\n",
      "iMax = 2048, jMax = 128, D = 0.0002370008533437693\n",
      "iMax = 2048, jMax = 256, D = 5.9280817286425855e-05\n",
      "iMax = 2048, jMax = 512, D = 1.4829161722956072e-05\n",
      "iMax = 2048, jMax = 1024, D = 3.7085395080120566e-06\n"
     ]
    }
   ],
   "source": [
    "# Define a function to compute our measure of error\n",
    "def rmsError( fdV, trueV ):\n",
    "    err = fdV - trueV\n",
    "    return( sqrt(np.mean(err*err)) )\n",
    "\n",
    "# Apply it to a range of sizes\n",
    "ijMaxVals = np.array( [int(pow(2,j)) for j in range(4,11)], dtype=np.uint )\n",
    "numVals = len(ijMaxVals)\n",
    "rmsErrorVals = np.zeros(numVals)\n",
    "for i in range(numVals):\n",
    "    jMax = int(ijMaxVals[i])\n",
    "    iMax = 2048\n",
    "    S, cnV = EuroPutCN( iMax, jMax, X, T, r, sigma, 8.0 )\n",
    "    trueV = np.array( [EuroPut_exact(s, 0.0, X, T, r, sigma ) for s in S] )\n",
    "    rmsErrorVals[i] = rmsError( cnV, trueV )\n",
    "    print( f'iMax = {iMax}, jMax = {jMax}, D = {rmsErrorVals[i]}' ) "
   ]
  },
  {
   "cell_type": "markdown",
   "metadata": {},
   "source": [
    "One can see, especially at the beginning, that when the number of steps doubles, the RMS error decreases by a factor of about 4."
   ]
  },
  {
   "cell_type": "code",
   "execution_count": 14,
   "metadata": {},
   "outputs": [
    {
     "data": {
      "text/plain": [
       "[4.599589130832668,\n",
       " 4.0726815853253,\n",
       " 4.007708539586037,\n",
       " 3.9979349845778502,\n",
       " 3.997583841482896,\n",
       " 3.998652755597895]"
      ]
     },
     "execution_count": 14,
     "metadata": {},
     "output_type": "execute_result"
    }
   ],
   "source": [
    "[rmsErrorVals[i] / rmsErrorVals[i+1] for i in range(numVals-1)]"
   ]
  },
  {
   "cell_type": "markdown",
   "metadata": {},
   "source": [
    "We can do a similar experiment with large `jMax` and varying `iMax`. Here I've used $S_U = 16X$ to reduce errors from grid truncation even further."
   ]
  },
  {
   "cell_type": "code",
   "execution_count": 15,
   "metadata": {},
   "outputs": [
    {
     "name": "stdout",
     "output_type": "stream",
     "text": [
      "iMax = 16, jMax = 65536, D = 9.306858862429882e-05\n",
      "iMax = 32, jMax = 65536, D = 3.28796965301636e-05\n",
      "iMax = 64, jMax = 65536, D = 1.164219063226677e-05\n",
      "iMax = 128, jMax = 65536, D = 4.150070929134977e-06\n",
      "iMax = 256, jMax = 65536, D = 1.5097355958044945e-06\n",
      "iMax = 512, jMax = 65536, D = 5.627470063837508e-07\n",
      "iMax = 1024, jMax = 65536, D = 1.6852356215935165e-07\n"
     ]
    }
   ],
   "source": [
    "for i in range(numVals):\n",
    "    jMax = 16*4096 \n",
    "    iMax = int(ijMaxVals[i])\n",
    "    S, cnV = EuroPutCN( iMax, jMax, X, T, r, sigma, 16.0 )\n",
    "    trueV = np.array( [EuroPut_exact(s, 0.0, X, T, r, sigma ) for s in S] )\n",
    "    rmsErrorVals[i] = rmsError( cnV, trueV )\n",
    "    print( f'iMax = {iMax}, jMax = {jMax}, D = {rmsErrorVals[i]}' ) "
   ]
  },
  {
   "cell_type": "code",
   "execution_count": 16,
   "metadata": {},
   "outputs": [
    {
     "data": {
      "text/plain": [
       "[2.83057930716965,\n",
       " 2.824184689008294,\n",
       " 2.8052991939329144,\n",
       " 2.748872677221023,\n",
       " 2.682796316423173,\n",
       " 3.33927789783859]"
      ]
     },
     "execution_count": 16,
     "metadata": {},
     "output_type": "execute_result"
    }
   ],
   "source": [
    "[rmsErrorVals[i] / rmsErrorVals[i+1] for i in range(numVals-1)]"
   ]
  },
  {
   "cell_type": "code",
   "execution_count": null,
   "metadata": {},
   "outputs": [],
   "source": []
  },
  {
   "cell_type": "markdown",
   "metadata": {},
   "source": [
    "### Thomas solver and acceleration\n",
    "\n",
    "We can't use `numba` to accelerate `EuroPutCN()` becasue of the call to `solve_banded()`, so here I replace that with my own implementation of the [Thomas solver](https://en.wikipedia.org/wiki/Tridiagonal_matrix_algorithm), which is a special case of Gaussian elimination adapted to tridiagonal systems. I'll store the diagonals of $A$ in a `(jMax+1)` $\\times 3$ array `A_diags` where:\n",
    "* `A_diags[j,0]` $= a_j$ (and hence is undefined for $j=0$)\n",
    "* `A_diags[j,1]` $= b_j$ (and hence is defined for $0 \\leq j \\leq$ `jMax`)\n",
    "* `A_diags[j,2]` $= c_j$ (and hence is undefined for $j =$ `jMax`)"
   ]
  },
  {
   "cell_type": "code",
   "execution_count": 17,
   "metadata": {},
   "outputs": [
    {
     "data": {
      "text/plain": [
       "array([ 0.00000000e+00, -1.11022302e-16,  0.00000000e+00,  0.00000000e+00,\n",
       "        0.00000000e+00])"
      ]
     },
     "execution_count": 17,
     "metadata": {},
     "output_type": "execute_result"
    }
   ],
   "source": [
    "from numba import njit\n",
    "# Define and accelerate a Crank-Nicolson solver that uses\n",
    "# the Thomas tridiagonal solver instead of solve_banded().\n",
    "\n",
    "@njit\n",
    "def EuroPutCN2( iMax, jMax, X, T, r, sigma, SmaxFactor=2.0 ):\n",
    "    # Fix the value of S on the upper boundary,\n",
    "    # then calculate the step sizes.\n",
    "    Smax = SmaxFactor * X\n",
    "    \n",
    "    dS = Smax / jMax\n",
    "    dt = T / iMax\n",
    "\n",
    "    # Calculate the values of t_i and S_j\n",
    "    t = np.array([i*dt for i in range(iMax+1)])\n",
    "    S = np.array([j*dS for j in range(jMax+1)])\n",
    "\n",
    "    # Set up storage for the results and intermediates\n",
    "    vNew = np.zeros(jMax+1)\n",
    "    vOld = np.zeros(jMax+1)\n",
    "\n",
    "    # Record the value of the option at expiry\n",
    "    vOld = np.array([max(X - S[j], 0.0) for j in range(jMax+1)])\n",
    "\n",
    "    # Set up storage for the tri-diagonal matrix A\n",
    "    # as described above.\n",
    "    A_diags = np.zeros(shape=(jMax+1,3)) \n",
    "        \n",
    "    # Enforce the boundary condition at S=0\n",
    "    # b_0 V_0 + c_0 V_1 = d_0\n",
    "    A_diags[0,1] = 1.0 # b_0 = 1\n",
    "    A_diags[0,2] = 0.0 # c_0 = 0\n",
    "    \n",
    "    # Set a[j], b[j] and c[j] for the middle rows\n",
    "    for j in range(1,jMax):\n",
    "        # a_j V_j-1 + b_j V_j + c_i V_j+1 = d_i\n",
    "        A_diags[j,0] = 0.25*(sigma*sigma*j*j - r*j) # a_j\n",
    "        A_diags[j,1] = -1.0/dt - 0.5*sigma*sigma*j*j - 0.5*r # b_j\n",
    "        A_diags[j,2] = 0.25*(sigma*sigma*j*j + r*j) # c_j\n",
    "        \n",
    "    # Enforce the boundary condition at S = Smax\n",
    "    # a_jMax V_jMax-1 + b_jMax V_jMax = d_jMax\n",
    "    A_diags[jMax,0] = 0.0 # a_jMax = 0\n",
    "    A_diags[jMax,1] = 1.0 # b_jMax = 1\n",
    "\n",
    "    # Allocate storage for the righthand side of the equation Av = d\n",
    "    d = np.zeros(jMax+1) \n",
    "\n",
    "    # Step backwards through time\n",
    "    for i in range(iMax-1,-1,-1):\n",
    "        # Fill d with values depending on V^{i+1}, which are\n",
    "        # stored in vOld[].\n",
    "        d[0] = X*np.exp(-r*(T-t[i])) # Bouindary condition at S=0.\n",
    "        for j in range(1,jMax):\n",
    "            aa = A_diags[j,0] # a_j\n",
    "            bb = A_diags[j,1] + 2.0/dt # b_j + 2/dt\n",
    "            cc = A_diags[j,2] # c_j\n",
    "            d[j] = - aa*vOld[j-1] - bb*vOld[j] - cc*vOld[j+1]\n",
    "            \n",
    "        d[jMax] = 0.0 # Boundary condtion at S = Smax\n",
    "\n",
    "        #################################################\n",
    "        # Solve Av = d using a Thomas solver:\n",
    "        # https://en.wikipedia.org/wiki/Tridiagonal_matrix_algorithm\n",
    "        #################################################\n",
    "        cPrime = np.zeros(jMax) \n",
    "        dPrime = np.zeros(jMax+1) \n",
    "    \n",
    "        cPrime[0] = A_diags[0,2] / A_diags[0,1] # c_0 / b_0\n",
    "        dPrime[0] = d[0] / A_diags[0,1] # d_0 / b_0\n",
    "        for j in range(1,jMax):\n",
    "            cp_denom = A_diags[j,1] - A_diags[j,0]*cPrime[j-1] \n",
    "            cPrime[j] = A_diags[j,2] / cp_denom # c_j / (b_j - a_j*c'_{j-1})\n",
    "            \n",
    "            dp_numerator = d[j] - A_diags[j,0]*dPrime[j-1] # d_j - a_j*d'_{j-1}\n",
    "            dp_denom = A_diags[j,1] - A_diags[j,0]*cPrime[j-1] # b_j - a_j*c'_{j-1}\n",
    "            dPrime[j] = dp_numerator / dp_denom\n",
    "    \n",
    "        # Get the last entry in dPrime\n",
    "        dp_numerator = d[jMax] - A_diags[jMax,0]*dPrime[jMax-1] \n",
    "        dp_denom = A_diags[jMax,1] - A_diags[jMax,0]*cPrime[jMax-1]\n",
    "        dPrime[jMax] = dp_numerator / dp_denom\n",
    "\n",
    "        # Obtain the result via back-substitution, storing it\n",
    "        # in vNew[].\n",
    "        vNew[jMax] = dPrime[jMax]\n",
    "        for j in range(jMax-1, -1, -1):\n",
    "            vNew[j] = dPrime[j] - cPrime[j]*vNew[j+1]\n",
    "        ###########################################################\n",
    "        \n",
    "        # Move on to the next step\n",
    "        vOld = np.copy(vNew)\n",
    "\n",
    "    # Return the results\n",
    "    return S, vNew\n",
    "\n",
    "# Check that it produces the same results as above\n",
    "iMax = 4\n",
    "jMax = 4\n",
    "S, cnV = EuroPutCN( iMax, jMax, X, T, r, sigma )\n",
    "S, cn2V = EuroPutCN2( iMax, jMax, X, T, r, sigma )\n",
    "cnV - cn2V # Should all be very close to zero"
   ]
  },
  {
   "cell_type": "code",
   "execution_count": 18,
   "metadata": {},
   "outputs": [
    {
     "name": "stdout",
     "output_type": "stream",
     "text": [
      "100 repetitions of EuroPutCN() took 4.51 seconds.\n",
      "100 repetitions of EuroPutCN2() took 0.0732 seconds.\n",
      "That's a speedup by a factor of around 62.\n"
     ]
    }
   ],
   "source": [
    "# Do some timing experiments\n",
    "from timeit import timeit\n",
    "\n",
    "iMax = 256\n",
    "jMax = 256\n",
    "nReps = 100\n",
    "CN_time = timeit( \"EuroPutCN( iMax, jMax, X, T, r, sigma )\", number=nReps, globals=globals() )\n",
    "print( f\"{nReps} repetitions of EuroPutCN() took {CN_time:.2f} seconds.\" )\n",
    "\n",
    "CN2_time = timeit( \"EuroPutCN2( iMax, jMax, X, T, r, sigma )\", number=nReps, globals=globals() )\n",
    "print( f\"{nReps} repetitions of EuroPutCN2() took {CN2_time:.4f} seconds.\" )\n",
    "\n",
    "ratio = CN_time/CN2_time\n",
    "print( f\"That's a speedup by a factor of around {ratio:.0f}.\" )"
   ]
  },
  {
   "cell_type": "code",
   "execution_count": null,
   "metadata": {},
   "outputs": [],
   "source": []
  }
 ],
 "metadata": {
  "kernelspec": {
   "display_name": "Python [conda env:base] *",
   "language": "python",
   "name": "conda-base-py"
  },
  "language_info": {
   "codemirror_mode": {
    "name": "ipython",
    "version": 3
   },
   "file_extension": ".py",
   "mimetype": "text/x-python",
   "name": "python",
   "nbconvert_exporter": "python",
   "pygments_lexer": "ipython3",
   "version": "3.12.2"
  }
 },
 "nbformat": 4,
 "nbformat_minor": 4
}
