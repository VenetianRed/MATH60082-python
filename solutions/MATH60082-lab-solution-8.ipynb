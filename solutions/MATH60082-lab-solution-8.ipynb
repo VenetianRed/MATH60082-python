{
 "cells": [
  {
   "cell_type": "markdown",
   "metadata": {},
   "source": [
    "<div style='text-align: center;'>\n",
    "<img src=\"images/math60082-banner.png\" alt=\"image\" width=\"80%\" height=\"auto\">\n",
    "</div>"
   ]
  },
  {
   "cell_type": "markdown",
   "metadata": {},
   "source": [
    "# Lab Class - Week 8\n",
    "\n",
    "## Department of Mathematics"
   ]
  },
  {
   "cell_type": "markdown",
   "metadata": {},
   "source": [
    "\n",
    "We now introduce the final numerical scheme which is related to the PDE solution.\n",
    "Finite difference methods are numerical solutions to (in CF,\n",
    "generally) parabolic PDEs. They work by approximating the derivatives at each \n",
    "point in time and then  rearranging the equations to solve backward in time.\n",
    "  There are three types of methods - the explicit method, which is \n",
    "analogous to the trinomial tree, the implicit method (which \n",
    "you would never use!) and the Crank-Nicolson method which has the best convergence characteristics. \n",
    "\n",
    "Now the PDE we wish to solve is the  Black-Scholes equation (BSM model) where there are continuous \n",
    "dividends:\n",
    "$$\\frac{\\partial V}{\\partial t}+\\frac12\\sigma^2 S^2 \\frac{\\partial^2 V}{\\partial S^2}+(r-\\delta)S \\frac{\\partial V}{\\partial S}\n",
    "-rV=0$$"
   ]
  },
  {
   "cell_type": "markdown",
   "metadata": {},
   "source": [
    "## Finite-Difference Approximations\n",
    "\n",
    "Consider a function of two variables $V(S,t)$, if we consider small \n",
    "changes in $S$ and $t$ we can use a Taylor's series to express $V(S+ \\Delta S, t)$, $V(S - \\Delta S, t)$, $V(S, t +\\Delta  t)$ as follows (all the derivatives are evaluated at $(S,t)$)\n",
    "$$\n",
    "V(S+\\Delta S,t)=V(S,t)+\\Delta S \\frac{\\partial V}{\\partial S}\n",
    "+\\tfrac12 (\\Delta S)^2\\frac{\\partial ^2 V}{\\partial S^2}\n",
    "+O((\\Delta S)^3) \\tag{1}\n",
    "$$\n",
    "$$\n",
    " V(S-\\Delta S,t)=V(S,t)-\\Delta S \\frac{\\partial V}{\\partial S}\n",
    "+\\tfrac12 (\\Delta S)^2\\frac{\\partial ^2 V}{\\partial S^2}\n",
    "+O((\\Delta S)^3) \\tag{2}\n",
    "$$\n",
    "$$\n",
    "V(S,t+\\Delta t)=V(S,t)+\\Delta t\\frac{\\partial V}{\\partial t}\n",
    "+\\tfrac12 (\\Delta t)^2\\frac{\\partial ^2V}{\\partial t^2} +O((\\Delta t)^2) \n",
    "\\tag{3}\n",
    "$$\n",
    "In order to use a finite difference scheme we need to use these expansions to approximate the first and second derivatives with \n",
    "respect to $S$ and $t$.  \n",
    "\n",
    "\n"
   ]
  },
  {
   "cell_type": "markdown",
   "metadata": {},
   "source": [
    "# Task\n",
    "\n",
    "- Use point estimates of the value function $V$ to derive approximations of $\\frac{\\partial V}{\\partial S}$ and  $\\frac{\\partial^2 V}{\\partial S^2}$.\n",
    "\n",
    "# Solution\n",
    "\n",
    "For $S$, we have two options for the first derivative:\n",
    "- From (1) &mdash; so called forward difference:\n",
    "$$\n",
    "\\frac{\\partial V}{\\partial S}(S,t)=\\frac{V(S+\\Delta S,t)-V(S,t)}{\\Delta S}\n",
    "+\\frac12 \\Delta S \\frac{\\partial^2 V}{\\partial S^2}\n",
    "+O((\\Delta S)^2)\n",
    "$$\n",
    "$$=\\frac{V(S+\\Delta S,t)-V(S,t)}{\\Delta S}\n",
    "+O(\\Delta S)\n",
    "$$\n",
    "- Take (1) minus (2) to get central difference approximation:\n",
    "$$\\frac{\\partial V}{\\partial S}(S,t)=\\frac{V(S+\\Delta S,t)-V(S-\\Delta S,t)}{2\\Delta S}+O((\\Delta S)^2)$$\n",
    "\n",
    "For the second derivative we add (1) plus (2) to get:\n",
    "$$\\frac{\\partial^2 V}{\\partial S^2}(S,t)=\\frac{V(S+\\Delta S,t)-2V(S,t)\n",
    "+V(S-\\Delta S,t)}{(\\Delta S)^2}+O((\\Delta S)^2)$$\n",
    "\n",
    "For derivative in $t$, use (3) and we have\n",
    "$$\n",
    "\\frac{\\partial V}{\\partial t}(S,t)=\\frac{V(S,t+\\Delta t)-V(S,t)}{\\Delta t}\n",
    "+\\frac12\\Delta t \\frac{\\partial^2V}{\\partial t^2}+O((\\Delta t)^2)\\nonumber\\\\\n",
    "$$\n",
    "$$=\\frac{V(S,t+\\Delta t)-V(S,t)}{\\Delta t}+O(\\Delta t)\\nonumber\n",
    "$$\n",
    "In general central differencing (when appropriate) is the most accurate."
   ]
  },
  {
   "cell_type": "markdown",
   "metadata": {},
   "source": [
    "## How does this help us?\n",
    "\n",
    "  Reconsider the Black-Scholes equation and in particular the Black-Scholes equation for a European options where there are continuous \n",
    "dividends:\n",
    "$$\\frac{\\partial V}{\\partial t}+\\frac12\\sigma^2 S^2 \\frac{\\partial^2 V}{\\partial S^2}+(r-\\delta)S \\frac{\\partial V}{\\partial S}\n",
    "-rV=0 \\tag{4}$$\n",
    "By substuting the finite difference formula into (4), we can find an equation for $V(S,t)$ in terms of $V(S+\\Delta S,t+\\Delta t)$, $V(S,t+\\Delta t)$ and $V(S-\\Delta S,t+\\Delta t)$.\n",
    "\n",
    "## Domain and Boundary conditions\n",
    "\n",
    "To get a solution, we must satisfy (4) at all interior points in the domain \n",
    "$$\n",
    "0<S<\\infty, \\quad \\quad t<T,\n",
    "$$\n",
    "and specify the value at the boundaries:\n",
    "$$\n",
    "S=0, \\quad \\quad S\\to\\infty, \\quad \\mbox{and} \\quad t=T.\n",
    "$$\n",
    "Given finite storage space and computation time, we must approximate the semi infinite domain with a suitably large finite value of $S$.\n",
    "\n",
    "The boundary conditions are:  \n",
    "- For a call:\n",
    "| Boundary | Condition |\n",
    "|---|---|\n",
    "|$t = T$ | $V(S,T) = \\max(S - X, 0)$ |\n",
    "|$S = 0$ | $V(0,T) = 0$ |\n",
    "|$S \\to \\infty$ | $V(S, t) \\to Se^{-\\delta(T-t)} - Xe^{-r(T-t)}$\n",
    "\n",
    "- for a put:\n",
    "| Boundary | Condition |\n",
    "|---|---|\n",
    "|$t = T$ | $V(S,T) = \\max(X - S, 0)$ |\n",
    "|$S = 0$ | $V(0, t) = Xe^{-r(T-t)}$ |\n",
    "|$S \\to \\infty$ | $V(S, t) \\to  0$\n",
    "\n",
    "\n",
    "## Constructing the Finite Difference Grid\n",
    "\n",
    "We now need  to ensure that we have a fine enough grid to allow for most possible movements in $S$ and \n",
    "enough time steps $t$.\n",
    " As for the binomial and Monte-Carlo method we will discuss later what is a suitable size/number for these steps.\n",
    "  We partition the interval $[0, S_u]$ into $jmax$ subintervals each of \n",
    "length $\\Delta S = S_u/jmax$, thus the endpoints of the intervals (or grid \n",
    "nodes) are 0, $\\Delta S$, $2\\Delta S$,..., $(jmax - 1)\\Delta S$, $jmax\\Delta S = S_u$. So we may write\n",
    "$$\n",
    "S_j = j \\Delta S.\n",
    "$$\n",
    "  We also partition the interval $[0, T]$ into $imax$ subintervals each of length $\\Delta t = T/imax$, thus the nodes on the grid are 0, $\\Delta t$,..., $(imax - 1)\\Delta t$, $imax \\Delta t = T$. So we may write\n",
    "  $$\n",
    "t^i = i \\Delta t.\n",
    "$$\n",
    "\n",
    "  We will denote the option price at each node $V(j\\Delta S, i\\Delta t)$ as $V_j^i$. In code, we will use `vNew[j]` as an array corresponding to the value of the option we are solving for $V_j^i$, and `vOld[j]` an array corresponding to the value of the option $V_j^{i+1}$ we solved at the previous timestep (remember we solve backwards in time).\n",
    "\n",
    "# Tasks\n",
    "\n",
    "Consider the simple example of a European Put option, with the following parameters: $\\sigma=0.4$, $r=0.05$, $X=2$, $T=1$. \n",
    "\n",
    "- Trying sketching out the grid.\n",
    "- Consider a small example with `imax=jmax=4`, setup storage arrays for the grid and plot out the value of the option at expiry and the boundary conditions."
   ]
  },
  {
   "cell_type": "code",
   "execution_count": 1,
   "metadata": {},
   "outputs": [],
   "source": [
    "# To get started, import some things we'll need\n",
    "import numpy as np\n",
    "import matplotlib.pyplot as plt\n",
    "\n",
    "from math import exp, sqrt, log\n",
    "from scipy.stats import norm"
   ]
  },
  {
   "cell_type": "code",
   "execution_count": 2,
   "metadata": {},
   "outputs": [],
   "source": [
    "# setup the parameters\n",
    "sigma = 0.4 # volatility\n",
    "r = 0.05 # risk-free return\n",
    "delta = 0.0 # continuous dividend rate\n",
    "X = 2 # strike price\n",
    "T = 1 # expiration\n",
    "\n",
    "imax = 4 # Number of steps in the time grid\n",
    "jmax = 4 # Number of steps in the S grid\n",
    "SuFactor = 2 # S_u = SuFactor * X"
   ]
  },
  {
   "cell_type": "code",
   "execution_count": 3,
   "metadata": {},
   "outputs": [],
   "source": [
    "## Calculate the step sizes\n",
    "dS = (SuFactor*X) / jmax\n",
    "dt = T / imax\n",
    "\n",
    "# The grid values in S and t\n",
    "S = np.array( [j*dS for j in range(jmax+1)] )\n",
    "t = np.array( [i*dt for i in range(imax+1)] )\n",
    "\n",
    "# Allocate storage for our approximate values of V(S,t): \n",
    "# vOld will hold values of V^{i+1}_j, while vNew will \n",
    "# receive values of V^{i}_j\n",
    "vNew = np.zeros(jmax+1)\n",
    "vOld = np.zeros(jmax+1)"
   ]
  },
  {
   "cell_type": "markdown",
   "metadata": {},
   "source": [
    "\n",
    "# Finite Difference Approach\n",
    "\n",
    "Therefore the finite difference approach will proceed as follows:\n",
    "1. Substitute appropriate finite difference formulas into the PDE;\n",
    "2. Rearrange to derive a single (linear) equation including $V^i_j$ at each point $i,j$ on the interior of the grid;\n",
    "3. Apply any boundary conditions as appropriate.\n",
    "4. Solve the equation (or system of equations) at each and every point  on the interior of  the grid, taking care to update the values required for other equations first.\n",
    "\n",
    "# Explicit Finite Difference Method\n",
    "\n",
    "Substituing our finite difference approximations into (4), the BSM equation approximates to\n",
    "$$\\frac{V_j^{i+1}-V_j^i}{\\Delta t}+\n",
    "\\tfrac12\\sigma^2j^2(\\Delta S)^2\\frac{V_{j+1}^{i+1}-2V_j^{i+1}-V_{j-1}^{i+1}}{(\\Delta S)^2}\n",
    "+(r-\\delta)j\\Delta S\\frac{V_{j+1}^{i+1}\n",
    "-V_{j-1}^{i+1}}{2\\Delta S}-r V_j^i=0,$$\n",
    "note that the unknown here is $V_j^i$ as we will be solving backwards in time. So we can rearrange in terms of this unknown:\n",
    "$$\n",
    "V_j^i=\\frac{1}{1+r\\Delta t}(A V_{j+1}^{i+1}+B V_j^{i+1}+C V_{j-1}^{i+1})\n",
    "\\tag{5}\n",
    "$$\n",
    "where:\n",
    "$$A=(\\tfrac12\\sigma^2 j^2+\\tfrac12(r-\\delta)j)\\Delta t$$\n",
    "$$B=1-\\sigma^2j^2\\Delta t$$\n",
    "$$C=(\\tfrac12\\sigma^2j^2-\\tfrac12(r-\\delta)j)\\Delta t$$\n",
    "\n",
    " Thus, just as with a binomial tree, we have a way of calculating\n",
    "the option value at expiry &mdash; the known payoff  &mdash; and we have \n",
    "a scheme for calculating the option value for all values of\n",
    "$S$ at the previous time step.\n",
    "Thus we can  use the backward scheme and equation (5) for $V_i^j$\n",
    "to calculate the option value all the way back to $t = 0$.\n",
    "\n",
    "  The differences between the binomial and explicit finite\n",
    "difference method are\n",
    "- the binomial uses two nodes to the explicit finite difference's\n",
    "three.\n",
    "- You get to choose the specifications of the grid in the finite\n",
    "difference method\n",
    "- You also need to specify the behaviour on the upper and\n",
    "lower $S$ boundaries.\n"
   ]
  },
  {
   "cell_type": "markdown",
   "metadata": {},
   "source": [
    "# Finite Difference Approximations on the Boundary Conditions\n",
    "\n",
    "If we attempt to use (5) to calculate $V_0^i$ then we need\n",
    "to have values of $V_{-1}^i$ which we don't have (this falls outside the grid).\n",
    " So for $V_0^i$ and $V_{jmax}^i$ we need to use our boundary conditions. \n",
    "In order to be used, they will normally need to be **discretised**.\n",
    "\n",
    "First consider the payoff at expiry $t=T$, we have $V(S,T)= \\max(X-S,0)$ so this can be written\n",
    "$$\n",
    "V_j^{imax} = \\max(X - S_j , 0).\n",
    "$$\n",
    "\n",
    "For put option, at $S=0$, we have $V(S=0,t)= X e^{-r(T-t)}$ so in discrete terms this changes to\n",
    "$$\n",
    "V_0^i = X e^{-r(T-i\\Delta t)}\n",
    "$$\n",
    "and as $S\\to\\infty$ we have $V\\to 0$. This can be either\n",
    "$$\n",
    "V_{jmax}^i = 0\n",
    "$$\n",
    "or using a weaker condition, we may say $\\frac{dV}{dS}\\to 0$, which can discretised to\n",
    "$$\n",
    "\\frac{V_{jmax}^i-V_{jmax-1}^i}{\\Delta S} = 0.\n",
    "$$\n",
    "This second condition may provide better results at lower values of $S_u$, which could make it more efficient."
   ]
  },
  {
   "cell_type": "markdown",
   "metadata": {},
   "source": [
    "Tasks:\n",
    "    \n",
    "- Code up the finite difference method and print out the values on screen.\n",
    "- Try different values of `imax` and `jmax` -- what do you notice?\n",
    "- Put your algorithm in a function, and return the solution:\n",
    "    - Parameters: `sigma`, `r`, `X`, `T`, `imax`, `jmax`\n",
    "    - return: `vNew`, `S`\n",
    "- Try plotting the solution $V(S,t=0)$ against $S$ for different values of $imax$ and $jmax$"
   ]
  },
  {
   "cell_type": "code",
   "execution_count": 4,
   "metadata": {},
   "outputs": [
    {
     "name": "stdout",
     "output_type": "stream",
     "text": [
      "t= 1.0 S= 0.0 V(S,t)= 2.0\n",
      "t= 1.0 S= 1.0 V(S,t)= 1.0\n",
      "t= 1.0 S= 2.0 V(S,t)= 0.0\n",
      "t= 1.0 S= 3.0 V(S,t)= 0.0\n",
      "t= 1.0 S= 4.0 V(S,t)= 0.0\n"
     ]
    }
   ],
   "source": [
    "# The boundary condition at t=T is the value of the option at expiry\n",
    "for j in range(jmax+1):\n",
    "    vOld[j] = max( X - S[j], 0.0 )\n",
    "    print(\"t=\",t[imax],\"S=\",S[j],\"V(S,t)=\",vOld[j])"
   ]
  },
  {
   "cell_type": "code",
   "execution_count": 5,
   "metadata": {},
   "outputs": [
    {
     "name": "stdout",
     "output_type": "stream",
     "text": [
      "t= 0.75 S= 0.0 V(S,t)= 1.9751556009877629\n",
      "t= 0.75 S= 1.0 V(S,t)= 0.9753086419753086\n",
      "t= 0.75 S= 2.0 V(S,t)= 0.0666666666666667\n",
      "t= 0.75 S= 3.0 V(S,t)= 0.0\n",
      "t= 0.75 S= 4.0 V(S,t)= 0.0\n",
      "t= 0.5 S= 0.0 V(S,t)= 1.9506198240566652\n",
      "t= 0.5 S= 1.0 V(S,t)= 0.9532885785776574\n",
      "t= 0.5 S= 2.0 V(S,t)= 0.12032921810699593\n",
      "t= 0.5 S= 3.0 V(S,t)= 0.01061728395061729\n",
      "t= 0.5 S= 4.0 V(S,t)= 0.01061728395061729\n",
      "t= 0.25 S= 0.0 V(S,t)= 1.9263888354416436\n",
      "t= 0.25 S= 1.0 V(S,t)= 0.9334683456697669\n",
      "t= 0.25 S= 2.0 V(S,t)= 0.16435123064622278\n",
      "t= 0.25 S= 3.0 V(S,t)= 0.027958847736625526\n",
      "t= 0.25 S= 4.0 V(S,t)= 0.027958847736625526\n",
      "t= 0.0 S= 0.0 V(S,t)= 1.902458849001428\n",
      "t= 0.0 S= 1.0 V(S,t)= 0.9154880771701355\n",
      "t= 0.0 S= 2.0 V(S,t)= 0.20113613875671535\n",
      "t= 0.0 S= 3.0 V(S,t)= 0.04933542664770182\n",
      "t= 0.0 S= 4.0 V(S,t)= 0.04933542664770182\n"
     ]
    }
   ],
   "source": [
    "# Work backward through time\n",
    "discountRatio = 1.0 /(1.0 + r*dt)\n",
    "for i in range(imax-1,-1,-1): # Counts down from iMax-1 to 0 in steps of -1\n",
    "    # apply boundary condition at S=0\n",
    "    vNew[0] = X * exp( -r*(T - t[i]) )\n",
    "    for j in range(1,jmax):\n",
    "        jSqSigmaSqDt = j*j*sigma*sigma*dt\n",
    "        rMinusDeltaJdt = (r - delta)*j*dt\n",
    "        A = 0.5*(jSqSigmaSqDt + rMinusDeltaJdt)\n",
    "        B = 1.0 - jSqSigmaSqDt\n",
    "        C = 0.5*(jSqSigmaSqDt - rMinusDeltaJdt)\n",
    "        vNew[j] = discountRatio * (A*vOld[j+1] + B*vOld[j] + C*vOld[j-1])\n",
    "        \n",
    "    # Apply boundary condition at S=S_u\n",
    "    vNew[jmax] = vNew[jmax-1] # Coud also use vNew[jmax] = 0.0\n",
    "    \n",
    "    # Prepare for the next step by copying vNew into vOld\n",
    "    # MAKE SURE THIS IS A DEEP COPY!\n",
    "    # using following syntax to create a new array to put copy in should work\n",
    "    vOld = np.copy(vNew)\n",
    "    \n",
    "    for j in range(jmax+1):\n",
    "        print(\"t=\",t[i],\"S=\",S[j],\"V(S,t)=\",vNew[j])\n",
    "\n",
    "vNewOrig = vNew.copy()"
   ]
  },
  {
   "cell_type": "code",
   "execution_count": 6,
   "metadata": {},
   "outputs": [
    {
     "data": {
      "text/plain": [
       "array([0., 0., 0., 0., 0.])"
      ]
     },
     "execution_count": 6,
     "metadata": {},
     "output_type": "execute_result"
    }
   ],
   "source": [
    "from numba import njit\n",
    "\n",
    "# Bundle up the solver as a function and accelerate it\n",
    "@njit\n",
    "def EuroPutFD( iMax, jMax, X, T, r, sigma, delta, SuFactor=2.0, DirichletBC=False ):\n",
    "    # Set up the grid\n",
    "    sUpper = SuFactor * X\n",
    "    dS = sUpper / jMax \n",
    "    dt = T / iMax \n",
    "    \n",
    "    S = np.array([j*dS for j in range(jMax+1)])\n",
    "    t = np.array([i*dt for i in range(iMax+1)])\n",
    "\n",
    "    # Set up the working arrays\n",
    "    vOld = np.zeros( jMax + 1 )\n",
    "    vNew = np.zeros( jMax + 1 )\n",
    "    \n",
    "    # Install the boundary condition at t=T.\n",
    "    for j in range(jMax + 1):\n",
    "        vOld[j] = max( X - S[j], 0.0 )\n",
    "\n",
    "    # Now work back through time\n",
    "    discountRatio = 1.0 /(1.0 + r*dt)\n",
    "    for i in range(iMax-1,-1,-1):\n",
    "        # Apply boundary condition at S=0\n",
    "        vNew[0] = X * exp( -r*(T - t[i]) )\n",
    "\n",
    "        # Use the finite-difference rule for all interior points\n",
    "        for j in range(1,jMax):\n",
    "            jSqSigmaSqDt = j*j*sigma*sigma*dt\n",
    "            rMinusDeltaJdt = (r - delta)*j*dt\n",
    "            A = 0.5*(jSqSigmaSqDt + rMinusDeltaJdt)\n",
    "            B = 1 - jSqSigmaSqDt\n",
    "            C = 0.5*(jSqSigmaSqDt - rMinusDeltaJdt)\n",
    "            vNew[j] = discountRatio * (A*vOld[j+1] + B*vOld[j] + C*vOld[j-1])\n",
    "            \n",
    "        # Apply boundary condition at S=S_u\n",
    "        if( DirichletBC ):\n",
    "            vNew[jMax] = 0.0 # Dirichlet\n",
    "        else: \n",
    "            vNew[jMax] = vNew[jMax-1] # Neumann\n",
    "        \n",
    "        # Prepare for the next step by copying vNew into vOld\n",
    "        vOld = np.copy(vNew)\n",
    "\n",
    "    # Return the S grid and V(S,0)\n",
    "    return S, vNew\n",
    "\n",
    "# Do a small test: the results shoud all be near zero\n",
    "S, vNewFD = EuroPutFD( 4, 4, X, T, r, sigma, delta )\n",
    "vNewFD - vNewOrig"
   ]
  },
  {
   "cell_type": "code",
   "execution_count": 7,
   "metadata": {},
   "outputs": [
    {
     "data": {
      "text/plain": [
       "<matplotlib.legend.Legend at 0x12a64e840>"
      ]
     },
     "execution_count": 7,
     "metadata": {},
     "output_type": "execute_result"
    },
    {
     "data": {
      "image/png": "[encoded data removed]",
      "text/plain": [
       "<Figure size 640x480 with 1 Axes>"
      ]
     },
     "metadata": {},
     "output_type": "display_data"
    }
   ],
   "source": [
    "# We'll crank up the number of time steps and space steps, plotting the results.\n",
    "N = [int(pow(2,j)) for j in range(4,11)]\n",
    "for j in range(len(N)):\n",
    "    iMax = 2 * N[j]\n",
    "    jMax = N[j]\n",
    "    S, V = EuroPutFD( iMax, jMax, X, T, r, sigma, delta )\n",
    "    plt.plot( S, V, label=f'iMax = {iMax}, jMax = {jMax}' )\n",
    "\n",
    "plt.plot( [X, X], [0, X], linestyle=\"dotted\" )\n",
    "plt.xlabel( \"$S$\" )\n",
    "plt.ylabel( \"$P(S, t=0)$\" )\n",
    "plt.title( \"European put\" )\n",
    "plt.legend()"
   ]
  },
  {
   "cell_type": "markdown",
   "metadata": {},
   "source": [
    "# Stability and Convergence of the Scheme\n",
    "\n",
    " You will see that it is possible to think of the explicit finite\n",
    "difference scheme as a trinomial tree and $A$, $B$ and $C$ as\n",
    "probabilities.\n",
    "  First note that $A + B + C = 1$, second consider what the\n",
    "expected value of $S$ is at time $i\\Delta t$:\n",
    "$$E[S_j^i]=\\frac{1}{1+r\\Delta t}(A(S_j^i+\\Delta S))+B(S_j^i)+C(S_j^i-\\Delta S))$$\n",
    "$$=\\frac{1}{1+r\\Delta t}(S_j^i(1+(r-\\delta)\\Delta t))$$\n",
    "$$=\\frac{1}{1+r\\Delta t}E[S_j^{i+1}]$$\n",
    "the expected future value of $S$, following GBM, under the risk-neutral\n",
    "probability discounted at the risk-free\n",
    "rate. So $A$, $B$ and $C$ can also be interpreted as risk-neutral\n",
    "probabilities (you can also check that the variance works).\n",
    "\n",
    " Unfortunately, the explicit finite difference scheme is\n",
    "occasionally unstable, in that for particular choices of $\\Delta t$ and \n",
    "$\\Delta S$, the scheme will not give an option value even close to the\n",
    "correct answer as small errors magnify during the iterative\n",
    "procedure.\n",
    "  There is a mathematical method that can be used to determine\n",
    "what the constraint is, however, we can also appeal to our\n",
    "probabilistic explanation to see what the constraint is for the\n",
    "explicit finite difference method.\n",
    "\n",
    "# Tasks\n",
    "\n",
    "- What can we say about $A$, $B$ and $C$ if we know they are probabilities? Derive and test the stability condition\n",
    "$$\n",
    "\\Delta t<\\frac{1}{\\sigma^2 j^2}.\n",
    "$$\n"
   ]
  },
  {
   "cell_type": "markdown",
   "metadata": {},
   "source": [
    "The condition above ensures that $B > 0$."
   ]
  },
  {
   "cell_type": "markdown",
   "metadata": {},
   "source": [
    "# Efficiency\n",
    "\n",
    "Choosing the values of $\\Delta t$ and $\\Delta S$ will affect the efficiency of your scheme. The stability often severely restricts choice of $\\Delta t$, $\\Delta S$:\n",
    "- $\\Delta t$ cannot be too small, or else computation will take too long\n",
    "- then this puts lower bound on size of $\\Delta S$\n",
    "Nonetheless, we have some flexibility. Two common choices:\n",
    "- choose $\\Delta t$, $\\Delta S$ so that $B = 2/3$\n",
    "(means $A,C$ approx. $1/6$)\n",
    "- choose $\\Delta t$, $\\Delta S$  so that $B = 1/3$\n",
    "(means A,C approx. 1/3)\n",
    "\n",
    "# Tasks\n",
    "\n",
    "- derive the truncation errors of the scheme\n",
    "- by choosing different values of $\\Delta t$ and $\\Delta S$, verify the convergence rate of the method\n",
    "- analyse the errors, comparing with the analytic solution \n",
    "- try interpolation techniques to get the values inbetween the grid points.\n",
    "- use `numba` to speed up your code"
   ]
  },
  {
   "cell_type": "markdown",
   "metadata": {},
   "source": [
    "#### Analytic solution\n",
    "For a European put we have:\n",
    "$$\n",
    "    P(S,t) = X e^{-r(T-t)} N(-d_2) - SN(-d_1)\n",
    "$$\n",
    "where $N$ is the cumulative distribution function of the standard normal,\n",
    "$$\n",
    "    N(x) = \\frac{1}{\\sqrt{2\\pi}} \\, \\int_{-\\infty}^x e^{-s^2/2} \\, ds,\n",
    "$$\n",
    "and the $d_j$ are given by\n",
    "$$\n",
    "\\begin{align}\n",
    "    d_1 &= \\frac{\\log(S/X) + (r + \\sigma^2/2)(T-t)}{\\sigma \\sqrt{T-t}} \\\\\n",
    "    d_2 &= \\frac{\\log(S/X) + (r - \\sigma^2/2)(T-t)}{\\sigma \\sqrt{T-t}}\n",
    "\\end{align}\n",
    "$$"
   ]
  },
  {
   "cell_type": "code",
   "execution_count": 8,
   "metadata": {},
   "outputs": [],
   "source": [
    "from scipy.stats import norm\n",
    "\n",
    "# Compute the exact solution\n",
    "def EuroPut_exact( S, t, X, T, r, sigma ):\n",
    "    if S == 0:\n",
    "        val = X * exp( -r*(T - t) )\n",
    "    else: # S > 0\n",
    "        d1 = log(S/X) + (r + 0.5*sigma*sigma)*(T - t)\n",
    "        d1 *= 1.0 /(sigma * sqrt(T - t))\n",
    "        \n",
    "        d2 = log(S/X) + (r - 0.5*sigma*sigma)*(T - t)\n",
    "        d2 *= 1.0 /(sigma * sqrt(T - t))\n",
    "    \n",
    "        val = X * exp( -r*(T - t) ) * norm.cdf(-d2) - S * norm.cdf(-d1)\n",
    "        \n",
    "    return val"
   ]
  },
  {
   "cell_type": "code",
   "execution_count": 9,
   "metadata": {},
   "outputs": [],
   "source": [
    "# Set up a problem\n",
    "X = 100.0\n",
    "T = 1.0\n",
    "r = 0.06\n",
    "sigma = 0.2\n",
    "delta = 0.0"
   ]
  },
  {
   "cell_type": "markdown",
   "metadata": {},
   "source": [
    "If we want to arrange that the largest value of $B$ is, say, $\\theta \\in (0,1)$ then we need\n",
    "$$\n",
    "    \\theta = 1 - \\sigma^2 J^2 \\frac{T}{I}\n",
    "    \\qquad \\mbox{or} \\qquad\n",
    "    \\frac{J^2}{I} = \\frac{1 - \\theta}{\\sigma^2 T},\n",
    "$$\n",
    "where $I =$ `iMax` and $J =$ `jMax`. We can rearrange this to get a formula for $I$ in terms of $J$:\n",
    "$$\n",
    "I = \\left(\\frac{\\sigma^2 T}{1 - \\theta}\\right) J^2.\n",
    "$$"
   ]
  },
  {
   "cell_type": "code",
   "execution_count": 10,
   "metadata": {},
   "outputs": [
    {
     "data": {
      "text/plain": [
       "(984, 128)"
      ]
     },
     "execution_count": 10,
     "metadata": {},
     "output_type": "execute_result"
    }
   ],
   "source": [
    "# Choose iMax and jMax so that the maximum value of B is around 1/3.\n",
    "from math import ceil\n",
    "\n",
    "theta = 1.0/3.0\n",
    "stabilityRatio = (sigma*sigma*T)/(1.0 - theta)\n",
    "\n",
    "# Set jMax, then use it to compute iMax\n",
    "jMax = 128\n",
    "iMax = int(ceil(jMax*jMax*stabilityRatio))\n",
    "(iMax, jMax)"
   ]
  },
  {
   "cell_type": "code",
   "execution_count": 11,
   "metadata": {},
   "outputs": [],
   "source": [
    "# Solve with finite differences, then plot that and the true solution\n",
    "delta = 0.0\n",
    "S, fdV = EuroPutFD( iMax, jMax, X, T, r, sigma, delta )\n",
    "trueV = np.array( [EuroPut_exact(s, 0.0, X, T, r, sigma ) for s in S] )"
   ]
  },
  {
   "cell_type": "code",
   "execution_count": 12,
   "metadata": {},
   "outputs": [
    {
     "data": {
      "text/plain": [
       "<matplotlib.legend.Legend at 0x13f989640>"
      ]
     },
     "execution_count": 12,
     "metadata": {},
     "output_type": "execute_result"
    },
    {
     "data": {
      "image/png": "[encoded data removed]",
      "text/plain": [
       "<Figure size 640x480 with 1 Axes>"
      ]
     },
     "metadata": {},
     "output_type": "display_data"
    }
   ],
   "source": [
    "plt.plot( S, fdV, label=f'iMax={iMax}, jMax={jMax}' )\n",
    "plt.plot( S, trueV, linestyle=\"dotted\", label='analytic solution' )\n",
    "plt.xlabel( '$S$' ) \n",
    "plt.ylabel( '$P(S, t=0)$' ) \n",
    "plt.title( \"European put\" )\n",
    "plt.legend()"
   ]
  },
  {
   "cell_type": "markdown",
   "metadata": {},
   "source": [
    "The agreement between the two curves is so good that one can't really see any differences in this plot."
   ]
  },
  {
   "cell_type": "markdown",
   "metadata": {},
   "source": [
    "### Investigating convergence\n",
    "Here we try a range of steps sizes in $t$ and $S$ and see how the error decreases. We'll measure error with a discrete approximation to\n",
    "$$\n",
    "   D = \\left[ \\frac{1}{S_u} \\,\\int_0^{S_u} \\left( P(S,0) - P_{FD}(S,0) \\right)^2 \\, dS \\right]^{1/2}\n",
    "$$\n",
    "where $P(S,0)$ is the analytic solution and $P_{FD}(S,0)$ is the finite-difference approximation."
   ]
  },
  {
   "cell_type": "code",
   "execution_count": 13,
   "metadata": {},
   "outputs": [
    {
     "name": "stdout",
     "output_type": "stream",
     "text": [
      "iMax = 16, jMax = 16, D = 0.13071098038352705\n",
      "iMax = 62, jMax = 32, D = 0.03242845209953716\n",
      "iMax = 246, jMax = 64, D = 0.008127482967296694\n",
      "iMax = 984, jMax = 128, D = 0.002040461763007803\n",
      "iMax = 3933, jMax = 256, D = 0.0005208014877076591\n",
      "iMax = 15729, jMax = 512, D = 0.0001619355985894163\n",
      "iMax = 62915, jMax = 1024, D = 0.00010208579821180843\n"
     ]
    }
   ],
   "source": [
    "# Define a function to compute our measure of error\n",
    "def rmsError( fdV, trueV ):\n",
    "    err = fdV - trueV\n",
    "    return( sqrt(np.mean(err*err)) )\n",
    "\n",
    "# Apply it to a range of sizes\n",
    "jMaxVals = np.array( [int(pow(2,j)) for j in range(4,11)], dtype=np.uint )\n",
    "numJVals = len(jMaxVals)\n",
    "iMaxVals = np.zeros(numJVals, dtype=np.uint)\n",
    "rmsErrorVals = np.zeros(numJVals)\n",
    "for i in range(numJVals):\n",
    "    jMax = jMaxVals[i]\n",
    "    iMax = int(ceil(jMax*jMax*stabilityRatio))\n",
    "    iMaxVals[i] = iMax\n",
    "    S, fdV = EuroPutFD( iMax, jMax, X, T, r, sigma, delta )\n",
    "    trueV = np.array( [EuroPut_exact(s, 0.0, X, T, r, sigma ) for s in S] )\n",
    "    rmsErrorVals[i] = rmsError( fdV, trueV )\n",
    "    print( f'iMax = {iMax}, jMax = {jMax}, D = {rmsErrorVals[i]}' ) "
   ]
  },
  {
   "cell_type": "markdown",
   "metadata": {},
   "source": [
    "#### Convergence in $\\Delta S$\n",
    "Here we'll hold `iMax` at a large value (so that $\\Delta t$ is very small) and examine the error as a function of $\\Delta S$. One expects quadratic convergence, which means that\n",
    "$$\n",
    "    D = G \\Delta S^2 + \\mbox{higher order terms}\n",
    "$$\n",
    "for some constant $G$. Thus if we repeatedly double the number of steps `jMax`, (and thus reduce $\\Delta S$ by a factor of two), we expect $D$ to decrease by a factor of around 4."
   ]
  },
  {
   "cell_type": "code",
   "execution_count": 14,
   "metadata": {},
   "outputs": [
    {
     "name": "stdout",
     "output_type": "stream",
     "text": [
      "dS = 12.5, D[0] = 0.1443413090911362\n",
      "dS = 6.25, D[1] = 0.0356786843491803, D[0]/D[1] = 4.045589452752687\n",
      "dS = 3.125, D[2] = 0.00893385506397742, D[1]/D[2] = 3.993649336560412\n",
      "dS = 1.5625, D[3] = 0.0022393286034633427, D[2]/D[3] = 3.9895239359513077\n",
      "dS = 0.78125, D[4] = 0.0005674758946614299, D[3]/D[4] = 3.946121103169292\n",
      "dS = 0.390625, D[5] = 0.00016959112622463773, D[4]/D[5] = 3.3461414361371733\n",
      "dS = 0.1953125, D[6] = 0.00010208579821180843, D[5]/D[6] = 1.6612607159398285\n"
     ]
    }
   ],
   "source": [
    "iMax = iMaxVals[numJVals-1]\n",
    "dsVals = np.zeros(numJVals)\n",
    "for i in range(numJVals):\n",
    "    jMax = jMaxVals[i]\n",
    "    S, fdV = EuroPutFD( iMax, jMax, X, T, r, sigma, delta )\n",
    "    trueV = np.array( [EuroPut_exact(s, 0.0, X, T, r, sigma ) for s in S] )\n",
    "    rmsErrorVals[i] = rmsError( fdV, trueV )\n",
    "    dsVals[i] = S[1] - S[0]\n",
    "    if i > 0:\n",
    "        errRatio = rmsErrorVals[i-1] / rmsErrorVals[i]\n",
    "        print( f'dS = {dsVals[i]}, D[{i}] = {rmsErrorVals[i]}, D[{i-1}]/D[{i}] = {errRatio}' ) \n",
    "    else:\n",
    "        print( f'dS = {dsVals[i]}, D[{i}] = {rmsErrorVals[i]}' ) "
   ]
  },
  {
   "cell_type": "markdown",
   "metadata": {},
   "source": [
    "The expected behaviour appears for all but the smallest values of $\\Delta S$."
   ]
  },
  {
   "cell_type": "markdown",
   "metadata": {},
   "source": [
    "#### Convergence in $\\Delta t$\n",
    "The relationship between `iMax` and `jMax` imposed by stability considerations means that it's harder to do a straightforward experiment about the dependence of $D$ on $\\Delta t$.\n",
    "\n",
    "Our stability relation\n",
    "$$\n",
    "    I = \\left(\\frac{\\sigma^2 T}{1 - \\theta}\\right) J^2\n",
    "$$\n",
    "can be rewritten in terms of $\\Delta S = S_u/J$ and $\\Delta t = T / I$ so that it becomes\n",
    "$$\n",
    "    \\frac{T}{\\Delta t} = \\left(\\frac{\\sigma^2 T}{1 - \\theta}\\right) \\left( \\frac{S_u}{\\Delta S}\\right)^2\n",
    "    \\qquad \\mbox{or} \\qquad\n",
    "    \\Delta t = \\left( \\frac{T}{S_u^2} \\right) \\left(\\frac{1 - \\theta}{\\sigma^2 T}\\right)\\Delta S^2\n",
    "$$\n",
    "This means that if $\\Delta S$ decreases by a factor of 2, then $\\Delta t$ decreases by a factor of 4.  The analysis with Taylor series above suggests that,\n",
    "$$\n",
    "    D = G \\Delta S^2 + H \\Delta t + \\mbox{higher order terms},\n",
    "$$\n",
    "for some constants $G$ and $H$ and so if we reduce $\\Delta S$ as in the previous numerical experiment (by factors of 2 ) and compute $\\Delta t$ in a way consistent with stability, we expect to see the errors decline by a factor of 4."
   ]
  },
  {
   "cell_type": "code",
   "execution_count": 15,
   "metadata": {},
   "outputs": [
    {
     "name": "stdout",
     "output_type": "stream",
     "text": [
      "dS = 12.5, dt = 0.0625, D[0] = 0.13071098038352705\n",
      "dS = 6.25, dt = 0.016129032258064516, D[1] = 0.03242845209953716, D[0]/D[1] = 4.0307499100579225\n",
      "dS = 3.125, dt = 0.0040650406504065045, D[2] = 0.008127482967296694, D[1]/D[2] = 3.9899747843240676\n",
      "dS = 1.5625, dt = 0.0010162601626016261, D[3] = 0.002040461763007803, D[2]/D[3] = 3.9831586725330923\n",
      "dS = 0.78125, dt = 0.0002542588354945334, D[4] = 0.0005208014877076591, D[3]/D[4] = 3.9179261410888544\n",
      "dS = 0.390625, dt = 6.357683260219975e-05, D[5] = 0.0001619355985894163, D[4]/D[5] = 3.216102526215612\n",
      "dS = 0.1953125, dt = 1.5894460780418023e-05, D[6] = 0.00010208579821180843, D[5]/D[6] = 1.5862696028827734\n"
     ]
    }
   ],
   "source": [
    "rmsErrorVals = np.zeros(numJVals)\n",
    "for i in range(numJVals):\n",
    "    jMax = jMaxVals[i]\n",
    "    iMax = int(ceil(jMax*jMax*stabilityRatio))\n",
    "    S, fdV = EuroPutFD( iMax, jMax, X, T, r, sigma, delta )\n",
    "    trueV = np.array( [EuroPut_exact(s, 0.0, X, T, r, sigma ) for s in S] )\n",
    "\n",
    "    dS = S[1] -  S[0]\n",
    "    dt = T / iMax\n",
    "    rmsErrorVals[i] = rmsError( fdV, trueV )\n",
    "    if i > 0 :\n",
    "        errRatio = rmsErrorVals[i-1] / rmsErrorVals[i]\n",
    "        print( f'dS = {dS}, dt = {dt}, D[{i}] = {rmsErrorVals[i]}, D[{i-1}]/D[{i}] = {errRatio}' ) \n",
    "    else:\n",
    "        print( f'dS = {dS}, dt = {dt}, D[{i}] = {rmsErrorVals[i]}' ) "
   ]
  },
  {
   "cell_type": "markdown",
   "metadata": {},
   "source": [
    "The expected relationship holds up until we get to the very smallest step sizes."
   ]
  },
  {
   "cell_type": "markdown",
   "metadata": {},
   "source": [
    "#### Dependence on $S_u$\n",
    "If we try to get more accuracy by increasing `jMax` and `iMax` in the numerical experiments above, the answers don't really improve much. I think this is an influence of the imperfect upper boundary condition (as we can't really send $S$ to infinity) and so one might expect to be able to get lower values of $D$ by using a larger a larger value of $S_u$. "
   ]
  },
  {
   "cell_type": "code",
   "execution_count": 16,
   "metadata": {},
   "outputs": [
    {
     "name": "stdout",
     "output_type": "stream",
     "text": [
      "dS = 12.5, dt = 0.016129032258064516, D[0] = 0.10094385227469042\n",
      "dS = 6.25, dt = 0.0040650406504065045, D[1] = 0.024800380930649454, D[0]/D[1] = 4.070254104441572\n",
      "dS = 3.125, dt = 0.0010162601626016261, D[2] = 0.006189090313015415, D[1]/D[2] = 4.007112463441553\n",
      "dS = 1.5625, dt = 0.0002542588354945334, D[3] = 0.0015481142769550955, D[2]/D[3] = 3.9978252285021303\n",
      "dS = 0.78125, dt = 6.357683260219975e-05, D[4] = 0.00038727100596361785, D[3]/D[4] = 3.997495947580783\n",
      "dS = 0.390625, dt = 1.5894460780418023e-05, D[5] = 9.685664912022778e-05, D[4]/D[5] = 3.998393600039785\n",
      "dS = 0.1953125, dt = 3.973630984784967e-06, D[6] = 2.4219532368794752e-05, D[5]/D[6] = 3.999113097865634\n",
      "dS = 0.09765625, dt = 9.934107067819156e-07, D[7] = 6.055511025817835e-06, D[6]/D[7] = 3.9995852151096942\n",
      "dS = 0.048828125, dt = 2.483526766954789e-07, D[8] = 1.5136766928072204e-06, D[7]/D[8] = 4.000531325211504\n"
     ]
    }
   ],
   "source": [
    "jMaxVals = np.array( [int(pow(2,j)) for j in range(5,14)], dtype=np.uint )\n",
    "numJVals = len(jMaxVals)\n",
    "\n",
    "rmsErrorVals = np.zeros(numJVals)\n",
    "for i in range(numJVals):\n",
    "    jMax = jMaxVals[i]\n",
    "    iMax = int(ceil(jMax*jMax*stabilityRatio))\n",
    "    S, fdV = EuroPutFD( iMax, jMax, X, T, r, sigma, delta, SuFactor = 4.0 ) # S_u = SuFactor * X\n",
    "    trueV = np.array( [EuroPut_exact(s, 0.0, X, T, r, sigma ) for s in S] )\n",
    "\n",
    "    dS = S[1] -  S[0]\n",
    "    dt = T / iMax\n",
    "    rmsErrorVals[i] = rmsError( fdV, trueV )\n",
    "    if i > 0 :\n",
    "        errRatio = rmsErrorVals[i-1] / rmsErrorVals[i]\n",
    "        print( f'dS = {dS}, dt = {dt}, D[{i}] = {rmsErrorVals[i]}, D[{i-1}]/D[{i}] = {errRatio}' ) \n",
    "    else:\n",
    "        print( f'dS = {dS}, dt = {dt}, D[{i}] = {rmsErrorVals[i]}' ) "
   ]
  },
  {
   "cell_type": "markdown",
   "metadata": {},
   "source": [
    "This experiment supports the view that a larger valueof $S_u$ permits greater accuracy."
   ]
  },
  {
   "cell_type": "markdown",
   "metadata": {},
   "source": [
    "#### Interpolation"
   ]
  },
  {
   "cell_type": "markdown",
   "metadata": {},
   "source": [
    "Left as an exercise for the reader: see the documentation for NumPy's [`interp()`](https://numpy.org/doc/stable/reference/generated/numpy.interp.html)for linear interpolation or, for cubic splines (useful if you want to try Richardson extrapolation later in the term), see SciPy's [`CubicSpline()`](https://docs.scipy.org/doc/scipy/reference/generated/scipy.interpolate.CubicSpline.html)"
   ]
  },
  {
   "cell_type": "code",
   "execution_count": null,
   "metadata": {},
   "outputs": [],
   "source": []
  }
 ],
 "metadata": {
  "kernelspec": {
   "display_name": "Python [conda env:base] *",
   "language": "python",
   "name": "conda-base-py"
  },
  "language_info": {
   "codemirror_mode": {
    "name": "ipython",
    "version": 3
   },
   "file_extension": ".py",
   "mimetype": "text/x-python",
   "name": "python",
   "nbconvert_exporter": "python",
   "pygments_lexer": "ipython3",
   "version": "3.12.2"
  }
 },
 "nbformat": 4,
 "nbformat_minor": 4
}
