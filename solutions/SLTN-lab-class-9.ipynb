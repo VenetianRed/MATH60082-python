{
 "cells": [
  {
   "cell_type": "markdown",
   "metadata": {},
   "source": [
    "<div style='text-align: center;'>\n",
    "<img src=\"../images/math60082-banner.png\" alt=\"image\" width=\"80%\" height=\"auto\">\n",
    "</div>"
   ]
  },
  {
   "cell_type": "markdown",
   "metadata": {},
   "source": [
    "# Lab Class - Week 9\n",
    "\n",
    "## Department of Mathematics"
   ]
  },
  {
   "cell_type": "markdown",
   "metadata": {},
   "source": [
    "Last time we demonstrated the explicit finite difference method\n",
    "- We showed how accurate it can be,\n",
    "- how timestep restrictions make it inefficient,\n",
    "- and how interpolation can maintain accuracy inbetween grid points.\n",
    "- This time we cover the Crank Nicolson Method."
   ]
  },
  {
   "cell_type": "markdown",
   "metadata": {},
   "source": [
    "## Crank Nicolson Method"
   ]
  },
  {
   "cell_type": "markdown",
   "metadata": {},
   "source": [
    "As introduced at the end of the last lecture the Crank-Nicolson scheme \n",
    "works by evaluating the derivatives at $V(S, t + \\Delta t/2)$.\n",
    "The main advantages of this is that the error in the time derivative is \n",
    "now $(\\Delta t)^2$ rather than $\\Delta t$ and that there are no \n",
    "stability constraints.\n",
    "The only problem with using the Crank-Nicolson method rather than the explicit method is that we will need to use three option \n",
    "values in the future $(t+\\Delta t)$ to calculate three option values not $(t)$. This will make the scheme slightly  harder.\n",
    "\n",
    "# Task\n",
    "\n",
    "- Use finite difference to generate $O((\\Delta S)^2,(\\Delta t)^2)$ approximations to the derivatives in the BS PDE.\n"
   ]
  },
  {
   "cell_type": "markdown",
   "metadata": {},
   "source": [
    "Take a Taylor series expansion wrt $t$ around the point $(S,t+1/2\\Delta t)$, we have\n",
    "$$\tV(S,t)=V(S,t+1/2\\Delta t)-\\tfrac12\\Delta t\\frac{\\partial V}{\\partial t}\n",
    "\t+\\tfrac18 (\\Delta t)^2\\frac{\\partial ^2V}{\\partial t^2} +O((\\Delta t)^3) \n",
    "\t\\tag{*}\n",
    "$$\n",
    "and\n",
    "$$\n",
    "V(S,t+\\Delta t)=V(S,t+1/2\\Delta t)+\\tfrac12\\Delta t\\frac{\\partial V}{\\partial t}\n",
    "+\\tfrac18 (\\Delta t)^2\\frac{\\partial ^2V}{\\partial t^2} +O((\\Delta t)^3) .\n",
    "\\tag{**}\n",
    "$$\n",
    "Subtracting (*) away from (**) and dividing by $\\Delta t$ we are left with\n",
    "$$\n",
    "\\frac{V(S,t+\\Delta t)-V(S,t)}{\\Delta t} = \\frac{\\partial V}{\\partial t}\n",
    " +O((\\Delta t)^2) .\n",
    "$$\n",
    "\n",
    "So how do we find $\\frac{\\partial V}{\\partial S}$ at $(S,t+1/2\\Delta t)$ if there is not any grid points at that time level?\n",
    "Next consider \n",
    "$$\\frac{\\partial V}{\\partial S}(S,t)=\\frac{V(S+\\Delta S,t)-V(S-\\Delta S,t)}{2\\Delta S}+O((\\Delta S)^2)$$\n",
    "and \n",
    "$$\\frac{\\partial V}{\\partial S}(S,t+\\Delta t)=\\frac{V(S+\\Delta S,t+\\Delta t)-V(S-\\Delta S,t+\\Delta t)}{2\\Delta S}+O((\\Delta S)^2)$$\n",
    "so\n",
    "$$\\frac{\\partial V}{\\partial S}(S,t+1/2\\Delta t)=\\frac{V(S+\\Delta S,t)-V(S-\\Delta S,t)+V(S+\\Delta S,t+\\Delta t)-V(S-\\Delta S,t+\\Delta t)}{4\\Delta S}+O((\\Delta S)^2,(\\Delta t)^2)$$\n",
    "is a second order approximation at $(S,t+1/2\\Delta t)$. We can do similar for $\\frac{\\partial^2 V}{\\partial S^2}$, and even for example the term\n",
    "$$\n",
    " - r V(S,t+1/2\\Delta t)= -r \\tfrac12 \\big(V(S,t) + V(S,t+\\Delta t) \\big) +O((\\Delta t)^2)\n",
    "$$\n",
    "must be approximated at the half time step.\n"
   ]
  },
  {
   "cell_type": "markdown",
   "metadata": {},
   "source": [
    "# Crank-Nicolson Scheme\n",
    "\n",
    "From our new approximations, in terms of $V^i_j$ we have\n",
    "$$\\frac{\\partial V}{\\partial t}\\approx \\frac{V_j^{i+1}-V_j^i}{\\Delta t}$$\n",
    "$$\\frac{\\partial V}{\\partial S}\\approx \\frac{1}{4\\Delta S}(V^i_{j+1}-\n",
    "V^i_{j-1}+V_{j+1}^{i+1}-\n",
    "V_{j-1}^{i+1})$$\n",
    "$$\\frac{\\partial^2 V}{\\partial S^2}\\approx \\frac{1}{2\\Delta S^2}(V^i_{j+1}-2V_j^i\n",
    "+V^i_{j-1}+V_{j+1}^{i+1}-2V_j^{i+1}\n",
    "+V_{j-1}^{i+1})$$\n",
    "$$V\\approx \\frac{1}{2}(V^i_{j}+V_{j}^{i+1})$$\n",
    "Substituting these approximations into the BS PDE, and given that here the $V^i$ values are all unknown, we rearrange our equations to have the known values on one side and the \n",
    "unknown values on the other.\n",
    "$$\n",
    "  \\tfrac14(\\sigma^2j^2-rj)V_{j-1}^i\n",
    "+(-\\frac{\\sigma^2j^2}{2}-\\frac{r}{2}\n",
    "-\\frac{1}{\\Delta t})V_j^i\n",
    "+\\tfrac14(\\sigma^2j^2+rj)\n",
    "V_{j+1}^i=d_j$$\n",
    "where\n",
    "$$\n",
    "d_=-\\tfrac14(\\sigma^2j^2-rj)V_{j-1}^{i+1}-(-\\frac{\\sigma^2j^2}{2}\n",
    "-\\frac{r}{2}+\\frac{1}{\\Delta t})\n",
    "V_j^{i+1}-\\frac14(\\sigma^2j^2+rj)V_{j+1}^{i+1}\n",
    "$$"
   ]
  },
  {
   "cell_type": "markdown",
   "metadata": {},
   "source": [
    "# Linear Algebra Problem\n",
    "\n",
    "\n",
    "We can rewrite the valuation problem in terms of a matrix as follows:\n",
    "$$\\begin{pmatrix}\n",
    "b_0&c_0&0&0&.&.&.&.&0\\\\\n",
    "a_1&b_1&c_1&0&.&.&.&.&.\\\\\n",
    "0&a_2&b_2&c_2&0&.&.&.&.\\\\\n",
    ".&.&a_3&b_3&c_3&.&.&.&.\\\\\n",
    ".&.&.&.&.&.&.&.&.\\\\\n",
    ".&.&.&.&a_j&b_j&c_j&.&.\\\\\n",
    ".&.&.&.&.&.&.&.&.\\\\\n",
    "0&.&.&.&.&.&.&a_{jmax}&b_{jmax}\n",
    "\\end{pmatrix}\n",
    "\\begin{pmatrix}\n",
    "V_0^i\\\\V_1^i\\\\V_2^i\\\\V_3^i\\\\.\\\\.\\\\V_{jmax-1}^i\\\\V_{jmax}^i\n",
    "\\end{pmatrix}\n",
    "=\\begin{pmatrix}\n",
    "d_0^i\\\\d_1^i\\\\d_2^i\\\\d_3^i\\\\.\\\\.\\\\d_{jmax-1}^i\\\\d_{jmax}^i\n",
    "\\end{pmatrix}\n",
    "$$\n",
    "where for $1\\leq j <jMax$ we have:\n",
    "$$a_j=\\tfrac14(\\sigma^2j^2-rj)$$\n",
    "$$b_j=-\\frac{\\sigma^2j^2}{2}-\\frac{r}{2}-\\frac{1}{\\Delta t}$$\n",
    "$$c_j=\\tfrac14(\\sigma^2j^2+rj)$$\n",
    "$$d_j=-\\tfrac14(\\sigma^2j^2-rj)V_{j-1}^{i+1}-(-\\frac{\\sigma^2j^2}{2}-\\frac{r}{2}+\\frac{1}{\\Delta\n",
    "t})V_j^{i+1}-\\tfrac14(\\sigma^2j^2+rj)V_{j+1}^{i+1}\n",
    "$$\n",
    "For $j=0$ and $j=jMax$, we will need to use the boundary conditions of the problem.\n",
    "\n",
    "First consider the payoff at expiry $t=T$, we have $V(S,T)= \\max(X-S,0)$ so this can be written\n",
    "$$\n",
    "V_j^{imax} = \\max(X - S_j , 0).\n",
    "$$\n",
    "For put option, at $S=0$, we have $V_0^i = X e^{-r(T-i\\Delta t)}$ so to convert into matrix form we write\n",
    "$$\n",
    "b_0 V_0^i +c_0 V_1^i = d_0\n",
    "$$\n",
    "and therefore $b_0=1$, $c_0=0$ and $d_0=Xe^{-r(T-i\\Delta t)}$.\n",
    "\n",
    "Now at upper boundary $V_{jmax}^i = 0$ so we write \n",
    "$$\n",
    "a_{jmax} V_{jmax-1}^i +b_{jmax} V_{jmax}^i = d_{jmax}\n",
    "$$\n",
    "and therefore $a_{jmax}=0$, $b_{jmax}=0$ and $d_{jmax}=0$.\n"
   ]
  },
  {
   "cell_type": "markdown",
   "metadata": {},
   "source": [
    "# Matrix Form\n",
    "\n",
    "The matrix problem to solve is therefore\n",
    "$$\n",
    "A \\boldsymbol{V^i} = \\boldsymbol{d^{i+1}}\n",
    "$$\n",
    "where $\\boldsymbol{d^{i+1}}$ depends on the value function $V$ at $t+\\Delta t$.\n",
    "Note that this matrix is extremely sparse -- there are only 3 non zero diagonals."
   ]
  },
  {
   "cell_type": "code",
   "execution_count": 51,
   "metadata": {},
   "outputs": [],
   "source": [
    "# To get started import some libraries\n",
    "import numpy\n",
    "import scipy\n",
    "import matplotlib.pyplot as plt"
   ]
  },
  {
   "cell_type": "code",
   "execution_count": 58,
   "metadata": {},
   "outputs": [],
   "source": [
    "# setup the parameters\n",
    "sigma = 0.4\n",
    "r = 0.05\n",
    "X = 2\n",
    "T = 1\n",
    "imax = 40\n",
    "jmax = 40"
   ]
  },
  {
   "cell_type": "code",
   "execution_count": 59,
   "metadata": {},
   "outputs": [],
   "source": [
    "## calculate the step size and then setup storage for the value\n",
    "dS = 2*X / jmax\n",
    "dt = T / imax\n",
    "\n",
    "S = numpy.zeros(jmax+1)\n",
    "t = numpy.zeros(imax+1)\n",
    "vNew = numpy.zeros(jmax+1)\n",
    "vOld = numpy.zeros(jmax+1)\n",
    "\n",
    "# calculate the values of S_j and t^i and check they work as expected\n",
    "for i in range(imax+1):\n",
    "    t[i] = i*dt\n",
    "\n",
    "for j in range(jmax+1):\n",
    "    S[j] = j*dS\n",
    "\n",
    "# first enter the value of the option at expiry\n",
    "for j in range(jmax+1):\n",
    "    vOld[j] = max( X - S[j] , 0.0 )\n",
    "    vNew[j] = max( X - S[j] , 0.0 )"
   ]
  },
  {
   "cell_type": "markdown",
   "metadata": {},
   "source": [
    "# Tasks\n",
    "\n",
    "- setup the matrix problem\n",
    "- solve the matrix using a sparse solver"
   ]
  },
  {
   "cell_type": "markdown",
   "metadata": {},
   "source": [
    "We use diagonal storage to build the matrix, in this case we have a central diagonal ($b_j$) plus $l=1$ lower diagonal ($a_j$) and $u=1$ diagonal above ($c_j$). So we create a $3\\times (jmax+1)$ matrix $AB$ with the following relationship to $A$, \n",
    "$$\n",
    "AB_{u + i - j, j} = A_{i,j}\n",
    "$$\n",
    "Once in this special format we can call the `solve_banded` function.\n",
    "\n",
    "See the [scipy documentation](https://docs.scipy.org/doc/scipy/reference/generated/scipy.linalg.solve_banded.html#scipy.linalg.solve_banded) for more details."
   ]
  },
  {
   "cell_type": "code",
   "execution_count": 60,
   "metadata": {},
   "outputs": [],
   "source": [
    "from scipy.linalg import solve_banded"
   ]
  },
  {
   "cell_type": "code",
   "execution_count": 61,
   "metadata": {},
   "outputs": [
    {
     "name": "stdout",
     "output_type": "stream",
     "text": [
      "[[ 0.00000e+00  0.00000e+00  5.25000e-02  1.85000e-01  3.97500e-01\n",
      "   6.90000e-01  1.06250e+00  1.51500e+00  2.04750e+00  2.66000e+00\n",
      "   3.35250e+00  4.12500e+00  4.97750e+00  5.91000e+00  6.92250e+00\n",
      "   8.01500e+00  9.18750e+00  1.04400e+01  1.17725e+01  1.31850e+01\n",
      "   1.46775e+01  1.62500e+01  1.79025e+01  1.96350e+01  2.14475e+01\n",
      "   2.33400e+01  2.53125e+01  2.73650e+01  2.94975e+01  3.17100e+01\n",
      "   3.40025e+01  3.63750e+01  3.88275e+01  4.13600e+01  4.39725e+01\n",
      "   4.66650e+01  4.94375e+01  5.22900e+01  5.52225e+01  5.82350e+01\n",
      "   6.13275e+01]\n",
      " [ 1.00000e+00 -4.01050e+01 -4.03450e+01 -4.07450e+01 -4.13050e+01\n",
      "  -4.20250e+01 -4.29050e+01 -4.39450e+01 -4.51450e+01 -4.65050e+01\n",
      "  -4.80250e+01 -4.97050e+01 -5.15450e+01 -5.35450e+01 -5.57050e+01\n",
      "  -5.80250e+01 -6.05050e+01 -6.31450e+01 -6.59450e+01 -6.89050e+01\n",
      "  -7.20250e+01 -7.53050e+01 -7.87450e+01 -8.23450e+01 -8.61050e+01\n",
      "  -9.00250e+01 -9.41050e+01 -9.83450e+01 -1.02745e+02 -1.07305e+02\n",
      "  -1.12025e+02 -1.16905e+02 -1.21945e+02 -1.27145e+02 -1.32505e+02\n",
      "  -1.38025e+02 -1.43705e+02 -1.49545e+02 -1.55545e+02 -1.61705e+02\n",
      "   1.00000e+00]\n",
      " [ 2.75000e-02  1.35000e-01  3.22500e-01  5.90000e-01  9.37500e-01\n",
      "   1.36500e+00  1.87250e+00  2.46000e+00  3.12750e+00  3.87500e+00\n",
      "   4.70250e+00  5.61000e+00  6.59750e+00  7.66500e+00  8.81250e+00\n",
      "   1.00400e+01  1.13475e+01  1.27350e+01  1.42025e+01  1.57500e+01\n",
      "   1.73775e+01  1.90850e+01  2.08725e+01  2.27400e+01  2.46875e+01\n",
      "   2.67150e+01  2.88225e+01  3.10100e+01  3.32775e+01  3.56250e+01\n",
      "   3.80525e+01  4.05600e+01  4.31475e+01  4.58150e+01  4.85625e+01\n",
      "   5.13900e+01  5.42975e+01  5.72850e+01  6.03525e+01  0.00000e+00\n",
      "   0.00000e+00]]\n"
     ]
    }
   ],
   "source": [
    "A_banded = numpy.zeros(shape=(3,jmax+1))\n",
    "u=1\n",
    "l=1\n",
    "l_and_u = (l, u)\n",
    "\n",
    "# b_0 V_0 + c_0 V_1 = d_0\n",
    "A_banded[1][0] = 1.0 # b_0\n",
    "A_banded[0][1] = 0.0 # c_0\n",
    "# populate middle rows\n",
    "for j in range(1,jmax):\n",
    "    # a_j V_j-1 + b_j V_j + c_i V_j+1 = d_i\n",
    "    A_banded[2][j-1] = 0.25*(sigma*sigma*j*j - r*j) # a_j\n",
    "    A_banded[1][j] = -1./dt - 0.5*sigma*sigma*j*j - 0.5*r # b_j\n",
    "    A_banded[0][j+1] = 0.25*(sigma*sigma*j*j + r*j) # c_j\n",
    "# populate last row\n",
    "# a_jmax V_jmax-1 + b_jmax V_jmax = d_jmax\n",
    "A_banded[2][jmax-1] = 0.0 # a_jmax \n",
    "A_banded[1][jmax] = 1.0 # b_jmax\n",
    "\n",
    "# print banded matrix\n",
    "print(A_banded)"
   ]
  },
  {
   "cell_type": "code",
   "execution_count": 62,
   "metadata": {},
   "outputs": [],
   "source": [
    "for i in range(imax-1,-1,-1):\n",
    "    # Create a vector for multiplication\n",
    "    d = numpy.zeros(jmax+1)\n",
    "    d[0] = X*numpy.exp(-r*(T-i*dt))\n",
    "    for j in range(1,jmax):\n",
    "        aa = 0.25*(sigma*sigma*j*j - r*j) # a_j\n",
    "        bb = 1./dt - 0.5*sigma*sigma*j*j - 0.5*r # b_j + 2./dt\n",
    "        cc = 0.25*(sigma*sigma*j*j + r*j) # c_j\n",
    "        d[j] = - aa*vOld[j-1] - bb*vOld[j] - cc*vOld[j+1]\n",
    "    d[jmax] = 0.0\n",
    "\n",
    "    # Perform sparse matrix-vector multiplication\n",
    "    vNew = solve_banded(l_and_u,A_banded,d)\n",
    "    \n",
    "    vOld = numpy.copy(vNew)"
   ]
  },
  {
   "cell_type": "code",
   "execution_count": 63,
   "metadata": {},
   "outputs": [
    {
     "data": {
      "text/plain": [
       "array([1.90245885, 1.80245884, 1.70245886, 1.60245947, 1.5024669 ,\n",
       "       1.40251725, 1.30273767, 1.20343286, 1.10514606, 1.00864954,\n",
       "       0.91486476, 0.82474672, 0.73917224, 0.65885733, 0.58431231,\n",
       "       0.51583103, 0.45350513, 0.39725341, 0.34685794, 0.30200064,\n",
       "       0.26229686, 0.22732384, 0.19664351, 0.16981981, 0.14643109,\n",
       "       0.12607841, 0.10839066, 0.09302706, 0.07967797, 0.0680643 ,\n",
       "       0.05793612, 0.04907074, 0.04127052, 0.03436053, 0.02818631,\n",
       "       0.02261164, 0.01751654, 0.01279536, 0.00835512, 0.004114  ,\n",
       "       0.        ])"
      ]
     },
     "execution_count": 63,
     "metadata": {},
     "output_type": "execute_result"
    }
   ],
   "source": [
    "vNew"
   ]
  },
  {
   "cell_type": "code",
   "execution_count": 50,
   "metadata": {},
   "outputs": [
    {
     "data": {
      "text/plain": [
       "[<matplotlib.lines.Line2D at 0x12da0f3cad0>]"
      ]
     },
     "execution_count": 50,
     "metadata": {},
     "output_type": "execute_result"
    },
    {
     "data": {
      "image/png": "[encoded data removed]",
      "text/plain": [
       "<Figure size 640x480 with 1 Axes>"
      ]
     },
     "metadata": {},
     "output_type": "display_data"
    }
   ],
   "source": [
    "plt.plot(S,vNew)"
   ]
  },
  {
   "cell_type": "markdown",
   "metadata": {},
   "source": [
    "# Tasks:\n",
    "    \n",
    "- Try different values of `imax` and `jmax` -- what do you notice?\n",
    "- Put your algorithm in a function, and return the solution:\n",
    "    - Parameters: `sigma`, `r`, `X`, `T`, `SU`, `imax`, `jmax`\n",
    "    - return: `vNew`, `S`\n",
    "- Try plotting the solution $V(S,t=0)$ against $S$ for different values of $S^U$, $imax$ and $jmax$"
   ]
  },
  {
   "cell_type": "code",
   "execution_count": 64,
   "metadata": {},
   "outputs": [],
   "source": [
    "def crankNicolson_EuroPut( X,T ,r,sigma , SU,imax,jmax ):\n",
    "    ## calculate the step size and then setup storage for the value\n",
    "    dS = SU / jmax\n",
    "    dt = T / imax\n",
    "\n",
    "    S = numpy.zeros(jmax+1)\n",
    "    t = numpy.zeros(imax+1)\n",
    "    vNew = numpy.zeros(jmax+1)\n",
    "    vOld = numpy.zeros(jmax+1)\n",
    "\n",
    "    # calculate the values of S_j and t^i and check they work as expected\n",
    "    for i in range(imax+1):\n",
    "        t[i] = i*dt\n",
    "\n",
    "    for j in range(jmax+1):\n",
    "        S[j] = j*dS\n",
    "\n",
    "    # first enter the value of the option at expiry\n",
    "    for j in range(jmax+1):\n",
    "        vOld[j] = max( X - S[j] , 0.0 )\n",
    "        vNew[j] = max( X - S[j] , 0.0 )\n",
    "        \n",
    "    A_banded = numpy.zeros(shape=(3,jmax+1))\n",
    "    u=1\n",
    "    l=1\n",
    "    l_and_u = (l, u)\n",
    "\n",
    "    # b_0 V_0 + c_0 V_1 = d_0\n",
    "    A_banded[1][0] = 1.0 # b_0\n",
    "    A_banded[0][1] = 0.0 # c_0\n",
    "    # populate middle rows\n",
    "    for j in range(1,jmax):\n",
    "        # a_j V_j-1 + b_j V_j + c_i V_j+1 = d_i\n",
    "        A_banded[2][j-1] = 0.25*(sigma*sigma*j*j - r*j) # a_j\n",
    "        A_banded[1][j] = -1./dt - 0.5*sigma*sigma*j*j - 0.5*r # b_j\n",
    "        A_banded[0][j+1] = 0.25*(sigma*sigma*j*j + r*j) # c_j\n",
    "    # populate last row\n",
    "    # a_jmax V_jmax-1 + b_jmax V_jmax = d_jmax\n",
    "    A_banded[2][jmax-1] = 0.0 # a_jmax \n",
    "    A_banded[1][jmax] = 1.0 # b_jmax\n",
    "\n",
    "    for i in range(imax-1,-1,-1):\n",
    "        # Create a vector for multiplication\n",
    "        d = numpy.zeros(jmax+1)\n",
    "        d[0] = X*numpy.exp(-r*(T-i*dt))\n",
    "        for j in range(1,jmax):\n",
    "            aa = 0.25*(sigma*sigma*j*j - r*j) # a_j\n",
    "            bb = 1./dt - 0.5*sigma*sigma*j*j - 0.5*r # b_j + 2./dt\n",
    "            cc = 0.25*(sigma*sigma*j*j + r*j) # c_j\n",
    "            d[j] = - aa*vOld[j-1] - bb*vOld[j] - cc*vOld[j+1]\n",
    "        d[jmax] = 0.0\n",
    "\n",
    "        # Perform sparse matrix-vector multiplication\n",
    "        vNew = solve_banded(l_and_u,A_banded,d)\n",
    "        \n",
    "        vOld = numpy.copy(vNew)\n",
    "        \n",
    "    return S,vNew"
   ]
  },
  {
   "cell_type": "code",
   "execution_count": 65,
   "metadata": {},
   "outputs": [],
   "source": [
    "S,vNew = crankNicolson_EuroPut( X,T, r,sigma, 2*X,40,40)"
   ]
  },
  {
   "cell_type": "code",
   "execution_count": 66,
   "metadata": {},
   "outputs": [
    {
     "data": {
      "text/plain": [
       "[<matplotlib.lines.Line2D at 0x12da1fe12d0>]"
      ]
     },
     "execution_count": 66,
     "metadata": {},
     "output_type": "execute_result"
    },
    {
     "data": {
      "image/png": "[encoded data removed]",
      "text/plain": [
       "<Figure size 640x480 with 1 Axes>"
      ]
     },
     "metadata": {},
     "output_type": "display_data"
    }
   ],
   "source": [
    "plt.plot(S,vNew)"
   ]
  },
  {
   "cell_type": "code",
   "execution_count": 120,
   "metadata": {},
   "outputs": [
    {
     "name": "stdout",
     "output_type": "stream",
     "text": [
      "10 80 0.26069470006177436 -1.3526211702845323 0.01425960008236582\n",
      "20 160 0.2623660550124859 -442.3388937361817 0.26292317332938975\n",
      "40 320 0.2627801610200964 4.03605579246654 0.2629181963559665\n",
      "80 640 0.2628834619378179 4.008735031055313 0.2629178955770584\n",
      "160 1280 0.26290927399479336 4.002041287133186 0.26291787801378513\n",
      "320 2560 0.26291572659659046 4.000255677799605 0.26291787746385614\n",
      "640 5120 0.262917339924261 3.9995606069593324 0.2629178777001511\n",
      "1280 10240 0.2629177433713846 3.998857783154017 0.26291787785375914\n"
     ]
    }
   ],
   "source": [
    "valueOld=1.\n",
    "diffOld=1.\n",
    "\n",
    "for k in range(0,8):\n",
    "    n = 10\n",
    "    imax = (2**k)*n\n",
    "    jmax = (2**k)*8*n\n",
    "    SU = 8*X\n",
    "    # run calculation with imax different values\n",
    "    # increasing by factor of 2\n",
    "    S,vNew = crankNicolson_EuroPut( X,T, r,sigma,SU,imax,jmax)\n",
    "    \n",
    "    # get value\n",
    "    value = numpy.interp( X , S, vNew)\n",
    "    \n",
    "    # get difference between last calculation\n",
    "    diff = value - valueOld\n",
    "    \n",
    "    # try Richardson extrapolation to improve result\n",
    "    extrap = (4*value - valueOld)/3.\n",
    "    \n",
    "    # if second order diffOld/diff -> 4\n",
    "    print(imax , jmax, value,diffOld/diff,extrap )\n",
    "    \n",
    "    valueOld = value\n",
    "    diffOld = diff"
   ]
  },
  {
   "cell_type": "markdown",
   "metadata": {},
   "source": [
    "# Efficiency\n",
    "\n",
    "- increasing imax and jmax will increase computation time\n",
    "- increasing $S^u$ (and keeping jmax fixed) will **increase** $\\Delta S$ and therefore increase errors from the numerical scheme, but reduces grid truncation errors\n",
    "- choose $S^U$ to balance competing effects\n",
    "- may find the ratio between imax and jmax can be altered to improve computation and maintain accuracy, we should aim for the size of the errors in each to be same size."
   ]
  },
  {
   "cell_type": "markdown",
   "metadata": {},
   "source": [
    "# Stability and Convergence of the Scheme\n",
    "\n",
    "Crank-Nicolson is stable (although prone to *ringing*) and second order convergent.\n"
   ]
  },
  {
   "cell_type": "markdown",
   "metadata": {},
   "source": [
    "# Tasks\n",
    "\n",
    "\n",
    "- derive the truncation errors of the scheme\n",
    "- by choosing different values of $\\Delta t$ and $\\Delta S$, verify the convergence rate of the method\n",
    "- analyse the errors, comparing with the analytic solution \n",
    "- try interpolation techniques to get the values inbetween the grid points.\n",
    "- use `numba` to speed up your code"
   ]
  },
  {
   "cell_type": "markdown",
   "metadata": {},
   "source": [
    "# Solving A New Problem...\n",
    "\n",
    "Consider a European call option with dividends. We have a new PDE\n",
    "$$\n",
    "\\frac{\\partial V}{\\partial t}  + \\frac12 \\sigma^2 S^2 \\frac{\\partial^2 V}{\\partial S^2}\n",
    "+(r-q)S\\frac{\\partial V}{\\partial S} - r V = 0\n",
    "$$\n",
    "and terminal condition\n",
    "$$\n",
    "V(S,t=T) = \\max(S-X,0).\n",
    "$$"
   ]
  },
  {
   "cell_type": "markdown",
   "metadata": {
    "tags": [
     "parameters"
    ]
   },
   "source": [
    "We need to:\n",
    "- adjust the scheme to reflect the new PDE\n",
    "- adapt the terminal conditions\n",
    "- adapt the boundary conditions\n",
    "\n",
    "The structure of the problem and the solver remain the same."
   ]
  },
  {
   "cell_type": "code",
   "execution_count": 105,
   "metadata": {},
   "outputs": [],
   "source": [
    "def crankNicolson_EuroCallDividends( X,T ,r,q,sigma , SU,imax,jmax ):\n",
    "    ## calculate the step size and then setup storage for the value\n",
    "    dS = SU / jmax\n",
    "    dt = T / imax\n",
    "\n",
    "    S = numpy.zeros(jmax+1)\n",
    "    t = numpy.zeros(imax+1)\n",
    "    vNew = numpy.zeros(jmax+1)\n",
    "    vOld = numpy.zeros(jmax+1)\n",
    "\n",
    "    # calculate the values of S_j and t^i and check they work as expected\n",
    "    for i in range(imax+1):\n",
    "        t[i] = i*dt\n",
    "\n",
    "    for j in range(jmax+1):\n",
    "        S[j] = j*dS\n",
    "\n",
    "    # first enter the value of the option at expiry\n",
    "    for j in range(jmax+1):\n",
    "        vOld[j] = max( S[j] - X , 0.0 )\n",
    "        vNew[j] = max( S[j] - X , 0.0 )\n",
    "        \n",
    "    A_banded = numpy.zeros(shape=(3,jmax+1))\n",
    "    u=1\n",
    "    l=1\n",
    "    l_and_u = (l, u)\n",
    "\n",
    "    # b_0 V_0 + c_0 V_1 = d_0\n",
    "    # V_0^i = 0\n",
    "    A_banded[1][0] = 1.0 # b_0\n",
    "    A_banded[0][1] = 0.0 # c_0\n",
    "    # populate middle rows\n",
    "    for j in range(1,jmax):\n",
    "        # a_j V_j-1 + b_j V_j + c_i V_j+1 = d_i\n",
    "        A_banded[2][j-1] = 0.25*(sigma*sigma*j*j - (r-q)*j) # a_j\n",
    "        A_banded[1][j] = -1./dt - 0.5*sigma*sigma*j*j - 0.5*r # b_j\n",
    "        A_banded[0][j+1] = 0.25*(sigma*sigma*j*j + (r-q)*j) # c_j\n",
    "    # populate last row\n",
    "    # a_jmax V_jmax-1 + b_jmax V_jmax = d_jmax\n",
    "    # V_jmax^i = S_jmax * e^(-q(T-i*dt)) - X *e^(-r(T-i*dt)) \n",
    "    A_banded[2][jmax-1] = 0.0 # a_jmax \n",
    "    A_banded[1][jmax] = 1.0 # b_jmax\n",
    "\n",
    "    for i in range(imax-1,-1,-1):\n",
    "        # Create a vector for multiplication\n",
    "        d = numpy.zeros(jmax+1)\n",
    "        d[0] = 0.0\n",
    "        for j in range(1,jmax):\n",
    "            aa = 0.25*(sigma*sigma*j*j - (r-q)*j) # a_j\n",
    "            bb = 1./dt - 0.5*sigma*sigma*j*j - 0.5*r # b_j + 2./dt\n",
    "            cc = 0.25*(sigma*sigma*j*j + (r-q)*j) # c_j\n",
    "            d[j] = - aa*vOld[j-1] - bb*vOld[j] - cc*vOld[j+1]\n",
    "#        d[jmax] = S[jmax]*numpy.exp(-q*(T-i*dt)) - X*numpy.exp(-r*(T-i*dt))\n",
    "        d[jmax] = 0.0\n",
    "#        d[jmax] = S[jmax] - X*numpy.exp(-r*(T-i*dt))\n",
    "\n",
    "        # Perform sparse matrix-vector multiplication\n",
    "        vNew = solve_banded(l_and_u,A_banded,d)\n",
    "        \n",
    "        vOld = numpy.copy(vNew)\n",
    "        \n",
    "    return S,vNew"
   ]
  },
  {
   "cell_type": "code",
   "execution_count": 106,
   "metadata": {},
   "outputs": [],
   "source": [
    "q = 0.04\n",
    "\n",
    "SOld,vNewTerrible = crankNicolson_EuroCallDividends( X,T, r,q,sigma, 2*X,40,40)"
   ]
  },
  {
   "cell_type": "code",
   "execution_count": 107,
   "metadata": {},
   "outputs": [
    {
     "data": {
      "text/plain": [
       "[<matplotlib.lines.Line2D at 0x12da4a59410>]"
      ]
     },
     "execution_count": 107,
     "metadata": {},
     "output_type": "execute_result"
    },
    {
     "data": {
      "image/png": "[encoded data removed]",
      "text/plain": [
       "<Figure size 640x480 with 1 Axes>"
      ]
     },
     "metadata": {},
     "output_type": "display_data"
    }
   ],
   "source": [
    "plt.plot(SOld,vNew)\n",
    "plt.plot(SOld,vNewWrong)\n",
    "plt.plot(SOld,vNewTerrible)\n",
    "plt.plot(S,vNew4X)"
   ]
  },
  {
   "cell_type": "markdown",
   "metadata": {},
   "source": [
    "In the plot above we try the following boundary conditions:\n",
    "- Blue line -- $V_{jmax}^i= S_{jmax} e^{-q(T-i*\\Delta t)} - X e^{-r(T-i*\\Delta t)}$ with $S^U=2X$\n",
    "- Red line -- $V_{jmax}^i= S_{jmax} e^{-q(T-i*\\Delta t)} - X e^{-r(T-i*\\Delta t)}$ with $S^U=4X$\n",
    "- Orange line -- $V_{jmax}^i= S_{jmax} - X e^{-r(T-i*\\Delta t)}$ with $S^U=2X$\n",
    "- Green line -- $V_{jmax}^i = 0 $ with $S^U=2X$"
   ]
  },
  {
   "cell_type": "code",
   "execution_count": null,
   "metadata": {},
   "outputs": [],
   "source": []
  }
 ],
 "metadata": {
  "kernelspec": {
   "display_name": "Python [conda env:base] *",
   "language": "python",
   "name": "conda-base-py"
  },
  "language_info": {
   "codemirror_mode": {
    "name": "ipython",
    "version": 3
   },
   "file_extension": ".py",
   "mimetype": "text/x-python",
   "name": "python",
   "nbconvert_exporter": "python",
   "pygments_lexer": "ipython3",
   "version": "3.12.2"
  }
 },
 "nbformat": 4,
 "nbformat_minor": 4
}
