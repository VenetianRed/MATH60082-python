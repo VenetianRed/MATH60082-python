{
 "cells": [
  {
   "cell_type": "markdown",
   "metadata": {},
   "source": [
    "<div style='text-align: center;'>\n",
    "<img src=\"../images/math60082-banner.png\" alt=\"image\" width=\"80%\" height=\"auto\">\n",
    "</div>"
   ]
  },
  {
   "cell_type": "markdown",
   "metadata": {},
   "source": [
    "# Lab Class 8\n",
    "## Solutions\n"
   ]
  },
  {
   "cell_type": "code",
   "execution_count": 1,
   "metadata": {},
   "outputs": [],
   "source": [
    "# To get started import some libraries\n",
    "import numpy\n",
    "import scipy\n",
    "import matplotlib.pyplot as plt"
   ]
  },
  {
   "cell_type": "code",
   "execution_count": 2,
   "metadata": {},
   "outputs": [],
   "source": [
    "# setup the parameters\n",
    "sigma = 0.4\n",
    "r = 0.05\n",
    "X = 2\n",
    "T = 1\n",
    "imax = 4\n",
    "jmax = 4"
   ]
  },
  {
   "cell_type": "code",
   "execution_count": 3,
   "metadata": {},
   "outputs": [
    {
     "data": {
      "text/plain": [
       "(array([0., 1., 2., 3., 4.]), array([0.  , 0.25, 0.5 , 0.75, 1.  ]))"
      ]
     },
     "execution_count": 3,
     "metadata": {},
     "output_type": "execute_result"
    }
   ],
   "source": [
    "## calculate the step size and then setup storage for the value\n",
    "dS = 2*X / jmax\n",
    "dt = T / imax\n",
    "\n",
    "S = numpy.zeros(jmax+1)\n",
    "t = numpy.zeros(imax+1)\n",
    "vNew = numpy.zeros(jmax+1)\n",
    "vOld = numpy.zeros(jmax+1)\n",
    "\n",
    "# calculate the values of S_j and t^i and check they work as expected\n",
    "for j in range(jmax+1):\n",
    "    S[j] = j*dS\n",
    "\n",
    "for i in range(imax+1):\n",
    "    t[i] = i*dt\n",
    "    \n",
    "S,t"
   ]
  },
  {
   "cell_type": "code",
   "execution_count": 4,
   "metadata": {},
   "outputs": [
    {
     "name": "stdout",
     "output_type": "stream",
     "text": [
      "t= 1.0 S= 0.0 V(S,t)= 0.0\n",
      "t= 1.0 S= 1.0 V(S,t)= 0.0\n",
      "t= 1.0 S= 2.0 V(S,t)= 0.0\n",
      "t= 1.0 S= 3.0 V(S,t)= 1.0\n",
      "t= 1.0 S= 4.0 V(S,t)= 2.0\n"
     ]
    }
   ],
   "source": [
    "# first enter the value of the option at expiry\n",
    "for j in range(jmax+1):\n",
    "    vOld[j] = max( S[j] - X , 0.0 )\n",
    "    vNew[j] = max( S[j] - X , 0.0 )\n",
    "    print(\"t=\",t[imax],\"S=\",S[j],\"V(S,t)=\",vNew[j])"
   ]
  },
  {
   "cell_type": "code",
   "execution_count": 5,
   "metadata": {},
   "outputs": [
    {
     "name": "stdout",
     "output_type": "stream",
     "text": [
      "# TIMESTEP #\n",
      "t= 0.75 S= 0.0 V(S,t)= 0.0\n",
      "t= 0.75 S= 1.0 V(S,t)= 0.0\n",
      "t= 0.75 S= 2.0 V(S,t)= 0.09135802469135804\n",
      "t= 0.75 S= 3.0 V(S,t)= 1.0246913580246915\n",
      "t= 0.75 S= 4.0 V(S,t)= 2.0248443990122373\n",
      "# TIMESTEP #\n",
      "t= 0.5 S= 0.0 V(S,t)= 0.0\n",
      "t= 0.5 S= 1.0 V(S,t)= 0.0023685413808870607\n",
      "t= 0.5 S= 2.0 V(S,t)= 0.1694071025758269\n",
      "t= 0.5 S= 3.0 V(S,t)= 1.059725209798485\n",
      "t= 0.5 S= 4.0 V(S,t)= 2.0493801759433348\n",
      "# TIMESTEP #\n",
      "t= 0.25 S= 0.0 V(S,t)= 0.0\n",
      "t= 0.25 S= 1.0 V(S,t)= 0.006637764116806947\n",
      "t= 0.25 S= 2.0 V(S,t)= 0.23751745640816233\n",
      "t= 0.25 S= 3.0 V(S,t)= 1.0991163847211065\n",
      "t= 0.25 S= 4.0 V(S,t)= 2.0736111645583564\n",
      "# TIMESTEP #\n",
      "t= 0.0 S= 0.0 V(S,t)= 0.0\n",
      "t= 0.0 S= 1.0 V(S,t)= 0.012451443736147094\n",
      "t= 0.0 S= 2.0 V(S,t)= 0.29790713881228953\n",
      "t= 0.0 S= 3.0 V(S,t)= 1.1396191555785655\n",
      "t= 0.0 S= 4.0 V(S,t)= 2.097541150998572\n"
     ]
    }
   ],
   "source": [
    "# next loop back through time\n",
    "for i in range(imax-1,-1,-1):\n",
    "    print(\"# TIMESTEP #\")\n",
    "    # apply boundary condition at S=0\n",
    "    vNew[0] = 0.0\n",
    "    for j in range(1,jmax):\n",
    "        # input explicit finite difference formula\n",
    "        A = 0.5*sigma*sigma*j*j*dt + 0.5*r*j*dt\n",
    "        B = 1.0 - sigma*sigma*j*j*dt\n",
    "        C = 0.5*sigma*sigma*j*j*dt - 0.5*r*j*dt\n",
    "        # use vNew[j] for V_j^i and vOld[j] for V_j^{i+1}\n",
    "        vNew[j] = (A*vOld[j+1] + B*vOld[j] + C*vOld[j-1]) / ( 1 + r*dt)\n",
    "    # apply boundary condition at S=S_U\n",
    "    vNew[jmax] = S[jmax] - X*numpy.exp(-r*(T-t[i]))\n",
    "    \n",
    "    # set old values equal to new ones\n",
    "    # MAKE SURE THIS IS DEEP COPY\n",
    "    vOld = numpy.copy(vNew)\n",
    "    \n",
    "    for j in range(jmax+1):\n",
    "        print(\"t=\",t[i],\"S=\",S[j],\"V(S,t)=\",vNew[j])"
   ]
  },
  {
   "cell_type": "code",
   "execution_count": 6,
   "metadata": {},
   "outputs": [],
   "source": [
    "def finiteDiff_EuroPut( X,T, r,sigma, SU,imax,jmax):\n",
    "    ## calculate the step size and then setup storage for the value\n",
    "    dS = SU / jmax\n",
    "    dt = T / imax\n",
    "\n",
    "    S = numpy.zeros(jmax+1)\n",
    "    t = numpy.zeros(imax+1)\n",
    "    vNew = numpy.zeros(jmax+1)\n",
    "    vOld = numpy.zeros(jmax+1)\n",
    "\n",
    "    # calculate the values of S_j and t^i and check they work as expected\n",
    "    for j in range(jmax+1):\n",
    "        S[j] = j*dS\n",
    "\n",
    "    for i in range(imax+1):\n",
    "        t[i] = i*dt\n",
    "        \n",
    "    # first enter the value of the option at expiry\n",
    "    for j in range(jmax+1):\n",
    "        vOld[j] = max( X - S[j] , 0.)\n",
    "        vNew[j] = max( X - S[j] , 0.)\n",
    "        \n",
    "    # next loop back through time\n",
    "    for i in range(imax-1,-1,-1):\n",
    "        # apply boundary condition at S=0\n",
    "        vNew[0] = X * numpy.exp( -r*(T - i*dt))\n",
    "        for j in range(1,jmax):\n",
    "            # input explicit finite difference formula\n",
    "            A = 0.5*sigma*sigma*j*j*dt + 0.5*r*j*dt\n",
    "            B = 1.0 - sigma*sigma*j*j*dt\n",
    "            C = 0.5*sigma*sigma*j*j*dt - 0.5*r*j*dt\n",
    "            # use vNew[j] for V_j^i and vOld[j] for V_j^{i+1}\n",
    "            vNew[j] = (A*vOld[j+1] + B*vOld[j] + C*vOld[j-1]) / ( 1 + r*dt)\n",
    "        # apply boundary condition at S=S_U\n",
    "        vNew[jmax] = 0.0\n",
    "        \n",
    "        # set old values equal to new ones\n",
    "        # MAKE SURE THIS IS A DEEP COPY!\n",
    "        vOld = numpy.copy(vNew)\n",
    "    \n",
    "    return S,vNew\n",
    "        "
   ]
  },
  {
   "cell_type": "code",
   "execution_count": 7,
   "metadata": {},
   "outputs": [
    {
     "data": {
      "text/plain": [
       "(array([0., 1., 2., 3., 4.]),\n",
       " array([1.90245885, 0.91548808, 0.20094574, 0.04252983, 0.        ]))"
      ]
     },
     "execution_count": 7,
     "metadata": {},
     "output_type": "execute_result"
    }
   ],
   "source": [
    "S,vNew = finiteDiff_EuroPut(X,T,r , sigma,2.0*X,4,4)\n",
    "S,vNew\n"
   ]
  },
  {
   "cell_type": "code",
   "execution_count": 8,
   "metadata": {},
   "outputs": [
    {
     "data": {
      "text/plain": [
       "[<matplotlib.lines.Line2D at 0x7fa9d805ac10>]"
      ]
     },
     "execution_count": 8,
     "metadata": {},
     "output_type": "execute_result"
    },
    {
     "data": {
      "image/png": "[encoded data removed]",
      "text/plain": [
       "<Figure size 640x480 with 1 Axes>"
      ]
     },
     "metadata": {},
     "output_type": "display_data"
    }
   ],
   "source": [
    "# check a plot to see what it looks like\n",
    "plt.plot(S,vNew)"
   ]
  },
  {
   "cell_type": "code",
   "execution_count": 9,
   "metadata": {},
   "outputs": [],
   "source": [
    "# Code such as this will be very slow unless compiled, use numba to speed up\n",
    "import numba"
   ]
  },
  {
   "cell_type": "code",
   "execution_count": 10,
   "metadata": {},
   "outputs": [],
   "source": [
    "# create a new super fast compiled version of the function above\n",
    "finiteDiff_EuroPut_njit = numba.njit(finiteDiff_EuroPut)"
   ]
  },
  {
   "cell_type": "code",
   "execution_count": 11,
   "metadata": {},
   "outputs": [
    {
     "data": {
      "text/plain": [
       "(array([0., 1., 2., 3., 4.]),\n",
       " array([1.90245885, 0.91548808, 0.20094574, 0.04252983, 0.        ]))"
      ]
     },
     "execution_count": 11,
     "metadata": {},
     "output_type": "execute_result"
    }
   ],
   "source": [
    "# the first time you run the code, it will take some time to compile\n",
    "# subsuquent calls to the function should be fast\n",
    "# just check it gives the same results as before\n",
    "S,vNew = finiteDiff_EuroPut_njit(X,T,r , sigma,2*X,4,4)\n",
    "S,vNew"
   ]
  },
  {
   "cell_type": "code",
   "execution_count": 17,
   "metadata": {},
   "outputs": [
    {
     "data": {
      "text/plain": [
       "[<matplotlib.lines.Line2D at 0x7fa9968ef650>]"
      ]
     },
     "execution_count": 17,
     "metadata": {},
     "output_type": "execute_result"
    },
    {
     "data": {
      "image/png": "[encoded data removed]",
      "text/plain": [
       "<Figure size 640x480 with 1 Axes>"
      ]
     },
     "metadata": {},
     "output_type": "display_data"
    }
   ],
   "source": [
    "# now run with some bigger values of jmax,\n",
    "jmax = int(400)\n",
    "# adjust imax for stability\n",
    "imax = int(sigma*sigma*jmax*jmax)\n",
    "# generate results\n",
    "S,vNew = finiteDiff_EuroPut_njit(X,T,r , sigma,5*X,imax,jmax)\n",
    "# now plot\n",
    "plt.plot(S[0:200],vNew[0:200])"
   ]
  },
  {
   "cell_type": "markdown",
   "metadata": {},
   "source": [
    "# Interpolation"
   ]
  },
  {
   "cell_type": "markdown",
   "metadata": {},
   "source": [
    "Now look at getting the value at arbitrary  $S$ values in between grid points, we can use linear interpolation:"
   ]
  },
  {
   "cell_type": "code",
   "execution_count": 19,
   "metadata": {},
   "outputs": [
    {
     "name": "stdout",
     "output_type": "stream",
     "text": [
      "V(S_0= 1.9758 ,t=0) := 0.2720438906435648\n"
     ]
    }
   ],
   "source": [
    "S0 = 1.9758\n",
    "print(\"V(S_0=\",S0,\",t=0) :=\",numpy.interp(S0,S,vNew))"
   ]
  },
  {
   "cell_type": "markdown",
   "metadata": {},
   "source": [
    "Alternatively you could try cubic splines. Later if you try using Richardson extrapolation this could come in handy. Scipy has an easy implementation:"
   ]
  },
  {
   "cell_type": "code",
   "execution_count": 20,
   "metadata": {},
   "outputs": [],
   "source": [
    "V =  scipy.interpolate.CubicSpline(S,vNew)"
   ]
  },
  {
   "cell_type": "markdown",
   "metadata": {},
   "source": [
    "Now you can write `V(S0)` or any set of values to get the value of function anywhere on $S\\in[0,S_U]$. Note that return function values outside the original domain (extrapolation $S>S_U$) is not recommended."
   ]
  },
  {
   "cell_type": "code",
   "execution_count": 22,
   "metadata": {},
   "outputs": [
    {
     "name": "stdout",
     "output_type": "stream",
     "text": [
      "V(S_0= 1.9758 ,t=0) := 0.2720392432139984\n"
     ]
    }
   ],
   "source": [
    "print(\"V(S_0=\",S0,\",t=0) :=\",V(S0))"
   ]
  },
  {
   "cell_type": "code",
   "execution_count": null,
   "metadata": {},
   "outputs": [],
   "source": []
  }
 ],
 "metadata": {
  "kernelspec": {
   "display_name": "Python [conda env:base] *",
   "language": "python",
   "name": "conda-base-py"
  },
  "language_info": {
   "codemirror_mode": {
    "name": "ipython",
    "version": 3
   },
   "file_extension": ".py",
   "mimetype": "text/x-python",
   "name": "python",
   "nbconvert_exporter": "python",
   "pygments_lexer": "ipython3",
   "version": "3.12.2"
  }
 },
 "nbformat": 4,
 "nbformat_minor": 4
}
