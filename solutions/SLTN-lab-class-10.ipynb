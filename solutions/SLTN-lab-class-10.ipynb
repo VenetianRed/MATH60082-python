{
 "cells": [
  {
   "cell_type": "markdown",
   "metadata": {},
   "source": [
    "<div style='text-align: center;'>\n",
    "<img src=\"../images/math60082-banner.png\" alt=\"image\" width=\"80%\" height=\"auto\">\n",
    "</div>"
   ]
  },
  {
   "cell_type": "markdown",
   "metadata": {},
   "source": [
    "# Lab Class - Week 10\n",
    "\n",
    "## Department of Mathematics"
   ]
  },
  {
   "cell_type": "markdown",
   "metadata": {},
   "source": [
    "Last time we demonstrated the Crank-Nicolson finite difference method applied to European options\n",
    "- We showed how accurate it can be,\n",
    "- How to apply it different problems,\n",
    "- This time we cover how to adapt finite difference methods to early exercise options."
   ]
  },
  {
   "cell_type": "markdown",
   "metadata": {},
   "source": [
    "## American Options\n"
   ]
  },
  {
   "cell_type": "markdown",
   "metadata": {},
   "source": [
    "A reminder that American option allow for early exercise, and we must allow the holder of the option to make the optimal decision to exercise early, but without perfect foresight (only using information up to and including the current time $t$). \n",
    "\n",
    "Consider the case of an American put option writing on a standard asset $S$ trading in the market. According to standard theory, we can find the solution to the problem by solving \n",
    "$$\n",
    "\\frac{\\partial P}{\\partial t} + \\frac12\\sigma^2S^2\\frac{\\partial^2 P}{\\partial S^2} + rS\\frac{\\partial P}{\\partial S} - rP \\leq 0\n",
    "\\tag{10.1}\n",
    "$$\n",
    "$$\n",
    "P(S,t) \\geq X-S\n",
    "\\tag{10.2}\n",
    "$$\n",
    "with\n",
    "$$\n",
    "P(S,T) = \\max(X-S,0),\n",
    "\\tag{10.3}\n",
    "$$\n",
    "and the optimal solution will satisfy either the equaility in (10.1) or (10.2), whichever gives the larger result.\n",
    "\n",
    "Now when using the explicit finite difference method, we have the equation for the value of $P_j^i$ at a grid point\n",
    "$$\n",
    "P_j^i = \\frac{1}{1+r\\Delta t}(AP_{j+1}^{i+1} + BP_{j}^{i+1}+ CP_{j-1}^{i+1})\n",
    "$$\n",
    "which satisifies the equality of (10.1). So to get the optimal solution for an American put option, we simple choose the maximum between (10.1) and (10.2), or\n",
    "$$\n",
    "P_j^i = \\max\\left[\\frac{1}{1+r\\Delta t}(AP_{j+1}^{i+1} + BP_{j}^{i+1}+ CP_{j-1}^{i+1})~ ,~ X - S_j \\right] .\n",
    "$$\n"
   ]
  },
  {
   "cell_type": "code",
   "execution_count": 1,
   "metadata": {},
   "outputs": [],
   "source": [
    "# To get started import some libraries\n",
    "import numpy\n",
    "import scipy\n",
    "import matplotlib.pyplot as plt"
   ]
  },
  {
   "cell_type": "markdown",
   "metadata": {},
   "source": [
    "Coding this is up is pretty easy, we just add the maximum condition on one line of code to get the American put option value!"
   ]
  },
  {
   "cell_type": "code",
   "execution_count": 2,
   "metadata": {},
   "outputs": [],
   "source": [
    "def finiteDiff_AmericanPut( X,T, r,sigma, SU,imax,jmax):\n",
    "    ## calculate the step size and then setup storage for the value\n",
    "    dS = float(SU) / int(jmax)\n",
    "    dt = float(T) / int(imax)\n",
    "\n",
    "    S = numpy.zeros(int(jmax)+1)\n",
    "    t = numpy.zeros(int(imax)+1)\n",
    "    vNew = numpy.zeros(int(jmax)+1)\n",
    "    vOld = numpy.zeros(int(jmax)+1)\n",
    "\n",
    "    # calculate the values of S_j and t^i and check they work as expected\n",
    "    for j in range(jmax+1):\n",
    "        S[j] = j*dS\n",
    "\n",
    "    for i in range(imax+1):\n",
    "        t[i] = i*dt\n",
    "        \n",
    "    # first enter the value of the option at expiry\n",
    "    for j in range(jmax+1):\n",
    "        vOld[j] = max( X - S[j] , 0.)\n",
    "        vNew[j] = max( X - S[j] , 0.)\n",
    "        \n",
    "    # next loop back through time\n",
    "    for i in range(imax-1,-1,-1):\n",
    "        # apply boundary condition at S=0\n",
    "        vNew[0] = X\n",
    "        for j in range(1,jmax):\n",
    "            # input explicit finite difference formula\n",
    "            A = 0.5*sigma*sigma*j*j*dt + 0.5*r*j*dt\n",
    "            B = 1.0 - sigma*sigma*j*j*dt\n",
    "            C = 0.5*sigma*sigma*j*j*dt - 0.5*r*j*dt\n",
    "            # use vNew[j] for V_j^i and vOld[j] for V_j^{i+1}\n",
    "            vNew[j] =max ((A*vOld[j+1] + B*vOld[j] + C*vOld[j-1]) / ( 1 + r*dt) ,X - S[j] )\n",
    "            \n",
    "        # apply boundary condition at S=S_U\n",
    "        vNew[jmax] = 0.0\n",
    "        \n",
    "        # set old values equal to new ones\n",
    "        # MAKE SURE THIS IS A DEEP COPY!\n",
    "        vOld = numpy.copy(vNew)\n",
    "    \n",
    "    return S,vNew"
   ]
  },
  {
   "cell_type": "code",
   "execution_count": 3,
   "metadata": {},
   "outputs": [],
   "source": [
    "def finiteDiff_EuroPut( X,T, r,sigma, SU,imax,jmax):\n",
    "    ## calculate the step size and then setup storage for the value\n",
    "    dS = SU / jmax\n",
    "    dt = T / imax\n",
    "\n",
    "    S = numpy.zeros(jmax+1)\n",
    "    t = numpy.zeros(imax+1)\n",
    "    vNew = numpy.zeros(jmax+1)\n",
    "    vOld = numpy.zeros(jmax+1)\n",
    "\n",
    "    # calculate the values of S_j and t^i and check they work as expected\n",
    "    for j in range(jmax+1):\n",
    "        S[j] = j*dS\n",
    "\n",
    "    for i in range(imax+1):\n",
    "        t[i] = i*dt\n",
    "        \n",
    "    # first enter the value of the option at expiry\n",
    "    for j in range(jmax+1):\n",
    "        vOld[j] = max( X - S[j] , 0.)\n",
    "        vNew[j] = max( X - S[j] , 0.)\n",
    "        \n",
    "    # next loop back through time\n",
    "    for i in range(imax-1,-1,-1):\n",
    "        # apply boundary condition at S=0\n",
    "        vNew[0] = X*numpy.exp(-r*(T-i*dt))\n",
    "        for j in range(1,jmax):\n",
    "            # input explicit finite difference formula\n",
    "            A = 0.5*sigma*sigma*j*j*dt + 0.5*r*j*dt\n",
    "            B = 1.0 - sigma*sigma*j*j*dt\n",
    "            C = 0.5*sigma*sigma*j*j*dt - 0.5*r*j*dt\n",
    "            # use vNew[j] for V_j^i and vOld[j] for V_j^{i+1}\n",
    "            vNew[j] =  (A*vOld[j+1] + B*vOld[j] + C*vOld[j-1]) / ( 1 + r*dt) \n",
    "            # apply boundary condition at S=S_U\n",
    "        vNew[jmax] = 0.0\n",
    "        \n",
    "        # set old values equal to new ones\n",
    "        # MAKE SURE THIS IS A DEEP COPY!\n",
    "        vOld = numpy.copy(vNew)\n",
    "    \n",
    "    return S,vNew"
   ]
  },
  {
   "cell_type": "code",
   "execution_count": 4,
   "metadata": {},
   "outputs": [
    {
     "data": {
      "text/plain": [
       "[<matplotlib.lines.Line2D at 0x127d95460>]"
      ]
     },
     "execution_count": 4,
     "metadata": {},
     "output_type": "execute_result"
    },
    {
     "data": {
      "image/png": "[encoded data removed]",
      "text/plain": [
       "<Figure size 640x480 with 1 Axes>"
      ]
     },
     "metadata": {},
     "output_type": "display_data"
    }
   ],
   "source": [
    "S,vAmerican = finiteDiff_AmericanPut(10,1,0.05 , 0.4,50,1000,50)\n",
    "S,vEuro = finiteDiff_EuroPut(10,1,0.05 , 0.4,50,1000,50)\n",
    "\n",
    "# check a plot to see what it looks like\n",
    "plt.xlim(0,20)\n",
    "plt.plot(S,vEuro)\n",
    "plt.plot(S,vAmerican)"
   ]
  },
  {
   "cell_type": "markdown",
   "metadata": {},
   "source": [
    "On the output, we should be able to see the resulting solution satisfies $P\\geq X-S$. \n",
    "\n",
    "# Tasks\n",
    "\n",
    "- Consider the parameters $X=10$, $T=1$, $r=0.05$ and $\\sigma=0.4$.\n",
    "- Run the American option for different value of $imax$ and $jmax$, is this method stable for all values of $imax$?\n",
    "- Using the calculated value at $S_0=X$, a sufficiently large $S^U$, and a stable value of $imax$, verify that the convergence rate is $O((\\Delta S)^2)$.\n",
    "- Use interpolation to get the value of the option with $S_0=9.735$, is the convergence rate still $O((\\Delta S)^2)$?\n",
    "- Check that the converged value matches with the result on my website:\n",
    "\n",
    "[American Option Solver](https://personalpages.manchester.ac.uk/staff/paul.johnson-2/pages/americanCalculator.html)"
   ]
  },
  {
   "cell_type": "code",
   "execution_count": 5,
   "metadata": {},
   "outputs": [],
   "source": [
    "X=10\n",
    "T=1\n",
    "r=0.05\n",
    "sigma=0.4"
   ]
  },
  {
   "cell_type": "markdown",
   "metadata": {},
   "source": [
    "We have a choice to make around $S^U$, $imax$ and $jmax$. We know that numerical\n",
    "solution converges to real solution as those three values tend to infinity.\n",
    "We want to produce some tables to show this is the case.\n",
    "\n",
    "To produce tables, we will need to pick a single point in the state space\n",
    "to see what happens at that point. Choose $S_0=X$ and get results for\n",
    "$V(S_0,t=0)$."
   ]
  },
  {
   "cell_type": "code",
   "execution_count": 6,
   "metadata": {},
   "outputs": [
    {
     "name": "stdout",
     "output_type": "stream",
     "text": [
      "V(S_0=X,t=0)= 1.3535060555529692\n"
     ]
    }
   ],
   "source": [
    "S,vAmerican = finiteDiff_AmericanPut(X,T, r ,sigma,5*X,1000,50)\n",
    " \n",
    "print( \"V(S_0=X,t=0)=\", numpy.interp( X , S , vAmerican ) )"
   ]
  },
  {
   "cell_type": "markdown",
   "metadata": {},
   "source": [
    "Use numba to speed up these calculations..."
   ]
  },
  {
   "cell_type": "code",
   "execution_count": 7,
   "metadata": {},
   "outputs": [],
   "source": [
    "import numba\n",
    "\n",
    "finiteDiff_AmericanPut_njit = numba.njit(finiteDiff_AmericanPut)"
   ]
  },
  {
   "cell_type": "markdown",
   "metadata": {},
   "source": [
    "Now try varying imax and jmax in different tables."
   ]
  },
  {
   "cell_type": "code",
   "execution_count": 8,
   "metadata": {},
   "outputs": [
    {
     "name": "stdout",
     "output_type": "stream",
     "text": [
      "10 0.0 -1.0\n",
      "20 0.0 -inf\n",
      "40 0.0 nan\n",
      "80 1.0946165432300548e+19 0.0\n",
      "160 4.0407918830793335e+41 2.708915912778684e-23\n",
      "320 2.5546425526895203e+95 1.5817445297093322e-54\n",
      "640 5.460300388599964e+117 4.6785751165322567e-23\n",
      "1280 23.799536462538747 -1.0\n",
      "2560 1.3634227535469323 2.4337104274933392e+116\n",
      "5120 1.363371859465922 440839.35231064534\n",
      "10240 1.363346428144493 2.001236198124707\n",
      "20480 1.363333724545926 2.001899012734321\n",
      "40960 1.3633273792771363 2.002058382053706\n",
      "81920 1.3633242068913263 2.0001567178989443\n"
     ]
    },
    {
     "name": "stderr",
     "output_type": "stream",
     "text": [
      "/var/folders/v8/wf2x6lgh8xj5nh006s7bngz80000gs/T/ipykernel_69056/50814272.py:14: RuntimeWarning: divide by zero encountered in scalar divide\n",
      "  print( imax , value , diffOld/diff )\n",
      "/var/folders/v8/wf2x6lgh8xj5nh006s7bngz80000gs/T/ipykernel_69056/50814272.py:14: RuntimeWarning: invalid value encountered in scalar divide\n",
      "  print( imax , value , diffOld/diff )\n"
     ]
    }
   ],
   "source": [
    "# Fix S^U=50, jmax=100 and vary imax\n",
    "\n",
    "SU = 50\n",
    "jmax = 100\n",
    "\n",
    "valueOld = 1.\n",
    "diffOld = 1.\n",
    "\n",
    "for k in range(0,14):\n",
    "    imax = 10* 2**k\n",
    "    S,vAmerican = finiteDiff_AmericanPut_njit(X,T, r , sigma,SU,imax,jmax)\n",
    "    value =  numpy.interp( X , S , vAmerican )\n",
    "    diff = value - valueOld\n",
    "    print( imax , value , diffOld/diff )\n",
    "    diffOld = diff\n",
    "    valueOld = value"
   ]
  },
  {
   "cell_type": "markdown",
   "metadata": {},
   "source": [
    "With imax varying by 2 each time, if the method is order one, i.e.\n",
    "$$\n",
    "V_\\text{approx} = V* + \\frac{A}{imax} + ...\n",
    "$$\n",
    "then successive difference should converge towards a value of 2."
   ]
  },
  {
   "cell_type": "markdown",
   "metadata": {},
   "source": [
    "Now try varying jmax..."
   ]
  },
  {
   "cell_type": "code",
   "execution_count": 9,
   "metadata": {},
   "outputs": [
    {
     "name": "stdout",
     "output_type": "stream",
     "text": [
      "100000 10 1.003281272012926 304.75986021904265\n",
      "100000 20 1.2783319270327689 0.011929700777078068\n",
      "100000 40 1.346699472729239 4.023117287857302\n",
      "100000 80 1.3615182371978158 4.613579346742647\n",
      "100000 160 1.3654104458559317 3.8072893234223946\n"
     ]
    }
   ],
   "source": [
    "# Fix S^U=50, imax=100000 and vary jmax\n",
    "SU = 5*X\n",
    "imax = 100000\n",
    "\n",
    "valueOld = 1.\n",
    "diffOld = 1.\n",
    "\n",
    "for k in range(0,5):\n",
    "    jmax = 10* 2**k\n",
    "    S,vAmerican = finiteDiff_AmericanPut_njit(X,T, r , sigma,SU,imax,jmax)\n",
    "    value =  numpy.interp( X , S , vAmerican )\n",
    "    diff = value - valueOld\n",
    "    print( imax ,jmax, value , diffOld/diff )\n",
    "    diffOld = diff\n",
    "    valueOld = value\n",
    "    "
   ]
  },
  {
   "cell_type": "markdown",
   "metadata": {},
   "source": [
    "With `jmax` increasing by 2 each time, if the method is order two, i.e.\n",
    "$$\n",
    "V_\\text{approx} = V^\\star + \\frac{B}{jmax^2} + ...\n",
    "$$\n",
    "then successive difference should converge towards a value of 4. It looks\n",
    "as though it does although stability might be an issue."
   ]
  },
  {
   "cell_type": "markdown",
   "metadata": {},
   "source": [
    "We can vary both at the same time, and if we choose \n",
    "$$\n",
    "imax = \\sigma^2 T jmax^2\n",
    "$$\n",
    "to maintain stability, then\n",
    "$$\n",
    "V_\\text{approx} = V^\\star + \\frac{A}{imax} + \\frac{B}{jmax^2} + ....\n",
    "$$\n",
    "or\n",
    "$$\n",
    "V_\\text{approx} = V^\\star + \\frac{A'}{jmax^2} + ....\n",
    "$$\n"
   ]
  },
  {
   "cell_type": "code",
   "execution_count": 10,
   "metadata": {},
   "outputs": [
    {
     "name": "stdout",
     "output_type": "stream",
     "text": [
      "16 10 1.0132011175924525 1.01760149012327\n",
      "64 20 1.2822572021163605 1.3719425636243299\n",
      "256 40 1.3476288865134731 1.3694194479791773\n",
      "1024 80 1.3617662164254245 1.3664786597294085\n",
      "4096 160 1.365474020668096 1.3667099554156532\n",
      "16384 320 1.3664373749996455 1.3667584931101622\n",
      "65536 640 1.3666800553368592 1.3667609487825974\n"
     ]
    }
   ],
   "source": [
    "# Fix S^U=50 vary imax and jmax\n",
    "\n",
    "SU = 50\n",
    "valueOld = 1.\n",
    "diffOld = 1.\n",
    "\n",
    "for k in range(0,7):\n",
    "    jmax = 10* 2**k\n",
    "    imax = int(sigma*sigma*T*jmax*jmax)\n",
    "    S,vAmerican = finiteDiff_AmericanPut_njit(X,T, r , sigma,SU,imax,jmax)\n",
    "    value =  numpy.interp( X , S , vAmerican )\n",
    "    diff = value - valueOld\n",
    "    print( imax,jmax , value , (4.*value - valueOld) /3. )\n",
    "    diffOld = diff\n",
    "    valueOld = value\n",
    "    "
   ]
  },
  {
   "cell_type": "markdown",
   "metadata": {},
   "source": [
    "Now writing\n",
    "$$\n",
    "V_\\text{approx} = V^\\star + \\frac{A'}{jmax^2} + ....\n",
    "$$\n",
    "we can find $V^\\star$ using extrapolation\n",
    "$$\n",
    "V^\\star = \\frac13( 4 * V_{2jmax} - V_\\text{jmax} )\n",
    "$$\n",
    "All that is left now is grid truncation errors\n",
    "$$\n",
    "V^\\star = V_\\text{exact} + \\epsilon(S^U) + ....\n",
    "$$\n",
    "for some unknown function $\\epsilon$. We would like to choose $S^U$ large\n",
    "enough such that the error function $\\epsilon < tol$ where $tol$ is required accuracy.\n"
   ]
  },
  {
   "cell_type": "code",
   "execution_count": 11,
   "metadata": {},
   "outputs": [
    {
     "name": "stdout",
     "output_type": "stream",
     "text": [
      "16 10 0.4993347979074258 0.33244639720990105\n",
      "64 20 1.0057224138739593 1.1745182858628038\n",
      "256 40 1.2793096714627807 1.3705054239923877\n",
      "1024 80 1.3469291743920235 1.3694690087017711\n",
      "4096 160 1.3615780995304456 1.3664610745765862\n",
      "16384 320 1.3654242894035356 1.3667063526945655\n",
      "65536 640 1.366424313580752 1.3667576549731573\n",
      "262144 1280 1.3666766897890816 1.3667608151918582\n"
     ]
    }
   ],
   "source": [
    "# Fix S^U=100 vary imax and jmax\n",
    "\n",
    "SU = 100\n",
    "valueOld = 1.\n",
    "diffOld = 1.\n",
    "\n",
    "for k in range(0,8):\n",
    "    jmax = 10* 2**k\n",
    "    imax = int(sigma*sigma*T*jmax*jmax)\n",
    "    S,vAmerican = finiteDiff_AmericanPut_njit(X,T, r , sigma,SU,imax,jmax)\n",
    "    value =  numpy.interp( X , S , vAmerican )\n",
    "    diff = value - valueOld\n",
    "    print( imax,jmax , value , (4.*value - valueOld) /3. )\n",
    "    diffOld = diff\n",
    "    valueOld = value\n"
   ]
  },
  {
   "cell_type": "code",
   "execution_count": 12,
   "metadata": {},
   "outputs": [
    {
     "name": "stdout",
     "output_type": "stream",
     "text": [
      "16 10 5.249667398953713 6.666223198604951\n",
      "64 20 0.49839926378879157 -1.0853567812661824\n",
      "256 40 1.0038880902261396 1.1723843657052555\n",
      "1024 80 1.278574439044774 1.370136555317652\n",
      "4096 160 1.3467550636472196 1.3694819385147017\n",
      "16384 320 1.3615312730966418 1.3664566762464492\n",
      "65536 640 1.365411870758711 1.3667054033127342\n",
      "262144 1280 1.366421068095099 1.3667574672072282\n",
      "1048576 2560 1.366675852394478 1.366760780494271\n"
     ]
    }
   ],
   "source": [
    "# Fix S^U=200 vary imax and jmax\n",
    "\n",
    "SU = 200\n",
    "valueOld = 1.\n",
    "diffOld = 1.\n",
    "\n",
    "for k in range(0,9):\n",
    "    jmax = 10* 2**k\n",
    "    imax = int(sigma*sigma*T*jmax*jmax)\n",
    "    S,vAmerican = finiteDiff_AmericanPut_njit(X,T, r , sigma,SU,imax,jmax)\n",
    "    value =  numpy.interp( X , S , vAmerican )\n",
    "    diff = value - valueOld\n",
    "    print( imax,jmax , value , (4.*value - valueOld) /3. )\n",
    "    diffOld = diff\n",
    "    valueOld = value\n"
   ]
  },
  {
   "cell_type": "markdown",
   "metadata": {},
   "source": [
    "In these cases, all three values seem to be converging to the same result, so choosing\n",
    "the smallest one (with smallest value of $\\Delta S$) is best. If you choose $S^U$ **too**\n",
    "small it will eventually have an effect.\\ Say $S^U=20$, we get"
   ]
  },
  {
   "cell_type": "code",
   "execution_count": 13,
   "metadata": {},
   "outputs": [
    {
     "name": "stdout",
     "output_type": "stream",
     "text": [
      "16 10 1.3292542060817054 1.4390056081089406\n",
      "64 20 1.3569553312615548 1.366189039654838\n",
      "256 40 1.3641355110594868 1.3665289043254643\n",
      "1024 80 1.3659269713404394 1.3665241247674238\n",
      "4096 160 1.3663717613075987 1.3665200246299853\n",
      "16384 320 1.3664824550291204 1.3665193529362945\n"
     ]
    }
   ],
   "source": [
    "# Fix S^U=20 vary imax and jmax\n",
    "\n",
    "SU = 20\n",
    "valueOld = 1.\n",
    "diffOld = 1.\n",
    "\n",
    "for k in range(0,6):\n",
    "    jmax = 10* 2**k\n",
    "    imax = int(sigma*sigma*T*jmax*jmax)\n",
    "    S,vAmerican = finiteDiff_AmericanPut_njit(X,T, r , sigma,SU,imax,jmax)\n",
    "    value =  numpy.interp( X , S , vAmerican )\n",
    "    diff = value - valueOld\n",
    "    print( imax,jmax , value , (4.*value - valueOld) /3. )\n",
    "    diffOld = diff\n",
    "    valueOld = value\n"
   ]
  },
  {
   "cell_type": "markdown",
   "metadata": {},
   "source": [
    "Result is only 4 digits of accuracy (1.367), if that is all that is required it's\n",
    "ok, otherwise choose $S^U$ larger.\n"
   ]
  },
  {
   "cell_type": "markdown",
   "metadata": {},
   "source": [
    "# Penalty Method\n",
    "\n",
    "\n",
    "Here we aim to solve the classic American put option problem using the so called penalty method. \n",
    "The penalty method works by solving a slightly different problem, which can be shown to converge to the true solution. The alternative problem we solve combines the inequalities in (10.1) and (10.2) to give\n",
    "$$\n",
    "\\frac{\\partial P}{\\partial t} + \\frac12\\sigma^2S^2\\frac{\\partial^2 P}{\\partial S^2} + rS\\frac{\\partial P}{\\partial S} - rP + \\rho\\max((X - S) - P , 0 ) = 0\n",
    "\\tag{10.4}\n",
    "$$\n",
    "so that in the limit as $\\rho \\rightarrow \\infty$, the value function $P$ satisfies\n",
    "$$\n",
    "P(S,t) \\geq X-S.\n",
    "$$\n",
    "Note that (10.4) is no longer an inequality, so it can be solved directly using a matrix solver. \n",
    "\n",
    "However, given a Crank-Nicolson scheme, we won't know if the term $\\rho\\max((X - S) - P , 0 )$ is zero or has some value until we have solved to find $P$, so some iteration is required. Luckily the number of iterations required to reach a full solution tends to be very small (typically of the order 10 or less)."
   ]
  },
  {
   "cell_type": "markdown",
   "metadata": {},
   "source": [
    "The method as written here looks confusing, but once written in code it is relatively trivial to adapt to new problems. \n",
    "The algorithm works as follows:\n",
    "- Write down a standard finite difference scheme for the original PDE (including the boundary conditions)\n",
    "- Take a guess at the solution $v_j^{i,q}$ at the current time step, where $v_j^{i,q}$ is the $q$th guess.\n",
    "- If $v_j^{i,q} < X - S_j$ adjust the original finite difference approximation to\n",
    "$$\n",
    "\\hat b_j = b_j - \\rho\n",
    "$$\n",
    "$$\n",
    "\\hat d_j = d_j - \\rho ( X - S_j )\n",
    "$$ \n",
    "- Solve new system with a Thomas algorithm to find $v_j^{i,q+1}$.\n",
    "- Check for convergence in $||\\boldsymbol{v}^{i,q} - \\boldsymbol{v}^{i,q+1}||$.\n",
    "\n",
    "In order to guarantee that our solution is accurate to the level `tol`, we can choose \n",
    "$$\n",
    "\\rho = \\frac{1}{tol}. \n",
    "$$\n"
   ]
  },
  {
   "cell_type": "markdown",
   "metadata": {},
   "source": [
    "Now we create a function to return the value of American put using this algorithm. We need additional parameters for the numerical variables $\\rho$, `tol` and a maximum nunber of iterations to allow `maxiter`."
   ]
  },
  {
   "cell_type": "code",
   "execution_count": 14,
   "metadata": {},
   "outputs": [],
   "source": [
    "# penalty method solver\n",
    "def crankNicolson_AmerPut( X,T ,r,sigma , SU,imax,jmax , rho,tol,maxiter ):\n",
    "    ## calculate the step size and then setup storage for the value\n",
    "    dS = SU / jmax\n",
    "    dt = T / imax\n",
    "\n",
    "    S = numpy.zeros(jmax+1)\n",
    "    t = numpy.zeros(imax+1)\n",
    "    vNew = numpy.zeros(jmax+1)\n",
    "    vOld = numpy.zeros(jmax+1)\n",
    "\n",
    "    # calculate the values of S_j and t^i and check they work as expected\n",
    "    for i in range(imax+1):\n",
    "        t[i] = i*dt\n",
    "\n",
    "    for j in range(jmax+1):\n",
    "        S[j] = j*dS\n",
    "\n",
    "    # first enter the value of the option at expiry\n",
    "    for j in range(jmax+1):\n",
    "        vOld[j] = max( X - S[j] , 0.0 )\n",
    "        vNew[j] = max( X - S[j] , 0.0 )\n",
    "        \n",
    "    A_banded = numpy.zeros(shape=(3,jmax+1))\n",
    "    u=1\n",
    "    l=1\n",
    "    l_and_u = (l, u)\n",
    "\n",
    "    # b_0 V^i_0 + c_0 V^i_1 = d_0\n",
    "    A_banded[1][0] = 1.0 # b_0\n",
    "    A_banded[0][1] = 0.0 # c_0\n",
    "    # populate middle rows\n",
    "    for j in range(1,jmax):\n",
    "        # a_j V_j-1 + b_j V_j + c_i V_j+1 = d_i\n",
    "        A_banded[2][j-1] = 0.25*(sigma*sigma*j*j - r*j) # a_j\n",
    "        A_banded[1][j] = -1./dt - 0.5*sigma*sigma*j*j - 0.5*r # b_j\n",
    "        A_banded[0][j+1] = 0.25*(sigma*sigma*j*j + r*j) # c_j\n",
    "    # populate last row\n",
    "    # a_jmax V_jmax-1 + b_jmax V_jmax = d_jmax\n",
    "    A_banded[2][jmax-1] = 0.0 # a_jmax \n",
    "    A_banded[1][jmax] = 1.0 # b_jmax\n",
    "    \n",
    "    # create a new copy of A_banded, that can be adjusted depending on the penalty\n",
    "    A_banded_dash = numpy.copy(A_banded)\n",
    "\n",
    "    for i in range(imax-1,-1,-1):\n",
    "        # Create a vector for multiplication\n",
    "        d = numpy.zeros(jmax+1)\n",
    "        \n",
    "        # adjust boundary condition to be P=X because it is American\n",
    "        d[0] = X\n",
    "        for j in range(1,jmax):\n",
    "            aa = 0.25*(sigma*sigma*j*j - r*j) # a_j\n",
    "            bb = 1./dt - 0.5*sigma*sigma*j*j - 0.5*r # b_j + 2./dt\n",
    "            cc = 0.25*(sigma*sigma*j*j + r*j) # c_j\n",
    "            d[j] = - aa*vOld[j-1] - bb*vOld[j] - cc*vOld[j+1]\n",
    "        d[jmax] = 0.0\n",
    "        \n",
    "        # create a new copy of d, that can be adjusted depending on the penalty\n",
    "        d_dash = numpy.copy(d)\n",
    "            \n",
    "        ## Penalty loop to solve for vNew\n",
    "        for q in range(maxiter):\n",
    "            \n",
    "            # check which rows to adjust with a penalty\n",
    "            for j in range(1,jmax):\n",
    "                # check if P<X-S, if true apply penalty\n",
    "                if vNew[j] < X - S[j]:\n",
    "                    # b'_j = b_j - rho\n",
    "                    A_banded_dash[1][j] = A_banded[1][j] - rho\n",
    "                    # d'_j = d_j - rho*(X-S)\n",
    "                    d_dash[j] = d[j] - rho*(X - S[j])\n",
    "                    \n",
    "                # otherwise revert to original A_banded and d\n",
    "                else:\n",
    "                    # b'_j = b_j\n",
    "                    A_banded_dash[1][j] = A_banded[1][j] \n",
    "                    # d'_j = d_j \n",
    "                    d_dash[j] = d[j]\n",
    "                    \n",
    "\n",
    "            # Use banded solver solver to solve problem\n",
    "            #    A' v^{i,q+1} = d'\n",
    "            # here y ~ v_j^{i,q+1}\n",
    "            y = scipy.linalg.solve_banded(l_and_u,A_banded_dash,d_dash)\n",
    "            \n",
    "            # get the change in value from the previous iteration\n",
    "            # e = v_j^{i,q+1} - v_j^{i,q} \n",
    "            e = y-vNew\n",
    "            \n",
    "            # update the value of vNew\n",
    "            vNew = y\n",
    "            # check the norm against the tolerance for convergence\n",
    "            if numpy.linalg.norm(e,1) < tol:\n",
    "                print(\"Solved at step \",i,\". Converged after \",q,\"iterations.\")\n",
    "                # exit from the penalty loop\n",
    "                break\n",
    "        ##  solved for vNew\n",
    "        \n",
    "        vOld = numpy.copy(vNew)\n",
    "        \n",
    "    return S,vNew"
   ]
  },
  {
   "cell_type": "code",
   "execution_count": 15,
   "metadata": {},
   "outputs": [
    {
     "name": "stdout",
     "output_type": "stream",
     "text": [
      "Solved at step  49 . Converged after  2 iterations.\n",
      "Solved at step  48 . Converged after  2 iterations.\n",
      "Solved at step  47 . Converged after  1 iterations.\n",
      "Solved at step  46 . Converged after  1 iterations.\n",
      "Solved at step  45 . Converged after  1 iterations.\n",
      "Solved at step  44 . Converged after  2 iterations.\n",
      "Solved at step  43 . Converged after  1 iterations.\n",
      "Solved at step  42 . Converged after  1 iterations.\n",
      "Solved at step  41 . Converged after  1 iterations.\n",
      "Solved at step  40 . Converged after  1 iterations.\n",
      "Solved at step  39 . Converged after  1 iterations.\n",
      "Solved at step  38 . Converged after  1 iterations.\n",
      "Solved at step  37 . Converged after  1 iterations.\n",
      "Solved at step  36 . Converged after  1 iterations.\n",
      "Solved at step  35 . Converged after  1 iterations.\n",
      "Solved at step  34 . Converged after  1 iterations.\n",
      "Solved at step  33 . Converged after  1 iterations.\n",
      "Solved at step  32 . Converged after  1 iterations.\n",
      "Solved at step  31 . Converged after  1 iterations.\n",
      "Solved at step  30 . Converged after  1 iterations.\n",
      "Solved at step  29 . Converged after  2 iterations.\n",
      "Solved at step  28 . Converged after  1 iterations.\n",
      "Solved at step  27 . Converged after  1 iterations.\n",
      "Solved at step  26 . Converged after  1 iterations.\n",
      "Solved at step  25 . Converged after  1 iterations.\n",
      "Solved at step  24 . Converged after  1 iterations.\n",
      "Solved at step  23 . Converged after  1 iterations.\n",
      "Solved at step  22 . Converged after  1 iterations.\n",
      "Solved at step  21 . Converged after  1 iterations.\n",
      "Solved at step  20 . Converged after  1 iterations.\n",
      "Solved at step  19 . Converged after  1 iterations.\n",
      "Solved at step  18 . Converged after  1 iterations.\n",
      "Solved at step  17 . Converged after  1 iterations.\n",
      "Solved at step  16 . Converged after  1 iterations.\n",
      "Solved at step  15 . Converged after  1 iterations.\n",
      "Solved at step  14 . Converged after  1 iterations.\n",
      "Solved at step  13 . Converged after  1 iterations.\n",
      "Solved at step  12 . Converged after  1 iterations.\n",
      "Solved at step  11 . Converged after  1 iterations.\n",
      "Solved at step  10 . Converged after  1 iterations.\n",
      "Solved at step  9 . Converged after  1 iterations.\n",
      "Solved at step  8 . Converged after  1 iterations.\n",
      "Solved at step  7 . Converged after  1 iterations.\n",
      "Solved at step  6 . Converged after  1 iterations.\n",
      "Solved at step  5 . Converged after  1 iterations.\n",
      "Solved at step  4 . Converged after  1 iterations.\n",
      "Solved at step  3 . Converged after  1 iterations.\n",
      "Solved at step  2 . Converged after  1 iterations.\n",
      "Solved at step  1 . Converged after  1 iterations.\n",
      "Solved at step  0 . Converged after  1 iterations.\n"
     ]
    },
    {
     "data": {
      "text/plain": [
       "[<matplotlib.lines.Line2D at 0x16824ab40>]"
      ]
     },
     "execution_count": 15,
     "metadata": {},
     "output_type": "execute_result"
    },
    {
     "data": {
      "image/png": "[encoded data removed]",
      "text/plain": [
       "<Figure size 640x480 with 1 Axes>"
      ]
     },
     "metadata": {},
     "output_type": "display_data"
    }
   ],
   "source": [
    "S,vNew = crankNicolson_AmerPut(10,1,0.05 , 0.4,50,50,50,1.e8,1.e-8,50)\n",
    "\n",
    "# check a plot to see what it looks like\n",
    "plt.xlim(0,20)\n",
    "plt.plot(S,vNew)"
   ]
  },
  {
   "cell_type": "markdown",
   "metadata": {},
   "source": [
    "Here we see that the method only takes one or two iterations to converge, and the plot looks very similar to before."
   ]
  },
  {
   "cell_type": "markdown",
   "metadata": {},
   "source": [
    "# Tasks\n",
    "\n",
    "- Using interpolation to calculate the value at $S_0=X$ and with $S^U=50$, and different values of $imax$ and $jmax$, verify the convergence rate of this algorithm is $O((\\Delta t)^2,(\\Delta S)^2)$.\n",
    "- Try using Richardson extrapolation to improve your calculated results.\n",
    "- Using interpolation to calculate the value at $S_0=9.735$, is the convergence rate still $O((\\Delta t)^2,(\\Delta S)^2)$?\n",
    "- What is the efficincy of this method compared to the previous one? Say we want 6 digits of accuracy for the option value, which method can calculate it quicker? Can you use `numba` to compile and speed up your code where possible?\n",
    "- Update this code to include dividends, and make it solve for a call option. \n"
   ]
  }
 ],
 "metadata": {
  "kernelspec": {
   "display_name": "Python [conda env:base] *",
   "language": "python",
   "name": "conda-base-py"
  },
  "language_info": {
   "codemirror_mode": {
    "name": "ipython",
    "version": 3
   },
   "file_extension": ".py",
   "mimetype": "text/x-python",
   "name": "python",
   "nbconvert_exporter": "python",
   "pygments_lexer": "ipython3",
   "version": "3.12.2"
  }
 },
 "nbformat": 4,
 "nbformat_minor": 4
}
