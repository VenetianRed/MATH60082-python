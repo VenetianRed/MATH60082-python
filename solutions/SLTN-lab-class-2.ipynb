{
 "cells": [
  {
   "cell_type": "markdown",
   "metadata": {},
   "source": [
    "<div style='text-align: center;'>\n",
    "<img src=\"../images/math60082-banner.png\" alt=\"image\" width=\"80%\" height=\"auto\">\n",
    "</div>"
   ]
  },
  {
   "cell_type": "markdown",
   "metadata": {},
   "source": [
    "# Lab Solutions - Week 2"
   ]
  },
  {
   "cell_type": "markdown",
   "metadata": {},
   "source": [
    "# Tasks\n",
    "\n",
    "1. Integrate $f(x)=\\sin(x)$ and $f(x)=\\cos(x)$ over the region $\\left[0,\\frac{3}{4}\\pi\\right]$. Verify the accuracy of your results.\n"
   ]
  },
  {
   "cell_type": "markdown",
   "metadata": {},
   "source": [
    "Recall that\n",
    "$$\n",
    "\\int_a^b \\sin(x)\\, dx = \\left[ -\\cos(x) \\right]_{a}^b = \\cos(a) - \\cos(b)\n",
    "\\qquad \\mbox{and} \\qquad\n",
    "\\int_a^b \\cos(x)\\, dx = \\left[\\sin(x) \\right]_{a}^b = \\sin(b) - \\sin(a).\n",
    "$$"
   ]
  },
  {
   "cell_type": "code",
   "execution_count": 1,
   "metadata": {},
   "outputs": [
    {
     "name": "stdout",
     "output_type": "stream",
     "text": [
      "Solve I_1 = int_0^{3/4 pi} sin(x) dx \n",
      "Numerical Approx :=  (1.7071067811865472, 1.8952692539670438e-14) ; Analytic Value :=  1.7071067811865475\n",
      "Solve I_1 = int_0^{3/4 pi} cos(x) dx \n",
      "Numerical Approx :=  (0.7071067811865476, 1.436323259749347e-14) ; Analytic Value :=  0.7071067811865476\n"
     ]
    }
   ],
   "source": [
    "from scipy.integrate import quad as QUAD\n",
    "from math import sin,pi,cos \n",
    "\n",
    "lower_limit = 0.\n",
    "upper_limit = 0.75*pi\n",
    "\n",
    "print(\"Solve I_1 = int_0^{3/4 pi} sin(x) dx \")\n",
    "I1 = QUAD( sin , lower_limit , upper_limit )\n",
    "print(\"Numerical Approx := \",I1,\"; Analytic Value := \", -cos(upper_limit) + cos(lower_limit))\n",
    "\n",
    "print(\"Solve I_1 = int_0^{3/4 pi} cos(x) dx \")\n",
    "I2 = QUAD( cos , lower_limit , upper_limit )\n",
    "print(\"Numerical Approx := \",I2,\"; Analytic Value := \", sin(upper_limit) - sin(lower_limit))\n"
   ]
  },
  {
   "cell_type": "markdown",
   "metadata": {},
   "source": [
    "2. Consider that you are required to integrate the function $f(x)=\\max(x,e^{\\frac{x}{2}}-1)$ over the region $[0,5]$. How might you best deal with this problem?"
   ]
  },
  {
   "cell_type": "markdown",
   "metadata": {},
   "source": [
    "Note that this function is not smooth, so numerical approximations that assume smooth functions will introduce errors. We can deal with this by manually splitting the function up into peicewise smooth regions. So\n",
    "$$\n",
    "f(x) = \n",
    "\\begin{cases}\n",
    "x & \\text{ if } x<\\alpha \\\\\n",
    "e^{\\frac{x}{2}}-1 & \\text{ if } x\\geq \\alpha\n",
    "\\end{cases}\n",
    "$$\n",
    "but we need to find $\\alpha$. To find $\\alpha$ we would set $g(x)=x-e^{\\frac{x}{2}}+1$ and find the root $g(x)=0$ such that $x>0$."
   ]
  },
  {
   "cell_type": "code",
   "execution_count": 2,
   "metadata": {},
   "outputs": [
    {
     "name": "stdout",
     "output_type": "stream",
     "text": [
      " Solution of g(x)=0 is x= 2.5128624172523284\n"
     ]
    }
   ],
   "source": [
    "from scipy.optimize import root_scalar as findRoot\n",
    "from math import exp\n",
    "alpha = findRoot( lambda x:x-exp(x/2.)+1 ,x0=2.,x1=5 )\n",
    "alpha\n",
    "print(\" Solution of g(x)=0 is x=\",alpha.root)"
   ]
  },
  {
   "cell_type": "markdown",
   "metadata": {},
   "source": [
    "Now split integration, so $I = I_1 + I_2$ where\n",
    "$$\n",
    "I_1 = \\int_0^\\alpha x dx\n",
    "$$\n",
    "and\n",
    "$$\n",
    "I_2 = \\int_\\alpha^5 e^{\\frac{x}{2}} - 1 dx.\n",
    "$$\n",
    "to get:"
   ]
  },
  {
   "cell_type": "code",
   "execution_count": 3,
   "metadata": {},
   "outputs": [
    {
     "name": "stdout",
     "output_type": "stream",
     "text": [
      " Integral =  18.009364268174245\n"
     ]
    }
   ],
   "source": [
    "I1 = QUAD( lambda x: x , 0., alpha.root )\n",
    "I2 = QUAD( lambda x: exp(x/2.) -1 , alpha.root , 5. )\n",
    "I = I1[0] + I2[0]\n",
    "print(\" Integral = \",I)"
   ]
  },
  {
   "cell_type": "markdown",
   "metadata": {},
   "source": [
    "Note that once the integral is split, both sides could be calculated analytically."
   ]
  },
  {
   "cell_type": "markdown",
   "metadata": {},
   "source": [
    "3. Experiment with the lower and upper limits to see what effect they have. Can you propose what would be the _best_ values to choose in this case? Explain your reasoning."
   ]
  },
  {
   "cell_type": "code",
   "execution_count": 4,
   "metadata": {},
   "outputs": [],
   "source": [
    "# function to integrate normal distribution multiplied by 1/(1+t^2)\n",
    "def Gx_integrate_test( x ):\n",
    "    lower_limit=-1e16\n",
    "    upper_limit=1e16\n",
    "    if x<lower_limit:\n",
    "        return 0.\n",
    "    elif x>upper_limit:\n",
    "        return Gx_integrate_test(upper_limit)\n",
    "    from scipy.integrate import quad as QUAD\n",
    "    from math import exp,pi,sqrt\n",
    "    return (1./sqrt(2.*pi))*QUAD(lambda t: exp(-t*t/2.)/(1+t*t) , lower_limit, x)[0]\n",
    "\n"
   ]
  },
  {
   "cell_type": "code",
   "execution_count": 5,
   "metadata": {},
   "outputs": [
    {
     "name": "stdout",
     "output_type": "stream",
     "text": [
      "| 0.0 | 0.0 | 0.0 | 0.0 | 0.0 |\n"
     ]
    }
   ],
   "source": [
    "print(\"|\", Gx_integrate_test(-2.0),\"|\", Gx_integrate_test(-1.0) ,\"|\",Gx_integrate_test(0.0),\"|\", Gx_integrate_test(1.0),\"|\", Gx_integrate_test(2.0),\"|\")"
   ]
  },
  {
   "cell_type": "markdown",
   "metadata": {},
   "source": [
    "Results with diffferent values of the min/max limit in the function. Remember the limits are approximating $\\pm\\infty$ so they shouldn't be affecting the results. They should be chosen to be just large enough to stop affecting the results, and not too large so as to be wasting calculation time.\n",
    "\n",
    "| Limits | G(-2) | G(-1) | G(0) | G(1) | G(2) |\n",
    "|---|---|---|---|---|---|\n",
    "| -1.0,1.0 | 0.0 | 0.0 | 0.27582626905934127 | 0.5516525381186825 | 0.5516525381186825 |\n",
    "| -2.0,2.0 | 0.0 | 0.04846166762812421 | 0.3242879366874654 | 0.6001142057468069 | 0.6485758733749308 |\n",
    "| -4.0,4.0 | 0.003550144298797249 | 0.05201181192692145 | 0.3278380809862627 | 0.6036643500456039 | 0.6521260176737282 |\n",
    "| -8.0,8.0 | 0.0035518345219338033 | 0.05201350215005803 | 0.3278397712093992 | 0.6036660402687405 | 0.6521277078968646 |\n",
    "| -16.0,16.0 |  0.003551834521933837 | 0.05201350215005802 | 0.3278397712093992 | 0.6036660402687405 | 0.6521277078968657 |\n",
    "| -160,160 | 0.0035518345219338098 | 0.05201350215005802 | 0.3278397712093996 | 0.6036660402687405 | 0.6521277078968648 |\n",
    "| -1e16,1e16 | 0.0 | 0.0 | 0.0 | 0.0 | 0.0 |\n",
    "\n",
    "Values change a lot going from 1 to 2 to 4. We can see that values don't change much between 8 and 16, so a value of 8 (or perhaps 10?) would look to prove sufficient in this case. Choosing a huge number such as 1e16 which is ten to the power sixteen, actually gives the **wrong** result. When sampling this function over such a large interval it looks as though it would be zero everywhere."
   ]
  },
  {
   "cell_type": "code",
   "execution_count": 6,
   "metadata": {},
   "outputs": [],
   "source": [
    "# function to integrate normal distribution multiplied by 1/(1+t^2)\n",
    "def Gx_integrate( x ):\n",
    "    lower_limit=-10\n",
    "    upper_limit=10\n",
    "    if x<lower_limit:\n",
    "        return 0.\n",
    "    elif x>upper_limit:\n",
    "        return Gx_integrate(upper_limit)\n",
    "    from scipy.integrate import quad as QUAD\n",
    "    from math import exp,pi,sqrt\n",
    "    return (1./sqrt(2.*pi))*QUAD(lambda t: exp(-t*t/2.)/(1+t*t) , lower_limit, x)[0]\n"
   ]
  },
  {
   "cell_type": "markdown",
   "metadata": {},
   "source": [
    "4. Try to write a function `Gxg_integrate( float: x , g )` which takes the `g` as an argument."
   ]
  },
  {
   "cell_type": "code",
   "execution_count": 7,
   "metadata": {},
   "outputs": [],
   "source": [
    "# function to integrate normal distribution multiplied by 1/(1+t^2)\n",
    "def Gxg_integrate( x , g):\n",
    "    lower_limit=-10\n",
    "    upper_limit=10\n",
    "    if x<lower_limit:\n",
    "        return 0.\n",
    "    elif x>upper_limit:\n",
    "        return Gxg_integrate(upper_limit)\n",
    "    from scipy.integrate import quad as QUAD\n",
    "    from math import exp,pi,sqrt\n",
    "    return (1./sqrt(2.*pi))*QUAD(lambda t: exp(-t*t/2.)*g(t) , lower_limit, x)[0]\n"
   ]
  },
  {
   "cell_type": "markdown",
   "metadata": {},
   "source": [
    "5. Test the efficiency of calculation for $N(x)$ against the version from the special function module in `scipy`."
   ]
  },
  {
   "cell_type": "code",
   "execution_count": 8,
   "metadata": {},
   "outputs": [],
   "source": [
    "from timeit import timeit\n",
    "from scipy.special import ndtr as ND \n",
    "# function to integrate cummulative normal distribution\n",
    "def Nx_integrate( x ):\n",
    "    if x<-15.0:\n",
    "        return 0.\n",
    "    elif x>15.0:\n",
    "        return 1.0\n",
    "    from scipy.integrate import quad as QUAD\n",
    "    from math import exp,pi,sqrt\n",
    "    return 0.5 + (1./sqrt(2.*pi))*QUAD(lambda t: exp(-t*t/2.), 0, x)[0]\n"
   ]
  },
  {
   "cell_type": "code",
   "execution_count": 9,
   "metadata": {},
   "outputs": [
    {
     "name": "stdout",
     "output_type": "stream",
     "text": [
      "Time taken to run  100000  calls to the function  ND(1.)  is  0.07656527499784715  seconds.\n",
      "Time taken to run  100000  calls to the function  Nx_integrate(1.)  is  1.0631936240024515  seconds.\n"
     ]
    }
   ],
   "source": [
    "\n",
    "n = 100000\n",
    "script=\"ND(1.)\"\n",
    "timeIntegrate = timeit( script,number=n,globals=globals() )\n",
    "\n",
    "print(\"Time taken to run \",n,\" calls to the function \",script, \" is \", timeIntegrate,\" seconds.\")\n",
    "\n",
    "script=\"Nx_integrate(1.)\"\n",
    "timeIntegrate = timeit( script,number=n,globals=globals() )\n",
    "\n",
    "print(\"Time taken to run \",n,\" calls to the function \",script, \" is \", timeIntegrate,\" seconds.\")"
   ]
  },
  {
   "cell_type": "markdown",
   "metadata": {},
   "source": [
    "6. Test the efficiency of calculating $G(x)$ when $g$ is written inside the function, versus when $g$ is passed in as an argument. Does the flexibility of the second method come at a cost?"
   ]
  },
  {
   "cell_type": "markdown",
   "metadata": {},
   "source": [
    "First test our $G(x)$ function with $g$ written inside."
   ]
  },
  {
   "cell_type": "code",
   "execution_count": 10,
   "metadata": {},
   "outputs": [
    {
     "name": "stdout",
     "output_type": "stream",
     "text": [
      "Time taken to run  100000  calls to the function  Gx_integrate(1.)  is  4.763800018998154  seconds.\n"
     ]
    }
   ],
   "source": [
    "n = 100000\n",
    "script=\"Gx_integrate(1.)\"\n",
    "timeIntegrate = timeit( script,number=n,globals=globals() )\n",
    "\n",
    "print(\"Time taken to run \",n,\" calls to the function \",script, \" is \", timeIntegrate,\" seconds.\")"
   ]
  },
  {
   "cell_type": "markdown",
   "metadata": {},
   "source": [
    "This takes about 5 times longer than before. This is because the integral between $\\infty$ and 0 is being calculated as part of the solution. You could provide a vast speed up here by precalulating it and using the formula $$G(x) = G(0) + \\int_0^x ...$$"
   ]
  },
  {
   "cell_type": "markdown",
   "metadata": {},
   "source": [
    "Now define a function `def g_func` that returns the appropriate value, and pass as argument into the function `Gx_integrate_g`."
   ]
  },
  {
   "cell_type": "code",
   "execution_count": 11,
   "metadata": {},
   "outputs": [
    {
     "name": "stdout",
     "output_type": "stream",
     "text": [
      "Time taken to run  100000  calls to the function  Gxg_integrate(1.,g_func)  is  5.391431061998446  seconds.\n"
     ]
    }
   ],
   "source": [
    "n = 100000\n",
    "\n",
    "def g_func(t):\n",
    "    return 1./(1+t*t)\n",
    "\n",
    "script=\"Gxg_integrate(1.,g_func)\"\n",
    "timeIntegrate = timeit( script,number=n,globals=globals() )\n",
    "\n",
    "print(\"Time taken to run \",n,\" calls to the function \",script, \" is \", timeIntegrate,\" seconds.\")"
   ]
  },
  {
   "cell_type": "markdown",
   "metadata": {},
   "source": [
    "We can see there is a slight time penalty (around 10%) introduced but our definition is more flexible and can be used again for other problems."
   ]
  },
  {
   "cell_type": "code",
   "execution_count": 12,
   "metadata": {},
   "outputs": [
    {
     "name": "stdout",
     "output_type": "stream",
     "text": [
      "Time taken to run  100000  calls to the function  Gxg_integrate(1.,lambda t:1./(1+t*t))  is  5.710484757000813  seconds.\n"
     ]
    }
   ],
   "source": [
    "n = 100000\n",
    "script=\"Gxg_integrate(1.,lambda t:1./(1+t*t))\"\n",
    "timeIntegrate = timeit( script,number=n,globals=globals() )\n",
    "\n",
    "print(\"Time taken to run \",n,\" calls to the function \",script, \" is \", timeIntegrate,\" seconds.\")"
   ]
  },
  {
   "cell_type": "markdown",
   "metadata": {},
   "source": [
    "There is not much difference when we do the same again with a `lambda` function."
   ]
  },
  {
   "cell_type": "markdown",
   "metadata": {},
   "source": []
  }
 ],
 "metadata": {
  "kernelspec": {
   "display_name": "Python [conda env:base] *",
   "language": "python",
   "name": "conda-base-py"
  },
  "language_info": {
   "codemirror_mode": {
    "name": "ipython",
    "version": 3
   },
   "file_extension": ".py",
   "mimetype": "text/x-python",
   "name": "python",
   "nbconvert_exporter": "python",
   "pygments_lexer": "ipython3",
   "version": "3.12.2"
  }
 },
 "nbformat": 4,
 "nbformat_minor": 4
}
