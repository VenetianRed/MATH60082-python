{
 "cells": [
  {
   "cell_type": "markdown",
   "metadata": {},
   "source": [
    "<div style='text-align: center;'>\n",
    "<img src=\"images/math60082-banner.png\" alt=\"image\" width=\"80%\" height=\"auto\">\n",
    "</div>"
   ]
  },
  {
   "cell_type": "markdown",
   "metadata": {},
   "source": [
    "# Lab Class - Week 10\n",
    "\n",
    "## Department of Mathematics"
   ]
  },
  {
   "cell_type": "markdown",
   "metadata": {},
   "source": [
    "Last time we demonstrated the Crank-Nicolson finite difference method applied to European options\n",
    "- We showed how accurate it can be,\n",
    "- How to apply it different problems,\n",
    "- This time we cover how to adapt finite difference methods to early exercise options."
   ]
  },
  {
   "cell_type": "markdown",
   "metadata": {},
   "source": [
    "## American Options\n"
   ]
  },
  {
   "cell_type": "markdown",
   "metadata": {},
   "source": [
    "A reminder that American option allow for early exercise, and we must allow the holder of the option to make the optimal decision to exercise early, but without perfect foresight (only using information up to and including the current time $t$). \n",
    "\n",
    "Consider the case of an American put option writing on a standard asset $S$ trading in the market. According to standard theory, we can find the solution to the problem by solving \n",
    "$$\n",
    "\\frac{\\partial P}{\\partial t} + \\frac12\\sigma^2S^2\\frac{\\partial^2 P}{\\partial S^2} + rS\\frac{\\partial P}{\\partial S} - rP \\leq 0\n",
    "\\tag{10.1}\n",
    "$$\n",
    "$$\n",
    "P(S,t) \\geq X-S\n",
    "\\tag{10.2}\n",
    "$$\n",
    "with\n",
    "$$\n",
    "P(S,T) = \\max(X-S,0),\n",
    "\\tag{10.3}\n",
    "$$\n",
    "and the optimal solution will satisfy either the equaility in (10.1) or (10.2), whichever gives the larger result.\n",
    "\n",
    "Now when using the explicit finite difference method, we have the equation for the value of $P_j^i$ at a grid point\n",
    "$$\n",
    "P_j^i = \\frac{1}{1+r\\Delta t}(AP_{j+1}^{i+1} + BP_{j}^{i+1}+ CP_{j-1}^{i+1})\n",
    "$$\n",
    "which satisifies the equality of (10.1). So to get the optimal solution for an American put option, we simple choose the maximum between (10.1) and (10.2), or\n",
    "$$\n",
    "P_j^i = \\max\\left[\\frac{1}{1+r\\Delta t}(AP_{j+1}^{i+1} + BP_{j}^{i+1}+ CP_{j-1}^{i+1})~ ,~ X - S_j \\right] .\n",
    "$$\n"
   ]
  },
  {
   "cell_type": "code",
   "execution_count": 1,
   "metadata": {},
   "outputs": [],
   "source": [
    "# To get started import some libraries\n",
    "import numpy as np\n",
    "import scipy\n",
    "import matplotlib.pyplot as plt"
   ]
  },
  {
   "cell_type": "markdown",
   "metadata": {},
   "source": [
    "Coding this is up is pretty easy, we just add the maximum condition on one line of code to get the American put option value!"
   ]
  },
  {
   "cell_type": "code",
   "execution_count": 2,
   "metadata": {},
   "outputs": [],
   "source": [
    "def AmericanPut_FD( X, T, r, sigma, Su_factor, iMax, jMax ):\n",
    "    # Fix the value of S on the upper boundary,\n",
    "    # then calculate the step sizes.\n",
    "    Su = Su_factor * X\n",
    "    \n",
    "    dS = Su / jMax\n",
    "    dt = T / iMax\n",
    "\n",
    "    # Calculate the values of t_i and S_j\n",
    "    t = np.array([i*dt for i in range(iMax+1)])\n",
    "    S = np.array([j*dS for j in range(jMax+1)])\n",
    "\n",
    "    # Set up storage for the results and intermediates\n",
    "    vNew = np.zeros(jMax+1)\n",
    "    vOld = np.zeros(jMax+1)\n",
    "        \n",
    "    # first enter the value of the option at expiry\n",
    "    for j in range(jMax+1):\n",
    "        vOld[j] = max( X - S[j] , 0.)\n",
    "        \n",
    "    # next loop back through time\n",
    "    for i in range(iMax-1,-1,-1):\n",
    "        # apply boundary condition at S=0\n",
    "        vNew[0] = X\n",
    "        for j in range(1,jMax):\n",
    "            # input explicit finite difference formula\n",
    "            A = 0.5*sigma*sigma*j*j*dt + 0.5*r*j*dt\n",
    "            B = 1.0 - sigma*sigma*j*j*dt\n",
    "            C = 0.5*sigma*sigma*j*j*dt - 0.5*r*j*dt\n",
    "            # use vNew[j] for V_j^i and vOld[j] for V_j^{i+1}\n",
    "            vNew[j] = max( (A*vOld[j+1] + B*vOld[j] + C*vOld[j-1]) / ( 1 + r*dt) , X - S[j] )\n",
    "        # apply boundary condition at S=S_U\n",
    "        vNew[jMax] = 0.0\n",
    "        \n",
    "        # set old values equal to new ones\n",
    "        # MAKE SURE THIS IS A DEEP COPY!\n",
    "        vOld = np.copy(vNew)\n",
    "    \n",
    "    return S,vNew"
   ]
  },
  {
   "cell_type": "markdown",
   "metadata": {},
   "source": [
    "First, we set parameters for the problem."
   ]
  },
  {
   "cell_type": "code",
   "execution_count": 3,
   "metadata": {},
   "outputs": [],
   "source": [
    "# Parameters of the contract\n",
    "X = 10 \n",
    "T = 1.0\n",
    "\n",
    "# Market parameters\n",
    "r = 0.05\n",
    "sigma = 0.4\n",
    "\n",
    "# Grid parameters\n",
    "Su_factor = 5.0\n",
    "iMax = 1000\n",
    "jMax = 50"
   ]
  },
  {
   "cell_type": "code",
   "execution_count": 4,
   "metadata": {},
   "outputs": [
    {
     "data": {
      "image/png": "[encoded data removed]",
      "text/plain": [
       "<Figure size 640x480 with 1 Axes>"
      ]
     },
     "metadata": {},
     "output_type": "display_data"
    }
   ],
   "source": [
    "S,vNew = AmericanPut_FD( X, T, r, sigma, Su_factor, iMax, jMax )\n",
    "\n",
    "# check a plot to see what it looks like\n",
    "plt.xlim(0, 2.0 * X)\n",
    "plt.plot(S,vNew)\n",
    "\n",
    "plt.xlabel( \"$S$\" )\n",
    "plt.ylabel( \"$P_A(S,0)$\" )\n",
    "plt.title( f\"Finite-difference with penaly iMax={iMax}\" )\n",
    "plt.show()"
   ]
  },
  {
   "cell_type": "markdown",
   "metadata": {},
   "source": [
    "On the output, we should be able to see the resulting solution satisfies $P\\geq X-S$. \n",
    "\n",
    "# Tasks\n",
    "\n",
    "- Consider the parameters $X=10$, $T=1$, $r=0.05$ and $\\sigma=0.4$.\n",
    "- Run the American option for different value of $iMax$ and $jMax$, is this method stable for all values of $iMax$?\n",
    "- Using the calculated value at $S_0=X$, a sufficiently large $S^U$, and a stable value of $iMax$, verify that the convergence rate is $O((\\Delta S)^2)$.\n",
    "- Use interpolation to get the value of the option with $S_0=9.735$, is the convergence rate still $O((\\Delta S)^2)$?\n",
    "- Check that the converged value matches with the result on my website:\n",
    "\n",
    "[American Option Solver](https://personalpages.manchester.ac.uk/staff/paul.johnson-2/pages/americanCalculator.html)"
   ]
  },
  {
   "cell_type": "markdown",
   "metadata": {},
   "source": [
    "# Penalty Method\n",
    "\n",
    "\n",
    "Here we aim to solve the classic American put option problem using the so-called penalty method. \n",
    "The penalty method works by solving a slightly different problem, which can be shown to converge to the true solution. The alternative problem we solve combines the inequalities in (10.1) and (10.2) to give\n",
    "$$\n",
    "\\frac{\\partial P}{\\partial t} + \\frac12\\sigma^2S^2\\frac{\\partial^2 P}{\\partial S^2} + rS\\frac{\\partial P}{\\partial S} - rP + \\rho\\max((X - S) - P , 0 ) = 0\n",
    "\\tag{10.4}\n",
    "$$\n",
    "so that in the limit as $\\rho \\rightarrow \\infty$, the value function $P$ satisfies\n",
    "$$\n",
    "P(S,t) \\geq X-S.\n",
    "$$\n",
    "Note that (10.4) is no longer an inequality, so it can be solved directly using a matrix solver. \n",
    "\n",
    "However, given a Crank-Nicolson scheme, we won't know if the term $\\rho\\max((X - S) - P , 0 )$ is zero or has some value until we have solved to find $P$, so some iteration is required. Luckily the number of iterations required to reach a full solution tends to be very small (typically of the order 10 or less)."
   ]
  },
  {
   "cell_type": "markdown",
   "metadata": {},
   "source": [
    "The method as written here looks confusing, but once written in code it is relatively trivial to adapt to new problems. \n",
    "The algorithm works as follows:\n",
    "- Write down a standard finite difference scheme for the original PDE (including the boundary conditions)\n",
    "- Take a guess at the solution $v_j^{i,q}$ at the current time step, where $v_j^{i,q}$ is the $q$th guess.\n",
    "- If $v_j^{i,q} < X - S_j$ adjust the original finite difference approximation to\n",
    "$$\n",
    "\\hat b_j = b_j - \\rho\n",
    "$$\n",
    "$$\n",
    "\\hat d_j = d_j - \\rho ( X - S_j )\n",
    "$$ \n",
    "- Solve new system with a Thomas algorithm to find $v_j^{i,q+1}$.\n",
    "- Check for convergence in $||\\boldsymbol{v}^{i,q} - \\boldsymbol{v}^{i,q+1}||$.\n",
    "\n",
    "In order to guarantee that our solution is accurate to the level `tol`, we can choose \n",
    "$$\n",
    "\\rho = \\frac{1}{\\mbox{\\texttt{tol}}}. \n",
    "$$\n"
   ]
  },
  {
   "cell_type": "markdown",
   "metadata": {},
   "source": [
    "Now we create a function to return the value of American put using this algorithm. We need additional parameters for the numerical variables $\\rho$, `tol` and a maximum nunber of iterations to allow `maxiter`."
   ]
  },
  {
   "cell_type": "code",
   "execution_count": 5,
   "metadata": {},
   "outputs": [],
   "source": [
    "# Penalty method solver\n",
    "def AmericanPut_CN( X, T, r, sigma, Su_factor, iMax, jMax, rho, tol, max_iter, printProgress=True ):\n",
    "    # Fix the value of S on the upper boundary,\n",
    "    # then calculate the step sizes.\n",
    "    Su = Su_factor * X\n",
    "    \n",
    "    dS = Su / jMax\n",
    "    dt = T / iMax\n",
    "\n",
    "    # Calculate the values of t_i and S_j\n",
    "    t = np.array([i*dt for i in range(iMax+1)])\n",
    "    S = np.array([j*dS for j in range(jMax+1)])\n",
    "\n",
    "    # Set up storage for the results and intermediates\n",
    "    vNew = np.zeros(jMax+1)\n",
    "    vOld = np.zeros(jMax+1)\n",
    "\n",
    "    # Get the value of the option at expiry \n",
    "    for j in range(jMax+1):\n",
    "        vOld[j] = max( X - S[j] , 0.0 )\n",
    "\n",
    "    # Set up ingredients needed by SciPy's solve_banded()\n",
    "    # See the solutions to the lab for Week 9 for details.\n",
    "    A_banded = np.zeros(shape=(3,jMax+1))\n",
    "    u=1\n",
    "    l=1\n",
    "    l_and_u = (l, u)\n",
    "\n",
    "    # Compute the entries in the tridiagonal matrix, begining\n",
    "    # with the top row.\n",
    "    # b_0 V_0 + c_0 V_1 = d_0\n",
    "    A_banded[1][0] = 1.0 # b_0\n",
    "    A_banded[0][1] = 0.0 # c_0\n",
    "    \n",
    "    # Populate middle rows\n",
    "    for j in range(1,jMax):\n",
    "        # a_j V_j-1 + b_j V_j + c_i V_j+1 = d_i\n",
    "        A_banded[2][j-1] = 0.25*(sigma*sigma*j*j - r*j) # a_j\n",
    "        A_banded[1][j] = -1./dt - 0.5*sigma*sigma*j*j - 0.5*r # b_j\n",
    "        A_banded[0][j+1] = 0.25*(sigma*sigma*j*j + r*j) # c_j\n",
    "        \n",
    "    # Set entries from the bottom row.\n",
    "    # a_jMax V_jMax-1 + b_jMax V_jMax = d_jMax\n",
    "    A_banded[2][jMax-1] = 0.0 # a_jMax \n",
    "    A_banded[1][jMax] = 1.0 # b_jMax\n",
    "    \n",
    "    # Create a copy of A_banded that we can adjust to incorporate the penalty\n",
    "    A_banded_w_penalty = np.copy(A_banded)\n",
    "\n",
    "    # Step backward through time\n",
    "    for i in range(iMax-1,-1,-1):\n",
    "        # Create a vector for multiplication\n",
    "        d = np.zeros(jMax+1)\n",
    "        \n",
    "        # Adjust boundary condition to be P=X because it is American\n",
    "        d[0] = X\n",
    "        for j in range(1,jMax):\n",
    "            aa = 0.25*(sigma*sigma*j*j - r*j) # a_j\n",
    "            bb = 1./dt - 0.5*sigma*sigma*j*j - 0.5*r # b_j + 2./dt\n",
    "            cc = 0.25*(sigma*sigma*j*j + r*j) # c_j\n",
    "            d[j] = - aa*vOld[j-1] - bb*vOld[j] - cc*vOld[j+1]\n",
    "            \n",
    "        d[jMax] = 0.0\n",
    "        \n",
    "        # create a new copy of d, that can be adjusted depending on the penalty\n",
    "        d_w_penalty = np.copy(d)\n",
    "            \n",
    "        # Penalty loop to solve for vNew\n",
    "        iter_num = 0\n",
    "        converged = False # at least for now\n",
    "        while (iter_num < max_iter) and not converged:\n",
    "            # Determine which rows to adjust with a penalty\n",
    "            for j in range(1,jMax):\n",
    "                # Check whether P<X-S and apply the penalty where this is true\n",
    "                if vNew[j] < X - S[j]:\n",
    "                    # b'_j = b_j - rho\n",
    "                    A_banded_w_penalty[1][j] = A_banded[1][j] - rho\n",
    "                    \n",
    "                    # d'_j = d_j - rho*(X-S)\n",
    "                    d_w_penalty[j] = d[j] - rho*(X - S[j])\n",
    "                    \n",
    "                # Otherwise use the original values of A_banded and d\n",
    "                else:\n",
    "                    # b'_j = b_j\n",
    "                    A_banded_w_penalty[1][j] = A_banded[1][j]\n",
    "                    \n",
    "                    # d'_j = d_j \n",
    "                    d_w_penalty[j] = d[j]\n",
    "                    \n",
    "\n",
    "            # Use banded solver solver to solve problem\n",
    "            #    A' v^{i,q+1} = d'\n",
    "            # here y ~ v_j^{i,q+1}\n",
    "            y = scipy.linalg.solve_banded(l_and_u, A_banded_w_penalty, d_w_penalty)\n",
    "            \n",
    "            # Compute the change in value from the previous iteration\n",
    "            # e = v_j^{i,q+1} - v_j^{i,q} \n",
    "            e = y-vNew\n",
    "            \n",
    "            # Update the value of vNew\n",
    "            vNew = y\n",
    "            \n",
    "            # Check the norm against the tolerance for convergence\n",
    "            iter_num += 1\n",
    "            if np.linalg.norm(e,1) < tol:\n",
    "                converged = True # Prepare to exit the loop\n",
    "                if printProgress:\n",
    "                    print( f\"Solved at step {i}. Converged after {iter_num} iterations.\")\n",
    "\n",
    "        # When we each this point, we have Solved for vNew and can go on to \n",
    "        # the enxt time step, so that vOld should receive the values stored in vNew.\n",
    "        vOld = np.copy(vNew)\n",
    "        \n",
    "    return S, vNew"
   ]
  },
  {
   "cell_type": "code",
   "execution_count": 6,
   "metadata": {},
   "outputs": [],
   "source": [
    "# Adjust grid parameters: we don't need such a large iMax for Crank-Nicolson\n",
    "iMax = 50\n",
    "jMax = 50\n",
    "\n",
    "# Parameters of the penalty method\n",
    "rho = 1.0e8\n",
    "tol = 1.0e-8\n",
    "maxIter = 50"
   ]
  },
  {
   "cell_type": "code",
   "execution_count": 7,
   "metadata": {},
   "outputs": [
    {
     "name": "stdout",
     "output_type": "stream",
     "text": [
      "Solved at step 49. Converged after 2 iterations.\n",
      "Solved at step 48. Converged after 3 iterations.\n",
      "Solved at step 47. Converged after 2 iterations.\n",
      "Solved at step 46. Converged after 2 iterations.\n",
      "Solved at step 45. Converged after 2 iterations.\n",
      "Solved at step 44. Converged after 3 iterations.\n",
      "Solved at step 43. Converged after 2 iterations.\n",
      "Solved at step 42. Converged after 2 iterations.\n",
      "Solved at step 41. Converged after 2 iterations.\n",
      "Solved at step 40. Converged after 2 iterations.\n",
      "Solved at step 39. Converged after 2 iterations.\n",
      "Solved at step 38. Converged after 2 iterations.\n",
      "Solved at step 37. Converged after 2 iterations.\n",
      "Solved at step 36. Converged after 2 iterations.\n",
      "Solved at step 35. Converged after 2 iterations.\n",
      "Solved at step 34. Converged after 2 iterations.\n",
      "Solved at step 33. Converged after 2 iterations.\n",
      "Solved at step 32. Converged after 2 iterations.\n",
      "Solved at step 31. Converged after 2 iterations.\n",
      "Solved at step 30. Converged after 2 iterations.\n",
      "Solved at step 29. Converged after 3 iterations.\n",
      "Solved at step 28. Converged after 2 iterations.\n",
      "Solved at step 27. Converged after 2 iterations.\n",
      "Solved at step 26. Converged after 2 iterations.\n",
      "Solved at step 25. Converged after 2 iterations.\n",
      "Solved at step 24. Converged after 2 iterations.\n",
      "Solved at step 23. Converged after 2 iterations.\n",
      "Solved at step 22. Converged after 2 iterations.\n",
      "Solved at step 21. Converged after 2 iterations.\n",
      "Solved at step 20. Converged after 2 iterations.\n",
      "Solved at step 19. Converged after 2 iterations.\n",
      "Solved at step 18. Converged after 2 iterations.\n",
      "Solved at step 17. Converged after 2 iterations.\n",
      "Solved at step 16. Converged after 2 iterations.\n",
      "Solved at step 15. Converged after 2 iterations.\n",
      "Solved at step 14. Converged after 2 iterations.\n",
      "Solved at step 13. Converged after 2 iterations.\n",
      "Solved at step 12. Converged after 2 iterations.\n",
      "Solved at step 11. Converged after 2 iterations.\n",
      "Solved at step 10. Converged after 2 iterations.\n",
      "Solved at step 9. Converged after 2 iterations.\n",
      "Solved at step 8. Converged after 2 iterations.\n",
      "Solved at step 7. Converged after 2 iterations.\n",
      "Solved at step 6. Converged after 2 iterations.\n",
      "Solved at step 5. Converged after 2 iterations.\n",
      "Solved at step 4. Converged after 2 iterations.\n",
      "Solved at step 3. Converged after 2 iterations.\n",
      "Solved at step 2. Converged after 2 iterations.\n",
      "Solved at step 1. Converged after 2 iterations.\n",
      "Solved at step 0. Converged after 2 iterations.\n"
     ]
    },
    {
     "data": {
      "image/png": "[encoded data removed]",
      "text/plain": [
       "<Figure size 640x480 with 1 Axes>"
      ]
     },
     "metadata": {},
     "output_type": "display_data"
    }
   ],
   "source": [
    "S_CN, V_CN = AmericanPut_CN( X, T, r, sigma, Su_factor, iMax, jMax, rho, tol, maxIter )\n",
    "\n",
    "# check a plot to see what it looks like\n",
    "plt.xlim(0,20)\n",
    "plt.plot(S_CN, V_CN)\n",
    "plt.xlabel( \"$S$\" )\n",
    "plt.ylabel( \"$P_A(S,0)$\" )\n",
    "plt.title( f\"Crank-Nicolson with penaly $\\\\rho = ${rho:.1e}\" )\n",
    "plt.show()"
   ]
  },
  {
   "cell_type": "markdown",
   "metadata": {},
   "source": [
    "Here we see that the method only takes one or two iterations to converge, and the plot looks very similar to before."
   ]
  },
  {
   "cell_type": "markdown",
   "metadata": {},
   "source": [
    "# Tasks\n",
    "\n",
    "- Using interpolation to calculate the value at $S_0=X$ and with $S^U=50$, and different values of `iMax` and `jMax`, verify the convergence rate of this algorithm is $O((\\Delta t)^2,(\\Delta S)^2)$.\n",
    "- Try using Richardson extrapolation to improve your calculated results.\n",
    "- Using interpolation to calculate the value at $S_0=9.735$, is the convergence rate still $O((\\Delta t)^2,(\\Delta S)^2)$?\n",
    "- What is the efficincy of this method compared to the previous one? Say we want 6 digits of accuracy for the option value, which method can calculate it quicker? Can you use `numba` to compile and speed up your code where possible?\n",
    "- Update this code to include dividends, and make it solve for a call option. \n"
   ]
  },
  {
   "cell_type": "markdown",
   "metadata": {},
   "source": [
    "#### Acceleration with a Thomas solver\n",
    "\n",
    "As in Week 9, it is possible to accelerate the code using `numba`, but we must first replace the call to \n",
    "`scipy.linalg.solve_banded()` with our own code. Here, as previously, I use a Thomas slover and will store the diagonals of $A$ in a `(jMax+1)` $\\times 3$ array `A_diags` where:\n",
    "* `A_diags[j,0]` $= a_j$ (and hence is undefined for $j=0$)\n",
    "* `A_diags[j,1]` $= b_j$ (and hence is defined for $0 \\leq j \\leq$ `jMax`)\n",
    "* `A_diags[j,2]` $= c_j$ (and hence is undefined for $j =$ `jMax`)"
   ]
  },
  {
   "cell_type": "code",
   "execution_count": 8,
   "metadata": {},
   "outputs": [
    {
     "data": {
      "text/plain": [
       "array([0.00000000e+00, 0.00000000e+00, 0.00000000e+00, 0.00000000e+00,\n",
       "       8.88178420e-16, 0.00000000e+00, 0.00000000e+00, 0.00000000e+00,\n",
       "       2.22044605e-15, 2.66453526e-15, 1.33226763e-15, 8.88178420e-16,\n",
       "       8.88178420e-16, 8.88178420e-16, 9.99200722e-16, 7.77156117e-16,\n",
       "       6.10622664e-16, 4.99600361e-16, 4.57966998e-16, 3.60822483e-16,\n",
       "       2.35922393e-16, 1.66533454e-16, 1.17961196e-16, 9.71445147e-17,\n",
       "       7.28583860e-17, 5.20417043e-17, 3.98986399e-17, 3.12250226e-17,\n",
       "       2.34187669e-17, 1.82145965e-17, 1.47451495e-17, 1.17093835e-17,\n",
       "       8.67361738e-18, 6.72205347e-18, 4.98732999e-18, 3.68628739e-18,\n",
       "       3.03576608e-18, 2.49366500e-18, 1.84314369e-18, 1.35525272e-18,\n",
       "       1.08420217e-18, 8.13151629e-19, 6.50521303e-19, 4.60785923e-19,\n",
       "       3.25260652e-19, 2.43945489e-19, 1.89735380e-19, 1.42301535e-19,\n",
       "       9.48676901e-20, 4.74338450e-20, 0.00000000e+00])"
      ]
     },
     "execution_count": 8,
     "metadata": {},
     "output_type": "execute_result"
    }
   ],
   "source": [
    "from numba import njit\n",
    "\n",
    "# Penalty method solver\n",
    "@njit\n",
    "def AmericanPut_CN2( X, T, r, sigma, Su_factor, iMax, jMax, rho, tol, max_iter ):\n",
    "    # Fix the value of S on the upper boundary,\n",
    "    # then calculate the step sizes.\n",
    "    Su = Su_factor * X\n",
    "    \n",
    "    dS = Su / jMax\n",
    "    dt = T / iMax\n",
    "\n",
    "    # Calculate the values of t_i and S_j\n",
    "    t = np.array([i*dt for i in range(iMax+1)])\n",
    "    S = np.array([j*dS for j in range(jMax+1)])\n",
    "\n",
    "    # Set up storage for the results and intermediates\n",
    "    vNew = np.zeros(jMax+1)\n",
    "    vOld = np.zeros(jMax+1)\n",
    "    \n",
    "    # Get the value of the option at expiry \n",
    "    for j in range(jMax+1):\n",
    "        vOld[j] = max( X - S[j] , 0.0 )\n",
    "\n",
    "    # Set up storage for the tri-diagonal matrix A\n",
    "    # as described above.\n",
    "    A_diags = np.zeros(shape=(jMax+1,3)) \n",
    "\n",
    "    # Enforce the boundary condition at S=0\n",
    "    # b_0 V_0 + c_0 V_1 = d_0\n",
    "    A_diags[0,1] = 1.0 # b_0 = 1\n",
    "    A_diags[0,2] = 0.0 # c_0 = 0\n",
    "    \n",
    "    # Set a[j], b[j] and c[j] for the middle rows\n",
    "    for j in range(1,jMax):\n",
    "        # a_j V_j-1 + b_j V_j + c_i V_j+1 = d_i\n",
    "        A_diags[j,0] = 0.25*(sigma*sigma*j*j - r*j) # a_j\n",
    "        A_diags[j,1] = -1.0/dt - 0.5*sigma*sigma*j*j - 0.5*r # b_j\n",
    "        A_diags[j,2] = 0.25*(sigma*sigma*j*j + r*j) # c_j\n",
    "        \n",
    "    # Enforce the boundary condition at S = Su\n",
    "    # a_jMax V_jMax-1 + b_jMax V_jMax = d_jMax\n",
    "    A_diags[jMax,0] = 0.0 # a_jMax = 0\n",
    "    A_diags[jMax,1] = 1.0 # b_jMax = 1\n",
    "    \n",
    "    # Allocate storage for the righthand side of the equation Av = d\n",
    "    d = np.zeros(jMax+1) \n",
    "    \n",
    "    # Step backward through time\n",
    "    for i in range(iMax-1,-1,-1):\n",
    "        # Evaluate the righthand side\n",
    "        d[0] = X # Adjust boundary condition to be P=X because this is an American put\n",
    "        for j in range(1,jMax):\n",
    "            aa = A_diags[j,0] # a_j\n",
    "            bb = A_diags[j,1] + 2.0/dt # b_j + 2/dt\n",
    "            cc = A_diags[j,2] # c_j\n",
    "            d[j] = - aa*vOld[j-1] - bb*vOld[j] - cc*vOld[j+1]\n",
    "            \n",
    "        d[jMax] = 0.0\n",
    "\n",
    "        # Create copies of A_diags and d that we can adjust to incorporate the penalty\n",
    "        A_diags_w_penalty = np.copy(A_diags)\n",
    "        d_w_penalty = np.copy(d)\n",
    "            \n",
    "        # Penalty loop to solve for vNew\n",
    "        iter_num = 0\n",
    "        converged = False # at least for now\n",
    "        while (iter_num < max_iter) and not converged:\n",
    "            # Determine which rows to adjust with a penalty\n",
    "            for j in range(1,jMax):\n",
    "                # Check whether P < X-S and apply the penalty whenever this is true\n",
    "                if vNew[j] < X - S[j]:\n",
    "                    A_diags_w_penalty[j,1] = A_diags[j,1] - rho # b'_j = b_j - rho\n",
    "                    d_w_penalty[j] = d[j] - rho*(X - S[j]) # d'_j = d_j - rho*(X-S)\n",
    "                    \n",
    "                # Otherwise use the original values of A_diags and d\n",
    "                else:\n",
    "                    A_diags_w_penalty[j,1] = A_diags[j,1] # b'_j = b_j\n",
    "                    d_w_penalty[j] = d[j] # d'_j = d_j \n",
    "                    \n",
    "            ########################################################################\n",
    "            # Solve the tridiagonal system using a Thomas solver:\n",
    "            # https://en.wikipedia.org/wiki/Tridiagonal_matrix_algorithm\n",
    "            ########################################################################\n",
    "            cPrime = np.zeros(jMax)\n",
    "            dPrime = np.zeros(jMax)\n",
    "\n",
    "            cPrime[0] = A_diags_w_penalty[0,2] / A_diags_w_penalty[0,1] # c_0 / b_0\n",
    "            dPrime[0] = d_w_penalty[0] / A_diags_w_penalty[0,1] # d_0 / b_0\n",
    "            for j in range(1,jMax):\n",
    "                cp_denom = A_diags_w_penalty[j,1] - A_diags_w_penalty[j,0]*cPrime[j-1] \n",
    "                cPrime[j] = A_diags_w_penalty[j,2] / cp_denom # c_j / (b_j - a_j*c'_{j-1})\n",
    "                \n",
    "                dp_numerator = d_w_penalty[j] - A_diags_w_penalty[j,0]*dPrime[j-1] # d_j - a_j*d'_{j-1}\n",
    "                dp_denom = A_diags_w_penalty[j,1] - A_diags_w_penalty[j,0]*cPrime[j-1] # b_j - a_j*c'_{j-1}\n",
    "                dPrime[j] = dp_numerator / dp_denom\n",
    "        \n",
    "            # Get the last entry in dPrime\n",
    "            dp_numerator = d_w_penalty[jMax] - A_diags_w_penalty[jMax,0]*dPrime[jMax-1] \n",
    "            dp_denom = A_diags_w_penalty[jMax,1] - A_diags_w_penalty[jMax,0]*cPrime[jMax-1]\n",
    "            dPrime[jMax] = dp_numerator / dp_denom\n",
    "        \n",
    "            # Now obtain the result via back-substitution.\n",
    "            y = np.zeros(jMax+1) # Holds approximate solutions during iterations\n",
    "\n",
    "            y[jMax] = dPrime[jMax]\n",
    "            for j in range(jMax-1, -1, -1):\n",
    "                y[j] = dPrime[j] - cPrime[j]*y[j+1]\n",
    "                \n",
    "            ###########################################################\n",
    "\n",
    "            # Compute the change in value from the previous iteration\n",
    "            # e = v_j^{i,q+1} - v_j^{i,q} \n",
    "            e = y-vNew\n",
    "            \n",
    "            # Copy y into vNew, taking care to make a deep copy\n",
    "            vNew = np.copy(y)\n",
    "            \n",
    "            # Check the norm against the tolerance for convergence\n",
    "            iter_num += 1\n",
    "            if np.linalg.norm(e,1) < tol:\n",
    "                converged = True # Prepare to exit the loop\n",
    "                \n",
    "        # When we each this point, we have solved for vNew and can go on to \n",
    "        # the enxt time step, so that vOld should receive the values stored in vNew.\n",
    "        vOld = np.copy(vNew)\n",
    "        \n",
    "    return S, vNew\n",
    "\n",
    "# Test this version against the other Crank-Nicolson implementation\n",
    "S_CN2, V_CN2 = AmericanPut_CN2(X, T, r, sigma, Su_factor, iMax, jMax, rho, tol, maxIter)\n",
    "V_CN - V_CN2 # These should all be close to zero"
   ]
  },
  {
   "cell_type": "code",
   "execution_count": 9,
   "metadata": {},
   "outputs": [
    {
     "data": {
      "image/png": "[encoded data removed]",
      "text/plain": [
       "<Figure size 640x480 with 1 Axes>"
      ]
     },
     "metadata": {},
     "output_type": "display_data"
    }
   ],
   "source": [
    "# check a plot to see what it looks like\n",
    "plt.xlim(0,20)\n",
    "plt.plot(S_CN2, V_CN2)\n",
    "plt.xlabel( \"$S$\" )\n",
    "plt.ylabel( \"$P_A(S,0)$\" )\n",
    "plt.title( f\"Crank-Nicolson with penaly $\\\\rho = ${rho:.1e}\" )\n",
    "plt.show()"
   ]
  },
  {
   "cell_type": "code",
   "execution_count": 11,
   "metadata": {},
   "outputs": [
    {
     "name": "stdout",
     "output_type": "stream",
     "text": [
      "100 repetitions of AmericanPut_CN() took 0.51 seconds.\n",
      "100 repetitions of AmericanPut_CN2() took 0.0106 seconds.\n",
      "That's a speedup by a factor of around 48.4.\n"
     ]
    }
   ],
   "source": [
    "# Do some timing experiments\n",
    "from timeit import timeit\n",
    "\n",
    "nReps = 100\n",
    "CN_script = \"AmericanPut_CN(X, T, r, sigma, Su_factor, iMax, jMax, rho, tol, maxIter, False)\"\n",
    "CN_time = timeit( CN_script, number=nReps, globals=globals() )\n",
    "print( f\"{nReps} repetitions of AmericanPut_CN() took {CN_time:.2f} seconds.\" )\n",
    "\n",
    "CN2_script = \"AmericanPut_CN2(X, T, r, sigma, Su_factor, iMax, jMax, rho, tol, maxIter)\"\n",
    "CN2_time = timeit( CN2_script, number=nReps, globals=globals() )\n",
    "print( f\"{nReps} repetitions of AmericanPut_CN2() took {CN2_time:.4f} seconds.\" )\n",
    "\n",
    "ratio = CN_time/CN2_time\n",
    "print( f\"That's a speedup by a factor of around {ratio:.1f}.\" )"
   ]
  },
  {
   "cell_type": "code",
   "execution_count": null,
   "metadata": {},
   "outputs": [],
   "source": []
  }
 ],
 "metadata": {
  "kernelspec": {
   "display_name": "Python [conda env:base] *",
   "language": "python",
   "name": "conda-base-py"
  },
  "language_info": {
   "codemirror_mode": {
    "name": "ipython",
    "version": 3
   },
   "file_extension": ".py",
   "mimetype": "text/x-python",
   "name": "python",
   "nbconvert_exporter": "python",
   "pygments_lexer": "ipython3",
   "version": "3.12.2"
  }
 },
 "nbformat": 4,
 "nbformat_minor": 4
}
