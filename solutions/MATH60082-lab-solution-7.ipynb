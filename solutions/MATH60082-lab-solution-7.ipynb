{
 "cells": [
  {
   "cell_type": "markdown",
   "metadata": {},
   "source": [
    "<div style='text-align: center;'>\n",
    "<img src=\"images/math60082-banner.png\" alt=\"image\" width=\"80%\" height=\"auto\">\n",
    "</div>"
   ]
  },
  {
   "cell_type": "markdown",
   "metadata": {},
   "source": [
    "# Lab Class - Week 7\n",
    "\n",
    "## Department of Mathematics"
   ]
  },
  {
   "cell_type": "markdown",
   "metadata": {},
   "source": [
    "# This Week\n",
    "\n",
    "- Demo 7.1 Binomial Trees\n",
    "- Demo 7.2 Evaluating Convergence Properties"
   ]
  },
  {
   "cell_type": "markdown",
   "metadata": {},
   "source": [
    "# Demo 7.1: Binomial Trees\n",
    "\n",
    "The two most popular models for using binomial trees to price options are \n",
    "- Cox, Ross and Rubinstein (1977) (CRR for short) whose extra degree of freedom is to set\n",
    "$$\n",
    "ud=1\n",
    "$$\n",
    "thus\n",
    "$$\n",
    "u=e^{\\sigma \\sqrt{\\Delta t}},\\quad d=e^{-\\sigma\\sqrt{\\Delta t}},\\quad \n",
    "q=\\frac{e^{r\\Delta t}-d}{u-d}\n",
    "$$\n",
    "\n",
    "- Rendleman and Bartter (1979) who choose:\n",
    "$$q=\\frac12$$\n",
    "and so \n",
    "$$u=e^{(r-\\tfrac12\\sigma^2)\\Delta t+\\sigma\\sqrt{\\Delta t}},\\quad \n",
    "d=e^{(r-\\tfrac12\\sigma^2)\\Delta t-\\sigma \\sqrt{\\Delta t}}.\\quad\n",
    "$$"
   ]
  },
  {
   "cell_type": "markdown",
   "metadata": {},
   "source": [
    "We wish to generate a stock price tree, so denote the value of the underlying asset after timestep $i$ and upstate $j$ by $S_{ij}$ and we have that:\n",
    "$$S_{ij}=S_0u^jd^{i-j}$$"
   ]
  },
  {
   "cell_type": "code",
   "execution_count": 1,
   "metadata": {},
   "outputs": [],
   "source": [
    "import matplotlib.pyplot as plt\n",
    "import numpy as np\n",
    "\n",
    "from scipy.stats import norm\n",
    "from math import exp, sqrt, log"
   ]
  },
  {
   "cell_type": "markdown",
   "metadata": {},
   "source": [
    " First declare and initialise the Black Scholes parameters for your chosen problem. Here we are going to value a \n",
    "Black Scholes vanilla European call option with, $S_0=100$, $X=100$, $T=1$, $r=0.06$ and $\\sigma=0.2$, so declare variables\n",
    "for each of these. Next add in an integer to store the number of steps in the tree and call it $n$.\n",
    "Finally add in some local variable to describe the tree, so we have the timestep length $dt$,\n",
    "$u$, $d$ and $q$. "
   ]
  },
  {
   "cell_type": "code",
   "execution_count": 2,
   "metadata": {},
   "outputs": [
    {
     "name": "stdout",
     "output_type": "stream",
     "text": [
      "dt= 0.3333333333333333 ;u= 1.1224009024456676 ;d= 0.8909472522884107 ;q= 0.5584448015856557\n"
     ]
    }
   ],
   "source": [
    "# stock parameters\n",
    "S_0 = 100 # initial stick price\n",
    "\n",
    "# call option contract parameters\n",
    "X = 100 # strike price\n",
    "T = 1.0 # time to expiry\n",
    "\n",
    "# market parameters\n",
    "r = 0.06 # risk free interest rate\n",
    "\n",
    "# model parameters\n",
    "sigma = 0.2 #  volatility\n",
    "\n",
    "# steps in the tree\n",
    "n=3\n",
    "\n",
    "# local stuff\n",
    "dt = T/n\n",
    "u = exp(sigma*sqrt(dt))\n",
    "d = 1./u\n",
    "q = (exp(r*dt) - d)/(u-d)\n",
    "print(\"dt=\",dt,\";u=\",u,\";d=\",d,\";q=\",q)"
   ]
  },
  {
   "cell_type": "markdown",
   "metadata": {},
   "source": [
    "Next we need to create some storage for the values of the stock at each node in the tree. Declare an array `stock_tree` with shape $(n+1)\\times(n+1)$, \n",
    "into which we will place our stock price nodes.\n",
    " "
   ]
  },
  {
   "cell_type": "code",
   "execution_count": 3,
   "metadata": {},
   "outputs": [
    {
     "data": {
      "text/plain": [
       "array([[0., 0., 0., 0.],\n",
       "       [0., 0., 0., 0.],\n",
       "       [0., 0., 0., 0.],\n",
       "       [0., 0., 0., 0.]])"
      ]
     },
     "execution_count": 3,
     "metadata": {},
     "output_type": "execute_result"
    }
   ],
   "source": [
    "stock_tree = np.zeros(shape=(n+1,n+1))\n",
    "stock_tree"
   ]
  },
  {
   "cell_type": "markdown",
   "metadata": {},
   "source": [
    "Now use a `for` loop and the function `np.pow` to input the value of the stock at each node in the tree, \n",
    "where $S_{i,j} \\rightarrow $`stock_tree[i][j]`."
   ]
  },
  {
   "cell_type": "code",
   "execution_count": 4,
   "metadata": {},
   "outputs": [
    {
     "data": {
      "text/plain": [
       "array([[100.        ,   0.        ,   0.        ,   0.        ],\n",
       "       [ 89.09472523, 112.24009024,   0.        ,   0.        ],\n",
       "       [ 79.37870064, 100.        , 125.97837858,   0.        ],\n",
       "       [ 70.72223522,  89.09472523, 112.24009024, 141.39824581]])"
      ]
     },
     "execution_count": 4,
     "metadata": {},
     "output_type": "execute_result"
    }
   ],
   "source": [
    "\n",
    "for i in range(0,n+1):\n",
    "    for j in range(0,i+1):\n",
    "        stock_tree[i][j] = S_0*pow(u,j)*pow(d,i-j)\n",
    "        \n",
    "stock_tree"
   ]
  },
  {
   "cell_type": "markdown",
   "metadata": {},
   "source": [
    "Compare the values with those from the example in the lectures."
   ]
  },
  {
   "cell_type": "markdown",
   "metadata": {},
   "source": [
    "Let us generate a simple example so that we can compare results at every stage to something that we can work out on paper. \n",
    " This is an important idea in debugging, to solve the problem and do all of your bug checking on a small scale **before** attempting the full problem."
   ]
  },
  {
   "cell_type": "markdown",
   "metadata": {},
   "source": [
    "Now declare an array which shall hold the values of the option and set it to the same shape as `stock_tree`. Here we use the same relation\n",
    "\n",
    "$V_{i,j} \\rightarrow $`value_tree[i][j]`"
   ]
  },
  {
   "cell_type": "code",
   "execution_count": 5,
   "metadata": {},
   "outputs": [],
   "source": [
    "value_tree = np.zeros(shape=(n+1,n+1))"
   ]
  },
  {
   "cell_type": "markdown",
   "metadata": {},
   "source": [
    "Now fill in the final values of the tree, given that we have already first generated the stock tree:\n",
    " $$\n",
    " V_{n,j}= \\mathrm{payoff}(S_{n,j}),\n",
    " $$\n",
    " where payoff is the appropriate function for the type of option we are solving for."
   ]
  },
  {
   "cell_type": "code",
   "execution_count": 6,
   "metadata": {},
   "outputs": [],
   "source": [
    "for j in range(0,n+1):\n",
    "    value_tree[n][j] = max( stock_tree[n][j] - X , 0.0)"
   ]
  },
  {
   "cell_type": "markdown",
   "metadata": {},
   "source": [
    "Now we need to loop **backwards** through the tree to generate the value at each node using the equation:\n",
    " $$\n",
    " V_{ij}=e^{-r\\Delta t}(qV_{i+1,j+1}+(1-q)V_{i+1,j}).\n",
    " $$\n",
    " "
   ]
  },
  {
   "cell_type": "markdown",
   "metadata": {},
   "source": [
    "# Tasks\n",
    "\n",
    "- Write `for` loops to move backwards through the vector array caculating the value of the option at each node.\n",
    "- Print out the tree to screen (with $n=3$) and compare to the simple example from the notes to check your code is working.\n",
    "- If your values don't match - try to work out why!!\n",
    "- Now print out the value at $(0,0)$ increasing the number of steps in the tree. Do the results look feasible? Compare them against the exact values from the formula.\n",
    "- Create a function returning the value of the binomial tree for a set of given parameters.\n",
    "- Write a code storing two time-levels, and compare (at every stage if needed) with the previous code.\n",
    "- Is it possible to store just one time-level? Try to write a code for this.\n",
    "- Do you notice any difference (time taken for computation) between the codes with different storage requirements?\n",
    "- Try speeding the code up with `numba` or `cython` libraries"
   ]
  },
  {
   "cell_type": "markdown",
   "metadata": {},
   "source": [
    "#### The case $n=3$ and comparison with the example in Chapter 4 of the notes\n",
    "Work backwards through a binomial tree of asset values to get option values"
   ]
  },
  {
   "cell_type": "code",
   "execution_count": 7,
   "metadata": {},
   "outputs": [
    {
     "name": "stdout",
     "output_type": "stream",
     "text": [
      "[[11.55197318  0.          0.          0.        ]\n",
      " [ 3.66752722 18.20398861  0.          0.        ]\n",
      " [ 0.          6.70006449 27.95851125  0.        ]\n",
      " [ 0.          0.         12.24009024 41.39824581]]\n"
     ]
    }
   ],
   "source": [
    "# Begin by initialising at the entries corresponding to the expiration time T.\n",
    "value_tree = np.zeros(shape=(n+1,n+1))\n",
    "for j in range(n+1):\n",
    "    value_tree[n][j] = max( stock_tree[n][j] - X , 0.0)\n",
    "\n",
    "# Now work backwards through the tree\n",
    "i = n-1 \n",
    "discount_factor = exp(-r*dt ) # One time step worth of discounting\n",
    "while i >= 0:\n",
    "    for j in range(i+1):\n",
    "        value_tree[i][j] = q*value_tree[i+1][j+1] + (1 - q)*value_tree[i+1][j]\n",
    "        value_tree[i][j] *= discount_factor\n",
    "\n",
    "    i = i - 1 # Move on to the next column\n",
    "\n",
    "print( value_tree )"
   ]
  },
  {
   "cell_type": "markdown",
   "metadata": {},
   "source": [
    "This is in excellent agreement with the Example in Chapter 4 of the notes."
   ]
  },
  {
   "cell_type": "markdown",
   "metadata": {},
   "source": [
    "#### Building functions and increasing $n$\n",
    "In practice, it's simpler to bundle up everything into a function and use that to explore convergence."
   ]
  },
  {
   "cell_type": "code",
   "execution_count": 8,
   "metadata": {},
   "outputs": [
    {
     "data": {
      "text/plain": [
       "11.551973176964253"
      ]
     },
     "execution_count": 8,
     "metadata": {},
     "output_type": "execute_result"
    }
   ],
   "source": [
    "def valueTree( S_0, r, sigma, X, T, n ):\n",
    "    # Work out the time step and other useful numbers\n",
    "    dt = T/n\n",
    "    u = exp(sigma*sqrt(dt))\n",
    "    d = 1./u\n",
    "    q = (exp(r*dt) - d)/(u-d)\n",
    "\n",
    "    # Construct the stock tree\n",
    "    stock_tree = np.zeros(shape=(n+1,n+1))\n",
    "    for i in range(0,n+1):\n",
    "        for j in range(0,i+1):\n",
    "            stock_tree[i][j] = S_0*pow(u,j)*pow(d,i-j)\n",
    "\n",
    "    # Then the value tree\n",
    "    value_tree = np.zeros(shape=(n+1,n+1))\n",
    "    for j in range(n+1):\n",
    "        value_tree[n][j] = max( stock_tree[n][j] - X , 0.0)\n",
    "\n",
    "    i = n-1 \n",
    "    discount_factor = exp(-r*dt )\n",
    "    while i >= 0:\n",
    "        for j in range(i+1):\n",
    "            value_tree[i][j] = q*value_tree[i+1][j+1] + (1 - q)*value_tree[i+1][j]\n",
    "            value_tree[i][j] *= discount_factor\n",
    "    \n",
    "        i = i - 1 # Move on to the next column\n",
    "\n",
    "    # Return the value tree\n",
    "    return value_tree\n",
    "\n",
    "# Make a lambda that gets the value at t=0 as a function of n.\n",
    "val_vs_n = lambda n: valueTree( S_0, r, sigma, X, T, n )[0][0]\n",
    "\n",
    "# Test it for n = 3\n",
    "val_vs_n( 3 )"
   ]
  },
  {
   "cell_type": "markdown",
   "metadata": {},
   "source": [
    "Test a range of values of $n$ and compare to the analytic result."
   ]
  },
  {
   "cell_type": "code",
   "execution_count": 9,
   "metadata": {},
   "outputs": [
    {
     "name": "stdout",
     "output_type": "stream",
     "text": [
      "[4, 8, 16, 32, 64, 128, 256, 512, 1024, 2048, 4096, 8192]\n"
     ]
    }
   ],
   "source": [
    "n_vals = [int(pow(2,j)) for j in range(2,14)]\n",
    "num_n_vals = len(n_vals)\n",
    "print( n_vals )"
   ]
  },
  {
   "cell_type": "code",
   "execution_count": 10,
   "metadata": {},
   "outputs": [],
   "source": [
    "V_vals = np.array( [val_vs_n(n) for n in n_vals] )"
   ]
  },
  {
   "cell_type": "markdown",
   "metadata": {},
   "source": [
    "We'll want to see how well the values form our binomial trees agree with those from the analytic solution, so recall that fir a vanilla European call option the value is given by\n",
    "$$\n",
    "C(S,t) = S N(d_1) − Xe^{−r(T−t)}N(d_2)\n",
    "$$\n",
    "where $N$ is the cumulative density function of the satndard normal,\n",
    "$$\n",
    "    N(x) = \\frac{1}{\\sqrt{2 \\pi}} \\int_{-\\infty}^x e^{-z^2/2} \\, dz\n",
    "$$\n",
    "and the $d_j$ are given by\n",
    "$$\n",
    "    d_1 = \\frac{\\log(S/X) + (r + \\sigma^2/2)(T -t)}{\\sigma\\sqrt{T-t}}\n",
    "    \\qquad \\mbox{and} \\qquad\n",
    "    d_2 = \\frac{\\log(S/X) + (r - \\sigma^2/2)(T -t)}{\\sigma\\sqrt{T-t}}\n",
    "$$"
   ]
  },
  {
   "cell_type": "code",
   "execution_count": 11,
   "metadata": {},
   "outputs": [
    {
     "data": {
      "text/plain": [
       "10.989549152625997"
      ]
     },
     "execution_count": 11,
     "metadata": {},
     "output_type": "execute_result"
    }
   ],
   "source": [
    "# Compute the analytic result for C(S_0, t=0)\n",
    "d1 = (log(S_0/X) + (r + 0.5*sigma*sigma*T))/(sigma * sqrt(T))\n",
    "d2 = (log(S_0/X) + (r - 0.5*sigma*sigma*T))/(sigma * sqrt(T))\n",
    "\n",
    "trueVal = S_0*norm.cdf(d1) - X*exp(-r*T)*norm.cdf(d2)\n",
    "trueVal"
   ]
  },
  {
   "cell_type": "code",
   "execution_count": 12,
   "metadata": {},
   "outputs": [
    {
     "data": {
      "image/png": "[encoded data removed]",
      "text/plain": [
       "<Figure size 640x480 with 1 Axes>"
      ]
     },
     "metadata": {},
     "output_type": "display_data"
    }
   ],
   "source": [
    "# Plot those puppies\n",
    "import matplotlib.pyplot as plt\n",
    "\n",
    "# Choose some pleasing colors from the Brewer palettes\n",
    "cmap = plt.colormaps[\"Set1\"]\n",
    "set_pal = cmap(range(0,9))\n",
    "\n",
    "# Plot the estimates of V as a function of n\n",
    "plt.semilogx( n_vals, V_vals, color=set_pal[0], marker=\".\", markersize=8, linestyle='none' )\n",
    "\n",
    "# Add a dotted line at analytic result\n",
    "plt.semilogx( [n_vals[0], n_vals[-1]], [trueVal, trueVal], color=set_pal[1], linestyle='dotted' )\n",
    "\n",
    "# Add labels and a title\n",
    "plt.xlabel( \"Number of steps $n$\" )\n",
    "plt.ylabel( \"$C(S_0, t=0)$\" )\n",
    "plt.title( \"Binomial Tree estimates\" )\n",
    "\n",
    "plt.show()"
   ]
  },
  {
   "cell_type": "markdown",
   "metadata": {},
   "source": [
    "#### A routine that uses less storage\n",
    "\n",
    "Given that we can compute \n",
    "   * any value in the stock tree directly from $S_0$, $u$ and $d$,\n",
    "   * any column in the value tree from the one before it\n",
    "\n",
    "It should be possible to do everything with a single vector of length $n+1$."
   ]
  },
  {
   "cell_type": "code",
   "execution_count": 13,
   "metadata": {},
   "outputs": [],
   "source": [
    "from numba import njit\n",
    "\n",
    "@njit\n",
    "def callOptionValue( S_0, r, sigma, X, T, n ):\n",
    "    # Work out the time step and other useful numbers\n",
    "    dt = T/n\n",
    "    u = exp(sigma*sqrt(dt))\n",
    "    d = 1./u\n",
    "    q = (exp(r*dt) - d)/(u-d)\n",
    "\n",
    "    # Work out the value of the option at T for \n",
    "    # each of the (n+1) values in the final column of the stock tree\n",
    "    option_val = np.zeros( n + 1 )\n",
    "    for j in range(n+1):\n",
    "        stock_val = S_0 * pow(u, j) * pow(d, n-j) ;\n",
    "        option_val[j] = max( stock_val - X, 0.0 )\n",
    "\n",
    "    # Now construct the next column to the left in the\n",
    "    # tree, replacing the entries in option_val as one goes\n",
    "    discount_factor = exp(-r*dt )\n",
    "    for i in range(n):\n",
    "        n_nodes = n - i\n",
    "        for j in range(n_nodes):\n",
    "            option_val[j] = q*option_val[j+1] + (1 - q)*option_val[j]\n",
    "            option_val[j] *= discount_factor\n",
    "\n",
    "    # Return the sole t=0 value in the tree.\n",
    "    return( option_val[0] )"
   ]
  },
  {
   "cell_type": "code",
   "execution_count": 14,
   "metadata": {},
   "outputs": [
    {
     "data": {
      "text/plain": [
       "array([ 0.00000000e+00, -1.42108547e-14,  0.00000000e+00, -1.77635684e-14,\n",
       "        5.32907052e-14,  2.30926389e-13, -4.08562073e-14,  2.41584530e-13,\n",
       "        4.12114787e-13,  8.84625706e-13, -2.17070806e-12,  2.08011386e-12])"
      ]
     },
     "execution_count": 14,
     "metadata": {},
     "output_type": "execute_result"
    }
   ],
   "source": [
    "# Make a lambda that gets the value at t=0 as a function of n.\n",
    "val_vs_n_too = lambda n: callOptionValue( S_0, r, sigma, X, T, n )\n",
    "\n",
    "# Rerun the estimates underpinning the figure above and see how well they agree\n",
    "V_vals_too = np.array( [val_vs_n_too(n) for n in n_vals] )\n",
    "V_vals_too - V_vals"
   ]
  },
  {
   "cell_type": "code",
   "execution_count": 15,
   "metadata": {},
   "outputs": [
    {
     "name": "stdout",
     "output_type": "stream",
     "text": [
      "100 repetitions of val_vs_n(512) took 12.07 seconds.\n",
      "100 repetitions of val_vs_n_too(512) took 0.003397 seconds.\n",
      "That's a speedup by a factor of around 3552.\n"
     ]
    }
   ],
   "source": [
    "# Do some timing experiments\n",
    "from timeit import timeit\n",
    "\n",
    "n = 512\n",
    "nReps = 100\n",
    "full_tree_time = timeit( \"val_vs_n(n)\", number=nReps, globals=globals() )\n",
    "print( f\"{nReps} repetitions of val_vs_n({n}) took {full_tree_time:.2f} seconds.\" )\n",
    "\n",
    "single_col_time = timeit( \"val_vs_n_too(n)\", number=nReps, globals=globals() )\n",
    "print( f\"{nReps} repetitions of val_vs_n_too({n}) took {single_col_time:.6f} seconds.\" )\n",
    "\n",
    "ratio = full_tree_time/single_col_time\n",
    "print( f\"That's a speedup by a factor of around {ratio:.0f}.\" )"
   ]
  },
  {
   "cell_type": "markdown",
   "metadata": {},
   "source": [
    "Between more efficient use of memory and the wonders of `njit`, the second version is thousands of times faster."
   ]
  },
  {
   "cell_type": "markdown",
   "metadata": {},
   "source": [
    "# Demo 7.2: Evaluating Convergence Properties\n",
    "\n",
    "Taking the code from last time, you could write your binomial code to take the payoff as an argument to the function:"
   ]
  },
  {
   "cell_type": "code",
   "execution_count": 16,
   "metadata": {},
   "outputs": [],
   "source": [
    "def binomialBlackScholes(S_0,T,r,sigma,payoff,n):\n",
    "    # setup\n",
    "    dt = T/n\n",
    "    u = np.exp(sigma*np.sqrt(dt))\n",
    "    d = 1./u\n",
    "    q = (np.exp(r*dt) - d)/(u-d)\n",
    "    stock_tree = np.zeros(shape=(n+1,n+1))\n",
    "    value_tree = np.zeros(shape=(n+1,n+1))\n",
    "    for i in range(0,n+1):\n",
    "        for j in range(0,i+1):\n",
    "            stock_tree[i][j] = S_0*pow(u,j)*pow(d,i-j)\n",
    "    # terminal conditions\n",
    "    for j in range(0,n+1):\n",
    "        value_tree[n][j] = payoff(stock_tree[n][j])\n",
    "    # solve\n",
    "    for i in range(n-1,-1,-1):\n",
    "        for j in range(0,i+1):\n",
    "            value_tree[i][j] = np.exp(-r*dt)*( q*value_tree[i+1][j+1] + (1-q)*value_tree[i+1][j] )\n",
    "    return value_tree[0][0]"
   ]
  },
  {
   "cell_type": "code",
   "execution_count": 17,
   "metadata": {},
   "outputs": [],
   "source": [
    " # Here's a faster version\n",
    "def binomialBlackScholesToo( S_0, r, sigma, T, payoff, n ):\n",
    "    # Work out the time step and other useful numbers\n",
    "    dt = T/n\n",
    "    u = exp(sigma*sqrt(dt))\n",
    "    d = 1./u\n",
    "    q = (exp(r*dt) - d)/(u-d)\n",
    "\n",
    "    # Work out the value of the option at T for \n",
    "    # each of the (n+1) values in the final column of the stock tree\n",
    "    option_val = np.zeros( n + 1 )\n",
    "    for j in range(n+1):\n",
    "        stock_val = S_0 * pow(u, j) * pow(d, n-j) ;\n",
    "        option_val[j] = payoff( stock_val )\n",
    "\n",
    "    # Now construct the next column to the left in the\n",
    "    # tree, replacing the entries in option_val as one goes\n",
    "    discount_factor = exp(-r*dt )\n",
    "    for i in range(n):\n",
    "        n_nodes = n - i\n",
    "        for j in range(n_nodes):\n",
    "            option_val[j] = q*option_val[j+1] + (1 - q)*option_val[j]\n",
    "            option_val[j] *= discount_factor\n",
    "\n",
    "    # Return the sole t=0 value in the tree.\n",
    "    return( option_val[0] )"
   ]
  },
  {
   "cell_type": "markdown",
   "metadata": {},
   "source": [
    "An example using this code would be:"
   ]
  },
  {
   "cell_type": "code",
   "execution_count": 18,
   "metadata": {},
   "outputs": [],
   "source": [
    "callPayoff = lambda S:max(S-X,0.0)"
   ]
  },
  {
   "cell_type": "code",
   "execution_count": 38,
   "metadata": {},
   "outputs": [
    {
     "name": "stdout",
     "output_type": "stream",
     "text": [
      "11.551973176964253\n"
     ]
    }
   ],
   "source": [
    "S_0 = X\n",
    "print(binomialBlackScholesToo(S_0,r,sigma, T, callPayoff,3))"
   ]
  },
  {
   "cell_type": "markdown",
   "metadata": {},
   "source": [
    "Now we wish to investigate what happens when $N$ is increasing. Write a loop in your code to record\n",
    "$N$ and the resulting value $V$ in some arrays so they can be plotted."
   ]
  },
  {
   "cell_type": "code",
   "execution_count": 39,
   "metadata": {},
   "outputs": [],
   "source": [
    "no_of_results = 491\n",
    "\n",
    "nArray = np.zeros(no_of_results)\n",
    "vArray = np.zeros(no_of_results)\n",
    "for i in range(0,no_of_results):\n",
    "    nArray[i] = 10+i\n",
    "    vArray[i] = binomialBlackScholesToo(S_0,r,sigma, T, callPayoff, int(nArray[i]))"
   ]
  },
  {
   "cell_type": "code",
   "execution_count": 40,
   "metadata": {},
   "outputs": [
    {
     "data": {
      "image/png": "[encoded data removed]",
      "text/plain": [
       "<Figure size 640x480 with 1 Axes>"
      ]
     },
     "metadata": {},
     "output_type": "display_data"
    }
   ],
   "source": [
    "plt.plot(nArray,vArray,'.')\n",
    "plt.xlabel('$n$')\n",
    "plt.ylabel('$C(S,t)$')\n",
    "plt.title( f'$S_0 = ${S_0}')\n",
    "\n",
    "plt.show()"
   ]
  },
  {
   "cell_type": "markdown",
   "metadata": {},
   "source": [
    "The pattern can be explained by realising that the nodes at terminal time will either be placed exactly on the strike price, or above/below depending on whether the \n",
    "number of steps is odd or even.  We will see quite a different pattern if you choose $S_0 \\neq X$, so for example, set $S_0=92.346$ in your code and rerun the results."
   ]
  },
  {
   "cell_type": "code",
   "execution_count": 46,
   "metadata": {},
   "outputs": [
    {
     "data": {
      "image/png": "[encoded data removed]",
      "text/plain": [
       "<Figure size 640x480 with 1 Axes>"
      ]
     },
     "metadata": {},
     "output_type": "display_data"
    }
   ],
   "source": [
    "no_of_results = 491\n",
    "\n",
    "S_0 = 92.346\n",
    "nArray = np.zeros(no_of_results)\n",
    "vArray = np.zeros(no_of_results)\n",
    "for i in range(0,no_of_results):\n",
    "    nArray[i] = 10+i\n",
    "    vArray[i] = binomialBlackScholesToo(S_0, r, sigma, T,callPayoff,int(nArray[i]))\n",
    "  \n",
    "plt.plot(nArray,vArray,'.')\n",
    "plt.xlabel('$n$')\n",
    "plt.ylabel('$C(S,t)$')\n",
    "plt.title( f'$S_0 = ${S_0}')\n",
    "\n",
    "plt.show()"
   ]
  },
  {
   "cell_type": "markdown",
   "metadata": {},
   "source": [
    "This time we see *humps* as well as an odd-even effect. The humps are\n",
    "again caused by the positioning of the grid nodes relative to the strike price. Although the convergence of the tree is $O(1/n)$, the humps make it very difficult to achieve high \n",
    "accuracy. There are several papers that try to address this, one way is to adjust the position of the nodes and others try to smooth the payoff at maturity to gain smoother convergence."
   ]
  },
  {
   "cell_type": "markdown",
   "metadata": {},
   "source": [
    "# Tasks\n",
    "\n",
    "- Can you estimate the convergence rate?\n",
    "- Assume that the payoff of the option is\n",
    "$$\n",
    "V(S,T) = \\left\\{\\begin{array}{cc}\n",
    "0 & \\text{ if } S<X\\\\\n",
    "1 & \\text{ if } S\\geq X\n",
    "\\end{array}\\right.\n",
    "$$\n",
    "Plot out the solution to this problem with a binomial tree for different values of $N$, in the case where $S_0=X$ and $S_0\\neq X $. Can you explain the results?\n",
    "- Now try setting\n",
    "$$\n",
    "V_{n,j} = \\left\\{\\begin{array}{ccc}\n",
    "0 & \\text{ if } &S_j^N<2X - S^N_{j+1}\\\\\n",
    "&&\\\\\n",
    "\\frac{S^N_{j+1} + S^N_j - 2X}{S^N_{j+1}-S^N_{j-1}} & \\text{ if } &2X - S^N_{j+1}\\leq  S_j^N  \\leq 2X-S^N_{j-1} \\\\\n",
    "&&\\\\\n",
    "1 & \\text{ if } &S_j^N > 2X-S^N_{j-1}\n",
    "\\end{array}\\right.\n",
    "$$\n",
    "and plot the results again. How has it changed? See Heston and Zhou (2000) for more details on how to derive this formula.\n"
   ]
  },
  {
   "cell_type": "markdown",
   "metadata": {},
   "source": [
    "#### Step-function payoff"
   ]
  },
  {
   "cell_type": "code",
   "execution_count": 47,
   "metadata": {},
   "outputs": [],
   "source": [
    "def StepFunctionPayoff( S, X ):\n",
    "    if S < X:\n",
    "        return( 0.0 )\n",
    "    else: # S >= X\n",
    "        return( 1.0 )\n",
    "\n",
    "step_payoff = lambda S: StepFunctionPayoff( S, X )\n",
    "\n",
    "nArray = np.zeros(no_of_results)\n",
    "vArray = np.zeros(no_of_results)\n",
    "for i in range(0,no_of_results):\n",
    "    nArray[i] = 10+i\n",
    "    vArray[i] = binomialBlackScholesToo(X, r, sigma, T,step_payoff,int(nArray[i]))"
   ]
  },
  {
   "cell_type": "code",
   "execution_count": 48,
   "metadata": {},
   "outputs": [
    {
     "data": {
      "image/png": "[encoded data removed]",
      "text/plain": [
       "<Figure size 640x480 with 1 Axes>"
      ]
     },
     "metadata": {},
     "output_type": "display_data"
    }
   ],
   "source": [
    "plt.plot(nArray,vArray,'.')\n",
    "plt.xlabel('$n$')\n",
    "plt.ylabel('$C(S,t)$')\n",
    "plt.title( '$S_0 = X$' )\n",
    "plt.show()"
   ]
  },
  {
   "cell_type": "code",
   "execution_count": 62,
   "metadata": {},
   "outputs": [],
   "source": [
    "sZeroFrac = 0.923\n",
    "nArray = np.zeros(no_of_results)\n",
    "vArray = np.zeros(no_of_results)\n",
    "for i in range(0,no_of_results):\n",
    "    nArray[i] = 10+i\n",
    "    vArray[i] = binomialBlackScholesToo(sZeroFrac*X, r, sigma, T,step_payoff,int(nArray[i]))"
   ]
  },
  {
   "cell_type": "code",
   "execution_count": 64,
   "metadata": {},
   "outputs": [
    {
     "data": {
      "image/png": "[encoded data removed]",
      "text/plain": [
       "<Figure size 640x480 with 1 Axes>"
      ]
     },
     "metadata": {},
     "output_type": "display_data"
    }
   ],
   "source": [
    "plt.plot(nArray,vArray,'.')\n",
    "plt.xlabel('$n$')\n",
    "plt.ylabel('$C(S,t)$')\n",
    "plt.title( f'$S_0 = {sZeroFrac}X$' )\n",
    "plt.show()"
   ]
  },
  {
   "cell_type": "markdown",
   "metadata": {},
   "source": [
    "#### Heston-Zhou payoff\n",
    "We begin by plotting the payoff, which is essentially a smoothed version of the step function."
   ]
  },
  {
   "cell_type": "code",
   "execution_count": 57,
   "metadata": {},
   "outputs": [],
   "source": [
    "def StockVals( S_0, r, sigma, T, n ):\n",
    "    # Work out the time step and other useful numbers\n",
    "    dt = T/n\n",
    "    u = exp(sigma*sqrt(dt))\n",
    "    d = 1./u\n",
    "    q = (exp(r*dt) - d)/(u-d)\n",
    "\n",
    "    # Work out the (n+1) values in the final column of the stock tree\n",
    "    stock_val = np.zeros( n + 1 )\n",
    "    for j in range(n+1):\n",
    "        stock_val[j] = S_0 * pow(u, j) * pow(d, n-j) ;\n",
    "\n",
    "    return( stock_val )\n",
    "\n",
    "def HestonZhouPayoffs( X, stockVal ):\n",
    "    n = stockVal.shape[0] - 1 # Number of generation in binomial tree\n",
    "    payoff = np.zeros( n + 1 )\n",
    "    for j in range(n+1):\n",
    "        if (j > 0) and (j < n):\n",
    "            if (X > (stockVal[j] + stockVal[j+1])/2.0):\n",
    "                payoff[j] = 0.0\n",
    "            elif (X < (stockVal[j] + stockVal[j-1])/2.0):\n",
    "                payoff[j] = 1.0\n",
    "            else: # ((stock_val[j] + stock_val[j+1])/2.0 >= X) and (X >= (stock_val[j] + stock_val[j-1])/2.0):\n",
    "                payoff[j] = (stockVal[j+1] + stockVal[j] - 2.0*X)/(stockVal[j+1] + stockVal[j-1])\n",
    "        elif X < stockVal[j]:\n",
    "            payoff[j] = 1.0\n",
    "\n",
    "    return payoff"
   ]
  },
  {
   "cell_type": "code",
   "execution_count": 58,
   "metadata": {},
   "outputs": [
    {
     "data": {
      "image/png": "[encoded data removed]",
      "text/plain": [
       "<Figure size 640x480 with 1 Axes>"
      ]
     },
     "metadata": {},
     "output_type": "display_data"
    }
   ],
   "source": [
    "# Plot those puppies\n",
    "stock_vals = StockVals( S_0, r, sigma, T, 10 )\n",
    "payoffs = HestonZhouPayoffs( X, stock_vals )\n",
    "ax = plt.gca()\n",
    "ax.plot( stock_vals, payoffs, '.' )\n",
    "ax.set_xscale('log')\n",
    "\n",
    "# Add a dashed vertical line at the exercise price\n",
    "plt.axvline( X, linestyle=\"dotted\", c=\"red\" )\n",
    "\n",
    "ax.set_xlabel('$S(T)$')\n",
    "ax.set_ylabel('$C(S,T)$')\n",
    "ax.set_title( \"Heston-Zhou payoff\" )\n",
    "\n",
    "plt.show()"
   ]
  },
  {
   "cell_type": "code",
   "execution_count": 59,
   "metadata": {},
   "outputs": [],
   "source": [
    "@njit\n",
    "def HestonZhou( S_0, r, sigma, X, T, n ):\n",
    "    # Work out the time step and other useful numbers\n",
    "    dt = T/n\n",
    "    u = exp(sigma*sqrt(dt))\n",
    "    d = 1./u\n",
    "    q = (exp(r*dt) - d)/(u-d)\n",
    "\n",
    "    # Work out the (n+1) values in the final column of the stock tree\n",
    "    stock_val = np.zeros( n + 1 )\n",
    "    for j in range(n+1):\n",
    "        stock_val[j] = S_0 * pow(u, j) * pow(d, n-j) ;\n",
    "\n",
    "    # Now work out the option value at maturity\n",
    "    option_val = np.zeros( n + 1 )\n",
    "    for j in range(n+1):\n",
    "        if (j > 0) and (j < n):\n",
    "            if (X > (stock_val[j] + stock_val[j+1])/2.0):\n",
    "                option_val[j] = 0.0\n",
    "            elif (X < (stock_val[j] + stock_val[j-1])/2.0):\n",
    "                option_val[j] = 1.0\n",
    "            else: # ((stock_val[j] + stock_val[j+1])/2.0 >= X) and (X >= (stock_val[j] + stock_val[j-1])/2.0):\n",
    "                option_val[j] = (stock_val[j+1] + stock_val[j] - 2.0*X)/(stock_val[j+1] + stock_val[j-1])\n",
    "        elif X < stock_val[j]:\n",
    "            option_val[j] = 1.0\n",
    "\n",
    "    # Now repeatedly construct the next column to the left in the\n",
    "    # tree, replacing the entries in option_val as one goes\n",
    "    discount_factor = exp(-r*dt )\n",
    "    for i in range(n):\n",
    "        n_nodes = n - i\n",
    "        for j in range(n_nodes):\n",
    "            option_val[j] = q*option_val[j+1] + (1 - q)*option_val[j]\n",
    "            option_val[j] *= discount_factor\n",
    "\n",
    "    # Return the sole t=0 value in the tree.\n",
    "    return( option_val[0] )"
   ]
  },
  {
   "cell_type": "code",
   "execution_count": 65,
   "metadata": {},
   "outputs": [],
   "source": [
    "no_of_results = 491\n",
    "\n",
    "nArray = np.zeros(no_of_results)\n",
    "vArray = np.zeros(no_of_results)\n",
    "for i in range(no_of_results):\n",
    "    nArray[i] = 10+i\n",
    "    vArray[i] = HestonZhou(sZeroFrac*X, r, sigma, X, T, int(nArray[i]))"
   ]
  },
  {
   "cell_type": "code",
   "execution_count": 66,
   "metadata": {},
   "outputs": [
    {
     "data": {
      "image/png": "[encoded data removed]",
      "text/plain": [
       "<Figure size 640x480 with 1 Axes>"
      ]
     },
     "metadata": {},
     "output_type": "display_data"
    }
   ],
   "source": [
    "plt.plot(nArray,vArray,'.')\n",
    "plt.xlabel('$n$')\n",
    "plt.ylabel('$C(S,t)$')\n",
    "plt.title( f'$S_0 = {sZeroFrac}X$' )\n",
    "plt.show()"
   ]
  },
  {
   "cell_type": "markdown",
   "metadata": {},
   "source": [
    "## References\n",
    "\n",
    "Cox, J. C., Ross, S. A. & Rubinstein, M. (1979). \"Option pricing: A simplified approach\", *Journal of financial Economics* **7**(3):229--263.\n",
    "\n",
    "Heston, S. & Zhou, G. (2000). \"On the rate of convergence of discrete-time contingent claims\", *Mathematical Finance* **10**(1):53--75.\n",
    "\n",
    "Joshi, M. S. (2007). \"The convergence of binomial trees for pricing the american put\", *Available at SSRN 1030143*.\n",
    "\n",
    "Leisen, D. P. & Reimer, M. (1996). \"Binomial models for option valuation-examining and improving convergence\", *Applied Mathematical Finance* **3**(4):319--346.\n",
    "\n",
    "Rendleman, R. J. & Bartter, B. J.  (1979). \"Two-state option pricing\", *The Journal of Finance* **34**(5):1093--1110.\n"
   ]
  }
 ],
 "metadata": {
  "kernelspec": {
   "display_name": "Python [conda env:base] *",
   "language": "python",
   "name": "conda-base-py"
  },
  "language_info": {
   "codemirror_mode": {
    "name": "ipython",
    "version": 3
   },
   "file_extension": ".py",
   "mimetype": "text/x-python",
   "name": "python",
   "nbconvert_exporter": "python",
   "pygments_lexer": "ipython3",
   "version": "3.12.2"
  }
 },
 "nbformat": 4,
 "nbformat_minor": 4
}
