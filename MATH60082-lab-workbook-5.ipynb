{
 "cells": [
  {
   "cell_type": "markdown",
   "metadata": {},
   "source": [
    "<div style='text-align: center;'>\n",
    "<img src=\"images/math60082-banner.png\" alt=\"image\" width=\"80%\" height=\"auto\">\n",
    "</div>"
   ]
  },
  {
   "cell_type": "markdown",
   "metadata": {},
   "source": [
    "# Lab Workbook - Week 5\n",
    "\n",
    "# Tasks\n",
    "\n",
    "1. Write code to generate Monte Carlo approximations to a European call option with parameters $S_0=94.68$, $T=1$, $X=100$, $r=0.05$, $q=0.02$ and $\\sigma=0.4$."
   ]
  },
  {
   "cell_type": "code",
   "execution_count": null,
   "metadata": {},
   "outputs": [],
   "source": []
  },
  {
   "cell_type": "markdown",
   "metadata": {},
   "source": [
    "2. code up the Monte Carlo solver into a function"
   ]
  },
  {
   "cell_type": "code",
   "execution_count": null,
   "metadata": {},
   "outputs": [],
   "source": []
  },
  {
   "cell_type": "markdown",
   "metadata": {},
   "source": [
    "3. run the function several times with the same value of $N$, what do the results look like?"
   ]
  },
  {
   "cell_type": "code",
   "execution_count": null,
   "metadata": {},
   "outputs": [],
   "source": []
  },
  {
   "cell_type": "markdown",
   "metadata": {},
   "source": [
    "4. run the function for different values of $N=1000,2000,...$ and plot out the results, are they what you expected? Can you identify features of the graph?"
   ]
  },
  {
   "cell_type": "code",
   "execution_count": null,
   "metadata": {},
   "outputs": [],
   "source": []
  },
  {
   "cell_type": "markdown",
   "metadata": {},
   "source": [
    "5. calculate the exact value of the call option using numerical integration or the analytic formula, to be denoted $V_\\text{exact}$"
   ]
  },
  {
   "cell_type": "code",
   "execution_count": null,
   "metadata": {},
   "outputs": [],
   "source": []
  },
  {
   "cell_type": "markdown",
   "metadata": {},
   "source": [
    "6. estimate the value of $\\eta$ for the call option, and plot the lines $$V_\\text{exact}\\pm\\frac{\\eta}{\\sqrt{n}}$$ does the picture look like you would expect?"
   ]
  },
  {
   "cell_type": "code",
   "execution_count": null,
   "metadata": {},
   "outputs": [],
   "source": []
  },
  {
   "cell_type": "markdown",
   "metadata": {},
   "source": [
    "7. try running the same analysis on a put option, a binary option or any other payoff. Are the results always the same?"
   ]
  },
  {
   "cell_type": "code",
   "execution_count": null,
   "metadata": {},
   "outputs": [],
   "source": []
  },
  {
   "cell_type": "markdown",
   "metadata": {},
   "source": [
    "Following functions are required for the last part:"
   ]
  },
  {
   "cell_type": "code",
   "execution_count": null,
   "metadata": {},
   "outputs": [],
   "source": [
    "import numpy\n",
    "rng = numpy.random.default_rng(seed=0) # create a random number generator and reset the starting value\n",
    "def monteCarlov1(S_0,T,X,r,q,sigma,n,K):\n",
    "    dt = T/K\n",
    "    dW = rng.normal(0.0,numpy.sqrt(dt),size=(n,K))\n",
    "    sum = 0.0\n",
    "    for i in range(0,n):\n",
    "        St=S_0\n",
    "        for k in range(0,K):\n",
    "            St=St + (r-q)*St*dt + sigma*St*dW[i][k]\n",
    "        sum += max(St-X,0.0)\n",
    "    return sum/n *numpy.exp(-r*T)\n",
    "def monteCarlov2(S_0,T,X,r,q,sigma,n):\n",
    "    WT = rng.normal(0.0,numpy.sqrt(T), n)\n",
    "    sum = 0.0\n",
    "    for i in range(0,n):\n",
    "        STi = S_0*numpy.exp((r-q-0.5*sigma*sigma)*T+sigma*WT[i])\n",
    "        sum += max(STi-X,0.0)\n",
    "    return sum/n *numpy.exp(-r*T)\n",
    "def monteCarlov3(S_0,T,X,r,q,sigma,n):\n",
    "    ST = rng.lognormal(numpy.log(S_0) + (r-q-0.5*sigma*sigma)*T, sigma*numpy.sqrt(T), n)\n",
    "    sum = 0.0\n",
    "    for i in range(0,n):\n",
    "        sum += max(ST[i]-X,0.0)\n",
    "    return sum/n *numpy.exp(-r*T)"
   ]
  },
  {
   "cell_type": "markdown",
   "metadata": {},
   "source": [
    "8. Plot out the results of $V_n$ vs $n$ for each of the methods (you can choose $K=100$). Are the results converging on the correct value?"
   ]
  },
  {
   "cell_type": "code",
   "execution_count": null,
   "metadata": {},
   "outputs": [],
   "source": []
  },
  {
   "cell_type": "markdown",
   "metadata": {},
   "source": [
    "9. Can you generate a confidence interval for a result with $n=1000000$ paths?"
   ]
  },
  {
   "cell_type": "code",
   "execution_count": null,
   "metadata": {},
   "outputs": [],
   "source": []
  },
  {
   "cell_type": "markdown",
   "metadata": {},
   "source": [
    "10. Run the code timings below -- can you explain why some codes take longer than others?"
   ]
  },
  {
   "cell_type": "code",
   "execution_count": null,
   "metadata": {},
   "outputs": [],
   "source": [
    "from timeit import timeit\n",
    "n = 10000\n",
    "K = 100\n",
    "S_0=94.68\n",
    "T=1\n",
    "X=100\n",
    "r=0.05\n",
    "q=0.02\n",
    "sigma=0.4\n",
    "\n",
    "script=\"monteCarlov1(S_0,T,X,r,q,sigma,n,K)\"\n",
    "codeRuns = 100\n",
    "timeSimulate = timeit( script,number=codeRuns,globals=globals() )\n",
    "\n",
    "print(\"Time taken to run \",codeRuns,\" simulations with \",n,\" paths is\", timeSimulate,\" seconds.\")\n",
    "script=\"monteCarlov2(S_0,T,X,r,q,sigma,n)\"\n",
    "codeRuns = 100\n",
    "timeSimulate = timeit( script,number=codeRuns,globals=globals() )\n",
    "\n",
    "print(\"Time taken to run \",codeRuns,\" simulations with \",n,\" paths is\", timeSimulate,\" seconds.\")\n",
    "script=\"monteCarlov3(S_0,T,X,r,q,sigma,n)\"\n",
    "codeRuns = 100\n",
    "timeSimulate = timeit( script,number=codeRuns,globals=globals() )\n",
    "\n",
    "print(\"Time taken to run \",codeRuns,\" simulations with \",n,\" paths is\", timeSimulate,\" seconds.\")"
   ]
  },
  {
   "cell_type": "markdown",
   "metadata": {},
   "source": [
    "11. Can you improve the run times using `numba` or `cython`?"
   ]
  },
  {
   "cell_type": "markdown",
   "metadata": {},
   "source": []
  }
 ],
 "metadata": {
  "language_info": {
   "name": "python"
  }
 },
 "nbformat": 4,
 "nbformat_minor": 2
}
