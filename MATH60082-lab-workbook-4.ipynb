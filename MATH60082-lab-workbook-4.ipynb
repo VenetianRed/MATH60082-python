{
 "cells": [
  {
   "cell_type": "markdown",
   "metadata": {},
   "source": [
    "<div style='text-align: center;'>\n",
    "<img src=\"images/math60082-banner.png\" alt=\"image\" width=\"80%\" height=\"auto\">\n",
    "</div>"
   ]
  },
  {
   "cell_type": "markdown",
   "metadata": {},
   "source": [
    "# Lab Workbook - Week 4\n",
    "\n",
    "Now we have a random number generator we can sample from the available probility distributions. The most common used in finance would be:\n",
    "- `normal` the normal distribution $x\\sim N(\\mu,\\sigma^2)$ with mean $\\mu$ and variance $\\sigma^2$\n",
    "- `uniform` the uniform distribution $x\\sim U(a,b)$ over the interval $[a,b]$ can be used to calculate if an event happens according to some known probability\n",
    "- `exponential` the exponential distribution $x\\sim$ Exp $(\\lambda)$ with rate parameter $\\lambda$ to generate the waiting time of a Poisson distribution with mean $\\lambda$\n",
    "\n",
    "# Tasks\n",
    "\n",
    "1. Generate 1000 numbers from each of the distributions, and plot out a histogram of the frequency distribution"
   ]
  },
  {
   "cell_type": "code",
   "execution_count": null,
   "metadata": {},
   "outputs": [],
   "source": []
  },
  {
   "cell_type": "markdown",
   "metadata": {},
   "source": [
    "2. Regenerate the graphs with $n=10,000$ $n=100,000$ $n=1,000,000$ numbers from the distribution, what do you notice happens?\n"
   ]
  },
  {
   "cell_type": "code",
   "execution_count": null,
   "metadata": {},
   "outputs": [],
   "source": []
  },
  {
   "cell_type": "markdown",
   "metadata": {},
   "source": [
    "Assume $x \\sim N(0,1)$ is a random draw from the normal distribution, the random variable $F=f(x)$, and the function $f(x)$ is given by\n",
    "$$\n",
    "f(x) = \\begin{cases}\n",
    "x^2 & \\text{ if } x \\leq 0 \\\\\n",
    "0 & \\text{ if } x > 0\n",
    "\\end{cases}.\n",
    "$$\n",
    "\n",
    "3. Use Monte Carlo simulations, can you calculate the expectation $V=\\text{E}[F]$?"
   ]
  },
  {
   "cell_type": "code",
   "execution_count": null,
   "metadata": {},
   "outputs": [],
   "source": []
  },
  {
   "cell_type": "markdown",
   "metadata": {},
   "source": [
    "4. Change the value of `numberOfResults` to 20, 40, 80 and more. What properties can you identify in the graphs? Be careful, as $N$ gets large so do the computation times!\n"
   ]
  },
  {
   "cell_type": "code",
   "execution_count": null,
   "metadata": {},
   "outputs": [],
   "source": []
  },
  {
   "cell_type": "markdown",
   "metadata": {},
   "source": [
    "5.Calculate the value using numerical quadrature:-\n",
    "$$\n",
    "V = \\frac{1}{\\sqrt{2\\pi}} \\int_{-\\infty}^0 x^2 e^{-x^2/2} dx\n",
    "$$\n",
    "and use it to check the accuracy of your code. Do the results match?\n"
   ]
  },
  {
   "cell_type": "code",
   "execution_count": null,
   "metadata": {},
   "outputs": [],
   "source": []
  },
  {
   "cell_type": "markdown",
   "metadata": {},
   "source": [
    "6. How can you definitively say what the error is, given that for any value of $N$ you generate a random result every time? _Hint: think about the variance of your result._\n"
   ]
  },
  {
   "cell_type": "code",
   "execution_count": null,
   "metadata": {},
   "outputs": [],
   "source": []
  },
  {
   "cell_type": "markdown",
   "metadata": {},
   "source": [
    "7. How efficient is your code? Test different random number generators to see which one is best. For the more confident student, you might also investigate ways to speed up the calculations using the `numba` or `cython` libraries."
   ]
  },
  {
   "cell_type": "code",
   "execution_count": null,
   "metadata": {},
   "outputs": [],
   "source": []
  }
 ],
 "metadata": {
  "kernelspec": {
   "display_name": "base",
   "language": "python",
   "name": "python3"
  },
  "language_info": {
   "codemirror_mode": {
    "name": "ipython",
    "version": 3
   },
   "file_extension": ".py",
   "mimetype": "text/x-python",
   "name": "python",
   "nbconvert_exporter": "python",
   "pygments_lexer": "ipython3",
   "version": "3.11.5"
  }
 },
 "nbformat": 4,
 "nbformat_minor": 2
}
