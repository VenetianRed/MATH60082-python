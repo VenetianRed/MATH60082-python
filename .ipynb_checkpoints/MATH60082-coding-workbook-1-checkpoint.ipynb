{
 "cells": [
  {
   "cell_type": "markdown",
   "id": "ed9fcebd-5d0d-4d60-b768-4c2ba11603f3",
   "metadata": {},
   "source": [
    "<div style='text-align: right;'>\n",
    "<img src=\"images/math60082-banner.png\" alt=\"image\" width=\"100%\" height=\"auto\">\n",
    "</div>"
   ]
  },
  {
   "cell_type": "markdown",
   "id": "cb68fb26-8f7e-4bfd-a52a-e26eea2c3033",
   "metadata": {},
   "source": [
    "# MATH60082: Coding Workbook 1\n",
    "\n",
    "## Dr P. V. Johnson\n",
    "## Department of Mathematics\n"
   ]
  },
  {
   "cell_type": "markdown",
   "id": "445c2265-1ef6-4be4-8860-562c248ef3b1",
   "metadata": {},
   "source": [
    "# Tasks\n",
    "\n",
    "1. Try doing some simple calculations with integers and doubles. Work out\n",
    "$$\n",
    "\\frac{a}{x} + bx \n",
    "$$\n",
    "$$\n",
    "ax^2 + bx + c\n",
    "$$\n",
    "$$\n",
    "\\frac{a + b*x}{c^4}\n",
    "$$\n",
    "where\n",
    "$$\n",
    "a = 1.17745, \\quad b=3, \\quad c=-1004.1, \\text{ and } x = 24.539~.\n",
    "$$\n",
    "Use brackets to order the calculations. Try assigning the variables as `int`, `float` or `str` -- what happens?"
   ]
  },
  {
   "cell_type": "markdown",
   "id": "926d5fc0-8111-48c2-8d45-9fa6bf55c3d3",
   "metadata": {},
   "source": [
    "2. Now import `math` library in your program (or workbook) by including the line `import math` at the top of your code. Calculate:-\n",
    "\t$$\n",
    "\t\\frac{\\sin(ax)}{x} \n",
    "\t$$\n",
    "\t$$\n",
    "\t\\sum_{i=1}^5 (a + bx)^i\n",
    "\t$$\n",
    "\t$$\n",
    "\t\\sqrt{\\left|\\sin\\left(e^{x^a}\\right)\\right|}\n",
    "\t$$\n",
    "\twhere\n",
    "\t$$\n",
    "\ta = 1.17745, \\quad b=3, \\quad c=-1004.1, \\text{ and } x = 24.539~.\n",
    "\t$$\n",
    "\tThe functions you will need are `math.sqrt`, `math.sin`, `math.cos`, `math.exp` and `math.pow`. Look them up if required. What happens to the result of the top expression if $x=0$?. "
   ]
  },
  {
   "cell_type": "markdown",
   "id": "73d5d4b9-2e3f-4675-95fc-2eb1a79f2dd3",
   "metadata": {},
   "source": [
    "3. Consider the sum `a + b - a`. Print out the result of this calculation for the following values \n",
    "    1. $a=10$ and $b=0.1$\n",
    "    2. $a=10000000$ and $b=0.0000001$\n",
    "    3. $a=100000000000$ and $b=0.00000000001$\n",
    "Are the results what you expected? Can you explain why they are or aren't?"
   ]
  },
  {
   "cell_type": "code",
   "execution_count": null,
   "id": "80950c55-a8c0-4f78-affa-d338dcfa03c6",
   "metadata": {},
   "outputs": [],
   "source": []
  }
 ],
 "metadata": {
  "kernelspec": {
   "display_name": "Python 3 (ipykernel)",
   "language": "python",
   "name": "python3"
  },
  "language_info": {
   "codemirror_mode": {
    "name": "ipython",
    "version": 3
   },
   "file_extension": ".py",
   "mimetype": "text/x-python",
   "name": "python",
   "nbconvert_exporter": "python",
   "pygments_lexer": "ipython3",
   "version": "3.10.10"
  }
 },
 "nbformat": 4,
 "nbformat_minor": 5
}
