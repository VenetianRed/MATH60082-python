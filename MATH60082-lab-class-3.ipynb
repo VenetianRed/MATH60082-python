{
 "cells": [
  {
   "cell_type": "markdown",
   "metadata": {},
   "source": [
    "<div style='text-align: center;'>\n",
    "<img src=\"images/math60082-banner.png\" alt=\"image\" width=\"80%\" height=\"auto\">\n",
    "</div>"
   ]
  },
  {
   "cell_type": "markdown",
   "metadata": {},
   "source": [
    "# Lab Class - Week 3\n",
    "## Dr P. V. Johnson\n",
    "## Department of Mathematics"
   ]
  },
  {
   "cell_type": "markdown",
   "metadata": {},
   "source": [
    "- How to solve problems with code\n",
    "- Demo 2.1 - Integrating a normal distribution\n",
    "- Demo 2.2 - How to evaluate the efficiency of code\n",
    "- Demo 2.3 - Coursework Example"
   ]
  }
 ],
 "metadata": {
  "language_info": {
   "name": "python"
  }
 },
 "nbformat": 4,
 "nbformat_minor": 2
}
