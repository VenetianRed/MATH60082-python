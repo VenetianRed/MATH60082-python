{
 "cells": [
  {
   "cell_type": "markdown",
   "metadata": {},
   "source": [
    "<div style='text-align: center;'>\n",
    "<img src=\"images/math60082-banner.png\" alt=\"image\" width=\"80%\" height=\"auto\">\n",
    "</div>"
   ]
  },
  {
   "cell_type": "markdown",
   "metadata": {},
   "source": [
    "# Lab Class - Week 3\n",
    "## Dr P. V. Johnson\n",
    "## Department of Mathematics"
   ]
  },
  {
   "cell_type": "markdown",
   "metadata": {},
   "source": [
    "# Last week:\n",
    "\n",
    "- How to solve problems with code\n",
    "- Demo 2.1 - Integrating a normal distribution\n",
    "- Demo 2.2 - How to evaluate the efficiency of code\n",
    "- Demo 2.3 - Coursework Example"
   ]
  },
  {
   "cell_type": "markdown",
   "metadata": {},
   "source": [
    "# This week:\n",
    "\n",
    "- Demo 3.1 - Solving an ODE numerically\n",
    "- Demo 3.2 - Accuracy of the Method\n",
    "- Demo 3.3 - Plotting data\n",
    "- Demo 3.4 - Coursework"
   ]
  },
  {
   "cell_type": "markdown",
   "metadata": {},
   "source": [
    "# Demo 3.1: Solving an ODE\n",
    "\n",
    "Consider an initial value ODE of the following form \n",
    "$$\n",
    "\\frac{dy}{dx} = f(x,y),\n",
    "$$\n",
    "$$\n",
    "x\\in[a,b] \\text{ and }y(a) = \\alpha\n",
    "$$\n",
    "write a function to return the value of y at x=b given\n",
    "$$\n",
    "f(x,y)=xe^{3x} - 2y,\n",
    "$$\n",
    "$$\n",
    "a=0, \\quad b=1, \\text{ and }\\alpha=0\n",
    "$$"
   ]
  },
  {
   "cell_type": "markdown",
   "metadata": {},
   "source": [
    "## Euler Method\n",
    "\n",
    "For this example we are going to implement the Euler method as given by\n",
    "$$\n",
    "w_0=\\alpha\n",
    "$$\n",
    "$$\n",
    "x_i=a+ih, \\text{ and }h=\\frac{b-a}{n}\n",
    "$$\n",
    "$$\n",
    "w_{i+1}=w_i + hf(x_i,w_i), \\text{ for } i = 0,1,\\dots,n-1\n",
    "$$\n",
    "where $w$ at the nth step gives an estimate for the value of $y$ at $x=b$."
   ]
  },
  {
   "cell_type": "markdown",
   "metadata": {},
   "source": [
    "# Consistency and Convergence\n",
    "\n",
    "A quick reminder of the **consistency** and **convergence**:\n",
    "Given a numerical scheme \n",
    "$$\n",
    "w^{i+1}=\\Phi(x^i,w^i;h)\n",
    "$$\n",
    "to approximate the ODE, the scheme has a *truncation error*\n",
    "$$\n",
    "\\delta^h_i = \\Phi(x^i,y(x^i);h) -  y(x^{i+1})  .\n",
    "$$\n",
    "The method is said to be *consistent* if\n",
    "$$\n",
    "\\lim_{h\\rightarrow 0} \\frac{\\delta^h_i}{h}  = 0\n",
    "$$\n",
    "and to have a *convergence rate* $p$ if\n",
    "$$\n",
    "\\delta^h_i = O(h^{p+1}).\n",
    "$$\n",
    "\n",
    "So what is the expected convergence rate of the Euler method?"
   ]
  },
  {
   "attachments": {},
   "cell_type": "markdown",
   "metadata": {},
   "source": [
    "#### Mathematical aside: Big $O$ notation\n",
    "\n",
    "In the previous section we wrote $\\delta^h_i = O\\left(h^{p+1}\\right)$. This is an example of a notation that expresses concisely a statment about the asymtotic behaviour of a function. One typically uses it in one of two ways:\n",
    "\n",
    "* To describe the behaviour of some function $f(x)$ in the limit $x \\rightarrow a$, especially $a=0$. In this case the expression $$f(x) = O\\left(g(x)\\right)$$ means that there exist positive constants $\\epsilon$ and $M$ such that if $|x - a| < \\epsilon$, then $|f(x)| \\leq M |g(x)|$.\n",
    "* To describe the behaviour of $f(x)$ in the limit $x \\rightarrow \\infty$. Here the expression $$f(x) = O\\left(g(x)\\right)$$ means that there exist positive constants $x_0$ and $M$ such that for all $x \\geq x_0$, $|f(x)| \\leq M |g(x)|$.\n",
    "\n",
    "It's usually clear from context which sense is being used. For example, in the previous section we were clearly interested in the limit $h \\rightarrow 0$ and so when we wrote $\\delta^h_i = O\\left(h^{p+1}\\right)$ we meant that  for all sufficiently small values of $h$, $\\delta^h_i$ is less than some multiple of $h^{p+1}.$\n",
    "\n",
    "Big $O$ notation is part of a family of shorthand expressions for asymptotic bounds used in, for example, analysis, number theory and theoretical computer science: see the [Wikipedia](https://en.wikipedia.org/wiki/Big_O_notation) article for details."
   ]
  },
  {
   "cell_type": "markdown",
   "metadata": {},
   "source": [
    "# Coding\n",
    "\n",
    "Think about what are the parameters and local variables in the problem.\n",
    "\n",
    "- Parameters are a, b, n, as well as the function to be integrated\n",
    "- Import the `math` library, we will need the `exp` function.\n",
    "\n"
   ]
  },
  {
   "cell_type": "code",
   "execution_count": 1,
   "metadata": {},
   "outputs": [],
   "source": [
    "from math import exp"
   ]
  },
  {
   "cell_type": "markdown",
   "metadata": {},
   "source": [
    "Next shall declare the external parameters first, followed by the local parameters and then initialise any values at the \n",
    "start of the algorithm."
   ]
  },
  {
   "cell_type": "code",
   "execution_count": 2,
   "metadata": {},
   "outputs": [],
   "source": [
    "# declare parameters\n",
    "n=int(10)\n",
    "a=float(0.0)\n",
    "b=float(1.0)\n",
    "alpha=float(0.0)\n",
    "h=(b-a)/n\n",
    "# initialise values\n",
    "x=a\n",
    "w=alpha"
   ]
  },
  {
   "cell_type": "markdown",
   "metadata": {},
   "source": [
    "Finally we can add in the\n",
    "rest of the algorithm in a\n",
    "couple of lines and output\n",
    "results to the screen at the\n",
    "same time."
   ]
  },
  {
   "cell_type": "code",
   "execution_count": 3,
   "metadata": {},
   "outputs": [
    {
     "name": "stdout",
     "output_type": "stream",
     "text": [
      "0.0 0.0\n",
      "0.1 0.0\n",
      "0.2 0.013498588075760033\n",
      "0.30000000000000004 0.04724124646841821\n",
      "0.4 0.11158109050944308\n",
      "0.5 0.2220695493170164\n",
      "0.6000000000000001 0.4017400929705164\n",
      "0.7000000000000001 0.68437092224119\n",
      "0.8 1.1191286316726876\n",
      "0.9 1.7771570157894787\n",
      "y( x = 1.0 ) =  2.7609014678701382\n"
     ]
    }
   ],
   "source": [
    "for i in range(0,n):\n",
    "    x = a + i*h\n",
    "    print(x,w)\n",
    "    w = w + h*(x*exp(3*x)-2.0*w)\n",
    "print(\"y( x =\",b,\") = \",w)"
   ]
  },
  {
   "cell_type": "markdown",
   "metadata": {},
   "source": [
    "The output should be \n",
    "`y( x = 1.0 ) =  2.7609014678701382`. However we need to be careful here to run all the correct steps, so writing this in a function would be better. Use the parameters we identified as external as the arguments to the function and return the final value of $y(b)$, then it should look like:"
   ]
  },
  {
   "cell_type": "code",
   "execution_count": 4,
   "metadata": {},
   "outputs": [],
   "source": [
    "def eulersMethod(n,a,b,alpha):\n",
    "    h=(b-a)/n\n",
    "    x=a\n",
    "    w=alpha\n",
    "    for i in range(0,n):\n",
    "        x = a + i*h\n",
    "        w = w + h*(x*exp(3*x)-2.0*w)\n",
    "    return w"
   ]
  },
  {
   "cell_type": "markdown",
   "metadata": {},
   "source": [
    "The function can now be used:"
   ]
  },
  {
   "cell_type": "code",
   "execution_count": 5,
   "metadata": {},
   "outputs": [
    {
     "name": "stdout",
     "output_type": "stream",
     "text": [
      "y( x = 1.0 ) =  2.7609014678701382\n"
     ]
    }
   ],
   "source": [
    "print(\"y( x =\",b,\") = \", eulersMethod(n,a,b,alpha) )"
   ]
  },
  {
   "cell_type": "markdown",
   "metadata": {},
   "source": [
    "# Tasks\n",
    "\n",
    "- Run the program and check the value with $n = 10$.\n",
    "- Print out the final value for $n = 10, 20, 40, 80, ...$, what\n",
    "happens?\n",
    "- Calculate the difference between the results\n",
    "$$\n",
    "\\Delta_{n,m} = w_n - w_m\n",
    "$$\n",
    "with $n = 10$ and $m = 20$, $n = 20$ and $m = 40$ and so on.\n",
    "- Can you predict how $\\Delta_{n,m}$ behaves for large $n$ and $m$?"
   ]
  },
  {
   "cell_type": "markdown",
   "metadata": {},
   "source": [
    "# Demo 3.2: Accuracy of the Method\n",
    "\n",
    "Next we want to analyse the accuracy of the method. In our working example, we do have an analytic solution to compare against, but often \n",
    "we don't, so what can we do in that case? First, assume that if a method that converges at the rate $c$ the following holds true\n",
    "$$\n",
    "w_n = y(b) + \\frac{A}{n^{c}} + O(n^{-(c+1)}).\n",
    "$$\n",
    "Then we can say that the convergence of the method is smooth if $A$ is a constant for all $n$. To make an empirical estimate of the \n",
    "convergence we take numerical estimates using $n$, $kn$ and $k^2n$ steps where $k$ is an integer."
   ]
  },
  {
   "cell_type": "markdown",
   "metadata": {},
   "source": [
    " The ratio of differences between the estimates $R$,\n",
    "written as\n",
    "$$\n",
    "R = \\frac{w_{kn}-w_{n}}{w_{kkn}-w_{kn}},\n",
    "$$\n",
    "gives the resulting formula for the convergence rate\n",
    "$$\n",
    "c = \\frac{\\log(R)}{\\log(k)}.\n",
    "$$\n",
    "Methods that demonstrate smooth convergence have two advantages, firstly once a method is shown to be convergent you know that\n",
    "the scheme must be stable in some sense, and secondly that *extrapolation* techniques can be utilised to improve accuracy."
   ]
  },
  {
   "cell_type": "markdown",
   "metadata": {},
   "source": [
    "Now we want to run a loop over different values of n to generate a table of results showing the convergence rate. To calculate the ratio $R$ you will need to keep track of the difference between subsequent results. To do this you need to store the old version of value and difference **outside** the loop. The common way to denote these is `valueOld` and `diffOld`.\n",
    "\n",
    "The algorithm should look a bit like this:"
   ]
  },
  {
   "cell_type": "code",
   "execution_count": 13,
   "metadata": {},
   "outputs": [
    {
     "name": "stdout",
     "output_type": "stream",
     "text": [
      "|   i |   n |    V_n     | dV_n/dV_kn |         c  |\n",
      "|-----|-----|------------|------------|------------|\n",
      "|    1|    2|     1.12042|     8.30411|     3.05383|\n",
      "|    2|    4|     2.09213|     0.12393|    -3.01243|\n",
      "|    3|    8|     2.64714|     1.75081|     0.80802|\n",
      "|    4|   16|     2.93241|     1.94554|     0.96017|\n",
      "|    5|   32|     3.07575|     1.99021|     0.99292|\n",
      "|    6|   64|     3.14744|     1.99930|     0.99949|\n",
      "|    7|  128|     3.18328|     2.00067|     1.00048|\n",
      "|    8|  256|     3.20119|     2.00058|     1.00042|\n",
      "|    9|  512|     3.21015|     2.00035|     1.00026|\n",
      "|   10| 1024|     3.21462|     2.00019|     1.00014|\n",
      "|   11| 2048|     3.21686|     2.00010|     1.00007|\n",
      "|   12| 4096|     3.21798|     2.00005|     1.00004|\n",
      "|   13| 8192|     3.21854|     2.00003|     1.00002|\n",
      "|   14|16384|     3.21882|     2.00001|     1.00001|\n"
     ]
    }
   ],
   "source": [
    "from math import log \n",
    "valueOld=1.0\n",
    "diffOld=1.0\n",
    "k=2\n",
    "print(\"|   i |   n |    V_n     | dV_n/dV_kn |         c  |\")\n",
    "print(\"|-----|-----|------------|------------|------------|\")\n",
    "for i in range(1,15):\n",
    "    n = k**i\n",
    "    value = eulersMethod(n,a,b,alpha) # calculate v with n\n",
    "    diff = value- valueOld # get difference from last time\n",
    "    ratio = diffOld/diff # get ratio of differences\n",
    "    c = log(ratio) / log(k) # estimate convergence rate\n",
    "    str = \"|{:5d}|{:5d}|{:12.5f}|{:12.5f}|{:12.5f}|\".format(i,n,value,ratio,c)\n",
    "    print(str) \n",
    "    diffOld = diff\n",
    "    valueOld = value"
   ]
  },
  {
   "cell_type": "markdown",
   "metadata": {},
   "source": [
    "This shows the convergence rate tending to 1 for the Euler method, which confirms our theory. "
   ]
  },
  {
   "cell_type": "markdown",
   "metadata": {},
   "source": [
    "# Tasks\n",
    "\n",
    "- Try implementing the RK2 method:\n",
    "$$\n",
    "k_1 =  f(x_i,w_i)\n",
    "$$\n",
    "$$\n",
    "k_2 =  f(x_i+h,w_i+h\\cdot  k_1)\n",
    "$$\n",
    "$$\n",
    "w_{i+1} = w_i + 0.5\\cdot h(k_1+k_2)\n",
    "$$\n",
    "- What is the empirical estimate for the convergence of this method?"
   ]
  },
  {
   "cell_type": "markdown",
   "metadata": {},
   "source": [
    "# Demo 3.3 Plotting Data\n",
    "\n",
    "Here we give a quick example of "
   ]
  },
  {
   "cell_type": "code",
   "execution_count": 7,
   "metadata": {},
   "outputs": [],
   "source": [
    "import matplotlib.pyplot as plt\n",
    "import numpy as np \n",
    "from math import pi"
   ]
  },
  {
   "cell_type": "markdown",
   "metadata": {},
   "source": [
    "Create some $x$ and $y$ data:"
   ]
  },
  {
   "cell_type": "code",
   "execution_count": 8,
   "metadata": {},
   "outputs": [],
   "source": [
    "x = np.arange(0, 3*pi, 0.02*pi)  # creates an array of data x[i] = 0 + i*0.02*pi such that x_i \\leq 3*pi\n",
    "y = np.sin(x)                    # creates an array of data y[i] = sin(x[i]) same size as x"
   ]
  },
  {
   "cell_type": "markdown",
   "metadata": {},
   "source": [
    "Now plot and save the figure as a pdf. Note that if you try saving the figure in another cell this won't work, as soon as the figure is shown you can't save it."
   ]
  },
  {
   "cell_type": "code",
   "execution_count": 9,
   "metadata": {},
   "outputs": [
    {
     "data": {
      "image/png": "[encoded data removed]",
      "text/plain": [
       "<Figure size 640x480 with 1 Axes>"
      ]
     },
     "metadata": {},
     "output_type": "display_data"
    }
   ],
   "source": [
    "plt.plot(x, y)\n",
    "plt.xlabel(\"x\")\n",
    "plt.ylabel(\"y = sin(x)\")\n",
    "plt.savefig('myFigure-1.pdf', dpi=300, format='pdf', bbox_inches='tight')"
   ]
  },
  {
   "cell_type": "markdown",
   "metadata": {},
   "source": [
    "Parameters here are:\n",
    "- `'myFigure-1.pdf` name of the file\n",
    "- `dpi=300` this gives the resolution of the outputted file. Bigger values give better quality but the file size will be larger. A value of 300 should be print quality.\n",
    "- `format='pdf'` you should always use pdf rather than png or jpg to maintain quality of output (pdf uses vector graphics where possible)\n",
    "- `bbox_inches='tight'` this cuts white space surrounding the figure, making it easier to import into your document."
   ]
  },
  {
   "cell_type": "markdown",
   "metadata": {},
   "source": [
    "# Demo 3.4: Coursework\n",
    "\n",
    "A trader has asked you to calculate the value of an interest rate derivative contract using a non-standard model.\n",
    "\n",
    "The value of the derivative contract $V(r,t)$ can be found by solving\n",
    "$$\n",
    "V(r,t)=P(r,t,T)N\\big(h(r,t,T)\\big)\n",
    "$$\n",
    "where $N$ is the cumulative standard normal distribution.  \n",
    "You are given explicit functions for $P$ and $h$. They are:- \n",
    "$$\n",
    "P(r,t,T) = \\exp\\left[\\frac12 k^2(t,T) - n(r,t,T)\\right], \n",
    "$$\n",
    "$$\n",
    "h(r,t,T) = f(r,t,T) + v^2(t,T)\n",
    "$$"
   ]
  },
  {
   "cell_type": "markdown",
   "metadata": {},
   "source": [
    "where  \n",
    "$$\n",
    "f(r,t,T) = m(r,t,T) - q(t,T), \n",
    "$$\n",
    "$$\n",
    "v^2(t,T) = \\frac{\\sigma^2}{2\\kappa}(1-e^{-2\\kappa(T-t)}) \n",
    "$$\n",
    "$$\n",
    "m(r,t,T)= e^{-\\kappa(T-t)}r + (1-e^{-\\kappa(T-t)})\\theta,\n",
    "$$\n",
    "$$\n",
    "n(r,t,T)= (T-t)\\theta + (r-\\theta)(1-e^{-\\kappa(T-t)})/\\kappa, \n",
    "$$\n",
    "$$\n",
    "k^2(t,T)= \\frac{\\sigma^2}{2\\kappa^3}(4e^{-\\kappa(T-t)} - e^{-2\\kappa(T-t)} + 2\\kappa(T-t) - 3),\n",
    "$$\n",
    "$$\n",
    "q(t,T)  = \\frac{\\sigma^2}{2\\kappa^2}(1-e^{-\\kappa(T-t)})^2. \n",
    "$$"
   ]
  },
  {
   "cell_type": "markdown",
   "metadata": {},
   "source": [
    "1. Write a code to find the value $V(r_0,t=0,T)$ of the financial contract.  The parameters are $r_0=0.05$, $T=1$, $\\kappa=0.2$, $\\theta=0.06$ and $\\sigma=0.04$.\n",
    "2. Using the parameters from Task 1., write a program to calculate bond price $P$ and the option price $V$ for different interest rates and plot $P$ against $r$ and $V$ against $r$ on the same figure."
   ]
  },
  {
   "cell_type": "markdown",
   "metadata": {},
   "source": [
    "# Coding\n",
    "\n",
    "To solve this problem you are going to want to make a function to mirror the mathematical formulation. So this will mean making functions for $q$, $k^2$, $n$, $m$, $v^2$, $f$, $h$, $P$ and $V$. To make keeping track of parameters easier I have set all functions take in $\\kappa$, $\\theta$ and $\\sigma$ as arguments, as well as $r$ (if needed) $t$ and $T$."
   ]
  },
  {
   "cell_type": "code",
   "execution_count": 10,
   "metadata": {},
   "outputs": [
    {
     "name": "stdout",
     "output_type": "stream",
     "text": [
      "0.0\n"
     ]
    }
   ],
   "source": [
    "from scipy.special import ndtr as ND\n",
    "\n",
    "def qFunc(t,T,kappa,theta,sigma):\n",
    "    return 0.0\n",
    "\n",
    "def kSquaredFunc(t,T,kappa,theta,sigma):\n",
    "    return 0.0\n",
    "\n",
    "def nFunc(r,t,T,kappa,theta,sigma):\n",
    "    return 0.0\n",
    "\n",
    "def mFunc(r,t,T,kappa,theta,sigma):\n",
    "    return 0.0\n",
    "\n",
    "def vSquaredFunc(t,T,kappa,theta,sigma):\n",
    "    return 0.0\n",
    "\n",
    "def fFunc(r,t,T,kappa,theta,sigma):\n",
    "    return 0.0\n",
    "\n",
    "def hFunc(r,t,T,kappa,theta,sigma):\n",
    "    return 0.0\n",
    "\n",
    "def PFunc(r,t,T,kappa,theta,sigma):\n",
    "    return 0.0\n",
    "\n",
    "def VFunc(r,t,T,kappa,theta,sigma):\n",
    "    return 1.0\n",
    "\n",
    "r0=0.05\n",
    "t=0.0\n",
    "T=1.0\n",
    "kappa=0.2\n",
    "theta=0.06\n",
    "sigma=0.04\n",
    "print(qFunc(t,T,kappa,theta,sigma))"
   ]
  },
  {
   "cell_type": "markdown",
   "metadata": {},
   "source": [
    "Fill in the function definitions according to the mathematics equation given above. You should be able to start generating a result for $P$ and $V$. Once you have checked all the functions return the correct values, you can write a loop to store the values of $r_i$, $P(r_i)$ and $V(r_i)$."
   ]
  },
  {
   "cell_type": "code",
   "execution_count": 11,
   "metadata": {},
   "outputs": [],
   "source": [
    "import numpy as np\n",
    "\n",
    "n=200\n",
    "rMin=-0.1\n",
    "rMax= 0.1\n",
    "dr = (rMax-rMin)/n\n",
    "# setup arrays|vectors for r, P and V\n",
    "r=np.zeros(n+1)\n",
    "P=np.zeros(n+1)\n",
    "V=np.zeros(n+1)\n",
    "\n",
    "# loop over values in the vectors\n",
    "for i in range(0,n+1):\n",
    "    r[i] = rMin + i*dr\n",
    "    P[i] = PFunc(r[i],t,T,kappa,theta,sigma)\n",
    "    V[i] = VFunc(r[i],t,T,kappa,theta,sigma)"
   ]
  },
  {
   "cell_type": "code",
   "execution_count": 12,
   "metadata": {},
   "outputs": [
    {
     "data": {
      "text/plain": [
       "Text(0, 0.5, 'Value of P and V')"
      ]
     },
     "execution_count": 12,
     "metadata": {},
     "output_type": "execute_result"
    },
    {
     "data": {
      "image/png": "[encoded data removed]",
      "text/plain": [
       "<Figure size 640x480 with 1 Axes>"
      ]
     },
     "metadata": {},
     "output_type": "display_data"
    }
   ],
   "source": [
    "plt.plot(r, P)\n",
    "plt.plot(r, V)\n",
    "plt.xlabel(\"r\")\n",
    "plt.ylabel(\"Value of P and V\")"
   ]
  },
  {
   "cell_type": "markdown",
   "metadata": {},
   "source": [
    "After importing the figure onto latex, and giving it a label/caption, it should look something like this:"
   ]
  },
  {
   "cell_type": "markdown",
   "metadata": {},
   "source": [
    "<div style='text-align: left;'>\n",
    "<img src=\"images/lab-demo-3-3.png\" alt=\"image\" width=\"60%\" height=\"auto\">\n",
    "</div>"
   ]
  },
  {
   "cell_type": "markdown",
   "metadata": {},
   "source": [
    "# Tasks\n",
    "\n",
    "- check that you can plot out a simple graph of $x$ vs $y$ when $y(x)=sin(x)$.\n",
    "- complete the functions $q$, $k^2$, $m$, $n$, $v^2$, $f$, $P$ and $V$ to solve for the option\n",
    "- edit the functions to solve the version given in your coursework, save the figure of your results, upload and complete the coursework task!"
   ]
  }
 ],
 "metadata": {
  "kernelspec": {
   "display_name": "Python [conda env:base] *",
   "language": "python",
   "name": "conda-base-py"
  },
  "language_info": {
   "codemirror_mode": {
    "name": "ipython",
    "version": 3
   },
   "file_extension": ".py",
   "mimetype": "text/x-python",
   "name": "python",
   "nbconvert_exporter": "python",
   "pygments_lexer": "ipython3",
   "version": "3.12.2"
  }
 },
 "nbformat": 4,
 "nbformat_minor": 4
}
