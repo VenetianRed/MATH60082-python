{
 "cells": [
  {
   "cell_type": "markdown",
   "metadata": {},
   "source": [
    "<div style='text-align: center;'>\n",
    "<img src=\"images/math60082-banner.png\" alt=\"image\" width=\"80%\" height=\"auto\">\n",
    "</div>"
   ]
  },
  {
   "cell_type": "markdown",
   "metadata": {},
   "source": [
    "# Lab Class - Week 2\n",
    "## Dr P. V. Johnson\n",
    "## Department of Mathematics"
   ]
  },
  {
   "cell_type": "markdown",
   "metadata": {},
   "source": [
    "- How to solve problems with code\n",
    "- Demo 2.1 - Integrating a normal distribution\n",
    "- Demo 2.2 - How to evaluate the efficiency of code\n",
    "- Demo 2.3 - Coursework Example"
   ]
  },
  {
   "cell_type": "markdown",
   "metadata": {},
   "source": [
    "## Solving Problem with Computers\n",
    "\n",
    "- First we think about the stages of our program.  \n",
    "- What are the inputs to the program?\n",
    "- What tools do we need? What algorithms need coding up? \n",
    "- What the required outputs of the program?\n",
    "- How are we going to use the results?"
   ]
  },
  {
   "cell_type": "markdown",
   "metadata": {},
   "source": [
    "Imagine we want to import real data (from the web) and calibrate it against the Black-Scholes model.\n",
    "\n",
    "- Most people make the mistake of trying to write a program to do everything at once\n",
    "- Instead you should split you program into several different tasks\n",
    "- Each task should be coded up individually and tested\n",
    "- Task 1: Read data from the web \n",
    "- Task 2: Calibrate Black-Scholes against test data\n",
    "- Task 3: Combine results of Task 1 and Task 2"
   ]
  },
  {
   "cell_type": "markdown",
   "metadata": {},
   "source": [
    "# Demo 2.1: Calculating Knock-out Barrier Option\n",
    "\n",
    "The analytic solution to the value of a Knock-Out Option $G$ with a barrier at $x$ is given by \n",
    "$$\n",
    "G(x)=\\frac{1}{\\sqrt{2\\pi}} \\int_{-\\infty}^{x} e^{-t^2/2} g(t) dt\n",
    "$$\n",
    "where $g(t)$ is the payoff function for the option.\n",
    "\n",
    "In the case $g(t)\\equiv 1$, $G(x)$ becomes the Cumulative Normal Distribution function $G(x)=N(x)$ where\n",
    "$$\n",
    "N(x)=\\frac{1}{\\sqrt{2\\pi}} \\int_{-\\infty}^{x} e^{-t^2/2}dt .\n",
    "$$\n",
    "\n",
    "Find the value of a Knock-Out Barrier Option $G(0.75)$ when \n",
    "$$\n",
    "g(t)= \\frac{1}{1+t^2}\n",
    "$$\n",
    "using numerical integration.\n",
    "\n",
    "- First we think about the stages of our program.\n",
    "- We must choose a method to implement the integration, test and verify it. \n",
    "- Once it is then applied to the problem we need to decide how to deal with the concept of infinity in this setting. "
   ]
  },
  {
   "cell_type": "markdown",
   "metadata": {},
   "source": [
    "# Benchmarking\n",
    "\n",
    "- To create fast and efficient python code the primary focus should be on adapting existing low level routines and algorithms to your problem\n",
    "- We normally test coding methods on problems with known solutions so we can see how errors behave, and how efficient the code is\n",
    "- In this case $g\\equiv 1$, the module `scipy` has a collection of special functions, of which $N(x)$ above is one.\n",
    "- The function is inside the `scipy.special` module called `ndtr`. We can import it and define a new name for it `ND` as follows:"
   ]
  },
  {
   "cell_type": "code",
   "execution_count": 47,
   "metadata": {},
   "outputs": [
    {
     "data": {
      "text/plain": [
       "0.8413447460685429"
      ]
     },
     "execution_count": 47,
     "metadata": {},
     "output_type": "execute_result"
    }
   ],
   "source": [
    "from scipy.special import ndtr as ND \n",
    "\n",
    "benchMarkRresult = ND(1.)\n",
    "benchMarkRresult"
   ]
  },
  {
   "cell_type": "markdown",
   "metadata": {},
   "source": [
    "- The above code can be used as our benchmark, it is likely that this will be the most efficient way to calculate $N(x)$ but we will check for definite later."
   ]
  },
  {
   "cell_type": "markdown",
   "metadata": {},
   "source": [
    "# Coding the Numerical Integration\n",
    "\n",
    "- Low level algorithms implementing numerical integrations should use existing routines\n",
    "- Our job is to stage our path to a final solution and check everything works along the way\n",
    "- First task is to look up integration methods and solve the simple problem we already have a solution for when $g\\equiv1$\n",
    "- Please see the documentation for more details, [https://docs.scipy.org/doc/scipy/tutorial/integrate.html](https://docs.scipy.org/doc/scipy/tutorial/integrate.html), the method we want to use here is `quad` from the module `scipy.integrate`."
   ]
  },
  {
   "cell_type": "markdown",
   "metadata": {},
   "source": [
    "## Stage 1\n",
    "\n",
    "- First lets import the libraries and solve problem with finite limits\n",
    "$$\n",
    "I = \\frac{1}{\\sqrt{2\\pi}}\\int_0^1 e^{-\\frac{t^2}{2}} dt\n",
    "$$\n",
    "- we need to create the integrand function to pass as an argument -- how to do this?\n",
    "- Typically we use _lambda_ functions, the syntax is\n",
    "~~~\n",
    "< lambda function > = lambda <variables>: <function definition>\n",
    "~~~\n",
    "- so to create the integrand we could write\n",
    "~~~\n",
    "integrand = lambda t: exp(-t*t/2.)\n",
    "~~~\n",
    "- you can then call it as a function\n",
    "~~~\n",
    "integrand(0.5)\n",
    "~~~"
   ]
  },
  {
   "cell_type": "code",
   "execution_count": 48,
   "metadata": {},
   "outputs": [
    {
     "data": {
      "text/plain": [
       "0.8824969025845955"
      ]
     },
     "execution_count": 48,
     "metadata": {},
     "output_type": "execute_result"
    }
   ],
   "source": [
    "from math import exp\n",
    "integrand = lambda t: exp(-t*t/2.)\n",
    "integrand(0.5)"
   ]
  },
  {
   "cell_type": "markdown",
   "metadata": {},
   "source": [
    "- first let's just integrate the integrand, calling the quad function on limits 0 to 1"
   ]
  },
  {
   "cell_type": "code",
   "execution_count": 49,
   "metadata": {},
   "outputs": [
    {
     "data": {
      "text/plain": [
       "(0.855624391892149, 9.499339003095619e-15)"
      ]
     },
     "execution_count": 49,
     "metadata": {},
     "output_type": "execute_result"
    }
   ],
   "source": [
    "from scipy.integrate import quad as QUAD\n",
    "from math import exp\n",
    "\n",
    "integrand = lambda t: exp(-t*t/2.)\n",
    "\n",
    "I = QUAD(integrand , 0, 1)\n",
    "I"
   ]
  },
  {
   "cell_type": "markdown",
   "metadata": {},
   "source": [
    "Notice that `I` returns two numbers, the actual value we want and the error. Pick out the value by writing `[0]` at the end, so"
   ]
  },
  {
   "cell_type": "code",
   "execution_count": 50,
   "metadata": {},
   "outputs": [
    {
     "data": {
      "text/plain": [
       "0.34134474606854304"
      ]
     },
     "execution_count": 50,
     "metadata": {},
     "output_type": "execute_result"
    }
   ],
   "source": [
    "from math import exp,pi,sqrt\n",
    "I = (1./sqrt(2.*pi))*QUAD(integrand , 0, 1)[0]\n",
    "I"
   ]
  },
  {
   "cell_type": "markdown",
   "metadata": {},
   "source": [
    "# Tasks\n",
    "\n",
    "- Integrate $f(x)=\\sin(x)$ and $f(x)=\\cos(x)$ over the region $\\left[0,\\frac{3}{4}\\pi\\right]$. Verify the accuracy of your results.\n",
    "- Consider that you are required to integrate the function $f(x)=\\max(x,e^\\frac{x}{2}-1)$ over the region $[0,5]$. How might you best deal with this problem?"
   ]
  },
  {
   "cell_type": "markdown",
   "metadata": {},
   "source": [
    "## Stage 2\n",
    "\n",
    "Next we need to deal with negative infinity on the lower limit. For simple case $N(x)$ we can make use of the fact $N(0)=\\frac12$ and the properties of integrals to say\n",
    "$$\n",
    "N(x) = \\frac12 + \\frac{1}{\\sqrt{2\\pi}}\\int_0^1 e^{-\\frac{t^2}{2}} dt\n",
    "$$\n",
    "This gives"
   ]
  },
  {
   "cell_type": "code",
   "execution_count": 51,
   "metadata": {},
   "outputs": [
    {
     "data": {
      "text/plain": [
       "0.841344746068543"
      ]
     },
     "execution_count": 51,
     "metadata": {},
     "output_type": "execute_result"
    }
   ],
   "source": [
    "x = 1\n",
    "Nx = 0.5 + (1./sqrt(2.*pi))*QUAD(integrand , 0, x)[0]\n",
    "Nx"
   ]
  },
  {
   "cell_type": "markdown",
   "metadata": {},
   "source": [
    "Checking against the benchmark we get a tiny difference between the numbers"
   ]
  },
  {
   "cell_type": "code",
   "execution_count": 52,
   "metadata": {},
   "outputs": [
    {
     "data": {
      "text/plain": [
       "1.1102230246251565e-16"
      ]
     },
     "execution_count": 52,
     "metadata": {},
     "output_type": "execute_result"
    }
   ],
   "source": [
    "Nx - benchMarkRresult"
   ]
  },
  {
   "cell_type": "markdown",
   "metadata": {},
   "source": [
    "This works well for $-15\\leq x \\leq 15$, but for $x$ outside this range we know $N\\approx 0$ for $x<-15$ and $N\\approx 1$ for $x>15$. If you are writing a function, you should deal with cases before wasting time doing any calculations. "
   ]
  },
  {
   "cell_type": "code",
   "execution_count": 53,
   "metadata": {},
   "outputs": [
    {
     "data": {
      "text/plain": [
       "0.841344746068543"
      ]
     },
     "execution_count": 53,
     "metadata": {},
     "output_type": "execute_result"
    }
   ],
   "source": [
    "# function to integrate cummulative normal distribution\n",
    "def Nx_integrate( x ):\n",
    "    if x<-15.0:\n",
    "        return 0.\n",
    "    elif x>15.0:\n",
    "        return 1.0\n",
    "    from scipy.integrate import quad as QUAD\n",
    "    from math import exp,pi,sqrt\n",
    "    return 0.5 + (1./sqrt(2.*pi))*QUAD(lambda t: exp(-t*t/2.), 0, x)[0]\n",
    "\n",
    "Nx_integrate(1.)"
   ]
  },
  {
   "cell_type": "markdown",
   "metadata": {},
   "source": [
    "# Stage 3\n",
    "\n",
    "Now let's adapt the code to take account of $g(t)=(1+t^2)^{-1}$. Copy the function definition above and change the name to `Gx_integrate`. For the lambda function, include the extra term required, it should now look like:"
   ]
  },
  {
   "cell_type": "code",
   "execution_count": 58,
   "metadata": {},
   "outputs": [
    {
     "data": {
      "text/plain": [
       "0.6036660402687406"
      ]
     },
     "execution_count": 58,
     "metadata": {},
     "output_type": "execute_result"
    }
   ],
   "source": [
    "# function to integrate normal distribution multiplied by 1/(1+t^2)\n",
    "def Gx_integrate( x ):\n",
    "    lower_limit=-15\n",
    "    upper_limit=15\n",
    "    if x<lower_limit:\n",
    "        return 0.\n",
    "    elif x>upper_limit:\n",
    "        return Gx_integrate(upper_limit)\n",
    "    from scipy.integrate import quad as QUAD\n",
    "    from math import exp,pi,sqrt\n",
    "    return (1./sqrt(2.*pi))*QUAD(lambda t: exp(-t*t/2.)/(1+t*t) , lower_limit, x)[0]\n",
    "\n",
    "Gx_integrate(1.)"
   ]
  },
  {
   "cell_type": "markdown",
   "metadata": {},
   "source": [
    "This function assumes we know for definite what form the function $g$ takes. In practice this might not be the case. In the next section we will investigate the efficiency of the code.\n",
    "\n",
    "# Tasks:\n",
    "\n",
    "- Experiment with the lower and upper limits to see what effect they have. Can you propose what would be the _best_ values to choose in this case? Explain your reasoning.\n",
    "- Try to write a function `Gxg_integrate( float: x , g )` which takes the `g` as an argument."
   ]
  },
  {
   "cell_type": "markdown",
   "metadata": {},
   "source": [
    "# Demo 2.2: Timing your codes\n",
    "\n",
    "## Efficiency\n",
    "\n",
    "Efficiency refers to the ability to accomplish a task with the least amount of resources or effort, maximising output while minimising input. In the context of this course unit, we wish to:\n",
    "- **maximimse** the accuracy, and\n",
    "- **minimise** the computation time.\n",
    "\n",
    "Accuracy is a measure of the difference between the true solution and our approximation. The smaller the difference the better, so if\n",
    "$$\n",
    "\\text{Method A} - \\text{True Solution} = 0.001\n",
    "$$\n",
    "and\n",
    "$$\n",
    "\\text{Method B} - \\text{True Solution} = 0.00001\n",
    "$$\n",
    "we can say Method B is more accurate. However, if Method B takes significantly longer to calculate Method A, it might not be _more_ efficient.\n",
    "\n",
    "If the difference in accuracy between the different functions above is close to zero, to test the efficiency of the code we only need to look at the computation times. The fastest code in this case will also be the most efficient."
   ]
  },
  {
   "cell_type": "markdown",
   "metadata": {},
   "source": [
    "# Tasks:\n",
    "\n",
    "- Test the efficiency of calculation for $N(x)$ against the version from the special function module in `scipy`.\n",
    "- Test the efficiency of calculating $G(x)$ when $g$ is written inside the function, versus when $g$ is passed in as an argument. Does the flexibility of the second method come at a cost?"
   ]
  },
  {
   "cell_type": "markdown",
   "metadata": {},
   "source": [
    "## Timeit Module\n",
    "\n",
    "To test the efficiency of our code, clearly we need to check the time it takes to run. To do this we suggest using the function `timeit`. To import the function, write:\n",
    "~~~\n",
    "from timeit import timeit\n",
    "~~~\n",
    "and to call it the syntax is as follows:\n",
    "~~~\n",
    "<time taken to run> = timeit( <a string containing the python script to run>, number=<iterations>, globals=globals())\n",
    "~~~\n",
    "So for our example we can write\n",
    "\n"
   ]
  },
  {
   "cell_type": "code",
   "execution_count": 55,
   "metadata": {},
   "outputs": [],
   "source": [
    "from timeit import timeit"
   ]
  },
  {
   "cell_type": "code",
   "execution_count": 56,
   "metadata": {},
   "outputs": [
    {
     "name": "stdout",
     "output_type": "stream",
     "text": [
      "Time taken to run  100000  calls to the function  ND(1.)  is  0.06865939499766682  seconds.\n"
     ]
    }
   ],
   "source": [
    "n = 100000\n",
    "script=\"ND(1.)\"\n",
    "timeIntegrate = timeit( script,number=n,globals=globals() )\n",
    "\n",
    "print(\"Time taken to run \",n,\" calls to the function \",script, \" is \", timeIntegrate,\" seconds.\")"
   ]
  },
  {
   "cell_type": "code",
   "execution_count": 57,
   "metadata": {},
   "outputs": [
    {
     "name": "stdout",
     "output_type": "stream",
     "text": [
      "Time taken to run  100000  calls to the function  Nx_integrate(1.)  is  1.0709087739996903  seconds.\n"
     ]
    }
   ],
   "source": [
    "\n",
    "n = 100000\n",
    "script=\"Nx_integrate(1.)\"\n",
    "timeIntegrate = timeit( script,number=n,globals=globals() )\n",
    "\n",
    "print(\"Time taken to run \",n,\" calls to the function \",script, \" is \", timeIntegrate,\" seconds.\")"
   ]
  },
  {
   "cell_type": "markdown",
   "metadata": {},
   "source": [
    "Now try to do this on some of the other functions."
   ]
  }
 ],
 "metadata": {
  "kernelspec": {
   "display_name": "Python 3",
   "language": "python",
   "name": "python3"
  },
  "language_info": {
   "codemirror_mode": {
    "name": "ipython",
    "version": 3
   },
   "file_extension": ".py",
   "mimetype": "text/x-python",
   "name": "python",
   "nbconvert_exporter": "python",
   "pygments_lexer": "ipython3",
   "version": "3.11.7"
  }
 },
 "nbformat": 4,
 "nbformat_minor": 2
}
